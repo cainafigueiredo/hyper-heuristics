{
 "cells": [
  {
   "cell_type": "code",
   "execution_count": 1,
   "metadata": {},
   "outputs": [],
   "source": [
    "%load_ext autoreload\n",
    "%autoreload 2"
   ]
  },
  {
   "cell_type": "code",
   "execution_count": 2,
   "metadata": {},
   "outputs": [],
   "source": [
    "# Reinforcement Learning\n",
    "from src.reinforcement_learning.env import HyperHeuristicEnv \n",
    "\n",
    "# Hyperheuristic\n",
    "from src.HyperHeuristic import HyperHeuristic\n",
    "\n",
    "from src.initial_solution.ConstructiveHeuristic import ConstructiveHeuristic, RandomConstructive, GreedyRandomizedConstructive, GreedyConstructive\n",
    "from src.operators.DestroyOperators import RandomRemove, WorstRemove \n",
    "from src.operators.RepairOperators import RandomRepair, GreedyRepair\n",
    "from src.local_search.LocalSearch import FirstImprovement\n",
    "\n",
    "from src.accept.SimulatedAnnealing import SimulatedAnnealing\n",
    "from src.accept.RecordToRecordTravel import RecordToRecordTravel\n",
    "\n",
    "from src.stop.MaxRuntimeOrNoImprovement import MaxRuntimeOrNoImprovement\n",
    "\n",
    "# Instances\n",
    "from src.KnapsackInstance import KnapsackInstance\n",
    "from utils.benchmark import BinaryKnapsackBenchmark\n",
    "from utils.knapsackSortFunctions import sortIndexesByProfitWeightDensity\n",
    "\n",
    "# Misc libraries\n",
    "import pandas as pd\n",
    "import numpy as np\n",
    "import random\n",
    "import re\n",
    "\n",
    "import plotly.express as px\n",
    "\n",
    "from sklearn.model_selection import train_test_split\n",
    "\n",
    "import warnings\n",
    "warnings.filterwarnings('ignore')"
   ]
  },
  {
   "cell_type": "markdown",
   "metadata": {},
   "source": [
    "# **Hyperheuristic Construction**"
   ]
  },
  {
   "cell_type": "code",
   "execution_count": 3,
   "metadata": {},
   "outputs": [],
   "source": [
    "def on_best(cand, rand):\n",
    "    # Write your code here\n",
    "    return cand"
   ]
  },
  {
   "cell_type": "code",
   "execution_count": 4,
   "metadata": {},
   "outputs": [],
   "source": [
    "stop = MaxRuntimeOrNoImprovement(max_runtime = 60, max_iterations = 1000)\n",
    "\n",
    "recordToRecordTravel = RecordToRecordTravel(\n",
    "    start_threshold = 0.5,\n",
    "    end_threshold = 0.1,\n",
    "    step = 0.01,\n",
    "    method = 'linear',\n",
    "    cmp_best = True\n",
    ")\n",
    "\n",
    "# simulatedAnnealingCriteria = SimulatedAnnealing(\n",
    "#     start_temperature = 100,\n",
    "#     end_temperature = 0.001,\n",
    "#     step = 0.99,\n",
    "#     method = 'exponential'\n",
    "# )\n",
    "\n",
    "randomRemove1 = RandomRemove(0.2)\n",
    "randomRemove2 = RandomRemove(0.4)\n",
    "worstRemove1 = WorstRemove(0.2)\n",
    "worstRemove2 = WorstRemove(0.4)\n",
    "randomRepair = RandomRepair()\n",
    "greedyRepair = GreedyRepair()\n",
    "\n",
    "firstImprovement = FirstImprovement()\n",
    "\n",
    "randomConstruct = RandomConstructive()\n",
    "greedyConstruct = GreedyConstructive(sortIndexesByProfitWeightDensity)\n",
    "greedyRandomizedConstruct = GreedyRandomizedConstructive(0.3)\n",
    "\n",
    "rewards = [5,3,1,0.5]"
   ]
  },
  {
   "cell_type": "code",
   "execution_count": 5,
   "metadata": {},
   "outputs": [],
   "source": [
    "hyperHeuristic = HyperHeuristic(stop = stop, acceptance = recordToRecordTravel, rewards = rewards, on_best = on_best)\n",
    "\n",
    "hyperHeuristic.add_refinement(randomRemove1, 'randomRemove0.2')\n",
    "hyperHeuristic.add_refinement(randomRemove2, 'randomRemove0.4')\n",
    "hyperHeuristic.add_refinement(worstRemove1, 'worstRemove0.2')\n",
    "hyperHeuristic.add_refinement(worstRemove2, 'worstRemove0.4')\n",
    "hyperHeuristic.add_refinement(randomRepair, 'randomRepair')\n",
    "hyperHeuristic.add_refinement(greedyRepair, 'greedyRepair')\n",
    "\n",
    "hyperHeuristic.add_refinement(firstImprovement, 'firstImprovement')\n",
    "\n",
    "hyperHeuristic.add_refinement(randomConstruct, 'randomConstruct')\n",
    "hyperHeuristic.add_refinement(greedyConstruct, 'greedyConstruct')\n",
    "hyperHeuristic.add_refinement(greedyRandomizedConstruct, 'greedyRandomizedConstruct')"
   ]
  },
  {
   "cell_type": "markdown",
   "metadata": {},
   "source": [
    "# **Benchmark**"
   ]
  },
  {
   "cell_type": "code",
   "execution_count": 6,
   "metadata": {},
   "outputs": [],
   "source": [
    "benchmarkPath = \"../data/benchmark/binaryKnapsack\"\n",
    "benchmark = BinaryKnapsackBenchmark(\"binary\", benchmarkPath)\n",
    "instancesList = benchmark.getInstancesList()\n",
    "np.random.shuffle(instancesList)"
   ]
  },
  {
   "cell_type": "markdown",
   "metadata": {},
   "source": [
    "# **Q-Learning**"
   ]
  },
  {
   "cell_type": "code",
   "execution_count": 7,
   "metadata": {},
   "outputs": [],
   "source": [
    "def instanceGenerator(instancesNames):\n",
    "    while True:\n",
    "        instanceName = np.random.choice(instancesNames, 1, replace = True)[0]\n",
    "        instance = benchmark.parseInstance(instanceName)\n",
    "        yield (instanceName, instance)"
   ]
  },
  {
   "cell_type": "code",
   "execution_count": 8,
   "metadata": {},
   "outputs": [],
   "source": [
    "train, test = train_test_split(instancesList, test_size = 0.2)\n",
    "trainInstancesGenerator = instanceGenerator(train)"
   ]
  },
  {
   "cell_type": "code",
   "execution_count": 9,
   "metadata": {},
   "outputs": [],
   "source": [
    "env = HyperHeuristicEnv(hyperHeuristic, trainInstancesGenerator)"
   ]
  },
  {
   "cell_type": "code",
   "execution_count": 14,
   "metadata": {},
   "outputs": [
    {
     "name": "stdout",
     "output_type": "stream",
     "text": [
      "Episode: 15000\n",
      "Training finished.\n",
      "\n"
     ]
    }
   ],
   "source": [
    "from IPython.display import clear_output\n",
    "\n",
    "q_tables = []\n",
    "q_table = np.zeros([env.observation_space.n, env.action_space.n])\n",
    "q_tables.append((0, np.array(q_table, dtype = np.double)))\n",
    "\n",
    "# Hyperparameters\n",
    "alpha_start = 0.5\n",
    "alpha_end = 0.05\n",
    "gamma = 0.6\n",
    "epsilon = 0.1\n",
    "n_epochs = 15000\n",
    "\n",
    "# For plotting metrics\n",
    "all_epochs = []\n",
    "\n",
    "for i in range(1, n_epochs + 1):\n",
    "    state = env.reset()\n",
    "\n",
    "    totalEpochIterations, totalEpochReward, = 1, 0\n",
    "    done = False\n",
    "    \n",
    "    while not done:\n",
    "        alpha = alpha_start + (i-1) * (alpha_end - alpha_start)/n_epochs\n",
    "        \n",
    "        if random.uniform(0, 1) < epsilon:\n",
    "            action = env.action_space.sample() # Explore action space\n",
    "        else:\n",
    "            action = np.argmax(q_table[state]) # Exploit learned values\n",
    "\n",
    "        next_state, reward, done, info = env.step(action) \n",
    "        totalEpochReward += reward\n",
    "        \n",
    "        old_value = q_table[state, action]\n",
    "        next_max = np.max(q_table[next_state])\n",
    "        \n",
    "        new_value = (1 - alpha) * old_value + alpha * (reward + gamma * next_max)\n",
    "        q_table[state, action] = new_value\n",
    "\n",
    "        state = next_state\n",
    "        totalEpochIterations += 1\n",
    "        \n",
    "    runningTime = env.get_running_time()\n",
    "\n",
    "    all_epochs.append([totalEpochIterations, totalEpochReward, runningTime])\n",
    "\n",
    "    if i % 250 == 0:\n",
    "        clear_output(wait=True)\n",
    "        print(f\"Episode: {i}\")\n",
    "        # print(q_table)\n",
    "        q_tables.append((i, np.array(q_table, dtype = np.double)))\n",
    "\n",
    "print(\"Training finished.\\n\")"
   ]
  },
  {
   "cell_type": "code",
   "execution_count": 16,
   "metadata": {},
   "outputs": [
    {
     "data": {
      "text/html": [
       "<div>\n",
       "<style scoped>\n",
       "    .dataframe tbody tr th:only-of-type {\n",
       "        vertical-align: middle;\n",
       "    }\n",
       "\n",
       "    .dataframe tbody tr th {\n",
       "        vertical-align: top;\n",
       "    }\n",
       "\n",
       "    .dataframe thead th {\n",
       "        text-align: right;\n",
       "    }\n",
       "</style>\n",
       "<table border=\"1\" class=\"dataframe\">\n",
       "  <thead>\n",
       "    <tr style=\"text-align: right;\">\n",
       "      <th></th>\n",
       "      <th>iterations</th>\n",
       "      <th>reward</th>\n",
       "      <th>runnnigTime</th>\n",
       "    </tr>\n",
       "  </thead>\n",
       "  <tbody>\n",
       "    <tr>\n",
       "      <th>0</th>\n",
       "      <td>2</td>\n",
       "      <td>5.0</td>\n",
       "      <td>0.010700</td>\n",
       "    </tr>\n",
       "    <tr>\n",
       "      <th>1</th>\n",
       "      <td>2</td>\n",
       "      <td>0.5</td>\n",
       "      <td>0.018105</td>\n",
       "    </tr>\n",
       "    <tr>\n",
       "      <th>2</th>\n",
       "      <td>2</td>\n",
       "      <td>1.0</td>\n",
       "      <td>0.014024</td>\n",
       "    </tr>\n",
       "    <tr>\n",
       "      <th>3</th>\n",
       "      <td>2</td>\n",
       "      <td>5.0</td>\n",
       "      <td>0.017026</td>\n",
       "    </tr>\n",
       "    <tr>\n",
       "      <th>4</th>\n",
       "      <td>2</td>\n",
       "      <td>0.5</td>\n",
       "      <td>0.015514</td>\n",
       "    </tr>\n",
       "  </tbody>\n",
       "</table>\n",
       "</div>"
      ],
      "text/plain": [
       "   iterations  reward  runnnigTime\n",
       "0           2     5.0     0.010700\n",
       "1           2     0.5     0.018105\n",
       "2           2     1.0     0.014024\n",
       "3           2     5.0     0.017026\n",
       "4           2     0.5     0.015514"
      ]
     },
     "execution_count": 16,
     "metadata": {},
     "output_type": "execute_result"
    }
   ],
   "source": [
    "trainingSummary = pd.DataFrame(data = all_epochs, columns = ['iterations', 'reward', 'runnnigTime'])\n",
    "trainingSummary.head()"
   ]
  },
  {
   "cell_type": "markdown",
   "metadata": {},
   "source": [
    "## **Evaluation**"
   ]
  },
  {
   "cell_type": "code",
   "execution_count": null,
   "metadata": {},
   "outputs": [],
   "source": [
    "columns = ['instanceName', 'optimumFO', 'bestFO', 'optimumRuntime', 'runtime', 'relativeError']\n",
    "values = []\n",
    "\n",
    "for instanceName in test:\n",
    "    print(instanceName)\n",
    "    instance = benchmark.parseInstance(instanceName)\n",
    "\n",
    "    state = env.reset(instance)\n",
    "\n",
    "    done = False\n",
    "\n",
    "    while not done:\n",
    "        action = np.argmax(q_tables[-1][1][state])\n",
    "        state, reward, done, info = env.step(action)\n",
    "\n",
    "    optimum = benchmark.getOptimalFO(instanceName)\n",
    "    objective = env._hyperHeuristic.best_solution.objective(isMinimizing = False)\n",
    "    runtime = env.get_running_time()\n",
    "    optimumRuntime = benchmark.getOptimalRunningTime(instanceName)\n",
    "\n",
    "    values.append([\n",
    "        instanceName.replace('/test.in',''),\n",
    "        optimum,\n",
    "        objective,\n",
    "        optimumRuntime,\n",
    "        runtime,\n",
    "        (optimum - objective)/optimum,\n",
    "    ])"
   ]
  },
  {
   "cell_type": "code",
   "execution_count": 123,
   "metadata": {},
   "outputs": [
    {
     "data": {
      "text/html": [
       "<div>\n",
       "<style scoped>\n",
       "    .dataframe tbody tr th:only-of-type {\n",
       "        vertical-align: middle;\n",
       "    }\n",
       "\n",
       "    .dataframe tbody tr th {\n",
       "        vertical-align: top;\n",
       "    }\n",
       "\n",
       "    .dataframe thead th {\n",
       "        text-align: right;\n",
       "    }\n",
       "</style>\n",
       "<table border=\"1\" class=\"dataframe\">\n",
       "  <thead>\n",
       "    <tr style=\"text-align: right;\">\n",
       "      <th></th>\n",
       "      <th>instanceName</th>\n",
       "      <th>optimumFO</th>\n",
       "      <th>bestFO</th>\n",
       "      <th>optimumRuntime</th>\n",
       "      <th>runtime</th>\n",
       "      <th>relativeError</th>\n",
       "    </tr>\n",
       "  </thead>\n",
       "  <tbody>\n",
       "    <tr>\n",
       "      <th>0</th>\n",
       "      <td>n_1200_c_100000000_g_6_f_0.1_eps_0.01_s_100</td>\n",
       "      <td>99756399</td>\n",
       "      <td>99007997</td>\n",
       "      <td>10.250944</td>\n",
       "      <td>0.007487</td>\n",
       "      <td>7.502296e-03</td>\n",
       "    </tr>\n",
       "    <tr>\n",
       "      <th>1</th>\n",
       "      <td>n_800_c_10000000000_g_2_f_0.2_eps_0.001_s_100</td>\n",
       "      <td>5010008771</td>\n",
       "      <td>5010008769</td>\n",
       "      <td>0.352251</td>\n",
       "      <td>0.005242</td>\n",
       "      <td>3.992009e-10</td>\n",
       "    </tr>\n",
       "    <tr>\n",
       "      <th>2</th>\n",
       "      <td>n_1200_c_100000000_g_6_f_0.3_eps_1e-05_s_200</td>\n",
       "      <td>96947654</td>\n",
       "      <td>96944653</td>\n",
       "      <td>15.953581</td>\n",
       "      <td>0.005845</td>\n",
       "      <td>3.095485e-05</td>\n",
       "    </tr>\n",
       "    <tr>\n",
       "      <th>3</th>\n",
       "      <td>n_1200_c_100000000_g_2_f_0.1_eps_0.001_s_100</td>\n",
       "      <td>50106076</td>\n",
       "      <td>50106073</td>\n",
       "      <td>0.196778</td>\n",
       "      <td>0.003467</td>\n",
       "      <td>5.987298e-08</td>\n",
       "    </tr>\n",
       "    <tr>\n",
       "      <th>4</th>\n",
       "      <td>n_1000_c_10000000000_g_2_f_0.2_eps_0.01_s_200</td>\n",
       "      <td>5100020242</td>\n",
       "      <td>5100020241</td>\n",
       "      <td>0.447970</td>\n",
       "      <td>0.004287</td>\n",
       "      <td>1.960777e-10</td>\n",
       "    </tr>\n",
       "  </tbody>\n",
       "</table>\n",
       "</div>"
      ],
      "text/plain": [
       "                                    instanceName   optimumFO      bestFO  \\\n",
       "0    n_1200_c_100000000_g_6_f_0.1_eps_0.01_s_100    99756399    99007997   \n",
       "1  n_800_c_10000000000_g_2_f_0.2_eps_0.001_s_100  5010008771  5010008769   \n",
       "2   n_1200_c_100000000_g_6_f_0.3_eps_1e-05_s_200    96947654    96944653   \n",
       "3   n_1200_c_100000000_g_2_f_0.1_eps_0.001_s_100    50106076    50106073   \n",
       "4  n_1000_c_10000000000_g_2_f_0.2_eps_0.01_s_200  5100020242  5100020241   \n",
       "\n",
       "   optimumRuntime   runtime  relativeError  \n",
       "0       10.250944  0.007487   7.502296e-03  \n",
       "1        0.352251  0.005242   3.992009e-10  \n",
       "2       15.953581  0.005845   3.095485e-05  \n",
       "3        0.196778  0.003467   5.987298e-08  \n",
       "4        0.447970  0.004287   1.960777e-10  "
      ]
     },
     "execution_count": 123,
     "metadata": {},
     "output_type": "execute_result"
    }
   ],
   "source": [
    "testSummary = pd.DataFrame(data = values, columns = columns)\n",
    "testSummary.head()"
   ]
  },
  {
   "cell_type": "code",
   "execution_count": 125,
   "metadata": {},
   "outputs": [
    {
     "data": {
      "text/html": [
       "<div>\n",
       "<style scoped>\n",
       "    .dataframe tbody tr th:only-of-type {\n",
       "        vertical-align: middle;\n",
       "    }\n",
       "\n",
       "    .dataframe tbody tr th {\n",
       "        vertical-align: top;\n",
       "    }\n",
       "\n",
       "    .dataframe thead th {\n",
       "        text-align: right;\n",
       "    }\n",
       "</style>\n",
       "<table border=\"1\" class=\"dataframe\">\n",
       "  <thead>\n",
       "    <tr style=\"text-align: right;\">\n",
       "      <th></th>\n",
       "      <th>instanceName</th>\n",
       "      <th>optimumFO</th>\n",
       "      <th>bestFO</th>\n",
       "      <th>optimumRuntime</th>\n",
       "      <th>runtime</th>\n",
       "      <th>relativeError</th>\n",
       "      <th>n</th>\n",
       "      <th>c</th>\n",
       "    </tr>\n",
       "  </thead>\n",
       "  <tbody>\n",
       "    <tr>\n",
       "      <th>0</th>\n",
       "      <td>n_1200_c_100000000_g_6_f_0.1_eps_0.01_s_100</td>\n",
       "      <td>99756399</td>\n",
       "      <td>99007997</td>\n",
       "      <td>10.250944</td>\n",
       "      <td>0.007487</td>\n",
       "      <td>7.502296e-03</td>\n",
       "      <td>1200</td>\n",
       "      <td>100000000</td>\n",
       "    </tr>\n",
       "    <tr>\n",
       "      <th>1</th>\n",
       "      <td>n_800_c_10000000000_g_2_f_0.2_eps_0.001_s_100</td>\n",
       "      <td>5010008771</td>\n",
       "      <td>5010008769</td>\n",
       "      <td>0.352251</td>\n",
       "      <td>0.005242</td>\n",
       "      <td>3.992009e-10</td>\n",
       "      <td>800</td>\n",
       "      <td>10000000000</td>\n",
       "    </tr>\n",
       "    <tr>\n",
       "      <th>2</th>\n",
       "      <td>n_1200_c_100000000_g_6_f_0.3_eps_1e-05_s_200</td>\n",
       "      <td>96947654</td>\n",
       "      <td>96944653</td>\n",
       "      <td>15.953581</td>\n",
       "      <td>0.005845</td>\n",
       "      <td>3.095485e-05</td>\n",
       "      <td>1200</td>\n",
       "      <td>100000000</td>\n",
       "    </tr>\n",
       "    <tr>\n",
       "      <th>3</th>\n",
       "      <td>n_1200_c_100000000_g_2_f_0.1_eps_0.001_s_100</td>\n",
       "      <td>50106076</td>\n",
       "      <td>50106073</td>\n",
       "      <td>0.196778</td>\n",
       "      <td>0.003467</td>\n",
       "      <td>5.987298e-08</td>\n",
       "      <td>1200</td>\n",
       "      <td>100000000</td>\n",
       "    </tr>\n",
       "    <tr>\n",
       "      <th>4</th>\n",
       "      <td>n_1000_c_10000000000_g_2_f_0.2_eps_0.01_s_200</td>\n",
       "      <td>5100020242</td>\n",
       "      <td>5100020241</td>\n",
       "      <td>0.447970</td>\n",
       "      <td>0.004287</td>\n",
       "      <td>1.960777e-10</td>\n",
       "      <td>1000</td>\n",
       "      <td>10000000000</td>\n",
       "    </tr>\n",
       "  </tbody>\n",
       "</table>\n",
       "</div>"
      ],
      "text/plain": [
       "                                    instanceName   optimumFO      bestFO  \\\n",
       "0    n_1200_c_100000000_g_6_f_0.1_eps_0.01_s_100    99756399    99007997   \n",
       "1  n_800_c_10000000000_g_2_f_0.2_eps_0.001_s_100  5010008771  5010008769   \n",
       "2   n_1200_c_100000000_g_6_f_0.3_eps_1e-05_s_200    96947654    96944653   \n",
       "3   n_1200_c_100000000_g_2_f_0.1_eps_0.001_s_100    50106076    50106073   \n",
       "4  n_1000_c_10000000000_g_2_f_0.2_eps_0.01_s_200  5100020242  5100020241   \n",
       "\n",
       "   optimumRuntime   runtime  relativeError     n            c  \n",
       "0       10.250944  0.007487   7.502296e-03  1200    100000000  \n",
       "1        0.352251  0.005242   3.992009e-10   800  10000000000  \n",
       "2       15.953581  0.005845   3.095485e-05  1200    100000000  \n",
       "3        0.196778  0.003467   5.987298e-08  1200    100000000  \n",
       "4        0.447970  0.004287   1.960777e-10  1000  10000000000  "
      ]
     },
     "execution_count": 125,
     "metadata": {},
     "output_type": "execute_result"
    }
   ],
   "source": [
    "testSummary['n'] = testSummary.instanceName.apply(lambda name: re.findall(r\"n_(\\d+).*\", name)[0])\n",
    "testSummary['c'] = testSummary.instanceName.apply(lambda name: re.findall(r\".*c_(\\d+).*\", name)[0])\n",
    "testSummary.head()"
   ]
  },
  {
   "cell_type": "markdown",
   "metadata": {},
   "source": [
    "# **Visualization**"
   ]
  },
  {
   "cell_type": "markdown",
   "metadata": {},
   "source": [
    "## **Train**"
   ]
  },
  {
   "cell_type": "markdown",
   "metadata": {},
   "source": [
    "### **Q-Table convergence**"
   ]
  },
  {
   "cell_type": "code",
   "execution_count": 122,
   "metadata": {},
   "outputs": [
    {
     "data": {
      "text/html": [
       "<div>\n",
       "<style scoped>\n",
       "    .dataframe tbody tr th:only-of-type {\n",
       "        vertical-align: middle;\n",
       "    }\n",
       "\n",
       "    .dataframe tbody tr th {\n",
       "        vertical-align: top;\n",
       "    }\n",
       "\n",
       "    .dataframe thead th {\n",
       "        text-align: right;\n",
       "    }\n",
       "</style>\n",
       "<table border=\"1\" class=\"dataframe\">\n",
       "  <thead>\n",
       "    <tr style=\"text-align: right;\">\n",
       "      <th></th>\n",
       "      <th>epoch</th>\n",
       "      <th>mean</th>\n",
       "      <th>std</th>\n",
       "    </tr>\n",
       "  </thead>\n",
       "  <tbody>\n",
       "    <tr>\n",
       "      <th>0</th>\n",
       "      <td>250</td>\n",
       "      <td>1.526457</td>\n",
       "      <td>2.078199</td>\n",
       "    </tr>\n",
       "    <tr>\n",
       "      <th>1</th>\n",
       "      <td>500</td>\n",
       "      <td>0.194963</td>\n",
       "      <td>0.658449</td>\n",
       "    </tr>\n",
       "    <tr>\n",
       "      <th>2</th>\n",
       "      <td>750</td>\n",
       "      <td>0.183244</td>\n",
       "      <td>0.712249</td>\n",
       "    </tr>\n",
       "    <tr>\n",
       "      <th>3</th>\n",
       "      <td>1000</td>\n",
       "      <td>0.095744</td>\n",
       "      <td>0.387181</td>\n",
       "    </tr>\n",
       "    <tr>\n",
       "      <th>4</th>\n",
       "      <td>1250</td>\n",
       "      <td>0.106585</td>\n",
       "      <td>0.379360</td>\n",
       "    </tr>\n",
       "  </tbody>\n",
       "</table>\n",
       "</div>"
      ],
      "text/plain": [
       "   epoch      mean       std\n",
       "0    250  1.526457  2.078199\n",
       "1    500  0.194963  0.658449\n",
       "2    750  0.183244  0.712249\n",
       "3   1000  0.095744  0.387181\n",
       "4   1250  0.106585  0.379360"
      ]
     },
     "execution_count": 122,
     "metadata": {},
     "output_type": "execute_result"
    }
   ],
   "source": [
    "QAbsErrors = [(q_tables[i][0], abs(q_tables[i][1] - q_tables[i-1][1])) for i in range(1, len(q_tables))]\n",
    "QErrors = [(errorTable[0], errorTable[1].mean(), errorTable[1].std()) for errorTable in QAbsErrors]\n",
    "QErrorsDF = pd.DataFrame(data = QErrors, columns = ['epoch', 'mean', 'std'])\n",
    "QErrorsDF.head()"
   ]
  },
  {
   "cell_type": "code",
   "execution_count": 121,
   "metadata": {},
   "outputs": [
    {
     "data": {
      "application/vnd.plotly.v1+json": {
       "config": {
        "plotlyServerURL": "https://plot.ly"
       },
       "data": [
        {
         "hovertemplate": "epoch=%{x}<br>mean=%{y}<extra></extra>",
         "legendgroup": "",
         "line": {
          "color": "#636efa",
          "dash": "solid"
         },
         "marker": {
          "symbol": "circle"
         },
         "mode": "lines",
         "name": "",
         "orientation": "v",
         "showlegend": false,
         "type": "scatter",
         "x": [
          250,
          500,
          750,
          1000,
          1250,
          1500,
          1750,
          2000,
          2250,
          2500,
          2750,
          3000,
          3250,
          3500,
          3750,
          4000,
          4250,
          4500,
          4750,
          5000,
          5250,
          5500,
          5750,
          6000,
          6250,
          6500,
          6750,
          7000,
          7250,
          7500,
          7750,
          8000,
          8250,
          8500,
          8750,
          9000,
          9250,
          9500,
          9750,
          10000,
          10250,
          10500,
          10750,
          11000,
          11250,
          11500,
          11750,
          12000,
          12250,
          12500,
          12750,
          13000,
          13250,
          13500,
          13750,
          14000,
          14250,
          14500,
          14750,
          15000
         ],
         "xaxis": "x",
         "y": [
          1.5264567183457851,
          0.19496255659137032,
          0.18324417880315857,
          0.0957437954784773,
          0.10658544973532058,
          0.1766350489422646,
          0.08266962717092602,
          0.13926776134479965,
          0.1538622022684926,
          0.13717282825091698,
          0.14042702540388316,
          0.08884742176899524,
          0.06237133119796374,
          0.08297844189840403,
          0.08122160510529114,
          0.08965677544520505,
          0.051758832948293,
          0.13309550515664656,
          0.10039380068743059,
          0.049498812168619365,
          0.09107119847513263,
          0.06008731091757486,
          0.0641334100775556,
          0.08714532098869522,
          0.09852932337373466,
          0.03747958661043027,
          0.05197102805359983,
          0.045496139104697256,
          0.05311892168846316,
          0.08624659701829081,
          0.055553314243200834,
          0.05919317571077838,
          0.05802881439738944,
          0.08163746302738616,
          0.057980881462290836,
          0.10413673874777275,
          0.05438089474447435,
          0.03323035952963032,
          0.03147127871286723,
          0.07044810760088922,
          0.05359398440966264,
          0.05217814528123185,
          0.05461054390510927,
          0.054523677451794456,
          0.03426712589267472,
          0.01984604549556617,
          0.032166752860944135,
          0.02386212351894493,
          0.042659255877892835,
          0.022016296065980188,
          0.05251508862046897,
          0.035097250907066536,
          0.020995423361409773,
          0.041233707948089705,
          0.020016021474065254,
          0.02218719559023267,
          0.0239167321844478,
          0.019227210014301714,
          0.015453104141671852,
          0.017481953100469502
         ],
         "yaxis": "y"
        }
       ],
       "layout": {
        "legend": {
         "tracegroupgap": 0
        },
        "template": {
         "data": {
          "bar": [
           {
            "error_x": {
             "color": "#2a3f5f"
            },
            "error_y": {
             "color": "#2a3f5f"
            },
            "marker": {
             "line": {
              "color": "#E5ECF6",
              "width": 0.5
             },
             "pattern": {
              "fillmode": "overlay",
              "size": 10,
              "solidity": 0.2
             }
            },
            "type": "bar"
           }
          ],
          "barpolar": [
           {
            "marker": {
             "line": {
              "color": "#E5ECF6",
              "width": 0.5
             },
             "pattern": {
              "fillmode": "overlay",
              "size": 10,
              "solidity": 0.2
             }
            },
            "type": "barpolar"
           }
          ],
          "carpet": [
           {
            "aaxis": {
             "endlinecolor": "#2a3f5f",
             "gridcolor": "white",
             "linecolor": "white",
             "minorgridcolor": "white",
             "startlinecolor": "#2a3f5f"
            },
            "baxis": {
             "endlinecolor": "#2a3f5f",
             "gridcolor": "white",
             "linecolor": "white",
             "minorgridcolor": "white",
             "startlinecolor": "#2a3f5f"
            },
            "type": "carpet"
           }
          ],
          "choropleth": [
           {
            "colorbar": {
             "outlinewidth": 0,
             "ticks": ""
            },
            "type": "choropleth"
           }
          ],
          "contour": [
           {
            "colorbar": {
             "outlinewidth": 0,
             "ticks": ""
            },
            "colorscale": [
             [
              0,
              "#0d0887"
             ],
             [
              0.1111111111111111,
              "#46039f"
             ],
             [
              0.2222222222222222,
              "#7201a8"
             ],
             [
              0.3333333333333333,
              "#9c179e"
             ],
             [
              0.4444444444444444,
              "#bd3786"
             ],
             [
              0.5555555555555556,
              "#d8576b"
             ],
             [
              0.6666666666666666,
              "#ed7953"
             ],
             [
              0.7777777777777778,
              "#fb9f3a"
             ],
             [
              0.8888888888888888,
              "#fdca26"
             ],
             [
              1,
              "#f0f921"
             ]
            ],
            "type": "contour"
           }
          ],
          "contourcarpet": [
           {
            "colorbar": {
             "outlinewidth": 0,
             "ticks": ""
            },
            "type": "contourcarpet"
           }
          ],
          "heatmap": [
           {
            "colorbar": {
             "outlinewidth": 0,
             "ticks": ""
            },
            "colorscale": [
             [
              0,
              "#0d0887"
             ],
             [
              0.1111111111111111,
              "#46039f"
             ],
             [
              0.2222222222222222,
              "#7201a8"
             ],
             [
              0.3333333333333333,
              "#9c179e"
             ],
             [
              0.4444444444444444,
              "#bd3786"
             ],
             [
              0.5555555555555556,
              "#d8576b"
             ],
             [
              0.6666666666666666,
              "#ed7953"
             ],
             [
              0.7777777777777778,
              "#fb9f3a"
             ],
             [
              0.8888888888888888,
              "#fdca26"
             ],
             [
              1,
              "#f0f921"
             ]
            ],
            "type": "heatmap"
           }
          ],
          "heatmapgl": [
           {
            "colorbar": {
             "outlinewidth": 0,
             "ticks": ""
            },
            "colorscale": [
             [
              0,
              "#0d0887"
             ],
             [
              0.1111111111111111,
              "#46039f"
             ],
             [
              0.2222222222222222,
              "#7201a8"
             ],
             [
              0.3333333333333333,
              "#9c179e"
             ],
             [
              0.4444444444444444,
              "#bd3786"
             ],
             [
              0.5555555555555556,
              "#d8576b"
             ],
             [
              0.6666666666666666,
              "#ed7953"
             ],
             [
              0.7777777777777778,
              "#fb9f3a"
             ],
             [
              0.8888888888888888,
              "#fdca26"
             ],
             [
              1,
              "#f0f921"
             ]
            ],
            "type": "heatmapgl"
           }
          ],
          "histogram": [
           {
            "marker": {
             "pattern": {
              "fillmode": "overlay",
              "size": 10,
              "solidity": 0.2
             }
            },
            "type": "histogram"
           }
          ],
          "histogram2d": [
           {
            "colorbar": {
             "outlinewidth": 0,
             "ticks": ""
            },
            "colorscale": [
             [
              0,
              "#0d0887"
             ],
             [
              0.1111111111111111,
              "#46039f"
             ],
             [
              0.2222222222222222,
              "#7201a8"
             ],
             [
              0.3333333333333333,
              "#9c179e"
             ],
             [
              0.4444444444444444,
              "#bd3786"
             ],
             [
              0.5555555555555556,
              "#d8576b"
             ],
             [
              0.6666666666666666,
              "#ed7953"
             ],
             [
              0.7777777777777778,
              "#fb9f3a"
             ],
             [
              0.8888888888888888,
              "#fdca26"
             ],
             [
              1,
              "#f0f921"
             ]
            ],
            "type": "histogram2d"
           }
          ],
          "histogram2dcontour": [
           {
            "colorbar": {
             "outlinewidth": 0,
             "ticks": ""
            },
            "colorscale": [
             [
              0,
              "#0d0887"
             ],
             [
              0.1111111111111111,
              "#46039f"
             ],
             [
              0.2222222222222222,
              "#7201a8"
             ],
             [
              0.3333333333333333,
              "#9c179e"
             ],
             [
              0.4444444444444444,
              "#bd3786"
             ],
             [
              0.5555555555555556,
              "#d8576b"
             ],
             [
              0.6666666666666666,
              "#ed7953"
             ],
             [
              0.7777777777777778,
              "#fb9f3a"
             ],
             [
              0.8888888888888888,
              "#fdca26"
             ],
             [
              1,
              "#f0f921"
             ]
            ],
            "type": "histogram2dcontour"
           }
          ],
          "mesh3d": [
           {
            "colorbar": {
             "outlinewidth": 0,
             "ticks": ""
            },
            "type": "mesh3d"
           }
          ],
          "parcoords": [
           {
            "line": {
             "colorbar": {
              "outlinewidth": 0,
              "ticks": ""
             }
            },
            "type": "parcoords"
           }
          ],
          "pie": [
           {
            "automargin": true,
            "type": "pie"
           }
          ],
          "scatter": [
           {
            "fillpattern": {
             "fillmode": "overlay",
             "size": 10,
             "solidity": 0.2
            },
            "type": "scatter"
           }
          ],
          "scatter3d": [
           {
            "line": {
             "colorbar": {
              "outlinewidth": 0,
              "ticks": ""
             }
            },
            "marker": {
             "colorbar": {
              "outlinewidth": 0,
              "ticks": ""
             }
            },
            "type": "scatter3d"
           }
          ],
          "scattercarpet": [
           {
            "marker": {
             "colorbar": {
              "outlinewidth": 0,
              "ticks": ""
             }
            },
            "type": "scattercarpet"
           }
          ],
          "scattergeo": [
           {
            "marker": {
             "colorbar": {
              "outlinewidth": 0,
              "ticks": ""
             }
            },
            "type": "scattergeo"
           }
          ],
          "scattergl": [
           {
            "marker": {
             "colorbar": {
              "outlinewidth": 0,
              "ticks": ""
             }
            },
            "type": "scattergl"
           }
          ],
          "scattermapbox": [
           {
            "marker": {
             "colorbar": {
              "outlinewidth": 0,
              "ticks": ""
             }
            },
            "type": "scattermapbox"
           }
          ],
          "scatterpolar": [
           {
            "marker": {
             "colorbar": {
              "outlinewidth": 0,
              "ticks": ""
             }
            },
            "type": "scatterpolar"
           }
          ],
          "scatterpolargl": [
           {
            "marker": {
             "colorbar": {
              "outlinewidth": 0,
              "ticks": ""
             }
            },
            "type": "scatterpolargl"
           }
          ],
          "scatterternary": [
           {
            "marker": {
             "colorbar": {
              "outlinewidth": 0,
              "ticks": ""
             }
            },
            "type": "scatterternary"
           }
          ],
          "surface": [
           {
            "colorbar": {
             "outlinewidth": 0,
             "ticks": ""
            },
            "colorscale": [
             [
              0,
              "#0d0887"
             ],
             [
              0.1111111111111111,
              "#46039f"
             ],
             [
              0.2222222222222222,
              "#7201a8"
             ],
             [
              0.3333333333333333,
              "#9c179e"
             ],
             [
              0.4444444444444444,
              "#bd3786"
             ],
             [
              0.5555555555555556,
              "#d8576b"
             ],
             [
              0.6666666666666666,
              "#ed7953"
             ],
             [
              0.7777777777777778,
              "#fb9f3a"
             ],
             [
              0.8888888888888888,
              "#fdca26"
             ],
             [
              1,
              "#f0f921"
             ]
            ],
            "type": "surface"
           }
          ],
          "table": [
           {
            "cells": {
             "fill": {
              "color": "#EBF0F8"
             },
             "line": {
              "color": "white"
             }
            },
            "header": {
             "fill": {
              "color": "#C8D4E3"
             },
             "line": {
              "color": "white"
             }
            },
            "type": "table"
           }
          ]
         },
         "layout": {
          "annotationdefaults": {
           "arrowcolor": "#2a3f5f",
           "arrowhead": 0,
           "arrowwidth": 1
          },
          "autotypenumbers": "strict",
          "coloraxis": {
           "colorbar": {
            "outlinewidth": 0,
            "ticks": ""
           }
          },
          "colorscale": {
           "diverging": [
            [
             0,
             "#8e0152"
            ],
            [
             0.1,
             "#c51b7d"
            ],
            [
             0.2,
             "#de77ae"
            ],
            [
             0.3,
             "#f1b6da"
            ],
            [
             0.4,
             "#fde0ef"
            ],
            [
             0.5,
             "#f7f7f7"
            ],
            [
             0.6,
             "#e6f5d0"
            ],
            [
             0.7,
             "#b8e186"
            ],
            [
             0.8,
             "#7fbc41"
            ],
            [
             0.9,
             "#4d9221"
            ],
            [
             1,
             "#276419"
            ]
           ],
           "sequential": [
            [
             0,
             "#0d0887"
            ],
            [
             0.1111111111111111,
             "#46039f"
            ],
            [
             0.2222222222222222,
             "#7201a8"
            ],
            [
             0.3333333333333333,
             "#9c179e"
            ],
            [
             0.4444444444444444,
             "#bd3786"
            ],
            [
             0.5555555555555556,
             "#d8576b"
            ],
            [
             0.6666666666666666,
             "#ed7953"
            ],
            [
             0.7777777777777778,
             "#fb9f3a"
            ],
            [
             0.8888888888888888,
             "#fdca26"
            ],
            [
             1,
             "#f0f921"
            ]
           ],
           "sequentialminus": [
            [
             0,
             "#0d0887"
            ],
            [
             0.1111111111111111,
             "#46039f"
            ],
            [
             0.2222222222222222,
             "#7201a8"
            ],
            [
             0.3333333333333333,
             "#9c179e"
            ],
            [
             0.4444444444444444,
             "#bd3786"
            ],
            [
             0.5555555555555556,
             "#d8576b"
            ],
            [
             0.6666666666666666,
             "#ed7953"
            ],
            [
             0.7777777777777778,
             "#fb9f3a"
            ],
            [
             0.8888888888888888,
             "#fdca26"
            ],
            [
             1,
             "#f0f921"
            ]
           ]
          },
          "colorway": [
           "#636efa",
           "#EF553B",
           "#00cc96",
           "#ab63fa",
           "#FFA15A",
           "#19d3f3",
           "#FF6692",
           "#B6E880",
           "#FF97FF",
           "#FECB52"
          ],
          "font": {
           "color": "#2a3f5f"
          },
          "geo": {
           "bgcolor": "white",
           "lakecolor": "white",
           "landcolor": "#E5ECF6",
           "showlakes": true,
           "showland": true,
           "subunitcolor": "white"
          },
          "hoverlabel": {
           "align": "left"
          },
          "hovermode": "closest",
          "mapbox": {
           "style": "light"
          },
          "paper_bgcolor": "white",
          "plot_bgcolor": "#E5ECF6",
          "polar": {
           "angularaxis": {
            "gridcolor": "white",
            "linecolor": "white",
            "ticks": ""
           },
           "bgcolor": "#E5ECF6",
           "radialaxis": {
            "gridcolor": "white",
            "linecolor": "white",
            "ticks": ""
           }
          },
          "scene": {
           "xaxis": {
            "backgroundcolor": "#E5ECF6",
            "gridcolor": "white",
            "gridwidth": 2,
            "linecolor": "white",
            "showbackground": true,
            "ticks": "",
            "zerolinecolor": "white"
           },
           "yaxis": {
            "backgroundcolor": "#E5ECF6",
            "gridcolor": "white",
            "gridwidth": 2,
            "linecolor": "white",
            "showbackground": true,
            "ticks": "",
            "zerolinecolor": "white"
           },
           "zaxis": {
            "backgroundcolor": "#E5ECF6",
            "gridcolor": "white",
            "gridwidth": 2,
            "linecolor": "white",
            "showbackground": true,
            "ticks": "",
            "zerolinecolor": "white"
           }
          },
          "shapedefaults": {
           "line": {
            "color": "#2a3f5f"
           }
          },
          "ternary": {
           "aaxis": {
            "gridcolor": "white",
            "linecolor": "white",
            "ticks": ""
           },
           "baxis": {
            "gridcolor": "white",
            "linecolor": "white",
            "ticks": ""
           },
           "bgcolor": "#E5ECF6",
           "caxis": {
            "gridcolor": "white",
            "linecolor": "white",
            "ticks": ""
           }
          },
          "title": {
           "x": 0.05
          },
          "xaxis": {
           "automargin": true,
           "gridcolor": "white",
           "linecolor": "white",
           "ticks": "",
           "title": {
            "standoff": 15
           },
           "zerolinecolor": "white",
           "zerolinewidth": 2
          },
          "yaxis": {
           "automargin": true,
           "gridcolor": "white",
           "linecolor": "white",
           "ticks": "",
           "title": {
            "standoff": 15
           },
           "zerolinecolor": "white",
           "zerolinewidth": 2
          }
         }
        },
        "title": {
         "text": "Q-Table Convergence"
        },
        "xaxis": {
         "anchor": "y",
         "domain": [
          0,
          1
         ],
         "title": {
          "text": "episode"
         }
        },
        "yaxis": {
         "anchor": "x",
         "domain": [
          0,
          1
         ],
         "title": {
          "text": "Q-Table Mean Absulute Error"
         }
        }
       }
      },
      "text/html": [
       "<div>                            <div id=\"31f4e5e4-15f2-4cc8-a208-ec187417bcdd\" class=\"plotly-graph-div\" style=\"height:525px; width:100%;\"></div>            <script type=\"text/javascript\">                require([\"plotly\"], function(Plotly) {                    window.PLOTLYENV=window.PLOTLYENV || {};                                    if (document.getElementById(\"31f4e5e4-15f2-4cc8-a208-ec187417bcdd\")) {                    Plotly.newPlot(                        \"31f4e5e4-15f2-4cc8-a208-ec187417bcdd\",                        [{\"hovertemplate\":\"epoch=%{x}<br>mean=%{y}<extra></extra>\",\"legendgroup\":\"\",\"line\":{\"color\":\"#636efa\",\"dash\":\"solid\"},\"marker\":{\"symbol\":\"circle\"},\"mode\":\"lines\",\"name\":\"\",\"orientation\":\"v\",\"showlegend\":false,\"x\":[250,500,750,1000,1250,1500,1750,2000,2250,2500,2750,3000,3250,3500,3750,4000,4250,4500,4750,5000,5250,5500,5750,6000,6250,6500,6750,7000,7250,7500,7750,8000,8250,8500,8750,9000,9250,9500,9750,10000,10250,10500,10750,11000,11250,11500,11750,12000,12250,12500,12750,13000,13250,13500,13750,14000,14250,14500,14750,15000],\"xaxis\":\"x\",\"y\":[1.5264567183457851,0.19496255659137032,0.18324417880315857,0.0957437954784773,0.10658544973532058,0.1766350489422646,0.08266962717092602,0.13926776134479965,0.1538622022684926,0.13717282825091698,0.14042702540388316,0.08884742176899524,0.06237133119796374,0.08297844189840403,0.08122160510529114,0.08965677544520505,0.051758832948293,0.13309550515664656,0.10039380068743059,0.049498812168619365,0.09107119847513263,0.06008731091757486,0.0641334100775556,0.08714532098869522,0.09852932337373466,0.03747958661043027,0.05197102805359983,0.045496139104697256,0.05311892168846316,0.08624659701829081,0.055553314243200834,0.05919317571077838,0.05802881439738944,0.08163746302738616,0.057980881462290836,0.10413673874777275,0.05438089474447435,0.03323035952963032,0.03147127871286723,0.07044810760088922,0.05359398440966264,0.05217814528123185,0.05461054390510927,0.054523677451794456,0.03426712589267472,0.01984604549556617,0.032166752860944135,0.02386212351894493,0.042659255877892835,0.022016296065980188,0.05251508862046897,0.035097250907066536,0.020995423361409773,0.041233707948089705,0.020016021474065254,0.02218719559023267,0.0239167321844478,0.019227210014301714,0.015453104141671852,0.017481953100469502],\"yaxis\":\"y\",\"type\":\"scatter\"}],                        {\"template\":{\"data\":{\"histogram2dcontour\":[{\"type\":\"histogram2dcontour\",\"colorbar\":{\"outlinewidth\":0,\"ticks\":\"\"},\"colorscale\":[[0.0,\"#0d0887\"],[0.1111111111111111,\"#46039f\"],[0.2222222222222222,\"#7201a8\"],[0.3333333333333333,\"#9c179e\"],[0.4444444444444444,\"#bd3786\"],[0.5555555555555556,\"#d8576b\"],[0.6666666666666666,\"#ed7953\"],[0.7777777777777778,\"#fb9f3a\"],[0.8888888888888888,\"#fdca26\"],[1.0,\"#f0f921\"]]}],\"choropleth\":[{\"type\":\"choropleth\",\"colorbar\":{\"outlinewidth\":0,\"ticks\":\"\"}}],\"histogram2d\":[{\"type\":\"histogram2d\",\"colorbar\":{\"outlinewidth\":0,\"ticks\":\"\"},\"colorscale\":[[0.0,\"#0d0887\"],[0.1111111111111111,\"#46039f\"],[0.2222222222222222,\"#7201a8\"],[0.3333333333333333,\"#9c179e\"],[0.4444444444444444,\"#bd3786\"],[0.5555555555555556,\"#d8576b\"],[0.6666666666666666,\"#ed7953\"],[0.7777777777777778,\"#fb9f3a\"],[0.8888888888888888,\"#fdca26\"],[1.0,\"#f0f921\"]]}],\"heatmap\":[{\"type\":\"heatmap\",\"colorbar\":{\"outlinewidth\":0,\"ticks\":\"\"},\"colorscale\":[[0.0,\"#0d0887\"],[0.1111111111111111,\"#46039f\"],[0.2222222222222222,\"#7201a8\"],[0.3333333333333333,\"#9c179e\"],[0.4444444444444444,\"#bd3786\"],[0.5555555555555556,\"#d8576b\"],[0.6666666666666666,\"#ed7953\"],[0.7777777777777778,\"#fb9f3a\"],[0.8888888888888888,\"#fdca26\"],[1.0,\"#f0f921\"]]}],\"heatmapgl\":[{\"type\":\"heatmapgl\",\"colorbar\":{\"outlinewidth\":0,\"ticks\":\"\"},\"colorscale\":[[0.0,\"#0d0887\"],[0.1111111111111111,\"#46039f\"],[0.2222222222222222,\"#7201a8\"],[0.3333333333333333,\"#9c179e\"],[0.4444444444444444,\"#bd3786\"],[0.5555555555555556,\"#d8576b\"],[0.6666666666666666,\"#ed7953\"],[0.7777777777777778,\"#fb9f3a\"],[0.8888888888888888,\"#fdca26\"],[1.0,\"#f0f921\"]]}],\"contourcarpet\":[{\"type\":\"contourcarpet\",\"colorbar\":{\"outlinewidth\":0,\"ticks\":\"\"}}],\"contour\":[{\"type\":\"contour\",\"colorbar\":{\"outlinewidth\":0,\"ticks\":\"\"},\"colorscale\":[[0.0,\"#0d0887\"],[0.1111111111111111,\"#46039f\"],[0.2222222222222222,\"#7201a8\"],[0.3333333333333333,\"#9c179e\"],[0.4444444444444444,\"#bd3786\"],[0.5555555555555556,\"#d8576b\"],[0.6666666666666666,\"#ed7953\"],[0.7777777777777778,\"#fb9f3a\"],[0.8888888888888888,\"#fdca26\"],[1.0,\"#f0f921\"]]}],\"surface\":[{\"type\":\"surface\",\"colorbar\":{\"outlinewidth\":0,\"ticks\":\"\"},\"colorscale\":[[0.0,\"#0d0887\"],[0.1111111111111111,\"#46039f\"],[0.2222222222222222,\"#7201a8\"],[0.3333333333333333,\"#9c179e\"],[0.4444444444444444,\"#bd3786\"],[0.5555555555555556,\"#d8576b\"],[0.6666666666666666,\"#ed7953\"],[0.7777777777777778,\"#fb9f3a\"],[0.8888888888888888,\"#fdca26\"],[1.0,\"#f0f921\"]]}],\"mesh3d\":[{\"type\":\"mesh3d\",\"colorbar\":{\"outlinewidth\":0,\"ticks\":\"\"}}],\"scatter\":[{\"fillpattern\":{\"fillmode\":\"overlay\",\"size\":10,\"solidity\":0.2},\"type\":\"scatter\"}],\"parcoords\":[{\"type\":\"parcoords\",\"line\":{\"colorbar\":{\"outlinewidth\":0,\"ticks\":\"\"}}}],\"scatterpolargl\":[{\"type\":\"scatterpolargl\",\"marker\":{\"colorbar\":{\"outlinewidth\":0,\"ticks\":\"\"}}}],\"bar\":[{\"error_x\":{\"color\":\"#2a3f5f\"},\"error_y\":{\"color\":\"#2a3f5f\"},\"marker\":{\"line\":{\"color\":\"#E5ECF6\",\"width\":0.5},\"pattern\":{\"fillmode\":\"overlay\",\"size\":10,\"solidity\":0.2}},\"type\":\"bar\"}],\"scattergeo\":[{\"type\":\"scattergeo\",\"marker\":{\"colorbar\":{\"outlinewidth\":0,\"ticks\":\"\"}}}],\"scatterpolar\":[{\"type\":\"scatterpolar\",\"marker\":{\"colorbar\":{\"outlinewidth\":0,\"ticks\":\"\"}}}],\"histogram\":[{\"marker\":{\"pattern\":{\"fillmode\":\"overlay\",\"size\":10,\"solidity\":0.2}},\"type\":\"histogram\"}],\"scattergl\":[{\"type\":\"scattergl\",\"marker\":{\"colorbar\":{\"outlinewidth\":0,\"ticks\":\"\"}}}],\"scatter3d\":[{\"type\":\"scatter3d\",\"line\":{\"colorbar\":{\"outlinewidth\":0,\"ticks\":\"\"}},\"marker\":{\"colorbar\":{\"outlinewidth\":0,\"ticks\":\"\"}}}],\"scattermapbox\":[{\"type\":\"scattermapbox\",\"marker\":{\"colorbar\":{\"outlinewidth\":0,\"ticks\":\"\"}}}],\"scatterternary\":[{\"type\":\"scatterternary\",\"marker\":{\"colorbar\":{\"outlinewidth\":0,\"ticks\":\"\"}}}],\"scattercarpet\":[{\"type\":\"scattercarpet\",\"marker\":{\"colorbar\":{\"outlinewidth\":0,\"ticks\":\"\"}}}],\"carpet\":[{\"aaxis\":{\"endlinecolor\":\"#2a3f5f\",\"gridcolor\":\"white\",\"linecolor\":\"white\",\"minorgridcolor\":\"white\",\"startlinecolor\":\"#2a3f5f\"},\"baxis\":{\"endlinecolor\":\"#2a3f5f\",\"gridcolor\":\"white\",\"linecolor\":\"white\",\"minorgridcolor\":\"white\",\"startlinecolor\":\"#2a3f5f\"},\"type\":\"carpet\"}],\"table\":[{\"cells\":{\"fill\":{\"color\":\"#EBF0F8\"},\"line\":{\"color\":\"white\"}},\"header\":{\"fill\":{\"color\":\"#C8D4E3\"},\"line\":{\"color\":\"white\"}},\"type\":\"table\"}],\"barpolar\":[{\"marker\":{\"line\":{\"color\":\"#E5ECF6\",\"width\":0.5},\"pattern\":{\"fillmode\":\"overlay\",\"size\":10,\"solidity\":0.2}},\"type\":\"barpolar\"}],\"pie\":[{\"automargin\":true,\"type\":\"pie\"}]},\"layout\":{\"autotypenumbers\":\"strict\",\"colorway\":[\"#636efa\",\"#EF553B\",\"#00cc96\",\"#ab63fa\",\"#FFA15A\",\"#19d3f3\",\"#FF6692\",\"#B6E880\",\"#FF97FF\",\"#FECB52\"],\"font\":{\"color\":\"#2a3f5f\"},\"hovermode\":\"closest\",\"hoverlabel\":{\"align\":\"left\"},\"paper_bgcolor\":\"white\",\"plot_bgcolor\":\"#E5ECF6\",\"polar\":{\"bgcolor\":\"#E5ECF6\",\"angularaxis\":{\"gridcolor\":\"white\",\"linecolor\":\"white\",\"ticks\":\"\"},\"radialaxis\":{\"gridcolor\":\"white\",\"linecolor\":\"white\",\"ticks\":\"\"}},\"ternary\":{\"bgcolor\":\"#E5ECF6\",\"aaxis\":{\"gridcolor\":\"white\",\"linecolor\":\"white\",\"ticks\":\"\"},\"baxis\":{\"gridcolor\":\"white\",\"linecolor\":\"white\",\"ticks\":\"\"},\"caxis\":{\"gridcolor\":\"white\",\"linecolor\":\"white\",\"ticks\":\"\"}},\"coloraxis\":{\"colorbar\":{\"outlinewidth\":0,\"ticks\":\"\"}},\"colorscale\":{\"sequential\":[[0.0,\"#0d0887\"],[0.1111111111111111,\"#46039f\"],[0.2222222222222222,\"#7201a8\"],[0.3333333333333333,\"#9c179e\"],[0.4444444444444444,\"#bd3786\"],[0.5555555555555556,\"#d8576b\"],[0.6666666666666666,\"#ed7953\"],[0.7777777777777778,\"#fb9f3a\"],[0.8888888888888888,\"#fdca26\"],[1.0,\"#f0f921\"]],\"sequentialminus\":[[0.0,\"#0d0887\"],[0.1111111111111111,\"#46039f\"],[0.2222222222222222,\"#7201a8\"],[0.3333333333333333,\"#9c179e\"],[0.4444444444444444,\"#bd3786\"],[0.5555555555555556,\"#d8576b\"],[0.6666666666666666,\"#ed7953\"],[0.7777777777777778,\"#fb9f3a\"],[0.8888888888888888,\"#fdca26\"],[1.0,\"#f0f921\"]],\"diverging\":[[0,\"#8e0152\"],[0.1,\"#c51b7d\"],[0.2,\"#de77ae\"],[0.3,\"#f1b6da\"],[0.4,\"#fde0ef\"],[0.5,\"#f7f7f7\"],[0.6,\"#e6f5d0\"],[0.7,\"#b8e186\"],[0.8,\"#7fbc41\"],[0.9,\"#4d9221\"],[1,\"#276419\"]]},\"xaxis\":{\"gridcolor\":\"white\",\"linecolor\":\"white\",\"ticks\":\"\",\"title\":{\"standoff\":15},\"zerolinecolor\":\"white\",\"automargin\":true,\"zerolinewidth\":2},\"yaxis\":{\"gridcolor\":\"white\",\"linecolor\":\"white\",\"ticks\":\"\",\"title\":{\"standoff\":15},\"zerolinecolor\":\"white\",\"automargin\":true,\"zerolinewidth\":2},\"scene\":{\"xaxis\":{\"backgroundcolor\":\"#E5ECF6\",\"gridcolor\":\"white\",\"linecolor\":\"white\",\"showbackground\":true,\"ticks\":\"\",\"zerolinecolor\":\"white\",\"gridwidth\":2},\"yaxis\":{\"backgroundcolor\":\"#E5ECF6\",\"gridcolor\":\"white\",\"linecolor\":\"white\",\"showbackground\":true,\"ticks\":\"\",\"zerolinecolor\":\"white\",\"gridwidth\":2},\"zaxis\":{\"backgroundcolor\":\"#E5ECF6\",\"gridcolor\":\"white\",\"linecolor\":\"white\",\"showbackground\":true,\"ticks\":\"\",\"zerolinecolor\":\"white\",\"gridwidth\":2}},\"shapedefaults\":{\"line\":{\"color\":\"#2a3f5f\"}},\"annotationdefaults\":{\"arrowcolor\":\"#2a3f5f\",\"arrowhead\":0,\"arrowwidth\":1},\"geo\":{\"bgcolor\":\"white\",\"landcolor\":\"#E5ECF6\",\"subunitcolor\":\"white\",\"showland\":true,\"showlakes\":true,\"lakecolor\":\"white\"},\"title\":{\"x\":0.05},\"mapbox\":{\"style\":\"light\"}}},\"xaxis\":{\"anchor\":\"y\",\"domain\":[0.0,1.0],\"title\":{\"text\":\"episode\"}},\"yaxis\":{\"anchor\":\"x\",\"domain\":[0.0,1.0],\"title\":{\"text\":\"Q-Table Mean Absulute Error\"}},\"legend\":{\"tracegroupgap\":0},\"title\":{\"text\":\"Q-Table Convergence\"}},                        {\"responsive\": true}                    ).then(function(){\n",
       "                            \n",
       "var gd = document.getElementById('31f4e5e4-15f2-4cc8-a208-ec187417bcdd');\n",
       "var x = new MutationObserver(function (mutations, observer) {{\n",
       "        var display = window.getComputedStyle(gd).display;\n",
       "        if (!display || display === 'none') {{\n",
       "            console.log([gd, 'removed!']);\n",
       "            Plotly.purge(gd);\n",
       "            observer.disconnect();\n",
       "        }}\n",
       "}});\n",
       "\n",
       "// Listen for the removal of the full notebook cells\n",
       "var notebookContainer = gd.closest('#notebook-container');\n",
       "if (notebookContainer) {{\n",
       "    x.observe(notebookContainer, {childList: true});\n",
       "}}\n",
       "\n",
       "// Listen for the clearing of the current output cell\n",
       "var outputEl = gd.closest('.output');\n",
       "if (outputEl) {{\n",
       "    x.observe(outputEl, {childList: true});\n",
       "}}\n",
       "\n",
       "                        })                };                });            </script>        </div>"
      ]
     },
     "metadata": {},
     "output_type": "display_data"
    }
   ],
   "source": [
    "fig = px.line(QErrorsDF, x = 'epoch', y = 'mean', title = 'Q-Table Convergence')\n",
    "\n",
    "fig.update_layout(\n",
    "    yaxis_title=\"Q-Table Mean Absulute Error\",\n",
    "    xaxis_title=\"episode\"\n",
    ")"
   ]
  },
  {
   "cell_type": "markdown",
   "metadata": {},
   "source": [
    "## **Test**"
   ]
  },
  {
   "cell_type": "markdown",
   "metadata": {},
   "source": [
    "In the cell below, we dropped all instances without a optimal solution and those instances for which we found an unfeasible solution. "
   ]
  },
  {
   "cell_type": "code",
   "execution_count": 67,
   "metadata": {},
   "outputs": [
    {
     "data": {
      "text/html": [
       "<div>\n",
       "<style scoped>\n",
       "    .dataframe tbody tr th:only-of-type {\n",
       "        vertical-align: middle;\n",
       "    }\n",
       "\n",
       "    .dataframe tbody tr th {\n",
       "        vertical-align: top;\n",
       "    }\n",
       "\n",
       "    .dataframe thead tr th {\n",
       "        text-align: left;\n",
       "    }\n",
       "\n",
       "    .dataframe thead tr:last-of-type th {\n",
       "        text-align: right;\n",
       "    }\n",
       "</style>\n",
       "<table border=\"1\" class=\"dataframe\">\n",
       "  <thead>\n",
       "    <tr>\n",
       "      <th></th>\n",
       "      <th></th>\n",
       "      <th colspan=\"8\" halign=\"left\">optimumRuntime</th>\n",
       "      <th colspan=\"5\" halign=\"left\">runtime</th>\n",
       "      <th colspan=\"8\" halign=\"left\">relativeError</th>\n",
       "    </tr>\n",
       "    <tr>\n",
       "      <th></th>\n",
       "      <th></th>\n",
       "      <th>count</th>\n",
       "      <th>mean</th>\n",
       "      <th>std</th>\n",
       "      <th>min</th>\n",
       "      <th>25%</th>\n",
       "      <th>50%</th>\n",
       "      <th>75%</th>\n",
       "      <th>max</th>\n",
       "      <th>count</th>\n",
       "      <th>mean</th>\n",
       "      <th>...</th>\n",
       "      <th>75%</th>\n",
       "      <th>max</th>\n",
       "      <th>count</th>\n",
       "      <th>mean</th>\n",
       "      <th>std</th>\n",
       "      <th>min</th>\n",
       "      <th>25%</th>\n",
       "      <th>50%</th>\n",
       "      <th>75%</th>\n",
       "      <th>max</th>\n",
       "    </tr>\n",
       "    <tr>\n",
       "      <th>n</th>\n",
       "      <th>c</th>\n",
       "      <th></th>\n",
       "      <th></th>\n",
       "      <th></th>\n",
       "      <th></th>\n",
       "      <th></th>\n",
       "      <th></th>\n",
       "      <th></th>\n",
       "      <th></th>\n",
       "      <th></th>\n",
       "      <th></th>\n",
       "      <th></th>\n",
       "      <th></th>\n",
       "      <th></th>\n",
       "      <th></th>\n",
       "      <th></th>\n",
       "      <th></th>\n",
       "      <th></th>\n",
       "      <th></th>\n",
       "      <th></th>\n",
       "      <th></th>\n",
       "      <th></th>\n",
       "    </tr>\n",
       "  </thead>\n",
       "  <tbody>\n",
       "    <tr>\n",
       "      <th rowspan=\"3\" valign=\"top\">1000</th>\n",
       "      <th>1000000</th>\n",
       "      <td>40.0</td>\n",
       "      <td>0.695879</td>\n",
       "      <td>0.871804</td>\n",
       "      <td>0.066365</td>\n",
       "      <td>0.144612</td>\n",
       "      <td>0.262752</td>\n",
       "      <td>0.911493</td>\n",
       "      <td>3.064962</td>\n",
       "      <td>40.0</td>\n",
       "      <td>0.005108</td>\n",
       "      <td>...</td>\n",
       "      <td>0.005702</td>\n",
       "      <td>0.009633</td>\n",
       "      <td>40.0</td>\n",
       "      <td>0.007274</td>\n",
       "      <td>0.018743</td>\n",
       "      <td>0.000000e+00</td>\n",
       "      <td>6.645297e-06</td>\n",
       "      <td>1.023003e-04</td>\n",
       "      <td>0.001093</td>\n",
       "      <td>0.090395</td>\n",
       "    </tr>\n",
       "    <tr>\n",
       "      <th>100000000</th>\n",
       "      <td>43.0</td>\n",
       "      <td>36.674125</td>\n",
       "      <td>91.413375</td>\n",
       "      <td>0.081063</td>\n",
       "      <td>0.347560</td>\n",
       "      <td>5.313347</td>\n",
       "      <td>17.871624</td>\n",
       "      <td>502.545187</td>\n",
       "      <td>43.0</td>\n",
       "      <td>0.005577</td>\n",
       "      <td>...</td>\n",
       "      <td>0.006158</td>\n",
       "      <td>0.011637</td>\n",
       "      <td>43.0</td>\n",
       "      <td>0.005022</td>\n",
       "      <td>0.012870</td>\n",
       "      <td>0.000000e+00</td>\n",
       "      <td>1.199033e-07</td>\n",
       "      <td>3.533170e-05</td>\n",
       "      <td>0.001185</td>\n",
       "      <td>0.049903</td>\n",
       "    </tr>\n",
       "    <tr>\n",
       "      <th>10000000000</th>\n",
       "      <td>39.0</td>\n",
       "      <td>173.635860</td>\n",
       "      <td>703.052507</td>\n",
       "      <td>0.104318</td>\n",
       "      <td>0.390550</td>\n",
       "      <td>2.864677</td>\n",
       "      <td>42.120280</td>\n",
       "      <td>4247.350154</td>\n",
       "      <td>39.0</td>\n",
       "      <td>0.005117</td>\n",
       "      <td>...</td>\n",
       "      <td>0.006108</td>\n",
       "      <td>0.009185</td>\n",
       "      <td>39.0</td>\n",
       "      <td>0.006437</td>\n",
       "      <td>0.016003</td>\n",
       "      <td>0.000000e+00</td>\n",
       "      <td>4.499952e-10</td>\n",
       "      <td>8.876276e-07</td>\n",
       "      <td>0.003806</td>\n",
       "      <td>0.077883</td>\n",
       "    </tr>\n",
       "    <tr>\n",
       "      <th rowspan=\"3\" valign=\"top\">1200</th>\n",
       "      <th>1000000</th>\n",
       "      <td>52.0</td>\n",
       "      <td>0.923247</td>\n",
       "      <td>1.334588</td>\n",
       "      <td>0.043045</td>\n",
       "      <td>0.113109</td>\n",
       "      <td>0.291056</td>\n",
       "      <td>1.033663</td>\n",
       "      <td>5.382550</td>\n",
       "      <td>52.0</td>\n",
       "      <td>0.005898</td>\n",
       "      <td>...</td>\n",
       "      <td>0.006381</td>\n",
       "      <td>0.013247</td>\n",
       "      <td>52.0</td>\n",
       "      <td>0.009792</td>\n",
       "      <td>0.021350</td>\n",
       "      <td>0.000000e+00</td>\n",
       "      <td>9.802585e-06</td>\n",
       "      <td>1.940046e-04</td>\n",
       "      <td>0.005059</td>\n",
       "      <td>0.082793</td>\n",
       "    </tr>\n",
       "    <tr>\n",
       "      <th>100000000</th>\n",
       "      <td>37.0</td>\n",
       "      <td>31.684580</td>\n",
       "      <td>67.135760</td>\n",
       "      <td>0.100219</td>\n",
       "      <td>0.802566</td>\n",
       "      <td>5.967343</td>\n",
       "      <td>17.986230</td>\n",
       "      <td>321.547525</td>\n",
       "      <td>37.0</td>\n",
       "      <td>0.006455</td>\n",
       "      <td>...</td>\n",
       "      <td>0.007032</td>\n",
       "      <td>0.016675</td>\n",
       "      <td>37.0</td>\n",
       "      <td>0.005213</td>\n",
       "      <td>0.015506</td>\n",
       "      <td>0.000000e+00</td>\n",
       "      <td>3.942380e-06</td>\n",
       "      <td>3.877783e-05</td>\n",
       "      <td>0.000797</td>\n",
       "      <td>0.075460</td>\n",
       "    </tr>\n",
       "    <tr>\n",
       "      <th>10000000000</th>\n",
       "      <td>30.0</td>\n",
       "      <td>390.303080</td>\n",
       "      <td>1064.718819</td>\n",
       "      <td>0.109388</td>\n",
       "      <td>0.502895</td>\n",
       "      <td>19.992735</td>\n",
       "      <td>118.397582</td>\n",
       "      <td>4795.614831</td>\n",
       "      <td>30.0</td>\n",
       "      <td>0.005683</td>\n",
       "      <td>...</td>\n",
       "      <td>0.006524</td>\n",
       "      <td>0.007949</td>\n",
       "      <td>30.0</td>\n",
       "      <td>0.013352</td>\n",
       "      <td>0.025306</td>\n",
       "      <td>0.000000e+00</td>\n",
       "      <td>8.494796e-10</td>\n",
       "      <td>6.702676e-05</td>\n",
       "      <td>0.007205</td>\n",
       "      <td>0.079591</td>\n",
       "    </tr>\n",
       "    <tr>\n",
       "      <th rowspan=\"3\" valign=\"top\">400</th>\n",
       "      <th>1000000</th>\n",
       "      <td>41.0</td>\n",
       "      <td>0.209334</td>\n",
       "      <td>0.190658</td>\n",
       "      <td>0.046808</td>\n",
       "      <td>0.086646</td>\n",
       "      <td>0.114838</td>\n",
       "      <td>0.302980</td>\n",
       "      <td>0.966433</td>\n",
       "      <td>41.0</td>\n",
       "      <td>0.002411</td>\n",
       "      <td>...</td>\n",
       "      <td>0.002843</td>\n",
       "      <td>0.004869</td>\n",
       "      <td>41.0</td>\n",
       "      <td>0.006108</td>\n",
       "      <td>0.014936</td>\n",
       "      <td>0.000000e+00</td>\n",
       "      <td>3.758056e-05</td>\n",
       "      <td>2.006068e-04</td>\n",
       "      <td>0.001614</td>\n",
       "      <td>0.074788</td>\n",
       "    </tr>\n",
       "    <tr>\n",
       "      <th>100000000</th>\n",
       "      <td>31.0</td>\n",
       "      <td>4.673597</td>\n",
       "      <td>10.387513</td>\n",
       "      <td>0.079274</td>\n",
       "      <td>0.194732</td>\n",
       "      <td>0.349379</td>\n",
       "      <td>3.141787</td>\n",
       "      <td>54.207020</td>\n",
       "      <td>31.0</td>\n",
       "      <td>0.002520</td>\n",
       "      <td>...</td>\n",
       "      <td>0.002936</td>\n",
       "      <td>0.004262</td>\n",
       "      <td>31.0</td>\n",
       "      <td>0.007207</td>\n",
       "      <td>0.016846</td>\n",
       "      <td>1.999355e-08</td>\n",
       "      <td>2.496867e-07</td>\n",
       "      <td>3.282760e-05</td>\n",
       "      <td>0.005172</td>\n",
       "      <td>0.070298</td>\n",
       "    </tr>\n",
       "    <tr>\n",
       "      <th>10000000000</th>\n",
       "      <td>32.0</td>\n",
       "      <td>85.628287</td>\n",
       "      <td>159.758827</td>\n",
       "      <td>0.069193</td>\n",
       "      <td>0.156634</td>\n",
       "      <td>1.615674</td>\n",
       "      <td>70.223674</td>\n",
       "      <td>655.978393</td>\n",
       "      <td>32.0</td>\n",
       "      <td>0.002497</td>\n",
       "      <td>...</td>\n",
       "      <td>0.002896</td>\n",
       "      <td>0.004301</td>\n",
       "      <td>32.0</td>\n",
       "      <td>0.008760</td>\n",
       "      <td>0.017160</td>\n",
       "      <td>0.000000e+00</td>\n",
       "      <td>5.961593e-10</td>\n",
       "      <td>1.531278e-05</td>\n",
       "      <td>0.006002</td>\n",
       "      <td>0.063112</td>\n",
       "    </tr>\n",
       "    <tr>\n",
       "      <th rowspan=\"3\" valign=\"top\">600</th>\n",
       "      <th>1000000</th>\n",
       "      <td>50.0</td>\n",
       "      <td>0.394153</td>\n",
       "      <td>0.399047</td>\n",
       "      <td>0.037570</td>\n",
       "      <td>0.121023</td>\n",
       "      <td>0.199370</td>\n",
       "      <td>0.521474</td>\n",
       "      <td>1.968798</td>\n",
       "      <td>50.0</td>\n",
       "      <td>0.003367</td>\n",
       "      <td>...</td>\n",
       "      <td>0.003774</td>\n",
       "      <td>0.007640</td>\n",
       "      <td>50.0</td>\n",
       "      <td>0.007920</td>\n",
       "      <td>0.019324</td>\n",
       "      <td>0.000000e+00</td>\n",
       "      <td>2.426200e-05</td>\n",
       "      <td>3.204777e-04</td>\n",
       "      <td>0.005239</td>\n",
       "      <td>0.087122</td>\n",
       "    </tr>\n",
       "    <tr>\n",
       "      <th>100000000</th>\n",
       "      <td>39.0</td>\n",
       "      <td>24.248946</td>\n",
       "      <td>62.524312</td>\n",
       "      <td>0.064997</td>\n",
       "      <td>0.814956</td>\n",
       "      <td>2.864749</td>\n",
       "      <td>13.158541</td>\n",
       "      <td>336.886346</td>\n",
       "      <td>39.0</td>\n",
       "      <td>0.003592</td>\n",
       "      <td>...</td>\n",
       "      <td>0.003883</td>\n",
       "      <td>0.009090</td>\n",
       "      <td>39.0</td>\n",
       "      <td>0.009350</td>\n",
       "      <td>0.020169</td>\n",
       "      <td>0.000000e+00</td>\n",
       "      <td>2.454457e-05</td>\n",
       "      <td>6.749308e-04</td>\n",
       "      <td>0.006532</td>\n",
       "      <td>0.080640</td>\n",
       "    </tr>\n",
       "    <tr>\n",
       "      <th>10000000000</th>\n",
       "      <td>34.0</td>\n",
       "      <td>38.291434</td>\n",
       "      <td>86.219399</td>\n",
       "      <td>0.096465</td>\n",
       "      <td>0.300990</td>\n",
       "      <td>3.169713</td>\n",
       "      <td>13.500229</td>\n",
       "      <td>298.392450</td>\n",
       "      <td>34.0</td>\n",
       "      <td>0.003421</td>\n",
       "      <td>...</td>\n",
       "      <td>0.003485</td>\n",
       "      <td>0.007809</td>\n",
       "      <td>34.0</td>\n",
       "      <td>0.008897</td>\n",
       "      <td>0.016723</td>\n",
       "      <td>0.000000e+00</td>\n",
       "      <td>2.649630e-09</td>\n",
       "      <td>5.690824e-05</td>\n",
       "      <td>0.006002</td>\n",
       "      <td>0.049977</td>\n",
       "    </tr>\n",
       "    <tr>\n",
       "      <th rowspan=\"3\" valign=\"top\">800</th>\n",
       "      <th>1000000</th>\n",
       "      <td>48.0</td>\n",
       "      <td>0.342344</td>\n",
       "      <td>0.468991</td>\n",
       "      <td>0.044553</td>\n",
       "      <td>0.097801</td>\n",
       "      <td>0.146556</td>\n",
       "      <td>0.305196</td>\n",
       "      <td>2.100675</td>\n",
       "      <td>48.0</td>\n",
       "      <td>0.004178</td>\n",
       "      <td>...</td>\n",
       "      <td>0.004966</td>\n",
       "      <td>0.006519</td>\n",
       "      <td>48.0</td>\n",
       "      <td>0.007043</td>\n",
       "      <td>0.016597</td>\n",
       "      <td>0.000000e+00</td>\n",
       "      <td>1.437000e-05</td>\n",
       "      <td>1.812124e-04</td>\n",
       "      <td>0.001512</td>\n",
       "      <td>0.071230</td>\n",
       "    </tr>\n",
       "    <tr>\n",
       "      <th>100000000</th>\n",
       "      <td>46.0</td>\n",
       "      <td>16.027745</td>\n",
       "      <td>24.508058</td>\n",
       "      <td>0.124607</td>\n",
       "      <td>0.526738</td>\n",
       "      <td>5.841022</td>\n",
       "      <td>20.520860</td>\n",
       "      <td>97.811773</td>\n",
       "      <td>46.0</td>\n",
       "      <td>0.004325</td>\n",
       "      <td>...</td>\n",
       "      <td>0.004915</td>\n",
       "      <td>0.007360</td>\n",
       "      <td>46.0</td>\n",
       "      <td>0.011476</td>\n",
       "      <td>0.023781</td>\n",
       "      <td>0.000000e+00</td>\n",
       "      <td>7.768504e-06</td>\n",
       "      <td>1.987323e-04</td>\n",
       "      <td>0.003089</td>\n",
       "      <td>0.113195</td>\n",
       "    </tr>\n",
       "    <tr>\n",
       "      <th>10000000000</th>\n",
       "      <td>31.0</td>\n",
       "      <td>238.522235</td>\n",
       "      <td>622.223433</td>\n",
       "      <td>0.108661</td>\n",
       "      <td>0.303147</td>\n",
       "      <td>3.002987</td>\n",
       "      <td>50.097932</td>\n",
       "      <td>2553.091676</td>\n",
       "      <td>31.0</td>\n",
       "      <td>0.004952</td>\n",
       "      <td>...</td>\n",
       "      <td>0.005173</td>\n",
       "      <td>0.012114</td>\n",
       "      <td>31.0</td>\n",
       "      <td>0.012852</td>\n",
       "      <td>0.026103</td>\n",
       "      <td>0.000000e+00</td>\n",
       "      <td>5.441158e-10</td>\n",
       "      <td>1.035900e-05</td>\n",
       "      <td>0.003501</td>\n",
       "      <td>0.090456</td>\n",
       "    </tr>\n",
       "  </tbody>\n",
       "</table>\n",
       "<p>15 rows × 24 columns</p>\n",
       "</div>"
      ],
      "text/plain": [
       "                 optimumRuntime                                               \\\n",
       "                          count        mean          std       min       25%   \n",
       "n    c                                                                         \n",
       "1000 1000000               40.0    0.695879     0.871804  0.066365  0.144612   \n",
       "     100000000             43.0   36.674125    91.413375  0.081063  0.347560   \n",
       "     10000000000           39.0  173.635860   703.052507  0.104318  0.390550   \n",
       "1200 1000000               52.0    0.923247     1.334588  0.043045  0.113109   \n",
       "     100000000             37.0   31.684580    67.135760  0.100219  0.802566   \n",
       "     10000000000           30.0  390.303080  1064.718819  0.109388  0.502895   \n",
       "400  1000000               41.0    0.209334     0.190658  0.046808  0.086646   \n",
       "     100000000             31.0    4.673597    10.387513  0.079274  0.194732   \n",
       "     10000000000           32.0   85.628287   159.758827  0.069193  0.156634   \n",
       "600  1000000               50.0    0.394153     0.399047  0.037570  0.121023   \n",
       "     100000000             39.0   24.248946    62.524312  0.064997  0.814956   \n",
       "     10000000000           34.0   38.291434    86.219399  0.096465  0.300990   \n",
       "800  1000000               48.0    0.342344     0.468991  0.044553  0.097801   \n",
       "     100000000             46.0   16.027745    24.508058  0.124607  0.526738   \n",
       "     10000000000           31.0  238.522235   622.223433  0.108661  0.303147   \n",
       "\n",
       "                                                     runtime            ...  \\\n",
       "                        50%         75%          max   count      mean  ...   \n",
       "n    c                                                                  ...   \n",
       "1000 1000000       0.262752    0.911493     3.064962    40.0  0.005108  ...   \n",
       "     100000000     5.313347   17.871624   502.545187    43.0  0.005577  ...   \n",
       "     10000000000   2.864677   42.120280  4247.350154    39.0  0.005117  ...   \n",
       "1200 1000000       0.291056    1.033663     5.382550    52.0  0.005898  ...   \n",
       "     100000000     5.967343   17.986230   321.547525    37.0  0.006455  ...   \n",
       "     10000000000  19.992735  118.397582  4795.614831    30.0  0.005683  ...   \n",
       "400  1000000       0.114838    0.302980     0.966433    41.0  0.002411  ...   \n",
       "     100000000     0.349379    3.141787    54.207020    31.0  0.002520  ...   \n",
       "     10000000000   1.615674   70.223674   655.978393    32.0  0.002497  ...   \n",
       "600  1000000       0.199370    0.521474     1.968798    50.0  0.003367  ...   \n",
       "     100000000     2.864749   13.158541   336.886346    39.0  0.003592  ...   \n",
       "     10000000000   3.169713   13.500229   298.392450    34.0  0.003421  ...   \n",
       "800  1000000       0.146556    0.305196     2.100675    48.0  0.004178  ...   \n",
       "     100000000     5.841022   20.520860    97.811773    46.0  0.004325  ...   \n",
       "     10000000000   3.002987   50.097932  2553.091676    31.0  0.004952  ...   \n",
       "\n",
       "                                     relativeError                      \\\n",
       "                       75%       max         count      mean       std   \n",
       "n    c                                                                   \n",
       "1000 1000000      0.005702  0.009633          40.0  0.007274  0.018743   \n",
       "     100000000    0.006158  0.011637          43.0  0.005022  0.012870   \n",
       "     10000000000  0.006108  0.009185          39.0  0.006437  0.016003   \n",
       "1200 1000000      0.006381  0.013247          52.0  0.009792  0.021350   \n",
       "     100000000    0.007032  0.016675          37.0  0.005213  0.015506   \n",
       "     10000000000  0.006524  0.007949          30.0  0.013352  0.025306   \n",
       "400  1000000      0.002843  0.004869          41.0  0.006108  0.014936   \n",
       "     100000000    0.002936  0.004262          31.0  0.007207  0.016846   \n",
       "     10000000000  0.002896  0.004301          32.0  0.008760  0.017160   \n",
       "600  1000000      0.003774  0.007640          50.0  0.007920  0.019324   \n",
       "     100000000    0.003883  0.009090          39.0  0.009350  0.020169   \n",
       "     10000000000  0.003485  0.007809          34.0  0.008897  0.016723   \n",
       "800  1000000      0.004966  0.006519          48.0  0.007043  0.016597   \n",
       "     100000000    0.004915  0.007360          46.0  0.011476  0.023781   \n",
       "     10000000000  0.005173  0.012114          31.0  0.012852  0.026103   \n",
       "\n",
       "                                                                                \n",
       "                           min           25%           50%       75%       max  \n",
       "n    c                                                                          \n",
       "1000 1000000      0.000000e+00  6.645297e-06  1.023003e-04  0.001093  0.090395  \n",
       "     100000000    0.000000e+00  1.199033e-07  3.533170e-05  0.001185  0.049903  \n",
       "     10000000000  0.000000e+00  4.499952e-10  8.876276e-07  0.003806  0.077883  \n",
       "1200 1000000      0.000000e+00  9.802585e-06  1.940046e-04  0.005059  0.082793  \n",
       "     100000000    0.000000e+00  3.942380e-06  3.877783e-05  0.000797  0.075460  \n",
       "     10000000000  0.000000e+00  8.494796e-10  6.702676e-05  0.007205  0.079591  \n",
       "400  1000000      0.000000e+00  3.758056e-05  2.006068e-04  0.001614  0.074788  \n",
       "     100000000    1.999355e-08  2.496867e-07  3.282760e-05  0.005172  0.070298  \n",
       "     10000000000  0.000000e+00  5.961593e-10  1.531278e-05  0.006002  0.063112  \n",
       "600  1000000      0.000000e+00  2.426200e-05  3.204777e-04  0.005239  0.087122  \n",
       "     100000000    0.000000e+00  2.454457e-05  6.749308e-04  0.006532  0.080640  \n",
       "     10000000000  0.000000e+00  2.649630e-09  5.690824e-05  0.006002  0.049977  \n",
       "800  1000000      0.000000e+00  1.437000e-05  1.812124e-04  0.001512  0.071230  \n",
       "     100000000    0.000000e+00  7.768504e-06  1.987323e-04  0.003089  0.113195  \n",
       "     10000000000  0.000000e+00  5.441158e-10  1.035900e-05  0.003501  0.090456  \n",
       "\n",
       "[15 rows x 24 columns]"
      ]
     },
     "execution_count": 67,
     "metadata": {},
     "output_type": "execute_result"
    }
   ],
   "source": [
    "testStats = testSummary[(testSummary.optimumFO != -1) & (testSummary.bestFO >= 0)].drop(['instanceName', 'optimumFO', 'bestFO'], axis = 1).groupby(['n','c']).describe()\n",
    "testStats"
   ]
  },
  {
   "cell_type": "markdown",
   "metadata": {},
   "source": [
    "Next, we focus on those instances without optimum solutions and those instances for which the best solution was unfeasible."
   ]
  },
  {
   "cell_type": "code",
   "execution_count": 72,
   "metadata": {},
   "outputs": [
    {
     "data": {
      "text/html": [
       "<div>\n",
       "<style scoped>\n",
       "    .dataframe tbody tr th:only-of-type {\n",
       "        vertical-align: middle;\n",
       "    }\n",
       "\n",
       "    .dataframe tbody tr th {\n",
       "        vertical-align: top;\n",
       "    }\n",
       "\n",
       "    .dataframe thead th {\n",
       "        text-align: right;\n",
       "    }\n",
       "</style>\n",
       "<table border=\"1\" class=\"dataframe\">\n",
       "  <thead>\n",
       "    <tr style=\"text-align: right;\">\n",
       "      <th></th>\n",
       "      <th>instanceName</th>\n",
       "      <th>optimumFO</th>\n",
       "      <th>bestFO</th>\n",
       "      <th>optimumRuntime</th>\n",
       "      <th>runtime</th>\n",
       "      <th>relativeError</th>\n",
       "      <th>n</th>\n",
       "      <th>c</th>\n",
       "    </tr>\n",
       "  </thead>\n",
       "  <tbody>\n",
       "    <tr>\n",
       "      <th>27</th>\n",
       "      <td>n_600_c_10000000000_g_10_f_0.1_eps_1e-05_s_300</td>\n",
       "      <td>-1</td>\n",
       "      <td>9990699560</td>\n",
       "      <td>-1.000000</td>\n",
       "      <td>0.003270</td>\n",
       "      <td>9.990700e+09</td>\n",
       "      <td>600</td>\n",
       "      <td>10000000000</td>\n",
       "    </tr>\n",
       "    <tr>\n",
       "      <th>37</th>\n",
       "      <td>n_1000_c_10000000000_g_14_f_0.2_eps_0_s_300</td>\n",
       "      <td>-1</td>\n",
       "      <td>9998858493</td>\n",
       "      <td>-1.000000</td>\n",
       "      <td>0.005951</td>\n",
       "      <td>9.998858e+09</td>\n",
       "      <td>1000</td>\n",
       "      <td>10000000000</td>\n",
       "    </tr>\n",
       "    <tr>\n",
       "      <th>38</th>\n",
       "      <td>n_1200_c_10000000000_g_10_f_0.2_eps_0.0001_s_200</td>\n",
       "      <td>-1</td>\n",
       "      <td>9989496758</td>\n",
       "      <td>-1.000000</td>\n",
       "      <td>0.006778</td>\n",
       "      <td>9.989497e+09</td>\n",
       "      <td>1200</td>\n",
       "      <td>10000000000</td>\n",
       "    </tr>\n",
       "    <tr>\n",
       "      <th>40</th>\n",
       "      <td>n_1000_c_10000000000_g_14_f_0.2_eps_0.01_s_100</td>\n",
       "      <td>-1</td>\n",
       "      <td>9963834530</td>\n",
       "      <td>-1.000000</td>\n",
       "      <td>0.005264</td>\n",
       "      <td>9.963835e+09</td>\n",
       "      <td>1000</td>\n",
       "      <td>10000000000</td>\n",
       "    </tr>\n",
       "    <tr>\n",
       "      <th>46</th>\n",
       "      <td>n_800_c_10000000000_g_14_f_0.1_eps_0_s_200</td>\n",
       "      <td>-1</td>\n",
       "      <td>9998817315</td>\n",
       "      <td>-1.000000</td>\n",
       "      <td>0.006535</td>\n",
       "      <td>9.998817e+09</td>\n",
       "      <td>800</td>\n",
       "      <td>10000000000</td>\n",
       "    </tr>\n",
       "    <tr>\n",
       "      <th>61</th>\n",
       "      <td>n_800_c_10000000000_g_14_f_0.2_eps_0.0001_s_100</td>\n",
       "      <td>-1</td>\n",
       "      <td>9999722605</td>\n",
       "      <td>-1.000000</td>\n",
       "      <td>0.005403</td>\n",
       "      <td>9.999723e+09</td>\n",
       "      <td>800</td>\n",
       "      <td>10000000000</td>\n",
       "    </tr>\n",
       "    <tr>\n",
       "      <th>78</th>\n",
       "      <td>n_1000_c_10000000000_g_14_f_0.1_eps_0.01_s_200</td>\n",
       "      <td>-1</td>\n",
       "      <td>9944310866</td>\n",
       "      <td>-1.000000</td>\n",
       "      <td>0.004140</td>\n",
       "      <td>9.944311e+09</td>\n",
       "      <td>1000</td>\n",
       "      <td>10000000000</td>\n",
       "    </tr>\n",
       "    <tr>\n",
       "      <th>81</th>\n",
       "      <td>n_800_c_10000000000_g_10_f_0.3_eps_1e-05_s_200</td>\n",
       "      <td>-1</td>\n",
       "      <td>9991909164</td>\n",
       "      <td>-1.000000</td>\n",
       "      <td>0.004931</td>\n",
       "      <td>9.991909e+09</td>\n",
       "      <td>800</td>\n",
       "      <td>10000000000</td>\n",
       "    </tr>\n",
       "    <tr>\n",
       "      <th>106</th>\n",
       "      <td>n_400_c_10000000000_g_14_f_0.1_eps_0.01_s_300</td>\n",
       "      <td>-1</td>\n",
       "      <td>9934299105</td>\n",
       "      <td>-1.000000</td>\n",
       "      <td>0.002855</td>\n",
       "      <td>9.934299e+09</td>\n",
       "      <td>400</td>\n",
       "      <td>10000000000</td>\n",
       "    </tr>\n",
       "    <tr>\n",
       "      <th>113</th>\n",
       "      <td>n_1000_c_100000000_g_10_f_0.2_eps_0.01_s_100</td>\n",
       "      <td>100005870</td>\n",
       "      <td>-8050496004398263343</td>\n",
       "      <td>250.187495</td>\n",
       "      <td>0.007927</td>\n",
       "      <td>8.050023e+10</td>\n",
       "      <td>1000</td>\n",
       "      <td>100000000</td>\n",
       "    </tr>\n",
       "    <tr>\n",
       "      <th>117</th>\n",
       "      <td>n_1200_c_10000000000_g_10_f_0.2_eps_1e-05_s_200</td>\n",
       "      <td>-1</td>\n",
       "      <td>9996014305</td>\n",
       "      <td>-1.000000</td>\n",
       "      <td>0.009624</td>\n",
       "      <td>9.996014e+09</td>\n",
       "      <td>1200</td>\n",
       "      <td>10000000000</td>\n",
       "    </tr>\n",
       "    <tr>\n",
       "      <th>123</th>\n",
       "      <td>n_1000_c_10000000000_g_14_f_0.3_eps_0.01_s_100</td>\n",
       "      <td>-1</td>\n",
       "      <td>9953141725</td>\n",
       "      <td>-1.000000</td>\n",
       "      <td>0.004345</td>\n",
       "      <td>9.953142e+09</td>\n",
       "      <td>1000</td>\n",
       "      <td>10000000000</td>\n",
       "    </tr>\n",
       "    <tr>\n",
       "      <th>141</th>\n",
       "      <td>n_600_c_10000000000_g_14_f_0.1_eps_0.01_s_200</td>\n",
       "      <td>-1</td>\n",
       "      <td>9919795158</td>\n",
       "      <td>-1.000000</td>\n",
       "      <td>0.003150</td>\n",
       "      <td>9.919795e+09</td>\n",
       "      <td>600</td>\n",
       "      <td>10000000000</td>\n",
       "    </tr>\n",
       "    <tr>\n",
       "      <th>159</th>\n",
       "      <td>n_1000_c_10000000000_g_14_f_0.3_eps_0_s_200</td>\n",
       "      <td>-1</td>\n",
       "      <td>9998839532</td>\n",
       "      <td>-1.000000</td>\n",
       "      <td>0.007175</td>\n",
       "      <td>9.998840e+09</td>\n",
       "      <td>1000</td>\n",
       "      <td>10000000000</td>\n",
       "    </tr>\n",
       "    <tr>\n",
       "      <th>163</th>\n",
       "      <td>n_600_c_10000000000_g_14_f_0.2_eps_0.01_s_200</td>\n",
       "      <td>-1</td>\n",
       "      <td>9953248751</td>\n",
       "      <td>-1.000000</td>\n",
       "      <td>0.002309</td>\n",
       "      <td>9.953249e+09</td>\n",
       "      <td>600</td>\n",
       "      <td>10000000000</td>\n",
       "    </tr>\n",
       "    <tr>\n",
       "      <th>190</th>\n",
       "      <td>n_600_c_10000000000_g_14_f_0.1_eps_1e-05_s_200</td>\n",
       "      <td>-1</td>\n",
       "      <td>9999320399</td>\n",
       "      <td>-1.000000</td>\n",
       "      <td>0.004046</td>\n",
       "      <td>9.999320e+09</td>\n",
       "      <td>600</td>\n",
       "      <td>10000000000</td>\n",
       "    </tr>\n",
       "    <tr>\n",
       "      <th>197</th>\n",
       "      <td>n_1200_c_10000000000_g_14_f_0.2_eps_0_s_100</td>\n",
       "      <td>-1</td>\n",
       "      <td>9998792998</td>\n",
       "      <td>-1.000000</td>\n",
       "      <td>0.008013</td>\n",
       "      <td>9.998793e+09</td>\n",
       "      <td>1200</td>\n",
       "      <td>10000000000</td>\n",
       "    </tr>\n",
       "    <tr>\n",
       "      <th>203</th>\n",
       "      <td>n_1000_c_10000000000_g_14_f_0.1_eps_0.001_s_200</td>\n",
       "      <td>-1</td>\n",
       "      <td>9991693569</td>\n",
       "      <td>-1.000000</td>\n",
       "      <td>0.004627</td>\n",
       "      <td>9.991694e+09</td>\n",
       "      <td>1000</td>\n",
       "      <td>10000000000</td>\n",
       "    </tr>\n",
       "    <tr>\n",
       "      <th>215</th>\n",
       "      <td>n_400_c_1000000_g_10_f_0.1_eps_0.0001_s_200</td>\n",
       "      <td>1008438</td>\n",
       "      <td>-810479210108482</td>\n",
       "      <td>0.105453</td>\n",
       "      <td>0.005450</td>\n",
       "      <td>8.036976e+08</td>\n",
       "      <td>400</td>\n",
       "      <td>1000000</td>\n",
       "    </tr>\n",
       "    <tr>\n",
       "      <th>216</th>\n",
       "      <td>n_800_c_10000000000_g_14_f_0.3_eps_0.01_s_300</td>\n",
       "      <td>-1</td>\n",
       "      <td>9929152621</td>\n",
       "      <td>-1.000000</td>\n",
       "      <td>0.005917</td>\n",
       "      <td>9.929153e+09</td>\n",
       "      <td>800</td>\n",
       "      <td>10000000000</td>\n",
       "    </tr>\n",
       "    <tr>\n",
       "      <th>227</th>\n",
       "      <td>n_400_c_10000000000_g_14_f_0.2_eps_0.01_s_100</td>\n",
       "      <td>-1</td>\n",
       "      <td>9947274846</td>\n",
       "      <td>-1.000000</td>\n",
       "      <td>0.004120</td>\n",
       "      <td>9.947275e+09</td>\n",
       "      <td>400</td>\n",
       "      <td>10000000000</td>\n",
       "    </tr>\n",
       "    <tr>\n",
       "      <th>232</th>\n",
       "      <td>n_1000_c_10000000000_g_14_f_0.2_eps_0.01_s_200</td>\n",
       "      <td>-1</td>\n",
       "      <td>9953146833</td>\n",
       "      <td>-1.000000</td>\n",
       "      <td>0.004537</td>\n",
       "      <td>9.953147e+09</td>\n",
       "      <td>1000</td>\n",
       "      <td>10000000000</td>\n",
       "    </tr>\n",
       "    <tr>\n",
       "      <th>263</th>\n",
       "      <td>n_1000_c_10000000000_g_14_f_0.1_eps_0_s_300</td>\n",
       "      <td>-1</td>\n",
       "      <td>9998847365</td>\n",
       "      <td>-1.000000</td>\n",
       "      <td>0.006637</td>\n",
       "      <td>9.998847e+09</td>\n",
       "      <td>1000</td>\n",
       "      <td>10000000000</td>\n",
       "    </tr>\n",
       "    <tr>\n",
       "      <th>271</th>\n",
       "      <td>n_800_c_10000000000_g_14_f_0.1_eps_0_s_300</td>\n",
       "      <td>-1</td>\n",
       "      <td>9998834151</td>\n",
       "      <td>-1.000000</td>\n",
       "      <td>0.005665</td>\n",
       "      <td>9.998834e+09</td>\n",
       "      <td>800</td>\n",
       "      <td>10000000000</td>\n",
       "    </tr>\n",
       "    <tr>\n",
       "      <th>300</th>\n",
       "      <td>n_1200_c_10000000000_g_14_f_0.2_eps_0.0001_s_100</td>\n",
       "      <td>-1</td>\n",
       "      <td>9998806500</td>\n",
       "      <td>-1.000000</td>\n",
       "      <td>0.011754</td>\n",
       "      <td>9.998807e+09</td>\n",
       "      <td>1200</td>\n",
       "      <td>10000000000</td>\n",
       "    </tr>\n",
       "    <tr>\n",
       "      <th>317</th>\n",
       "      <td>n_1000_c_10000000000_g_14_f_0.1_eps_0.01_s_100</td>\n",
       "      <td>-1</td>\n",
       "      <td>9953130253</td>\n",
       "      <td>-1.000000</td>\n",
       "      <td>0.005546</td>\n",
       "      <td>9.953130e+09</td>\n",
       "      <td>1000</td>\n",
       "      <td>10000000000</td>\n",
       "    </tr>\n",
       "    <tr>\n",
       "      <th>321</th>\n",
       "      <td>n_1200_c_10000000000_g_14_f_0.3_eps_0.0001_s_100</td>\n",
       "      <td>-1</td>\n",
       "      <td>9999453234</td>\n",
       "      <td>-1.000000</td>\n",
       "      <td>0.007302</td>\n",
       "      <td>9.999453e+09</td>\n",
       "      <td>1200</td>\n",
       "      <td>10000000000</td>\n",
       "    </tr>\n",
       "    <tr>\n",
       "      <th>325</th>\n",
       "      <td>n_1000_c_10000000000_g_10_f_0.1_eps_0.0001_s_200</td>\n",
       "      <td>-1</td>\n",
       "      <td>9996782102</td>\n",
       "      <td>-1.000000</td>\n",
       "      <td>0.006714</td>\n",
       "      <td>9.996782e+09</td>\n",
       "      <td>1000</td>\n",
       "      <td>10000000000</td>\n",
       "    </tr>\n",
       "    <tr>\n",
       "      <th>338</th>\n",
       "      <td>n_1200_c_10000000000_g_14_f_0.3_eps_1e-05_s_300</td>\n",
       "      <td>-1</td>\n",
       "      <td>9999573076</td>\n",
       "      <td>-1.000000</td>\n",
       "      <td>0.008510</td>\n",
       "      <td>9.999573e+09</td>\n",
       "      <td>1200</td>\n",
       "      <td>10000000000</td>\n",
       "    </tr>\n",
       "    <tr>\n",
       "      <th>340</th>\n",
       "      <td>n_1000_c_10000000000_g_14_f_0.1_eps_0.01_s_300</td>\n",
       "      <td>-1</td>\n",
       "      <td>9969859560</td>\n",
       "      <td>-1.000000</td>\n",
       "      <td>0.007656</td>\n",
       "      <td>9.969860e+09</td>\n",
       "      <td>1000</td>\n",
       "      <td>10000000000</td>\n",
       "    </tr>\n",
       "    <tr>\n",
       "      <th>355</th>\n",
       "      <td>n_400_c_10000000000_g_14_f_0.3_eps_1e-05_s_200</td>\n",
       "      <td>-1</td>\n",
       "      <td>9998939680</td>\n",
       "      <td>-1.000000</td>\n",
       "      <td>0.004299</td>\n",
       "      <td>9.998940e+09</td>\n",
       "      <td>400</td>\n",
       "      <td>10000000000</td>\n",
       "    </tr>\n",
       "    <tr>\n",
       "      <th>370</th>\n",
       "      <td>n_1200_c_10000000000_g_10_f_0.3_eps_0.0001_s_300</td>\n",
       "      <td>-1</td>\n",
       "      <td>9996837153</td>\n",
       "      <td>-1.000000</td>\n",
       "      <td>0.005617</td>\n",
       "      <td>9.996837e+09</td>\n",
       "      <td>1200</td>\n",
       "      <td>10000000000</td>\n",
       "    </tr>\n",
       "    <tr>\n",
       "      <th>383</th>\n",
       "      <td>n_1000_c_10000000000_g_14_f_0.1_eps_1e-05_s_200</td>\n",
       "      <td>-1</td>\n",
       "      <td>9999589372</td>\n",
       "      <td>-1.000000</td>\n",
       "      <td>0.004461</td>\n",
       "      <td>9.999589e+09</td>\n",
       "      <td>1000</td>\n",
       "      <td>10000000000</td>\n",
       "    </tr>\n",
       "    <tr>\n",
       "      <th>384</th>\n",
       "      <td>n_1200_c_10000000000_g_14_f_0.1_eps_0.001_s_200</td>\n",
       "      <td>-1</td>\n",
       "      <td>9999992046</td>\n",
       "      <td>-1.000000</td>\n",
       "      <td>0.008752</td>\n",
       "      <td>9.999992e+09</td>\n",
       "      <td>1200</td>\n",
       "      <td>10000000000</td>\n",
       "    </tr>\n",
       "    <tr>\n",
       "      <th>401</th>\n",
       "      <td>n_600_c_10000000000_g_14_f_0.3_eps_0.01_s_300</td>\n",
       "      <td>-1</td>\n",
       "      <td>9947263541</td>\n",
       "      <td>-1.000000</td>\n",
       "      <td>0.004408</td>\n",
       "      <td>9.947264e+09</td>\n",
       "      <td>600</td>\n",
       "      <td>10000000000</td>\n",
       "    </tr>\n",
       "    <tr>\n",
       "      <th>410</th>\n",
       "      <td>n_800_c_10000000000_g_14_f_0.1_eps_0.0001_s_300</td>\n",
       "      <td>-1</td>\n",
       "      <td>9998739554</td>\n",
       "      <td>-1.000000</td>\n",
       "      <td>0.003325</td>\n",
       "      <td>9.998740e+09</td>\n",
       "      <td>800</td>\n",
       "      <td>10000000000</td>\n",
       "    </tr>\n",
       "    <tr>\n",
       "      <th>433</th>\n",
       "      <td>n_600_c_10000000000_g_14_f_0.1_eps_1e-05_s_300</td>\n",
       "      <td>-1</td>\n",
       "      <td>9999654306</td>\n",
       "      <td>-1.000000</td>\n",
       "      <td>0.003550</td>\n",
       "      <td>9.999654e+09</td>\n",
       "      <td>600</td>\n",
       "      <td>10000000000</td>\n",
       "    </tr>\n",
       "    <tr>\n",
       "      <th>441</th>\n",
       "      <td>n_600_c_10000000000_g_14_f_0.1_eps_0_s_100</td>\n",
       "      <td>-1</td>\n",
       "      <td>9998794742</td>\n",
       "      <td>-1.000000</td>\n",
       "      <td>0.003819</td>\n",
       "      <td>9.998795e+09</td>\n",
       "      <td>600</td>\n",
       "      <td>10000000000</td>\n",
       "    </tr>\n",
       "    <tr>\n",
       "      <th>444</th>\n",
       "      <td>n_600_c_10000000000_g_14_f_0.2_eps_0.01_s_100</td>\n",
       "      <td>-1</td>\n",
       "      <td>9980578635</td>\n",
       "      <td>-1.000000</td>\n",
       "      <td>0.002497</td>\n",
       "      <td>9.980579e+09</td>\n",
       "      <td>600</td>\n",
       "      <td>10000000000</td>\n",
       "    </tr>\n",
       "    <tr>\n",
       "      <th>447</th>\n",
       "      <td>n_1200_c_100000000_g_14_f_0.2_eps_0.0001_s_300</td>\n",
       "      <td>100044366</td>\n",
       "      <td>-3912257588364671116</td>\n",
       "      <td>0.077207</td>\n",
       "      <td>0.009341</td>\n",
       "      <td>3.910523e+10</td>\n",
       "      <td>1200</td>\n",
       "      <td>100000000</td>\n",
       "    </tr>\n",
       "    <tr>\n",
       "      <th>461</th>\n",
       "      <td>n_1200_c_10000000000_g_14_f_0.1_eps_1e-05_s_200</td>\n",
       "      <td>-1</td>\n",
       "      <td>9999554976</td>\n",
       "      <td>-1.000000</td>\n",
       "      <td>0.005009</td>\n",
       "      <td>9.999555e+09</td>\n",
       "      <td>1200</td>\n",
       "      <td>10000000000</td>\n",
       "    </tr>\n",
       "    <tr>\n",
       "      <th>467</th>\n",
       "      <td>n_1200_c_10000000000_g_10_f_0.2_eps_1e-05_s_100</td>\n",
       "      <td>-1</td>\n",
       "      <td>9996092108</td>\n",
       "      <td>-1.000000</td>\n",
       "      <td>0.006059</td>\n",
       "      <td>9.996092e+09</td>\n",
       "      <td>1200</td>\n",
       "      <td>10000000000</td>\n",
       "    </tr>\n",
       "    <tr>\n",
       "      <th>468</th>\n",
       "      <td>n_800_c_10000000000_g_14_f_0.3_eps_0.0001_s_100</td>\n",
       "      <td>-1</td>\n",
       "      <td>9999345757</td>\n",
       "      <td>-1.000000</td>\n",
       "      <td>0.004929</td>\n",
       "      <td>9.999346e+09</td>\n",
       "      <td>800</td>\n",
       "      <td>10000000000</td>\n",
       "    </tr>\n",
       "    <tr>\n",
       "      <th>470</th>\n",
       "      <td>n_800_c_10000000000_g_14_f_0.1_eps_0_s_100</td>\n",
       "      <td>-1</td>\n",
       "      <td>9998797819</td>\n",
       "      <td>-1.000000</td>\n",
       "      <td>0.005449</td>\n",
       "      <td>9.998798e+09</td>\n",
       "      <td>800</td>\n",
       "      <td>10000000000</td>\n",
       "    </tr>\n",
       "    <tr>\n",
       "      <th>482</th>\n",
       "      <td>n_1200_c_10000000000_g_14_f_0.1_eps_0.001_s_300</td>\n",
       "      <td>-1</td>\n",
       "      <td>9998940055</td>\n",
       "      <td>-1.000000</td>\n",
       "      <td>0.004205</td>\n",
       "      <td>9.998940e+09</td>\n",
       "      <td>1200</td>\n",
       "      <td>10000000000</td>\n",
       "    </tr>\n",
       "    <tr>\n",
       "      <th>494</th>\n",
       "      <td>n_800_c_10000000000_g_14_f_0.1_eps_1e-05_s_100</td>\n",
       "      <td>-1</td>\n",
       "      <td>9999925874</td>\n",
       "      <td>-1.000000</td>\n",
       "      <td>0.004037</td>\n",
       "      <td>9.999926e+09</td>\n",
       "      <td>800</td>\n",
       "      <td>10000000000</td>\n",
       "    </tr>\n",
       "    <tr>\n",
       "      <th>502</th>\n",
       "      <td>n_1200_c_10000000000_g_14_f_0.3_eps_0_s_200</td>\n",
       "      <td>-1</td>\n",
       "      <td>9998853637</td>\n",
       "      <td>-1.000000</td>\n",
       "      <td>0.009279</td>\n",
       "      <td>9.998854e+09</td>\n",
       "      <td>1200</td>\n",
       "      <td>10000000000</td>\n",
       "    </tr>\n",
       "    <tr>\n",
       "      <th>525</th>\n",
       "      <td>n_1200_c_10000000000_g_14_f_0.3_eps_0.01_s_100</td>\n",
       "      <td>-1</td>\n",
       "      <td>9926734648</td>\n",
       "      <td>-1.000000</td>\n",
       "      <td>0.006228</td>\n",
       "      <td>9.926735e+09</td>\n",
       "      <td>1200</td>\n",
       "      <td>10000000000</td>\n",
       "    </tr>\n",
       "    <tr>\n",
       "      <th>558</th>\n",
       "      <td>n_600_c_10000000000_g_14_f_0.3_eps_0.01_s_100</td>\n",
       "      <td>-1</td>\n",
       "      <td>9919154826</td>\n",
       "      <td>-1.000000</td>\n",
       "      <td>0.006045</td>\n",
       "      <td>9.919155e+09</td>\n",
       "      <td>600</td>\n",
       "      <td>10000000000</td>\n",
       "    </tr>\n",
       "    <tr>\n",
       "      <th>561</th>\n",
       "      <td>n_800_c_10000000000_g_10_f_0.3_eps_1e-05_s_100</td>\n",
       "      <td>-1</td>\n",
       "      <td>9991889142</td>\n",
       "      <td>-1.000000</td>\n",
       "      <td>0.004576</td>\n",
       "      <td>9.991889e+09</td>\n",
       "      <td>800</td>\n",
       "      <td>10000000000</td>\n",
       "    </tr>\n",
       "    <tr>\n",
       "      <th>563</th>\n",
       "      <td>n_600_c_10000000000_g_14_f_0.2_eps_0_s_200</td>\n",
       "      <td>-1</td>\n",
       "      <td>9998813745</td>\n",
       "      <td>-1.000000</td>\n",
       "      <td>0.003385</td>\n",
       "      <td>9.998814e+09</td>\n",
       "      <td>600</td>\n",
       "      <td>10000000000</td>\n",
       "    </tr>\n",
       "    <tr>\n",
       "      <th>585</th>\n",
       "      <td>n_1200_c_10000000000_g_14_f_0.1_eps_0_s_200</td>\n",
       "      <td>-1</td>\n",
       "      <td>9998829187</td>\n",
       "      <td>-1.000000</td>\n",
       "      <td>0.007078</td>\n",
       "      <td>9.998829e+09</td>\n",
       "      <td>1200</td>\n",
       "      <td>10000000000</td>\n",
       "    </tr>\n",
       "    <tr>\n",
       "      <th>600</th>\n",
       "      <td>n_400_c_10000000000_g_10_f_0.1_eps_1e-05_s_200</td>\n",
       "      <td>-1</td>\n",
       "      <td>9988885540</td>\n",
       "      <td>-1.000000</td>\n",
       "      <td>0.002546</td>\n",
       "      <td>9.988886e+09</td>\n",
       "      <td>400</td>\n",
       "      <td>10000000000</td>\n",
       "    </tr>\n",
       "    <tr>\n",
       "      <th>612</th>\n",
       "      <td>n_1000_c_10000000000_g_14_f_0.1_eps_0.0001_s_300</td>\n",
       "      <td>-1</td>\n",
       "      <td>9999719718</td>\n",
       "      <td>-1.000000</td>\n",
       "      <td>0.004756</td>\n",
       "      <td>9.999720e+09</td>\n",
       "      <td>1000</td>\n",
       "      <td>10000000000</td>\n",
       "    </tr>\n",
       "    <tr>\n",
       "      <th>635</th>\n",
       "      <td>n_600_c_10000000000_g_14_f_0.2_eps_0.001_s_100</td>\n",
       "      <td>-1</td>\n",
       "      <td>9991276048</td>\n",
       "      <td>-1.000000</td>\n",
       "      <td>0.004495</td>\n",
       "      <td>9.991276e+09</td>\n",
       "      <td>600</td>\n",
       "      <td>10000000000</td>\n",
       "    </tr>\n",
       "  </tbody>\n",
       "</table>\n",
       "</div>"
      ],
      "text/plain": [
       "                                         instanceName  optimumFO  \\\n",
       "27     n_600_c_10000000000_g_10_f_0.1_eps_1e-05_s_300         -1   \n",
       "37        n_1000_c_10000000000_g_14_f_0.2_eps_0_s_300         -1   \n",
       "38   n_1200_c_10000000000_g_10_f_0.2_eps_0.0001_s_200         -1   \n",
       "40     n_1000_c_10000000000_g_14_f_0.2_eps_0.01_s_100         -1   \n",
       "46         n_800_c_10000000000_g_14_f_0.1_eps_0_s_200         -1   \n",
       "61    n_800_c_10000000000_g_14_f_0.2_eps_0.0001_s_100         -1   \n",
       "78     n_1000_c_10000000000_g_14_f_0.1_eps_0.01_s_200         -1   \n",
       "81     n_800_c_10000000000_g_10_f_0.3_eps_1e-05_s_200         -1   \n",
       "106     n_400_c_10000000000_g_14_f_0.1_eps_0.01_s_300         -1   \n",
       "113      n_1000_c_100000000_g_10_f_0.2_eps_0.01_s_100  100005870   \n",
       "117   n_1200_c_10000000000_g_10_f_0.2_eps_1e-05_s_200         -1   \n",
       "123    n_1000_c_10000000000_g_14_f_0.3_eps_0.01_s_100         -1   \n",
       "141     n_600_c_10000000000_g_14_f_0.1_eps_0.01_s_200         -1   \n",
       "159       n_1000_c_10000000000_g_14_f_0.3_eps_0_s_200         -1   \n",
       "163     n_600_c_10000000000_g_14_f_0.2_eps_0.01_s_200         -1   \n",
       "190    n_600_c_10000000000_g_14_f_0.1_eps_1e-05_s_200         -1   \n",
       "197       n_1200_c_10000000000_g_14_f_0.2_eps_0_s_100         -1   \n",
       "203   n_1000_c_10000000000_g_14_f_0.1_eps_0.001_s_200         -1   \n",
       "215       n_400_c_1000000_g_10_f_0.1_eps_0.0001_s_200    1008438   \n",
       "216     n_800_c_10000000000_g_14_f_0.3_eps_0.01_s_300         -1   \n",
       "227     n_400_c_10000000000_g_14_f_0.2_eps_0.01_s_100         -1   \n",
       "232    n_1000_c_10000000000_g_14_f_0.2_eps_0.01_s_200         -1   \n",
       "263       n_1000_c_10000000000_g_14_f_0.1_eps_0_s_300         -1   \n",
       "271        n_800_c_10000000000_g_14_f_0.1_eps_0_s_300         -1   \n",
       "300  n_1200_c_10000000000_g_14_f_0.2_eps_0.0001_s_100         -1   \n",
       "317    n_1000_c_10000000000_g_14_f_0.1_eps_0.01_s_100         -1   \n",
       "321  n_1200_c_10000000000_g_14_f_0.3_eps_0.0001_s_100         -1   \n",
       "325  n_1000_c_10000000000_g_10_f_0.1_eps_0.0001_s_200         -1   \n",
       "338   n_1200_c_10000000000_g_14_f_0.3_eps_1e-05_s_300         -1   \n",
       "340    n_1000_c_10000000000_g_14_f_0.1_eps_0.01_s_300         -1   \n",
       "355    n_400_c_10000000000_g_14_f_0.3_eps_1e-05_s_200         -1   \n",
       "370  n_1200_c_10000000000_g_10_f_0.3_eps_0.0001_s_300         -1   \n",
       "383   n_1000_c_10000000000_g_14_f_0.1_eps_1e-05_s_200         -1   \n",
       "384   n_1200_c_10000000000_g_14_f_0.1_eps_0.001_s_200         -1   \n",
       "401     n_600_c_10000000000_g_14_f_0.3_eps_0.01_s_300         -1   \n",
       "410   n_800_c_10000000000_g_14_f_0.1_eps_0.0001_s_300         -1   \n",
       "433    n_600_c_10000000000_g_14_f_0.1_eps_1e-05_s_300         -1   \n",
       "441        n_600_c_10000000000_g_14_f_0.1_eps_0_s_100         -1   \n",
       "444     n_600_c_10000000000_g_14_f_0.2_eps_0.01_s_100         -1   \n",
       "447    n_1200_c_100000000_g_14_f_0.2_eps_0.0001_s_300  100044366   \n",
       "461   n_1200_c_10000000000_g_14_f_0.1_eps_1e-05_s_200         -1   \n",
       "467   n_1200_c_10000000000_g_10_f_0.2_eps_1e-05_s_100         -1   \n",
       "468   n_800_c_10000000000_g_14_f_0.3_eps_0.0001_s_100         -1   \n",
       "470        n_800_c_10000000000_g_14_f_0.1_eps_0_s_100         -1   \n",
       "482   n_1200_c_10000000000_g_14_f_0.1_eps_0.001_s_300         -1   \n",
       "494    n_800_c_10000000000_g_14_f_0.1_eps_1e-05_s_100         -1   \n",
       "502       n_1200_c_10000000000_g_14_f_0.3_eps_0_s_200         -1   \n",
       "525    n_1200_c_10000000000_g_14_f_0.3_eps_0.01_s_100         -1   \n",
       "558     n_600_c_10000000000_g_14_f_0.3_eps_0.01_s_100         -1   \n",
       "561    n_800_c_10000000000_g_10_f_0.3_eps_1e-05_s_100         -1   \n",
       "563        n_600_c_10000000000_g_14_f_0.2_eps_0_s_200         -1   \n",
       "585       n_1200_c_10000000000_g_14_f_0.1_eps_0_s_200         -1   \n",
       "600    n_400_c_10000000000_g_10_f_0.1_eps_1e-05_s_200         -1   \n",
       "612  n_1000_c_10000000000_g_14_f_0.1_eps_0.0001_s_300         -1   \n",
       "635    n_600_c_10000000000_g_14_f_0.2_eps_0.001_s_100         -1   \n",
       "\n",
       "                  bestFO  optimumRuntime   runtime  relativeError     n  \\\n",
       "27            9990699560       -1.000000  0.003270   9.990700e+09   600   \n",
       "37            9998858493       -1.000000  0.005951   9.998858e+09  1000   \n",
       "38            9989496758       -1.000000  0.006778   9.989497e+09  1200   \n",
       "40            9963834530       -1.000000  0.005264   9.963835e+09  1000   \n",
       "46            9998817315       -1.000000  0.006535   9.998817e+09   800   \n",
       "61            9999722605       -1.000000  0.005403   9.999723e+09   800   \n",
       "78            9944310866       -1.000000  0.004140   9.944311e+09  1000   \n",
       "81            9991909164       -1.000000  0.004931   9.991909e+09   800   \n",
       "106           9934299105       -1.000000  0.002855   9.934299e+09   400   \n",
       "113 -8050496004398263343      250.187495  0.007927   8.050023e+10  1000   \n",
       "117           9996014305       -1.000000  0.009624   9.996014e+09  1200   \n",
       "123           9953141725       -1.000000  0.004345   9.953142e+09  1000   \n",
       "141           9919795158       -1.000000  0.003150   9.919795e+09   600   \n",
       "159           9998839532       -1.000000  0.007175   9.998840e+09  1000   \n",
       "163           9953248751       -1.000000  0.002309   9.953249e+09   600   \n",
       "190           9999320399       -1.000000  0.004046   9.999320e+09   600   \n",
       "197           9998792998       -1.000000  0.008013   9.998793e+09  1200   \n",
       "203           9991693569       -1.000000  0.004627   9.991694e+09  1000   \n",
       "215     -810479210108482        0.105453  0.005450   8.036976e+08   400   \n",
       "216           9929152621       -1.000000  0.005917   9.929153e+09   800   \n",
       "227           9947274846       -1.000000  0.004120   9.947275e+09   400   \n",
       "232           9953146833       -1.000000  0.004537   9.953147e+09  1000   \n",
       "263           9998847365       -1.000000  0.006637   9.998847e+09  1000   \n",
       "271           9998834151       -1.000000  0.005665   9.998834e+09   800   \n",
       "300           9998806500       -1.000000  0.011754   9.998807e+09  1200   \n",
       "317           9953130253       -1.000000  0.005546   9.953130e+09  1000   \n",
       "321           9999453234       -1.000000  0.007302   9.999453e+09  1200   \n",
       "325           9996782102       -1.000000  0.006714   9.996782e+09  1000   \n",
       "338           9999573076       -1.000000  0.008510   9.999573e+09  1200   \n",
       "340           9969859560       -1.000000  0.007656   9.969860e+09  1000   \n",
       "355           9998939680       -1.000000  0.004299   9.998940e+09   400   \n",
       "370           9996837153       -1.000000  0.005617   9.996837e+09  1200   \n",
       "383           9999589372       -1.000000  0.004461   9.999589e+09  1000   \n",
       "384           9999992046       -1.000000  0.008752   9.999992e+09  1200   \n",
       "401           9947263541       -1.000000  0.004408   9.947264e+09   600   \n",
       "410           9998739554       -1.000000  0.003325   9.998740e+09   800   \n",
       "433           9999654306       -1.000000  0.003550   9.999654e+09   600   \n",
       "441           9998794742       -1.000000  0.003819   9.998795e+09   600   \n",
       "444           9980578635       -1.000000  0.002497   9.980579e+09   600   \n",
       "447 -3912257588364671116        0.077207  0.009341   3.910523e+10  1200   \n",
       "461           9999554976       -1.000000  0.005009   9.999555e+09  1200   \n",
       "467           9996092108       -1.000000  0.006059   9.996092e+09  1200   \n",
       "468           9999345757       -1.000000  0.004929   9.999346e+09   800   \n",
       "470           9998797819       -1.000000  0.005449   9.998798e+09   800   \n",
       "482           9998940055       -1.000000  0.004205   9.998940e+09  1200   \n",
       "494           9999925874       -1.000000  0.004037   9.999926e+09   800   \n",
       "502           9998853637       -1.000000  0.009279   9.998854e+09  1200   \n",
       "525           9926734648       -1.000000  0.006228   9.926735e+09  1200   \n",
       "558           9919154826       -1.000000  0.006045   9.919155e+09   600   \n",
       "561           9991889142       -1.000000  0.004576   9.991889e+09   800   \n",
       "563           9998813745       -1.000000  0.003385   9.998814e+09   600   \n",
       "585           9998829187       -1.000000  0.007078   9.998829e+09  1200   \n",
       "600           9988885540       -1.000000  0.002546   9.988886e+09   400   \n",
       "612           9999719718       -1.000000  0.004756   9.999720e+09  1000   \n",
       "635           9991276048       -1.000000  0.004495   9.991276e+09   600   \n",
       "\n",
       "               c  \n",
       "27   10000000000  \n",
       "37   10000000000  \n",
       "38   10000000000  \n",
       "40   10000000000  \n",
       "46   10000000000  \n",
       "61   10000000000  \n",
       "78   10000000000  \n",
       "81   10000000000  \n",
       "106  10000000000  \n",
       "113    100000000  \n",
       "117  10000000000  \n",
       "123  10000000000  \n",
       "141  10000000000  \n",
       "159  10000000000  \n",
       "163  10000000000  \n",
       "190  10000000000  \n",
       "197  10000000000  \n",
       "203  10000000000  \n",
       "215      1000000  \n",
       "216  10000000000  \n",
       "227  10000000000  \n",
       "232  10000000000  \n",
       "263  10000000000  \n",
       "271  10000000000  \n",
       "300  10000000000  \n",
       "317  10000000000  \n",
       "321  10000000000  \n",
       "325  10000000000  \n",
       "338  10000000000  \n",
       "340  10000000000  \n",
       "355  10000000000  \n",
       "370  10000000000  \n",
       "383  10000000000  \n",
       "384  10000000000  \n",
       "401  10000000000  \n",
       "410  10000000000  \n",
       "433  10000000000  \n",
       "441  10000000000  \n",
       "444  10000000000  \n",
       "447    100000000  \n",
       "461  10000000000  \n",
       "467  10000000000  \n",
       "468  10000000000  \n",
       "470  10000000000  \n",
       "482  10000000000  \n",
       "494  10000000000  \n",
       "502  10000000000  \n",
       "525  10000000000  \n",
       "558  10000000000  \n",
       "561  10000000000  \n",
       "563  10000000000  \n",
       "585  10000000000  \n",
       "600  10000000000  \n",
       "612  10000000000  \n",
       "635  10000000000  "
      ]
     },
     "execution_count": 72,
     "metadata": {},
     "output_type": "execute_result"
    }
   ],
   "source": [
    "withoutOptimumOrUnfeasible = testSummary[(testSummary.optimumFO == -1) | (testSummary.bestFO < 0)]\n",
    "withoutOptimumOrUnfeasible"
   ]
  },
  {
   "cell_type": "markdown",
   "metadata": {},
   "source": [
    "# **Visualizations**"
   ]
  },
  {
   "cell_type": "code",
   "execution_count": 126,
   "metadata": {},
   "outputs": [
    {
     "data": {
      "application/vnd.plotly.v1+json": {
       "config": {
        "plotlyServerURL": "https://plot.ly"
       },
       "data": [
        {
         "hovertemplate": "c=100000000<br>runtime(s)=%{x}<br>optimumRuntime(s)=%{y}<extra></extra>",
         "legendgroup": "100000000",
         "marker": {
          "color": "#636efa",
          "symbol": "circle"
         },
         "mode": "markers",
         "name": "100000000",
         "orientation": "v",
         "showlegend": true,
         "type": "scatter",
         "x": [
          0.007487058639526367,
          0.005845308303833008,
          0.0034673213958740234,
          0.0039103031158447266,
          0.0040323734283447266,
          0.006249189376831055,
          0.003633260726928711,
          0.005532026290893555,
          0.008498907089233398,
          0.0043828487396240234,
          0.010390996932983398,
          0.0036394596099853516,
          0.007109403610229492,
          0.005360603332519531,
          0.0032546520233154297,
          0.0022950172424316406,
          0.005388975143432617,
          0.004781961441040039,
          0.004159688949584961,
          0.005862712860107422,
          0.007665872573852539,
          0.008444070816040039,
          0.003836393356323242,
          0.002895355224609375,
          0.011384725570678711,
          0.005410671234130859,
          0.002234935760498047,
          0.004319190979003906,
          0.004384040832519531,
          0.005642414093017578,
          0.007130622863769531,
          0.004279136657714844,
          0.003807544708251953,
          0.004884481430053711,
          0.004403352737426758,
          0.005917787551879883,
          0.0051021575927734375,
          0.006925344467163086,
          0.007927417755126953,
          0.0053882598876953125,
          0.0068399906158447266,
          0.0031023025512695312,
          0.0045816898345947266,
          0.0034646987915039062,
          0.003447294235229492,
          0.004433155059814453,
          0.0064051151275634766,
          0.004257917404174805,
          0.0034418106079101562,
          0.006330728530883789,
          0.0028526782989501953,
          0.003451108932495117,
          0.004697084426879883,
          0.0030303001403808594,
          0.005540609359741211,
          0.004423379898071289,
          0.0037093162536621094,
          0.0038585662841796875,
          0.0030906200408935547,
          0.005077838897705078,
          0.002142190933227539,
          0.0038976669311523438,
          0.0050258636474609375,
          0.002882242202758789,
          0.006063222885131836,
          0.003416299819946289,
          0.004236698150634766,
          0.002768278121948242,
          0.004525661468505859,
          0.002833843231201172,
          0.004820108413696289,
          0.003404855728149414,
          0.004115104675292969,
          0.002841949462890625,
          0.002218961715698242,
          0.005097150802612305,
          0.0022640228271484375,
          0.005800962448120117,
          0.004148960113525391,
          0.0033860206604003906,
          0.002814054489135742,
          0.0062525272369384766,
          0.003584623336791992,
          0.009090185165405273,
          0.0018107891082763672,
          0.0017673969268798828,
          0.0029878616333007812,
          0.004196882247924805,
          0.004381418228149414,
          0.004626035690307617,
          0.002638578414916992,
          0.003608226776123047,
          0.0017406940460205078,
          0.0036220550537109375,
          0.0024843215942382812,
          0.002434968948364258,
          0.002099275588989258,
          0.0035736560821533203,
          0.003984212875366211,
          0.007360219955444336,
          0.0070018768310546875,
          0.002919912338256836,
          0.0039048194885253906,
          0.005775928497314453,
          0.004165172576904297,
          0.011003255844116211,
          0.005560159683227539,
          0.0038089752197265625,
          0.005093812942504883,
          0.004519939422607422,
          0.006367921829223633,
          0.00295257568359375,
          0.0016171932220458984,
          0.004040241241455078,
          0.0035507678985595703,
          0.004076719284057617,
          0.006407499313354492,
          0.004240751266479492,
          0.005484819412231445,
          0.0066869258880615234,
          0.0032858848571777344,
          0.003463268280029297,
          0.003231048583984375,
          0.005327939987182617,
          0.016675233840942383,
          0.003835439682006836,
          0.006025791168212891,
          0.00449061393737793,
          0.004832744598388672,
          0.0027647018432617188,
          0.002368450164794922,
          0.0014729499816894531,
          0.0018703937530517578,
          0.004781007766723633,
          0.005406856536865234,
          0.00475621223449707,
          0.0049419403076171875,
          0.002395153045654297,
          0.00934147834777832,
          0.0042934417724609375,
          0.004389047622680664,
          0.00965428352355957,
          0.0017137527465820312,
          0.0021898746490478516,
          0.002967357635498047,
          0.003591299057006836,
          0.004262447357177734,
          0.0039615631103515625,
          0.007546186447143555,
          0.005048990249633789,
          0.002982616424560547,
          0.0021944046020507812,
          0.005504131317138672,
          0.006188154220581055,
          0.0017168521881103516,
          0.008421897888183594,
          0.006031990051269531,
          0.003797292709350586,
          0.004331827163696289,
          0.0067577362060546875,
          0.003063678741455078,
          0.005589723587036133,
          0.007501363754272461,
          0.005572080612182617,
          0.005252838134765625,
          0.009157657623291016,
          0.00360870361328125,
          0.0041332244873046875,
          0.0055999755859375,
          0.003933906555175781,
          0.004266262054443359,
          0.003290891647338867,
          0.0040094852447509766,
          0.004350900650024414,
          0.00603032112121582,
          0.007031917572021484,
          0.009048700332641602,
          0.006681203842163086,
          0.005547046661376953,
          0.003141164779663086,
          0.0015451908111572266,
          0.0031080245971679688,
          0.0037941932678222656,
          0.003511190414428711,
          0.0025577545166015625,
          0.0023152828216552734,
          0.0021135807037353516,
          0.00552678108215332,
          0.002051115036010742,
          0.00519251823425293,
          0.0025069713592529297,
          0.011636972427368164,
          0.002118825912475586,
          0.004433393478393555,
          0.003907918930053711,
          0.0025055408477783203,
          0.0026826858520507812,
          0.0025169849395751953
         ],
         "xaxis": "x",
         "y": [
          10.250943752005696,
          15.953580680768937,
          0.19677783269435167,
          9.956473984755576,
          6.704408490099013,
          0.4850007351487875,
          0.2390362611040473,
          15.057577877305448,
          104.21477239672095,
          0.21934648603200912,
          6.352160228881985,
          0.1429764563217759,
          0.22886328073218465,
          62.043439249973744,
          1.8924923748709261,
          3.0874566780403256,
          3.739554594270885,
          11.327406268101186,
          174.18244244810194,
          0.38671013806015253,
          16.647351175080985,
          0.4021725249476731,
          8.038120630662888,
          12.5806407132186,
          6.266020344104618,
          0.37171984277665615,
          2.0645489506423473,
          22.69404275296256,
          34.982761771418154,
          5.313346897251904,
          3.988759233150631,
          0.5493323369883001,
          3.150415705051273,
          13.66466274810955,
          0.20611050678417087,
          30.635824392084032,
          21.154670155141503,
          204.65458439989015,
          250.18749458761886,
          1.3522909278981388,
          0.4940618220716715,
          0.49800993083044887,
          17.98622957477346,
          15.621117033064365,
          21.642982479650527,
          16.03232487104833,
          8.764365495648235,
          29.36281260708347,
          0.9422152042388916,
          0.802565798163414,
          0.18437431380152702,
          0.22914357669651508,
          1.2572102318517864,
          2.068617335986346,
          95.91068680491298,
          0.08106294134631753,
          30.47157552698627,
          2.326531887985766,
          25.20393218100071,
          72.1402025767602,
          0.9948398410342634,
          6.106838375795633,
          0.14574087411165237,
          7.669243204873055,
          0.9526478699408472,
          15.06911344313994,
          0.2996317748911679,
          121.54652801388875,
          3.898129689041525,
          0.727737327106297,
          23.301990032196045,
          54.2070202678442,
          70.88164595887065,
          0.22594510484486818,
          0.06499726697802544,
          6.655152247752994,
          14.217146641109139,
          15.380942098796368,
          119.59951850678772,
          0.7821361888200045,
          0.12461469694972038,
          141.82319743232802,
          169.15933044534177,
          5.579087271820754,
          1.8381874477490783,
          0.09133430290967226,
          0.4220574120990932,
          3.1760479281656444,
          8.352965589147061,
          6.8857095330022275,
          3.3658519238233566,
          0.6101934812031686,
          0.2128306906670332,
          5.989956721197814,
          0.7910927413031459,
          0.08174053533002734,
          3.1961166416294873,
          8.136511372867972,
          0.5895686941221356,
          97.81177323916927,
          21.455209794919938,
          0.17378676030784845,
          6.383063456974924,
          58.11763866012916,
          19.710923613980412,
          19.651640902739018,
          0.3346803579479456,
          2.864748672582209,
          284.0590494023636,
          0.11572284996509552,
          0.14528510067611933,
          0.17663248302415013,
          1.9950205199420452,
          43.41200184216723,
          38.57629767106846,
          0.17359266709536314,
          13.17049606796354,
          0.14014248037710786,
          1.4985174708999693,
          0.3148148190230131,
          17.942102392204106,
          0.5192060978151858,
          5.152580800000578,
          0.3142527141608298,
          8.967115146573633,
          28.090726033318788,
          0.2088019591756165,
          10.988220448140055,
          0.12460727384313941,
          1.8993273479864001,
          2.939215203281492,
          0.21310798078775406,
          0.9258490530773997,
          2.43273911671713,
          79.11824563797563,
          1.4428152991458774,
          0.9119494678452611,
          1.6555811990983784,
          0.07720742700621486,
          16.733325138688087,
          13.61978619499132,
          1.1517959758639336,
          18.441363216843456,
          0.09249072801321745,
          0.21919876197353005,
          336.8863461422734,
          0.21488119708374143,
          12.65241983672604,
          6.006824162788689,
          0.1002194401808083,
          0.09993963688611984,
          10.060514274053276,
          33.36638598097488,
          5.245840510819107,
          0.9021751508116722,
          502.54518652008846,
          5.967343281023204,
          0.44755211379379034,
          16.489969572983682,
          4.142017426434904,
          0.18510482367128134,
          2.5627699941396713,
          321.54752454394475,
          21.783371079713106,
          1.4332190211862326,
          0.40759635902941227,
          5.57520494190976,
          9.842999682296067,
          7.191181013826281,
          0.30214001005515456,
          0.4192420351319015,
          10.048427011817694,
          0.176414436660707,
          7.400752227753401,
          82.32136146584526,
          148.68348040198907,
          15.659211930818856,
          0.28824468422681093,
          6.464371818117797,
          2.09832381317392,
          0.13615530310198665,
          0.5426966357044876,
          0.41136015811935067,
          2.5079285940155387,
          0.2605908280238509,
          104.78326371219009,
          0.3493785997852683,
          77.11482283193618,
          0.7516649728640914,
          0.9571245335973799,
          0.2697996720671654,
          0.3234010119922459,
          0.07927412632852793,
          3.832518969196826,
          0.0887315459549427,
          0.09742905711755157,
          0.13041200628504157,
          0.0907535389997065
         ],
         "yaxis": "y"
        },
        {
         "hovertemplate": "c=10000000000<br>runtime(s)=%{x}<br>optimumRuntime(s)=%{y}<extra></extra>",
         "legendgroup": "10000000000",
         "marker": {
          "color": "#EF553B",
          "symbol": "circle"
         },
         "mode": "markers",
         "name": "10000000000",
         "orientation": "v",
         "showlegend": true,
         "type": "scatter",
         "x": [
          0.005242109298706055,
          0.004286766052246094,
          0.007692098617553711,
          0.0023603439331054688,
          0.00520634651184082,
          0.00451970100402832,
          0.0029265880584716797,
          0.004927396774291992,
          0.003269672393798828,
          0.0062329769134521484,
          0.0019922256469726562,
          0.003019094467163086,
          0.005950927734375,
          0.006777763366699219,
          0.0052640438079833984,
          0.00653529167175293,
          0.0025396347045898438,
          0.003561735153198242,
          0.006116628646850586,
          0.005814075469970703,
          0.007949352264404297,
          0.004102230072021484,
          0.00260162353515625,
          0.005402803421020508,
          0.0037255287170410156,
          0.003594636917114258,
          0.005122661590576172,
          0.0038361549377441406,
          0.005097627639770508,
          0.0068416595458984375,
          0.0052487850189208984,
          0.004139900207519531,
          0.004558086395263672,
          0.004931211471557617,
          0.007023334503173828,
          0.002922534942626953,
          0.0030994415283203125,
          0.0043294429779052734,
          0.003096342086791992,
          0.0033309459686279297,
          0.002562284469604492,
          0.002855062484741211,
          0.0051727294921875,
          0.002869844436645508,
          0.0056896209716796875,
          0.006403446197509766,
          0.009624481201171875,
          0.003654956817626953,
          0.004344940185546875,
          0.003290414810180664,
          0.0025801658630371094,
          0.0034971237182617188,
          0.005619525909423828,
          0.004384517669677734,
          0.0031502246856689453,
          0.0029785633087158203,
          0.0047605037689208984,
          0.0029397010803222656,
          0.004954338073730469,
          0.007174968719482422,
          0.0023093223571777344,
          0.002824068069458008,
          0.003742694854736328,
          0.004680633544921875,
          0.003710508346557617,
          0.003774881362915039,
          0.001531839370727539,
          0.004568815231323242,
          0.004046201705932617,
          0.003179788589477539,
          0.0029087066650390625,
          0.0041887760162353516,
          0.006214618682861328,
          0.008013248443603516,
          0.0046274662017822266,
          0.006928443908691406,
          0.001691579818725586,
          0.0032520294189453125,
          0.00591731071472168,
          0.003554821014404297,
          0.0041201114654541016,
          0.00464940071105957,
          0.004536867141723633,
          0.0029726028442382812,
          0.0027709007263183594,
          0.005802154541015625,
          0.0033757686614990234,
          0.004491090774536133,
          0.0020051002502441406,
          0.0046312808990478516,
          0.005152225494384766,
          0.004523277282714844,
          0.006636857986450195,
          0.002733469009399414,
          0.006717205047607422,
          0.0048558712005615234,
          0.005665302276611328,
          0.0052034854888916016,
          0.004511356353759766,
          0.005582094192504883,
          0.0024602413177490234,
          0.0016741752624511719,
          0.0035965442657470703,
          0.005058765411376953,
          0.0032422542572021484,
          0.006629228591918945,
          0.011754035949707031,
          0.0033416748046875,
          0.004828929901123047,
          0.006973981857299805,
          0.0037946701049804688,
          0.006163120269775391,
          0.005673646926879883,
          0.005441904067993164,
          0.005545854568481445,
          0.0025708675384521484,
          0.0073015689849853516,
          0.0067136287689208984,
          0.0059316158294677734,
          0.002102375030517578,
          0.0033082962036132812,
          0.008509635925292969,
          0.0076563358306884766,
          0.0027687549591064453,
          0.002891063690185547,
          0.0013623237609863281,
          0.002669095993041992,
          0.003547191619873047,
          0.004299163818359375,
          0.003025054931640625,
          0.004741191864013672,
          0.0026061534881591797,
          0.0034492015838623047,
          0.0056171417236328125,
          0.00322723388671875,
          0.00286865234375,
          0.0014443397521972656,
          0.0029006004333496094,
          0.0027709007263183594,
          0.0044612884521484375,
          0.00875234603881836,
          0.003170490264892578,
          0.004300832748413086,
          0.004408359527587891,
          0.004850149154663086,
          0.003325223922729492,
          0.002232789993286133,
          0.003448963165283203,
          0.004006385803222656,
          0.006593942642211914,
          0.003549814224243164,
          0.0038192272186279297,
          0.004659175872802734,
          0.002496957778930664,
          0.007196187973022461,
          0.006909370422363281,
          0.0035352706909179688,
          0.0029680728912353516,
          0.00500941276550293,
          0.006174325942993164,
          0.006058931350708008,
          0.004929065704345703,
          0.005449056625366211,
          0.0054492950439453125,
          0.0036933422088623047,
          0.0060999393463134766,
          0.002410888671875,
          0.004204988479614258,
          0.004796504974365234,
          0.004036903381347656,
          0.0025441646575927734,
          0.006415367126464844,
          0.004824638366699219,
          0.009279489517211914,
          0.006941318511962891,
          0.006560564041137695,
          0.006127119064331055,
          0.007809162139892578,
          0.0033113956451416016,
          0.006228446960449219,
          0.004667520523071289,
          0.0027277469635009766,
          0.007585048675537109,
          0.0026979446411132812,
          0.009729623794555664,
          0.009184598922729492,
          0.012113571166992188,
          0.005662441253662109,
          0.006045103073120117,
          0.004575967788696289,
          0.0036954879760742188,
          0.0033845901489257812,
          0.005057573318481445,
          0.0061798095703125,
          0.007078409194946289,
          0.00665283203125,
          0.0019297599792480469,
          0.0037994384765625,
          0.005948066711425781,
          0.004244804382324219,
          0.0025458335876464844,
          0.0019023418426513672,
          0.004755973815917969,
          0.005767107009887695,
          0.004835605621337891,
          0.005139589309692383,
          0.003000974655151367,
          0.003885984420776367,
          0.006175994873046875,
          0.0037393569946289062,
          0.0028879642486572266,
          0.003542661666870117,
          0.004494905471801758,
          0.0019495487213134766,
          0.002920389175415039,
          0.004899263381958008,
          0.002039670944213867,
          0.004107952117919922
         ],
         "xaxis": "x",
         "y": [
          0.35225116601213813,
          0.44796995678916574,
          16.93705302895978,
          0.09983211988583207,
          2553.0916759637184,
          139.30679945275187,
          1.4943785560317338,
          152.9034765358083,
          -1,
          58.64734103390947,
          0.22842097328975797,
          241.1585946911946,
          -1,
          -1,
          -1,
          -1,
          64.93462017783895,
          6.795320624951273,
          31.063353090081364,
          5.202350312843919,
          0.5839080642908812,
          370.4563250243664,
          14.718715986702591,
          -1,
          65.04031651979312,
          254.74065929092467,
          0.2683661300688982,
          0.5097022359259427,
          0.32866474613547325,
          64.25770614575595,
          22.397283270955086,
          -1,
          18.074638792313635,
          -1,
          0.14248190401121974,
          0.08172952616587281,
          1.212743115145713,
          0.3964337180368602,
          5.895856556948274,
          86.09083477361128,
          0.16813954571262002,
          -1,
          0.21123485872521996,
          0.15432574413716793,
          0.18042150558903813,
          0.10938834305852652,
          -1,
          108.50104144774377,
          -1,
          0.10580558609217405,
          0.5686070709489286,
          0.1666747173294425,
          87.48673651693389,
          41.54852226842195,
          -1,
          256.55315634189174,
          1.3858444769866765,
          32.11622695205733,
          35.25688142469153,
          -1,
          -1,
          298.39245005277917,
          5.182098953053355,
          14.123350813053548,
          18.605972743593156,
          1.7701743878424168,
          0.1515546590089798,
          4.323146138340235,
          -1,
          41.27596314623952,
          9.887142600025982,
          0.4379084692336619,
          40.10773792397231,
          -1,
          -1,
          0.3846659706905484,
          29.698444331996143,
          272.1896228850819,
          -1,
          0.1043184669688344,
          -1,
          0.21879069413989782,
          -1,
          1004.1091041327454,
          4.487531454768032,
          35.755884698126465,
          2.5681247268803418,
          0.18205970898270607,
          10.404135080985725,
          216.36401042016223,
          0.4771719560958445,
          2.438382748980075,
          -1,
          0.14234382286667824,
          16.857542123645544,
          1329.320257157553,
          -1,
          0.15704717673361301,
          427.2354017822072,
          0.43290822114795446,
          0.8828217713162303,
          0.08674272429198027,
          2.191051698755473,
          0.26135164126753807,
          0.11985489120706916,
          0.5257353838533163,
          -1,
          0.44097660994157195,
          0.1957529396750033,
          17.58818586403504,
          0.7287186752073467,
          0.9125243085436523,
          267.7132660667412,
          36.410223085898906,
          -1,
          313.4416671139188,
          -1,
          -1,
          140.37506997492164,
          3.7218602672219276,
          0.2967816572636366,
          -1,
          -1,
          383.4489279342815,
          0.09646461019292474,
          0.08414727402850986,
          8.420725150965154,
          10.713490318041295,
          -1,
          1.6194249303080142,
          0.44094403414055705,
          0.08904224215075374,
          0.27762932097539306,
          -1,
          270.7703639212996,
          3.7713004830293357,
          1.2778794490732253,
          17.10169578762725,
          0.0776992947794497,
          -1,
          -1,
          655.978393305093,
          14.778962929267436,
          -1,
          0.5800649891607463,
          -1,
          1.9534678128547966,
          15.193397098220885,
          95.96938460413367,
          0.4718516608700156,
          -1,
          -1,
          0.44853813434019685,
          -1,
          121.6964292502962,
          4795.614830589853,
          0.5472344122827053,
          0.12930234102532268,
          -1,
          25.412020094227046,
          -1,
          -1,
          -1,
          0.12262114090844989,
          2.864677291829139,
          0.13294175127521157,
          0.20075910026207566,
          -1,
          2.9955667331814766,
          -1,
          0.9004837609827518,
          0.32517822785302997,
          668.8804064639844,
          -1,
          1.0390580357052386,
          0.3471751310862601,
          272.81311526801437,
          0.5087142679840326,
          7.615327138919383,
          -1,
          72.4683301569894,
          0.15832653921097517,
          2987.9858412439935,
          0.3136151721701026,
          62.626660290174186,
          30.582245694007725,
          0.10866099083796144,
          51.1177001032047,
          -1,
          -1,
          0.655248595867306,
          -1,
          44.24610245600343,
          240.1643612459302,
          -1,
          0.3810155796818435,
          353.70852021779865,
          0.22422155365347862,
          0.11212220881134272,
          0.15885753324255347,
          -1,
          270.0231650196947,
          -1,
          74.7493383390829,
          73.69889082480222,
          5.1077147531323135,
          1.914775492157787,
          96.95742775220424,
          44.132821574341506,
          3.0029865922406316,
          0.3151924912817776,
          2272.6306178322993,
          -1,
          4.182379944715649,
          0.3421206739731133,
          4247.3501537060365,
          0.06919320812448859,
          2275.8452788731083
         ],
         "yaxis": "y"
        },
        {
         "hovertemplate": "c=1000000<br>runtime(s)=%{x}<br>optimumRuntime(s)=%{y}<extra></extra>",
         "legendgroup": "1000000",
         "marker": {
          "color": "#00cc96",
          "symbol": "circle"
         },
         "mode": "markers",
         "name": "1000000",
         "orientation": "v",
         "showlegend": true,
         "type": "scatter",
         "x": [
          0.005852222442626953,
          0.003113985061645508,
          0.0037636756896972656,
          0.005395174026489258,
          0.0037381649017333984,
          0.005461215972900391,
          0.007645845413208008,
          0.004991292953491211,
          0.005030393600463867,
          0.002228975296020508,
          0.004019737243652344,
          0.004839420318603516,
          0.004506587982177734,
          0.008008956909179688,
          0.0030825138092041016,
          0.006597042083740234,
          0.0034193992614746094,
          0.008971452713012695,
          0.0033843517303466797,
          0.002952098846435547,
          0.009948968887329102,
          0.0037908554077148438,
          0.001775979995727539,
          0.0050923824310302734,
          0.0059392452239990234,
          0.0021212100982666016,
          0.0017685890197753906,
          0.005900144577026367,
          0.003734588623046875,
          0.0029745101928710938,
          0.005980730056762695,
          0.005513906478881836,
          0.005734682083129883,
          0.0058138370513916016,
          0.002832651138305664,
          0.002815723419189453,
          0.0065386295318603516,
          0.005657672882080078,
          0.002623319625854492,
          0.0037107467651367188,
          0.005399942398071289,
          0.004166841506958008,
          0.004277706146240234,
          0.003794431686401367,
          0.004754066467285156,
          0.0019207000732421875,
          0.0059430599212646484,
          0.0034346580505371094,
          0.0037233829498291016,
          0.004868507385253906,
          0.006174564361572266,
          0.0016169548034667969,
          0.004538774490356445,
          0.003261566162109375,
          0.003530740737915039,
          0.0043299198150634766,
          0.004179239273071289,
          0.0025720596313476562,
          0.006200075149536133,
          0.0037109851837158203,
          0.0030145645141601562,
          0.004385471343994141,
          0.003665447235107422,
          0.002268552780151367,
          0.005449533462524414,
          0.005991935729980469,
          0.003939390182495117,
          0.00398564338684082,
          0.0031366348266601562,
          0.005569934844970703,
          0.0019371509552001953,
          0.001672506332397461,
          0.0024547576904296875,
          0.006466865539550781,
          0.003981113433837891,
          0.00741267204284668,
          0.0037250518798828125,
          0.0018036365509033203,
          0.0020189285278320312,
          0.0039560794830322266,
          0.0036766529083251953,
          0.004620075225830078,
          0.0032987594604492188,
          0.0040531158447265625,
          0.00635528564453125,
          0.005391120910644531,
          0.007996559143066406,
          0.0031845569610595703,
          0.003015756607055664,
          0.00536799430847168,
          0.005664825439453125,
          0.0021049976348876953,
          0.004513263702392578,
          0.002204418182373047,
          0.0031669139862060547,
          0.0017998218536376953,
          0.004484415054321289,
          0.005254030227661133,
          0.005109071731567383,
          0.002719879150390625,
          0.009633064270019531,
          0.0024178028106689453,
          0.005649566650390625,
          0.002862215042114258,
          0.003441333770751953,
          0.0037271976470947266,
          0.001810312271118164,
          0.0017502307891845703,
          0.005850553512573242,
          0.0035910606384277344,
          0.004342794418334961,
          0.003935575485229492,
          0.005255222320556641,
          0.003969907760620117,
          0.006300687789916992,
          0.0017442703247070312,
          0.003549337387084961,
          0.0026557445526123047,
          0.006644487380981445,
          0.002913951873779297,
          0.0028998851776123047,
          0.004446268081665039,
          0.00386810302734375,
          0.0050470829010009766,
          0.0016789436340332031,
          0.0017914772033691406,
          0.006108283996582031,
          0.005568981170654297,
          0.005989551544189453,
          0.003511667251586914,
          0.005519866943359375,
          0.0026204586029052734,
          0.004158496856689453,
          0.0028307437896728516,
          0.0022308826446533203,
          0.00433802604675293,
          0.005303144454956055,
          0.0036356449127197266,
          0.001947164535522461,
          0.00241851806640625,
          0.004689693450927734,
          0.005920886993408203,
          0.0018870830535888672,
          0.006193637847900391,
          0.0019459724426269531,
          0.005443096160888672,
          0.0038199424743652344,
          0.0032291412353515625,
          0.003847837448120117,
          0.006856441497802734,
          0.0072290897369384766,
          0.0066318511962890625,
          0.0030879974365234375,
          0.006123542785644531,
          0.0014433860778808594,
          0.0024230480194091797,
          0.0029189586639404297,
          0.0022199153900146484,
          0.005374431610107422,
          0.0022127628326416016,
          0.003948688507080078,
          0.003076314926147461,
          0.006295680999755859,
          0.006294727325439453,
          0.0027675628662109375,
          0.0027163028717041016,
          0.0028076171875,
          0.00478363037109375,
          0.005499362945556641,
          0.003159761428833008,
          0.0048825740814208984,
          0.003571033477783203,
          0.004992008209228516,
          0.00469517707824707,
          0.004361867904663086,
          0.0027718544006347656,
          0.0050313472747802734,
          0.0038280487060546875,
          0.0030167102813720703,
          0.005828380584716797,
          0.003849506378173828,
          0.0049495697021484375,
          0.002862691879272461,
          0.0021178722381591797,
          0.003124713897705078,
          0.0036611557006835938,
          0.002424001693725586,
          0.004490852355957031,
          0.006582736968994141,
          0.0040283203125,
          0.013246536254882812,
          0.004921913146972656,
          0.005498170852661133,
          0.0066297054290771484,
          0.004942417144775391,
          0.0037183761596679688,
          0.002354860305786133,
          0.003882884979248047,
          0.004298210144042969,
          0.006406068801879883,
          0.00638890266418457,
          0.003160238265991211,
          0.003930330276489258,
          0.0035495758056640625,
          0.007688999176025391,
          0.003498554229736328,
          0.0028839111328125,
          0.0018482208251953125,
          0.004938602447509766,
          0.006363868713378906,
          0.0031137466430664062,
          0.003568410873413086,
          0.00301361083984375,
          0.002239227294921875,
          0.003186464309692383,
          0.007640361785888672,
          0.005975961685180664,
          0.003366231918334961,
          0.005832195281982422,
          0.002614736557006836,
          0.004087924957275391,
          0.003718137741088867,
          0.0050160884857177734,
          0.0030133724212646484,
          0.004021406173706055,
          0.0065190792083740234,
          0.0028429031372070312,
          0.004340410232543945,
          0.006431102752685547,
          0.003160238265991211,
          0.002203226089477539,
          0.0037941932678222656
         ],
         "xaxis": "x",
         "y": [
          0.05631064111366868,
          0.8575196648016572,
          0.13227705378085375,
          0.5061839441768825,
          0.08801727369427681,
          0.06352621270343661,
          0.055469742976129055,
          0.387980290222913,
          0.2637671451084316,
          0.17155437590554357,
          0.15134203108027577,
          0.20134203601628542,
          0.14226196613162756,
          0.043044897262007,
          0.07927878201007843,
          0.39111499255523086,
          0.09615497710183263,
          0.09842445608228445,
          0.12780097592622042,
          0.13418804435059428,
          0.29994777915999293,
          0.42639963096007705,
          0.10157435527071357,
          0.2814371599815786,
          0.2745871520601213,
          0.7294923169538379,
          0.0885259653441608,
          2.613796463701874,
          0.0878186128102243,
          0.2904593301936984,
          5.382549976930022,
          0.4215088877826929,
          0.07758407993242145,
          2.2557279630564153,
          0.214589171577245,
          0.1055860766209662,
          0.47747736470773816,
          3.7184886317700148,
          1.2381458301097155,
          0.21051460411399603,
          3.064961994998157,
          1.4021256300620735,
          0.13672223314642906,
          0.3298988677561283,
          0.11079867975786328,
          0.18645498622208834,
          0.11150409188121557,
          0.9103111666627228,
          1.412593660876155,
          0.18220060598105192,
          0.10370123013854027,
          0.32811401411890984,
          0.25847272435203195,
          0.1831454560160637,
          0.08548287814483047,
          0.2213530750013888,
          0.656467888969928,
          0.06264918483793736,
          1.9281248510815203,
          0.08267476689070463,
          0.8626139601692557,
          2.6805335539393127,
          1.5523454966023564,
          0.08681826200336218,
          0.10545290634036064,
          2.025341906119138,
          0.056852387730032206,
          0.11364406021311879,
          0.32253520004451275,
          2.1006752559915185,
          0.09296493558213115,
          0.05640243785455823,
          0.22106805304065347,
          0.09560727328062057,
          0.15639072796329856,
          0.9077838361263275,
          2.5837132167071104,
          0.12615820299834013,
          0.1698655067011714,
          0.1263183900155127,
          0.19034842401742935,
          0.186926637776196,
          0.12403242895379663,
          0.0445533967576921,
          1.4113016873598099,
          0.3116818470880389,
          0.36962096206843853,
          1.2873762557283044,
          1.1166407000273466,
          0.10917823202908039,
          2.2270542681217194,
          0.11125565506517887,
          0.0953848878853023,
          0.40801285579800606,
          0.09129104111343622,
          0.11483780387789011,
          1.7108806762844324,
          0.3515684357844293,
          0.24598635779693723,
          0.09500876907259226,
          0.7861991431564093,
          0.3699795198626816,
          0.3231936772353947,
          0.9664331707172096,
          0.08998187119141221,
          0.1010471610352397,
          0.5027058939449489,
          0.0809604600071907,
          0.5901826261542737,
          0.13490860536694527,
          0.13008706225082278,
          0.12747659301385283,
          0.058082752861082554,
          0.10983269289135933,
          4.343851710204035,
          0.3179632439278066,
          0.2934115952812135,
          0.1457624128088355,
          0.1265972349792719,
          1.1633085398934782,
          0.09853183617815375,
          0.07550173625349998,
          0.16465067211538553,
          0.23982159094884992,
          0.07347946986556053,
          0.08297564182430506,
          0.10213538724929094,
          0.39317136630415916,
          0.0577197358943522,
          0.21187215391546488,
          0.350730842910707,
          0.06056834105402231,
          0.4229253060184419,
          0.1966869691386819,
          0.7635295470245183,
          0.10850713727995753,
          0.1767811249010265,
          0.11338169593364,
          0.0815537991002202,
          0.6593504729680717,
          0.15526682790368795,
          0.08571386663243175,
          0.07096483604982495,
          2.679898966103792,
          0.22309862589463592,
          0.13394090719521046,
          0.6442855410277843,
          0.5333932307548821,
          0.3548986418172717,
          0.18856702093034983,
          0.4198831841349602,
          0.0791570688597858,
          0.12592680798843503,
          0.0917881429195404,
          0.3626736933365464,
          0.14213005034253,
          0.48571743723005056,
          0.3297711908817291,
          0.2288008970208466,
          0.06529985601082444,
          1.9296683389693499,
          0.30298009887337685,
          0.2202382441610098,
          3.7088099769316614,
          0.13411282189190388,
          0.08288870472460985,
          1.9687984571792185,
          0.30230384320020676,
          1.749019268900156,
          0.9180127321742475,
          0.4286855002865195,
          0.1835520602762699,
          0.13601288385689259,
          0.07007889403030276,
          0.4443222479894757,
          1.024944684933871,
          1.7433607121929526,
          0.11397901782765985,
          0.8582322197034955,
          0.2020522290840745,
          0.12875027814880013,
          0.47805619379505515,
          0.28591851983219385,
          0.1298983101733029,
          0.18119025602936745,
          0.1653184681199491,
          0.10164280189201236,
          0.31085259933024645,
          0.170650330837816,
          0.15863812807947397,
          0.6378203211352229,
          0.0639076461084187,
          0.06636519404128194,
          0.05021587386727333,
          0.26703222608193755,
          0.17403183598071337,
          0.2113417573273182,
          0.08435902604833245,
          0.34054823918268085,
          0.13860631873831153,
          0.08367198891937733,
          0.1460557607933879,
          0.20400777272880077,
          0.04858856275677681,
          3.9060473521240056,
          0.037570212967693806,
          0.924348914064467,
          0.5102291409857571,
          0.08235559007152915,
          0.10139226913452148,
          0.14028125489130616,
          1.0256617977283895,
          0.08680661115795374,
          0.08664607116952538,
          0.12002002308145165,
          0.438634448684752,
          1.6147102508693933,
          3.5257080728188157,
          0.46981146885082126,
          0.6512727099470794,
          0.32788038393482566,
          0.13616754161193967,
          0.1710220449604094,
          0.04680816829204559,
          0.07925070403143764,
          0.18382629426196218,
          0.3083425387740135,
          0.14618560299277306,
          0.2821636130101979,
          0.05119224498048425,
          0.9346194630488753,
          0.3892481639049947
         ],
         "yaxis": "y"
        }
       ],
       "layout": {
        "legend": {
         "title": {
          "text": "c"
         },
         "tracegroupgap": 0
        },
        "margin": {
         "t": 60
        },
        "template": {
         "data": {
          "bar": [
           {
            "error_x": {
             "color": "#2a3f5f"
            },
            "error_y": {
             "color": "#2a3f5f"
            },
            "marker": {
             "line": {
              "color": "#E5ECF6",
              "width": 0.5
             },
             "pattern": {
              "fillmode": "overlay",
              "size": 10,
              "solidity": 0.2
             }
            },
            "type": "bar"
           }
          ],
          "barpolar": [
           {
            "marker": {
             "line": {
              "color": "#E5ECF6",
              "width": 0.5
             },
             "pattern": {
              "fillmode": "overlay",
              "size": 10,
              "solidity": 0.2
             }
            },
            "type": "barpolar"
           }
          ],
          "carpet": [
           {
            "aaxis": {
             "endlinecolor": "#2a3f5f",
             "gridcolor": "white",
             "linecolor": "white",
             "minorgridcolor": "white",
             "startlinecolor": "#2a3f5f"
            },
            "baxis": {
             "endlinecolor": "#2a3f5f",
             "gridcolor": "white",
             "linecolor": "white",
             "minorgridcolor": "white",
             "startlinecolor": "#2a3f5f"
            },
            "type": "carpet"
           }
          ],
          "choropleth": [
           {
            "colorbar": {
             "outlinewidth": 0,
             "ticks": ""
            },
            "type": "choropleth"
           }
          ],
          "contour": [
           {
            "colorbar": {
             "outlinewidth": 0,
             "ticks": ""
            },
            "colorscale": [
             [
              0,
              "#0d0887"
             ],
             [
              0.1111111111111111,
              "#46039f"
             ],
             [
              0.2222222222222222,
              "#7201a8"
             ],
             [
              0.3333333333333333,
              "#9c179e"
             ],
             [
              0.4444444444444444,
              "#bd3786"
             ],
             [
              0.5555555555555556,
              "#d8576b"
             ],
             [
              0.6666666666666666,
              "#ed7953"
             ],
             [
              0.7777777777777778,
              "#fb9f3a"
             ],
             [
              0.8888888888888888,
              "#fdca26"
             ],
             [
              1,
              "#f0f921"
             ]
            ],
            "type": "contour"
           }
          ],
          "contourcarpet": [
           {
            "colorbar": {
             "outlinewidth": 0,
             "ticks": ""
            },
            "type": "contourcarpet"
           }
          ],
          "heatmap": [
           {
            "colorbar": {
             "outlinewidth": 0,
             "ticks": ""
            },
            "colorscale": [
             [
              0,
              "#0d0887"
             ],
             [
              0.1111111111111111,
              "#46039f"
             ],
             [
              0.2222222222222222,
              "#7201a8"
             ],
             [
              0.3333333333333333,
              "#9c179e"
             ],
             [
              0.4444444444444444,
              "#bd3786"
             ],
             [
              0.5555555555555556,
              "#d8576b"
             ],
             [
              0.6666666666666666,
              "#ed7953"
             ],
             [
              0.7777777777777778,
              "#fb9f3a"
             ],
             [
              0.8888888888888888,
              "#fdca26"
             ],
             [
              1,
              "#f0f921"
             ]
            ],
            "type": "heatmap"
           }
          ],
          "heatmapgl": [
           {
            "colorbar": {
             "outlinewidth": 0,
             "ticks": ""
            },
            "colorscale": [
             [
              0,
              "#0d0887"
             ],
             [
              0.1111111111111111,
              "#46039f"
             ],
             [
              0.2222222222222222,
              "#7201a8"
             ],
             [
              0.3333333333333333,
              "#9c179e"
             ],
             [
              0.4444444444444444,
              "#bd3786"
             ],
             [
              0.5555555555555556,
              "#d8576b"
             ],
             [
              0.6666666666666666,
              "#ed7953"
             ],
             [
              0.7777777777777778,
              "#fb9f3a"
             ],
             [
              0.8888888888888888,
              "#fdca26"
             ],
             [
              1,
              "#f0f921"
             ]
            ],
            "type": "heatmapgl"
           }
          ],
          "histogram": [
           {
            "marker": {
             "pattern": {
              "fillmode": "overlay",
              "size": 10,
              "solidity": 0.2
             }
            },
            "type": "histogram"
           }
          ],
          "histogram2d": [
           {
            "colorbar": {
             "outlinewidth": 0,
             "ticks": ""
            },
            "colorscale": [
             [
              0,
              "#0d0887"
             ],
             [
              0.1111111111111111,
              "#46039f"
             ],
             [
              0.2222222222222222,
              "#7201a8"
             ],
             [
              0.3333333333333333,
              "#9c179e"
             ],
             [
              0.4444444444444444,
              "#bd3786"
             ],
             [
              0.5555555555555556,
              "#d8576b"
             ],
             [
              0.6666666666666666,
              "#ed7953"
             ],
             [
              0.7777777777777778,
              "#fb9f3a"
             ],
             [
              0.8888888888888888,
              "#fdca26"
             ],
             [
              1,
              "#f0f921"
             ]
            ],
            "type": "histogram2d"
           }
          ],
          "histogram2dcontour": [
           {
            "colorbar": {
             "outlinewidth": 0,
             "ticks": ""
            },
            "colorscale": [
             [
              0,
              "#0d0887"
             ],
             [
              0.1111111111111111,
              "#46039f"
             ],
             [
              0.2222222222222222,
              "#7201a8"
             ],
             [
              0.3333333333333333,
              "#9c179e"
             ],
             [
              0.4444444444444444,
              "#bd3786"
             ],
             [
              0.5555555555555556,
              "#d8576b"
             ],
             [
              0.6666666666666666,
              "#ed7953"
             ],
             [
              0.7777777777777778,
              "#fb9f3a"
             ],
             [
              0.8888888888888888,
              "#fdca26"
             ],
             [
              1,
              "#f0f921"
             ]
            ],
            "type": "histogram2dcontour"
           }
          ],
          "mesh3d": [
           {
            "colorbar": {
             "outlinewidth": 0,
             "ticks": ""
            },
            "type": "mesh3d"
           }
          ],
          "parcoords": [
           {
            "line": {
             "colorbar": {
              "outlinewidth": 0,
              "ticks": ""
             }
            },
            "type": "parcoords"
           }
          ],
          "pie": [
           {
            "automargin": true,
            "type": "pie"
           }
          ],
          "scatter": [
           {
            "fillpattern": {
             "fillmode": "overlay",
             "size": 10,
             "solidity": 0.2
            },
            "type": "scatter"
           }
          ],
          "scatter3d": [
           {
            "line": {
             "colorbar": {
              "outlinewidth": 0,
              "ticks": ""
             }
            },
            "marker": {
             "colorbar": {
              "outlinewidth": 0,
              "ticks": ""
             }
            },
            "type": "scatter3d"
           }
          ],
          "scattercarpet": [
           {
            "marker": {
             "colorbar": {
              "outlinewidth": 0,
              "ticks": ""
             }
            },
            "type": "scattercarpet"
           }
          ],
          "scattergeo": [
           {
            "marker": {
             "colorbar": {
              "outlinewidth": 0,
              "ticks": ""
             }
            },
            "type": "scattergeo"
           }
          ],
          "scattergl": [
           {
            "marker": {
             "colorbar": {
              "outlinewidth": 0,
              "ticks": ""
             }
            },
            "type": "scattergl"
           }
          ],
          "scattermapbox": [
           {
            "marker": {
             "colorbar": {
              "outlinewidth": 0,
              "ticks": ""
             }
            },
            "type": "scattermapbox"
           }
          ],
          "scatterpolar": [
           {
            "marker": {
             "colorbar": {
              "outlinewidth": 0,
              "ticks": ""
             }
            },
            "type": "scatterpolar"
           }
          ],
          "scatterpolargl": [
           {
            "marker": {
             "colorbar": {
              "outlinewidth": 0,
              "ticks": ""
             }
            },
            "type": "scatterpolargl"
           }
          ],
          "scatterternary": [
           {
            "marker": {
             "colorbar": {
              "outlinewidth": 0,
              "ticks": ""
             }
            },
            "type": "scatterternary"
           }
          ],
          "surface": [
           {
            "colorbar": {
             "outlinewidth": 0,
             "ticks": ""
            },
            "colorscale": [
             [
              0,
              "#0d0887"
             ],
             [
              0.1111111111111111,
              "#46039f"
             ],
             [
              0.2222222222222222,
              "#7201a8"
             ],
             [
              0.3333333333333333,
              "#9c179e"
             ],
             [
              0.4444444444444444,
              "#bd3786"
             ],
             [
              0.5555555555555556,
              "#d8576b"
             ],
             [
              0.6666666666666666,
              "#ed7953"
             ],
             [
              0.7777777777777778,
              "#fb9f3a"
             ],
             [
              0.8888888888888888,
              "#fdca26"
             ],
             [
              1,
              "#f0f921"
             ]
            ],
            "type": "surface"
           }
          ],
          "table": [
           {
            "cells": {
             "fill": {
              "color": "#EBF0F8"
             },
             "line": {
              "color": "white"
             }
            },
            "header": {
             "fill": {
              "color": "#C8D4E3"
             },
             "line": {
              "color": "white"
             }
            },
            "type": "table"
           }
          ]
         },
         "layout": {
          "annotationdefaults": {
           "arrowcolor": "#2a3f5f",
           "arrowhead": 0,
           "arrowwidth": 1
          },
          "autotypenumbers": "strict",
          "coloraxis": {
           "colorbar": {
            "outlinewidth": 0,
            "ticks": ""
           }
          },
          "colorscale": {
           "diverging": [
            [
             0,
             "#8e0152"
            ],
            [
             0.1,
             "#c51b7d"
            ],
            [
             0.2,
             "#de77ae"
            ],
            [
             0.3,
             "#f1b6da"
            ],
            [
             0.4,
             "#fde0ef"
            ],
            [
             0.5,
             "#f7f7f7"
            ],
            [
             0.6,
             "#e6f5d0"
            ],
            [
             0.7,
             "#b8e186"
            ],
            [
             0.8,
             "#7fbc41"
            ],
            [
             0.9,
             "#4d9221"
            ],
            [
             1,
             "#276419"
            ]
           ],
           "sequential": [
            [
             0,
             "#0d0887"
            ],
            [
             0.1111111111111111,
             "#46039f"
            ],
            [
             0.2222222222222222,
             "#7201a8"
            ],
            [
             0.3333333333333333,
             "#9c179e"
            ],
            [
             0.4444444444444444,
             "#bd3786"
            ],
            [
             0.5555555555555556,
             "#d8576b"
            ],
            [
             0.6666666666666666,
             "#ed7953"
            ],
            [
             0.7777777777777778,
             "#fb9f3a"
            ],
            [
             0.8888888888888888,
             "#fdca26"
            ],
            [
             1,
             "#f0f921"
            ]
           ],
           "sequentialminus": [
            [
             0,
             "#0d0887"
            ],
            [
             0.1111111111111111,
             "#46039f"
            ],
            [
             0.2222222222222222,
             "#7201a8"
            ],
            [
             0.3333333333333333,
             "#9c179e"
            ],
            [
             0.4444444444444444,
             "#bd3786"
            ],
            [
             0.5555555555555556,
             "#d8576b"
            ],
            [
             0.6666666666666666,
             "#ed7953"
            ],
            [
             0.7777777777777778,
             "#fb9f3a"
            ],
            [
             0.8888888888888888,
             "#fdca26"
            ],
            [
             1,
             "#f0f921"
            ]
           ]
          },
          "colorway": [
           "#636efa",
           "#EF553B",
           "#00cc96",
           "#ab63fa",
           "#FFA15A",
           "#19d3f3",
           "#FF6692",
           "#B6E880",
           "#FF97FF",
           "#FECB52"
          ],
          "font": {
           "color": "#2a3f5f"
          },
          "geo": {
           "bgcolor": "white",
           "lakecolor": "white",
           "landcolor": "#E5ECF6",
           "showlakes": true,
           "showland": true,
           "subunitcolor": "white"
          },
          "hoverlabel": {
           "align": "left"
          },
          "hovermode": "closest",
          "mapbox": {
           "style": "light"
          },
          "paper_bgcolor": "white",
          "plot_bgcolor": "#E5ECF6",
          "polar": {
           "angularaxis": {
            "gridcolor": "white",
            "linecolor": "white",
            "ticks": ""
           },
           "bgcolor": "#E5ECF6",
           "radialaxis": {
            "gridcolor": "white",
            "linecolor": "white",
            "ticks": ""
           }
          },
          "scene": {
           "xaxis": {
            "backgroundcolor": "#E5ECF6",
            "gridcolor": "white",
            "gridwidth": 2,
            "linecolor": "white",
            "showbackground": true,
            "ticks": "",
            "zerolinecolor": "white"
           },
           "yaxis": {
            "backgroundcolor": "#E5ECF6",
            "gridcolor": "white",
            "gridwidth": 2,
            "linecolor": "white",
            "showbackground": true,
            "ticks": "",
            "zerolinecolor": "white"
           },
           "zaxis": {
            "backgroundcolor": "#E5ECF6",
            "gridcolor": "white",
            "gridwidth": 2,
            "linecolor": "white",
            "showbackground": true,
            "ticks": "",
            "zerolinecolor": "white"
           }
          },
          "shapedefaults": {
           "line": {
            "color": "#2a3f5f"
           }
          },
          "ternary": {
           "aaxis": {
            "gridcolor": "white",
            "linecolor": "white",
            "ticks": ""
           },
           "baxis": {
            "gridcolor": "white",
            "linecolor": "white",
            "ticks": ""
           },
           "bgcolor": "#E5ECF6",
           "caxis": {
            "gridcolor": "white",
            "linecolor": "white",
            "ticks": ""
           }
          },
          "title": {
           "x": 0.05
          },
          "xaxis": {
           "automargin": true,
           "gridcolor": "white",
           "linecolor": "white",
           "ticks": "",
           "title": {
            "standoff": 15
           },
           "zerolinecolor": "white",
           "zerolinewidth": 2
          },
          "yaxis": {
           "automargin": true,
           "gridcolor": "white",
           "linecolor": "white",
           "ticks": "",
           "title": {
            "standoff": 15
           },
           "zerolinecolor": "white",
           "zerolinewidth": 2
          }
         }
        },
        "xaxis": {
         "anchor": "y",
         "domain": [
          0,
          1
         ],
         "title": {
          "text": "runtime(s)"
         }
        },
        "yaxis": {
         "anchor": "x",
         "domain": [
          0,
          1
         ],
         "title": {
          "text": "optimumRuntime(s)"
         }
        }
       }
      },
      "text/html": [
       "<div>                            <div id=\"6ef2791c-40e6-465e-a1d5-ea211130b553\" class=\"plotly-graph-div\" style=\"height:525px; width:100%;\"></div>            <script type=\"text/javascript\">                require([\"plotly\"], function(Plotly) {                    window.PLOTLYENV=window.PLOTLYENV || {};                                    if (document.getElementById(\"6ef2791c-40e6-465e-a1d5-ea211130b553\")) {                    Plotly.newPlot(                        \"6ef2791c-40e6-465e-a1d5-ea211130b553\",                        [{\"hovertemplate\":\"c=100000000<br>runtime(s)=%{x}<br>optimumRuntime(s)=%{y}<extra></extra>\",\"legendgroup\":\"100000000\",\"marker\":{\"color\":\"#636efa\",\"symbol\":\"circle\"},\"mode\":\"markers\",\"name\":\"100000000\",\"orientation\":\"v\",\"showlegend\":true,\"x\":[0.007487058639526367,0.005845308303833008,0.0034673213958740234,0.0039103031158447266,0.0040323734283447266,0.006249189376831055,0.003633260726928711,0.005532026290893555,0.008498907089233398,0.0043828487396240234,0.010390996932983398,0.0036394596099853516,0.007109403610229492,0.005360603332519531,0.0032546520233154297,0.0022950172424316406,0.005388975143432617,0.004781961441040039,0.004159688949584961,0.005862712860107422,0.007665872573852539,0.008444070816040039,0.003836393356323242,0.002895355224609375,0.011384725570678711,0.005410671234130859,0.002234935760498047,0.004319190979003906,0.004384040832519531,0.005642414093017578,0.007130622863769531,0.004279136657714844,0.003807544708251953,0.004884481430053711,0.004403352737426758,0.005917787551879883,0.0051021575927734375,0.006925344467163086,0.007927417755126953,0.0053882598876953125,0.0068399906158447266,0.0031023025512695312,0.0045816898345947266,0.0034646987915039062,0.003447294235229492,0.004433155059814453,0.0064051151275634766,0.004257917404174805,0.0034418106079101562,0.006330728530883789,0.0028526782989501953,0.003451108932495117,0.004697084426879883,0.0030303001403808594,0.005540609359741211,0.004423379898071289,0.0037093162536621094,0.0038585662841796875,0.0030906200408935547,0.005077838897705078,0.002142190933227539,0.0038976669311523438,0.0050258636474609375,0.002882242202758789,0.006063222885131836,0.003416299819946289,0.004236698150634766,0.002768278121948242,0.004525661468505859,0.002833843231201172,0.004820108413696289,0.003404855728149414,0.004115104675292969,0.002841949462890625,0.002218961715698242,0.005097150802612305,0.0022640228271484375,0.005800962448120117,0.004148960113525391,0.0033860206604003906,0.002814054489135742,0.0062525272369384766,0.003584623336791992,0.009090185165405273,0.0018107891082763672,0.0017673969268798828,0.0029878616333007812,0.004196882247924805,0.004381418228149414,0.004626035690307617,0.002638578414916992,0.003608226776123047,0.0017406940460205078,0.0036220550537109375,0.0024843215942382812,0.002434968948364258,0.002099275588989258,0.0035736560821533203,0.003984212875366211,0.007360219955444336,0.0070018768310546875,0.002919912338256836,0.0039048194885253906,0.005775928497314453,0.004165172576904297,0.011003255844116211,0.005560159683227539,0.0038089752197265625,0.005093812942504883,0.004519939422607422,0.006367921829223633,0.00295257568359375,0.0016171932220458984,0.004040241241455078,0.0035507678985595703,0.004076719284057617,0.006407499313354492,0.004240751266479492,0.005484819412231445,0.0066869258880615234,0.0032858848571777344,0.003463268280029297,0.003231048583984375,0.005327939987182617,0.016675233840942383,0.003835439682006836,0.006025791168212891,0.00449061393737793,0.004832744598388672,0.0027647018432617188,0.002368450164794922,0.0014729499816894531,0.0018703937530517578,0.004781007766723633,0.005406856536865234,0.00475621223449707,0.0049419403076171875,0.002395153045654297,0.00934147834777832,0.0042934417724609375,0.004389047622680664,0.00965428352355957,0.0017137527465820312,0.0021898746490478516,0.002967357635498047,0.003591299057006836,0.004262447357177734,0.0039615631103515625,0.007546186447143555,0.005048990249633789,0.002982616424560547,0.0021944046020507812,0.005504131317138672,0.006188154220581055,0.0017168521881103516,0.008421897888183594,0.006031990051269531,0.003797292709350586,0.004331827163696289,0.0067577362060546875,0.003063678741455078,0.005589723587036133,0.007501363754272461,0.005572080612182617,0.005252838134765625,0.009157657623291016,0.00360870361328125,0.0041332244873046875,0.0055999755859375,0.003933906555175781,0.004266262054443359,0.003290891647338867,0.0040094852447509766,0.004350900650024414,0.00603032112121582,0.007031917572021484,0.009048700332641602,0.006681203842163086,0.005547046661376953,0.003141164779663086,0.0015451908111572266,0.0031080245971679688,0.0037941932678222656,0.003511190414428711,0.0025577545166015625,0.0023152828216552734,0.0021135807037353516,0.00552678108215332,0.002051115036010742,0.00519251823425293,0.0025069713592529297,0.011636972427368164,0.002118825912475586,0.004433393478393555,0.003907918930053711,0.0025055408477783203,0.0026826858520507812,0.0025169849395751953],\"xaxis\":\"x\",\"y\":[10.250943752005696,15.953580680768937,0.19677783269435167,9.956473984755576,6.704408490099013,0.4850007351487875,0.2390362611040473,15.057577877305448,104.21477239672095,0.21934648603200912,6.352160228881985,0.1429764563217759,0.22886328073218465,62.043439249973744,1.8924923748709261,3.0874566780403256,3.739554594270885,11.327406268101186,174.18244244810194,0.38671013806015253,16.647351175080985,0.4021725249476731,8.038120630662888,12.5806407132186,6.266020344104618,0.37171984277665615,2.0645489506423473,22.69404275296256,34.982761771418154,5.313346897251904,3.988759233150631,0.5493323369883001,3.150415705051273,13.66466274810955,0.20611050678417087,30.635824392084032,21.154670155141503,204.65458439989015,250.18749458761886,1.3522909278981388,0.4940618220716715,0.49800993083044887,17.98622957477346,15.621117033064365,21.642982479650527,16.03232487104833,8.764365495648235,29.36281260708347,0.9422152042388916,0.802565798163414,0.18437431380152702,0.22914357669651508,1.2572102318517864,2.068617335986346,95.91068680491298,0.08106294134631753,30.47157552698627,2.326531887985766,25.20393218100071,72.1402025767602,0.9948398410342634,6.106838375795633,0.14574087411165237,7.669243204873055,0.9526478699408472,15.06911344313994,0.2996317748911679,121.54652801388875,3.898129689041525,0.727737327106297,23.301990032196045,54.2070202678442,70.88164595887065,0.22594510484486818,0.06499726697802544,6.655152247752994,14.217146641109139,15.380942098796368,119.59951850678772,0.7821361888200045,0.12461469694972038,141.82319743232802,169.15933044534177,5.579087271820754,1.8381874477490783,0.09133430290967226,0.4220574120990932,3.1760479281656444,8.352965589147061,6.8857095330022275,3.3658519238233566,0.6101934812031686,0.2128306906670332,5.989956721197814,0.7910927413031459,0.08174053533002734,3.1961166416294873,8.136511372867972,0.5895686941221356,97.81177323916927,21.455209794919938,0.17378676030784845,6.383063456974924,58.11763866012916,19.710923613980412,19.651640902739018,0.3346803579479456,2.864748672582209,284.0590494023636,0.11572284996509552,0.14528510067611933,0.17663248302415013,1.9950205199420452,43.41200184216723,38.57629767106846,0.17359266709536314,13.17049606796354,0.14014248037710786,1.4985174708999693,0.3148148190230131,17.942102392204106,0.5192060978151858,5.152580800000578,0.3142527141608298,8.967115146573633,28.090726033318788,0.2088019591756165,10.988220448140055,0.12460727384313941,1.8993273479864001,2.939215203281492,0.21310798078775406,0.9258490530773997,2.43273911671713,79.11824563797563,1.4428152991458774,0.9119494678452611,1.6555811990983784,0.07720742700621486,16.733325138688087,13.61978619499132,1.1517959758639336,18.441363216843456,0.09249072801321745,0.21919876197353005,336.8863461422734,0.21488119708374143,12.65241983672604,6.006824162788689,0.1002194401808083,0.09993963688611984,10.060514274053276,33.36638598097488,5.245840510819107,0.9021751508116722,502.54518652008846,5.967343281023204,0.44755211379379034,16.489969572983682,4.142017426434904,0.18510482367128134,2.5627699941396713,321.54752454394475,21.783371079713106,1.4332190211862326,0.40759635902941227,5.57520494190976,9.842999682296067,7.191181013826281,0.30214001005515456,0.4192420351319015,10.048427011817694,0.176414436660707,7.400752227753401,82.32136146584526,148.68348040198907,15.659211930818856,0.28824468422681093,6.464371818117797,2.09832381317392,0.13615530310198665,0.5426966357044876,0.41136015811935067,2.5079285940155387,0.2605908280238509,104.78326371219009,0.3493785997852683,77.11482283193618,0.7516649728640914,0.9571245335973799,0.2697996720671654,0.3234010119922459,0.07927412632852793,3.832518969196826,0.0887315459549427,0.09742905711755157,0.13041200628504157,0.0907535389997065],\"yaxis\":\"y\",\"type\":\"scatter\"},{\"hovertemplate\":\"c=10000000000<br>runtime(s)=%{x}<br>optimumRuntime(s)=%{y}<extra></extra>\",\"legendgroup\":\"10000000000\",\"marker\":{\"color\":\"#EF553B\",\"symbol\":\"circle\"},\"mode\":\"markers\",\"name\":\"10000000000\",\"orientation\":\"v\",\"showlegend\":true,\"x\":[0.005242109298706055,0.004286766052246094,0.007692098617553711,0.0023603439331054688,0.00520634651184082,0.00451970100402832,0.0029265880584716797,0.004927396774291992,0.003269672393798828,0.0062329769134521484,0.0019922256469726562,0.003019094467163086,0.005950927734375,0.006777763366699219,0.0052640438079833984,0.00653529167175293,0.0025396347045898438,0.003561735153198242,0.006116628646850586,0.005814075469970703,0.007949352264404297,0.004102230072021484,0.00260162353515625,0.005402803421020508,0.0037255287170410156,0.003594636917114258,0.005122661590576172,0.0038361549377441406,0.005097627639770508,0.0068416595458984375,0.0052487850189208984,0.004139900207519531,0.004558086395263672,0.004931211471557617,0.007023334503173828,0.002922534942626953,0.0030994415283203125,0.0043294429779052734,0.003096342086791992,0.0033309459686279297,0.002562284469604492,0.002855062484741211,0.0051727294921875,0.002869844436645508,0.0056896209716796875,0.006403446197509766,0.009624481201171875,0.003654956817626953,0.004344940185546875,0.003290414810180664,0.0025801658630371094,0.0034971237182617188,0.005619525909423828,0.004384517669677734,0.0031502246856689453,0.0029785633087158203,0.0047605037689208984,0.0029397010803222656,0.004954338073730469,0.007174968719482422,0.0023093223571777344,0.002824068069458008,0.003742694854736328,0.004680633544921875,0.003710508346557617,0.003774881362915039,0.001531839370727539,0.004568815231323242,0.004046201705932617,0.003179788589477539,0.0029087066650390625,0.0041887760162353516,0.006214618682861328,0.008013248443603516,0.0046274662017822266,0.006928443908691406,0.001691579818725586,0.0032520294189453125,0.00591731071472168,0.003554821014404297,0.0041201114654541016,0.00464940071105957,0.004536867141723633,0.0029726028442382812,0.0027709007263183594,0.005802154541015625,0.0033757686614990234,0.004491090774536133,0.0020051002502441406,0.0046312808990478516,0.005152225494384766,0.004523277282714844,0.006636857986450195,0.002733469009399414,0.006717205047607422,0.0048558712005615234,0.005665302276611328,0.0052034854888916016,0.004511356353759766,0.005582094192504883,0.0024602413177490234,0.0016741752624511719,0.0035965442657470703,0.005058765411376953,0.0032422542572021484,0.006629228591918945,0.011754035949707031,0.0033416748046875,0.004828929901123047,0.006973981857299805,0.0037946701049804688,0.006163120269775391,0.005673646926879883,0.005441904067993164,0.005545854568481445,0.0025708675384521484,0.0073015689849853516,0.0067136287689208984,0.0059316158294677734,0.002102375030517578,0.0033082962036132812,0.008509635925292969,0.0076563358306884766,0.0027687549591064453,0.002891063690185547,0.0013623237609863281,0.002669095993041992,0.003547191619873047,0.004299163818359375,0.003025054931640625,0.004741191864013672,0.0026061534881591797,0.0034492015838623047,0.0056171417236328125,0.00322723388671875,0.00286865234375,0.0014443397521972656,0.0029006004333496094,0.0027709007263183594,0.0044612884521484375,0.00875234603881836,0.003170490264892578,0.004300832748413086,0.004408359527587891,0.004850149154663086,0.003325223922729492,0.002232789993286133,0.003448963165283203,0.004006385803222656,0.006593942642211914,0.003549814224243164,0.0038192272186279297,0.004659175872802734,0.002496957778930664,0.007196187973022461,0.006909370422363281,0.0035352706909179688,0.0029680728912353516,0.00500941276550293,0.006174325942993164,0.006058931350708008,0.004929065704345703,0.005449056625366211,0.0054492950439453125,0.0036933422088623047,0.0060999393463134766,0.002410888671875,0.004204988479614258,0.004796504974365234,0.004036903381347656,0.0025441646575927734,0.006415367126464844,0.004824638366699219,0.009279489517211914,0.006941318511962891,0.006560564041137695,0.006127119064331055,0.007809162139892578,0.0033113956451416016,0.006228446960449219,0.004667520523071289,0.0027277469635009766,0.007585048675537109,0.0026979446411132812,0.009729623794555664,0.009184598922729492,0.012113571166992188,0.005662441253662109,0.006045103073120117,0.004575967788696289,0.0036954879760742188,0.0033845901489257812,0.005057573318481445,0.0061798095703125,0.007078409194946289,0.00665283203125,0.0019297599792480469,0.0037994384765625,0.005948066711425781,0.004244804382324219,0.0025458335876464844,0.0019023418426513672,0.004755973815917969,0.005767107009887695,0.004835605621337891,0.005139589309692383,0.003000974655151367,0.003885984420776367,0.006175994873046875,0.0037393569946289062,0.0028879642486572266,0.003542661666870117,0.004494905471801758,0.0019495487213134766,0.002920389175415039,0.004899263381958008,0.002039670944213867,0.004107952117919922],\"xaxis\":\"x\",\"y\":[0.35225116601213813,0.44796995678916574,16.93705302895978,0.09983211988583207,2553.0916759637184,139.30679945275187,1.4943785560317338,152.9034765358083,-1.0,58.64734103390947,0.22842097328975797,241.1585946911946,-1.0,-1.0,-1.0,-1.0,64.93462017783895,6.795320624951273,31.063353090081364,5.202350312843919,0.5839080642908812,370.4563250243664,14.718715986702591,-1.0,65.04031651979312,254.74065929092467,0.2683661300688982,0.5097022359259427,0.32866474613547325,64.25770614575595,22.397283270955086,-1.0,18.074638792313635,-1.0,0.14248190401121974,0.08172952616587281,1.212743115145713,0.3964337180368602,5.895856556948274,86.09083477361128,0.16813954571262002,-1.0,0.21123485872521996,0.15432574413716793,0.18042150558903813,0.10938834305852652,-1.0,108.50104144774377,-1.0,0.10580558609217405,0.5686070709489286,0.1666747173294425,87.48673651693389,41.54852226842195,-1.0,256.55315634189174,1.3858444769866765,32.11622695205733,35.25688142469153,-1.0,-1.0,298.39245005277917,5.182098953053355,14.123350813053548,18.605972743593156,1.7701743878424168,0.1515546590089798,4.323146138340235,-1.0,41.27596314623952,9.887142600025982,0.4379084692336619,40.10773792397231,-1.0,-1.0,0.3846659706905484,29.698444331996143,272.1896228850819,-1.0,0.1043184669688344,-1.0,0.21879069413989782,-1.0,1004.1091041327454,4.487531454768032,35.755884698126465,2.5681247268803418,0.18205970898270607,10.404135080985725,216.36401042016223,0.4771719560958445,2.438382748980075,-1.0,0.14234382286667824,16.857542123645544,1329.320257157553,-1.0,0.15704717673361301,427.2354017822072,0.43290822114795446,0.8828217713162303,0.08674272429198027,2.191051698755473,0.26135164126753807,0.11985489120706916,0.5257353838533163,-1.0,0.44097660994157195,0.1957529396750033,17.58818586403504,0.7287186752073467,0.9125243085436523,267.7132660667412,36.410223085898906,-1.0,313.4416671139188,-1.0,-1.0,140.37506997492164,3.7218602672219276,0.2967816572636366,-1.0,-1.0,383.4489279342815,0.09646461019292474,0.08414727402850986,8.420725150965154,10.713490318041295,-1.0,1.6194249303080142,0.44094403414055705,0.08904224215075374,0.27762932097539306,-1.0,270.7703639212996,3.7713004830293357,1.2778794490732253,17.10169578762725,0.0776992947794497,-1.0,-1.0,655.978393305093,14.778962929267436,-1.0,0.5800649891607463,-1.0,1.9534678128547966,15.193397098220885,95.96938460413367,0.4718516608700156,-1.0,-1.0,0.44853813434019685,-1.0,121.6964292502962,4795.614830589853,0.5472344122827053,0.12930234102532268,-1.0,25.412020094227046,-1.0,-1.0,-1.0,0.12262114090844989,2.864677291829139,0.13294175127521157,0.20075910026207566,-1.0,2.9955667331814766,-1.0,0.9004837609827518,0.32517822785302997,668.8804064639844,-1.0,1.0390580357052386,0.3471751310862601,272.81311526801437,0.5087142679840326,7.615327138919383,-1.0,72.4683301569894,0.15832653921097517,2987.9858412439935,0.3136151721701026,62.626660290174186,30.582245694007725,0.10866099083796144,51.1177001032047,-1.0,-1.0,0.655248595867306,-1.0,44.24610245600343,240.1643612459302,-1.0,0.3810155796818435,353.70852021779865,0.22422155365347862,0.11212220881134272,0.15885753324255347,-1.0,270.0231650196947,-1.0,74.7493383390829,73.69889082480222,5.1077147531323135,1.914775492157787,96.95742775220424,44.132821574341506,3.0029865922406316,0.3151924912817776,2272.6306178322993,-1.0,4.182379944715649,0.3421206739731133,4247.3501537060365,0.06919320812448859,2275.8452788731083],\"yaxis\":\"y\",\"type\":\"scatter\"},{\"hovertemplate\":\"c=1000000<br>runtime(s)=%{x}<br>optimumRuntime(s)=%{y}<extra></extra>\",\"legendgroup\":\"1000000\",\"marker\":{\"color\":\"#00cc96\",\"symbol\":\"circle\"},\"mode\":\"markers\",\"name\":\"1000000\",\"orientation\":\"v\",\"showlegend\":true,\"x\":[0.005852222442626953,0.003113985061645508,0.0037636756896972656,0.005395174026489258,0.0037381649017333984,0.005461215972900391,0.007645845413208008,0.004991292953491211,0.005030393600463867,0.002228975296020508,0.004019737243652344,0.004839420318603516,0.004506587982177734,0.008008956909179688,0.0030825138092041016,0.006597042083740234,0.0034193992614746094,0.008971452713012695,0.0033843517303466797,0.002952098846435547,0.009948968887329102,0.0037908554077148438,0.001775979995727539,0.0050923824310302734,0.0059392452239990234,0.0021212100982666016,0.0017685890197753906,0.005900144577026367,0.003734588623046875,0.0029745101928710938,0.005980730056762695,0.005513906478881836,0.005734682083129883,0.0058138370513916016,0.002832651138305664,0.002815723419189453,0.0065386295318603516,0.005657672882080078,0.002623319625854492,0.0037107467651367188,0.005399942398071289,0.004166841506958008,0.004277706146240234,0.003794431686401367,0.004754066467285156,0.0019207000732421875,0.0059430599212646484,0.0034346580505371094,0.0037233829498291016,0.004868507385253906,0.006174564361572266,0.0016169548034667969,0.004538774490356445,0.003261566162109375,0.003530740737915039,0.0043299198150634766,0.004179239273071289,0.0025720596313476562,0.006200075149536133,0.0037109851837158203,0.0030145645141601562,0.004385471343994141,0.003665447235107422,0.002268552780151367,0.005449533462524414,0.005991935729980469,0.003939390182495117,0.00398564338684082,0.0031366348266601562,0.005569934844970703,0.0019371509552001953,0.001672506332397461,0.0024547576904296875,0.006466865539550781,0.003981113433837891,0.00741267204284668,0.0037250518798828125,0.0018036365509033203,0.0020189285278320312,0.0039560794830322266,0.0036766529083251953,0.004620075225830078,0.0032987594604492188,0.0040531158447265625,0.00635528564453125,0.005391120910644531,0.007996559143066406,0.0031845569610595703,0.003015756607055664,0.00536799430847168,0.005664825439453125,0.0021049976348876953,0.004513263702392578,0.002204418182373047,0.0031669139862060547,0.0017998218536376953,0.004484415054321289,0.005254030227661133,0.005109071731567383,0.002719879150390625,0.009633064270019531,0.0024178028106689453,0.005649566650390625,0.002862215042114258,0.003441333770751953,0.0037271976470947266,0.001810312271118164,0.0017502307891845703,0.005850553512573242,0.0035910606384277344,0.004342794418334961,0.003935575485229492,0.005255222320556641,0.003969907760620117,0.006300687789916992,0.0017442703247070312,0.003549337387084961,0.0026557445526123047,0.006644487380981445,0.002913951873779297,0.0028998851776123047,0.004446268081665039,0.00386810302734375,0.0050470829010009766,0.0016789436340332031,0.0017914772033691406,0.006108283996582031,0.005568981170654297,0.005989551544189453,0.003511667251586914,0.005519866943359375,0.0026204586029052734,0.004158496856689453,0.0028307437896728516,0.0022308826446533203,0.00433802604675293,0.005303144454956055,0.0036356449127197266,0.001947164535522461,0.00241851806640625,0.004689693450927734,0.005920886993408203,0.0018870830535888672,0.006193637847900391,0.0019459724426269531,0.005443096160888672,0.0038199424743652344,0.0032291412353515625,0.003847837448120117,0.006856441497802734,0.0072290897369384766,0.0066318511962890625,0.0030879974365234375,0.006123542785644531,0.0014433860778808594,0.0024230480194091797,0.0029189586639404297,0.0022199153900146484,0.005374431610107422,0.0022127628326416016,0.003948688507080078,0.003076314926147461,0.006295680999755859,0.006294727325439453,0.0027675628662109375,0.0027163028717041016,0.0028076171875,0.00478363037109375,0.005499362945556641,0.003159761428833008,0.0048825740814208984,0.003571033477783203,0.004992008209228516,0.00469517707824707,0.004361867904663086,0.0027718544006347656,0.0050313472747802734,0.0038280487060546875,0.0030167102813720703,0.005828380584716797,0.003849506378173828,0.0049495697021484375,0.002862691879272461,0.0021178722381591797,0.003124713897705078,0.0036611557006835938,0.002424001693725586,0.004490852355957031,0.006582736968994141,0.0040283203125,0.013246536254882812,0.004921913146972656,0.005498170852661133,0.0066297054290771484,0.004942417144775391,0.0037183761596679688,0.002354860305786133,0.003882884979248047,0.004298210144042969,0.006406068801879883,0.00638890266418457,0.003160238265991211,0.003930330276489258,0.0035495758056640625,0.007688999176025391,0.003498554229736328,0.0028839111328125,0.0018482208251953125,0.004938602447509766,0.006363868713378906,0.0031137466430664062,0.003568410873413086,0.00301361083984375,0.002239227294921875,0.003186464309692383,0.007640361785888672,0.005975961685180664,0.003366231918334961,0.005832195281982422,0.002614736557006836,0.004087924957275391,0.003718137741088867,0.0050160884857177734,0.0030133724212646484,0.004021406173706055,0.0065190792083740234,0.0028429031372070312,0.004340410232543945,0.006431102752685547,0.003160238265991211,0.002203226089477539,0.0037941932678222656],\"xaxis\":\"x\",\"y\":[0.05631064111366868,0.8575196648016572,0.13227705378085375,0.5061839441768825,0.08801727369427681,0.06352621270343661,0.055469742976129055,0.387980290222913,0.2637671451084316,0.17155437590554357,0.15134203108027577,0.20134203601628542,0.14226196613162756,0.043044897262007,0.07927878201007843,0.39111499255523086,0.09615497710183263,0.09842445608228445,0.12780097592622042,0.13418804435059428,0.29994777915999293,0.42639963096007705,0.10157435527071357,0.2814371599815786,0.2745871520601213,0.7294923169538379,0.0885259653441608,2.613796463701874,0.0878186128102243,0.2904593301936984,5.382549976930022,0.4215088877826929,0.07758407993242145,2.2557279630564153,0.214589171577245,0.1055860766209662,0.47747736470773816,3.7184886317700148,1.2381458301097155,0.21051460411399603,3.064961994998157,1.4021256300620735,0.13672223314642906,0.3298988677561283,0.11079867975786328,0.18645498622208834,0.11150409188121557,0.9103111666627228,1.412593660876155,0.18220060598105192,0.10370123013854027,0.32811401411890984,0.25847272435203195,0.1831454560160637,0.08548287814483047,0.2213530750013888,0.656467888969928,0.06264918483793736,1.9281248510815203,0.08267476689070463,0.8626139601692557,2.6805335539393127,1.5523454966023564,0.08681826200336218,0.10545290634036064,2.025341906119138,0.056852387730032206,0.11364406021311879,0.32253520004451275,2.1006752559915185,0.09296493558213115,0.05640243785455823,0.22106805304065347,0.09560727328062057,0.15639072796329856,0.9077838361263275,2.5837132167071104,0.12615820299834013,0.1698655067011714,0.1263183900155127,0.19034842401742935,0.186926637776196,0.12403242895379663,0.0445533967576921,1.4113016873598099,0.3116818470880389,0.36962096206843853,1.2873762557283044,1.1166407000273466,0.10917823202908039,2.2270542681217194,0.11125565506517887,0.0953848878853023,0.40801285579800606,0.09129104111343622,0.11483780387789011,1.7108806762844324,0.3515684357844293,0.24598635779693723,0.09500876907259226,0.7861991431564093,0.3699795198626816,0.3231936772353947,0.9664331707172096,0.08998187119141221,0.1010471610352397,0.5027058939449489,0.0809604600071907,0.5901826261542737,0.13490860536694527,0.13008706225082278,0.12747659301385283,0.058082752861082554,0.10983269289135933,4.343851710204035,0.3179632439278066,0.2934115952812135,0.1457624128088355,0.1265972349792719,1.1633085398934782,0.09853183617815375,0.07550173625349998,0.16465067211538553,0.23982159094884992,0.07347946986556053,0.08297564182430506,0.10213538724929094,0.39317136630415916,0.0577197358943522,0.21187215391546488,0.350730842910707,0.06056834105402231,0.4229253060184419,0.1966869691386819,0.7635295470245183,0.10850713727995753,0.1767811249010265,0.11338169593364,0.0815537991002202,0.6593504729680717,0.15526682790368795,0.08571386663243175,0.07096483604982495,2.679898966103792,0.22309862589463592,0.13394090719521046,0.6442855410277843,0.5333932307548821,0.3548986418172717,0.18856702093034983,0.4198831841349602,0.0791570688597858,0.12592680798843503,0.0917881429195404,0.3626736933365464,0.14213005034253,0.48571743723005056,0.3297711908817291,0.2288008970208466,0.06529985601082444,1.9296683389693499,0.30298009887337685,0.2202382441610098,3.7088099769316614,0.13411282189190388,0.08288870472460985,1.9687984571792185,0.30230384320020676,1.749019268900156,0.9180127321742475,0.4286855002865195,0.1835520602762699,0.13601288385689259,0.07007889403030276,0.4443222479894757,1.024944684933871,1.7433607121929526,0.11397901782765985,0.8582322197034955,0.2020522290840745,0.12875027814880013,0.47805619379505515,0.28591851983219385,0.1298983101733029,0.18119025602936745,0.1653184681199491,0.10164280189201236,0.31085259933024645,0.170650330837816,0.15863812807947397,0.6378203211352229,0.0639076461084187,0.06636519404128194,0.05021587386727333,0.26703222608193755,0.17403183598071337,0.2113417573273182,0.08435902604833245,0.34054823918268085,0.13860631873831153,0.08367198891937733,0.1460557607933879,0.20400777272880077,0.04858856275677681,3.9060473521240056,0.037570212967693806,0.924348914064467,0.5102291409857571,0.08235559007152915,0.10139226913452148,0.14028125489130616,1.0256617977283895,0.08680661115795374,0.08664607116952538,0.12002002308145165,0.438634448684752,1.6147102508693933,3.5257080728188157,0.46981146885082126,0.6512727099470794,0.32788038393482566,0.13616754161193967,0.1710220449604094,0.04680816829204559,0.07925070403143764,0.18382629426196218,0.3083425387740135,0.14618560299277306,0.2821636130101979,0.05119224498048425,0.9346194630488753,0.3892481639049947],\"yaxis\":\"y\",\"type\":\"scatter\"}],                        {\"template\":{\"data\":{\"histogram2dcontour\":[{\"type\":\"histogram2dcontour\",\"colorbar\":{\"outlinewidth\":0,\"ticks\":\"\"},\"colorscale\":[[0.0,\"#0d0887\"],[0.1111111111111111,\"#46039f\"],[0.2222222222222222,\"#7201a8\"],[0.3333333333333333,\"#9c179e\"],[0.4444444444444444,\"#bd3786\"],[0.5555555555555556,\"#d8576b\"],[0.6666666666666666,\"#ed7953\"],[0.7777777777777778,\"#fb9f3a\"],[0.8888888888888888,\"#fdca26\"],[1.0,\"#f0f921\"]]}],\"choropleth\":[{\"type\":\"choropleth\",\"colorbar\":{\"outlinewidth\":0,\"ticks\":\"\"}}],\"histogram2d\":[{\"type\":\"histogram2d\",\"colorbar\":{\"outlinewidth\":0,\"ticks\":\"\"},\"colorscale\":[[0.0,\"#0d0887\"],[0.1111111111111111,\"#46039f\"],[0.2222222222222222,\"#7201a8\"],[0.3333333333333333,\"#9c179e\"],[0.4444444444444444,\"#bd3786\"],[0.5555555555555556,\"#d8576b\"],[0.6666666666666666,\"#ed7953\"],[0.7777777777777778,\"#fb9f3a\"],[0.8888888888888888,\"#fdca26\"],[1.0,\"#f0f921\"]]}],\"heatmap\":[{\"type\":\"heatmap\",\"colorbar\":{\"outlinewidth\":0,\"ticks\":\"\"},\"colorscale\":[[0.0,\"#0d0887\"],[0.1111111111111111,\"#46039f\"],[0.2222222222222222,\"#7201a8\"],[0.3333333333333333,\"#9c179e\"],[0.4444444444444444,\"#bd3786\"],[0.5555555555555556,\"#d8576b\"],[0.6666666666666666,\"#ed7953\"],[0.7777777777777778,\"#fb9f3a\"],[0.8888888888888888,\"#fdca26\"],[1.0,\"#f0f921\"]]}],\"heatmapgl\":[{\"type\":\"heatmapgl\",\"colorbar\":{\"outlinewidth\":0,\"ticks\":\"\"},\"colorscale\":[[0.0,\"#0d0887\"],[0.1111111111111111,\"#46039f\"],[0.2222222222222222,\"#7201a8\"],[0.3333333333333333,\"#9c179e\"],[0.4444444444444444,\"#bd3786\"],[0.5555555555555556,\"#d8576b\"],[0.6666666666666666,\"#ed7953\"],[0.7777777777777778,\"#fb9f3a\"],[0.8888888888888888,\"#fdca26\"],[1.0,\"#f0f921\"]]}],\"contourcarpet\":[{\"type\":\"contourcarpet\",\"colorbar\":{\"outlinewidth\":0,\"ticks\":\"\"}}],\"contour\":[{\"type\":\"contour\",\"colorbar\":{\"outlinewidth\":0,\"ticks\":\"\"},\"colorscale\":[[0.0,\"#0d0887\"],[0.1111111111111111,\"#46039f\"],[0.2222222222222222,\"#7201a8\"],[0.3333333333333333,\"#9c179e\"],[0.4444444444444444,\"#bd3786\"],[0.5555555555555556,\"#d8576b\"],[0.6666666666666666,\"#ed7953\"],[0.7777777777777778,\"#fb9f3a\"],[0.8888888888888888,\"#fdca26\"],[1.0,\"#f0f921\"]]}],\"surface\":[{\"type\":\"surface\",\"colorbar\":{\"outlinewidth\":0,\"ticks\":\"\"},\"colorscale\":[[0.0,\"#0d0887\"],[0.1111111111111111,\"#46039f\"],[0.2222222222222222,\"#7201a8\"],[0.3333333333333333,\"#9c179e\"],[0.4444444444444444,\"#bd3786\"],[0.5555555555555556,\"#d8576b\"],[0.6666666666666666,\"#ed7953\"],[0.7777777777777778,\"#fb9f3a\"],[0.8888888888888888,\"#fdca26\"],[1.0,\"#f0f921\"]]}],\"mesh3d\":[{\"type\":\"mesh3d\",\"colorbar\":{\"outlinewidth\":0,\"ticks\":\"\"}}],\"scatter\":[{\"fillpattern\":{\"fillmode\":\"overlay\",\"size\":10,\"solidity\":0.2},\"type\":\"scatter\"}],\"parcoords\":[{\"type\":\"parcoords\",\"line\":{\"colorbar\":{\"outlinewidth\":0,\"ticks\":\"\"}}}],\"scatterpolargl\":[{\"type\":\"scatterpolargl\",\"marker\":{\"colorbar\":{\"outlinewidth\":0,\"ticks\":\"\"}}}],\"bar\":[{\"error_x\":{\"color\":\"#2a3f5f\"},\"error_y\":{\"color\":\"#2a3f5f\"},\"marker\":{\"line\":{\"color\":\"#E5ECF6\",\"width\":0.5},\"pattern\":{\"fillmode\":\"overlay\",\"size\":10,\"solidity\":0.2}},\"type\":\"bar\"}],\"scattergeo\":[{\"type\":\"scattergeo\",\"marker\":{\"colorbar\":{\"outlinewidth\":0,\"ticks\":\"\"}}}],\"scatterpolar\":[{\"type\":\"scatterpolar\",\"marker\":{\"colorbar\":{\"outlinewidth\":0,\"ticks\":\"\"}}}],\"histogram\":[{\"marker\":{\"pattern\":{\"fillmode\":\"overlay\",\"size\":10,\"solidity\":0.2}},\"type\":\"histogram\"}],\"scattergl\":[{\"type\":\"scattergl\",\"marker\":{\"colorbar\":{\"outlinewidth\":0,\"ticks\":\"\"}}}],\"scatter3d\":[{\"type\":\"scatter3d\",\"line\":{\"colorbar\":{\"outlinewidth\":0,\"ticks\":\"\"}},\"marker\":{\"colorbar\":{\"outlinewidth\":0,\"ticks\":\"\"}}}],\"scattermapbox\":[{\"type\":\"scattermapbox\",\"marker\":{\"colorbar\":{\"outlinewidth\":0,\"ticks\":\"\"}}}],\"scatterternary\":[{\"type\":\"scatterternary\",\"marker\":{\"colorbar\":{\"outlinewidth\":0,\"ticks\":\"\"}}}],\"scattercarpet\":[{\"type\":\"scattercarpet\",\"marker\":{\"colorbar\":{\"outlinewidth\":0,\"ticks\":\"\"}}}],\"carpet\":[{\"aaxis\":{\"endlinecolor\":\"#2a3f5f\",\"gridcolor\":\"white\",\"linecolor\":\"white\",\"minorgridcolor\":\"white\",\"startlinecolor\":\"#2a3f5f\"},\"baxis\":{\"endlinecolor\":\"#2a3f5f\",\"gridcolor\":\"white\",\"linecolor\":\"white\",\"minorgridcolor\":\"white\",\"startlinecolor\":\"#2a3f5f\"},\"type\":\"carpet\"}],\"table\":[{\"cells\":{\"fill\":{\"color\":\"#EBF0F8\"},\"line\":{\"color\":\"white\"}},\"header\":{\"fill\":{\"color\":\"#C8D4E3\"},\"line\":{\"color\":\"white\"}},\"type\":\"table\"}],\"barpolar\":[{\"marker\":{\"line\":{\"color\":\"#E5ECF6\",\"width\":0.5},\"pattern\":{\"fillmode\":\"overlay\",\"size\":10,\"solidity\":0.2}},\"type\":\"barpolar\"}],\"pie\":[{\"automargin\":true,\"type\":\"pie\"}]},\"layout\":{\"autotypenumbers\":\"strict\",\"colorway\":[\"#636efa\",\"#EF553B\",\"#00cc96\",\"#ab63fa\",\"#FFA15A\",\"#19d3f3\",\"#FF6692\",\"#B6E880\",\"#FF97FF\",\"#FECB52\"],\"font\":{\"color\":\"#2a3f5f\"},\"hovermode\":\"closest\",\"hoverlabel\":{\"align\":\"left\"},\"paper_bgcolor\":\"white\",\"plot_bgcolor\":\"#E5ECF6\",\"polar\":{\"bgcolor\":\"#E5ECF6\",\"angularaxis\":{\"gridcolor\":\"white\",\"linecolor\":\"white\",\"ticks\":\"\"},\"radialaxis\":{\"gridcolor\":\"white\",\"linecolor\":\"white\",\"ticks\":\"\"}},\"ternary\":{\"bgcolor\":\"#E5ECF6\",\"aaxis\":{\"gridcolor\":\"white\",\"linecolor\":\"white\",\"ticks\":\"\"},\"baxis\":{\"gridcolor\":\"white\",\"linecolor\":\"white\",\"ticks\":\"\"},\"caxis\":{\"gridcolor\":\"white\",\"linecolor\":\"white\",\"ticks\":\"\"}},\"coloraxis\":{\"colorbar\":{\"outlinewidth\":0,\"ticks\":\"\"}},\"colorscale\":{\"sequential\":[[0.0,\"#0d0887\"],[0.1111111111111111,\"#46039f\"],[0.2222222222222222,\"#7201a8\"],[0.3333333333333333,\"#9c179e\"],[0.4444444444444444,\"#bd3786\"],[0.5555555555555556,\"#d8576b\"],[0.6666666666666666,\"#ed7953\"],[0.7777777777777778,\"#fb9f3a\"],[0.8888888888888888,\"#fdca26\"],[1.0,\"#f0f921\"]],\"sequentialminus\":[[0.0,\"#0d0887\"],[0.1111111111111111,\"#46039f\"],[0.2222222222222222,\"#7201a8\"],[0.3333333333333333,\"#9c179e\"],[0.4444444444444444,\"#bd3786\"],[0.5555555555555556,\"#d8576b\"],[0.6666666666666666,\"#ed7953\"],[0.7777777777777778,\"#fb9f3a\"],[0.8888888888888888,\"#fdca26\"],[1.0,\"#f0f921\"]],\"diverging\":[[0,\"#8e0152\"],[0.1,\"#c51b7d\"],[0.2,\"#de77ae\"],[0.3,\"#f1b6da\"],[0.4,\"#fde0ef\"],[0.5,\"#f7f7f7\"],[0.6,\"#e6f5d0\"],[0.7,\"#b8e186\"],[0.8,\"#7fbc41\"],[0.9,\"#4d9221\"],[1,\"#276419\"]]},\"xaxis\":{\"gridcolor\":\"white\",\"linecolor\":\"white\",\"ticks\":\"\",\"title\":{\"standoff\":15},\"zerolinecolor\":\"white\",\"automargin\":true,\"zerolinewidth\":2},\"yaxis\":{\"gridcolor\":\"white\",\"linecolor\":\"white\",\"ticks\":\"\",\"title\":{\"standoff\":15},\"zerolinecolor\":\"white\",\"automargin\":true,\"zerolinewidth\":2},\"scene\":{\"xaxis\":{\"backgroundcolor\":\"#E5ECF6\",\"gridcolor\":\"white\",\"linecolor\":\"white\",\"showbackground\":true,\"ticks\":\"\",\"zerolinecolor\":\"white\",\"gridwidth\":2},\"yaxis\":{\"backgroundcolor\":\"#E5ECF6\",\"gridcolor\":\"white\",\"linecolor\":\"white\",\"showbackground\":true,\"ticks\":\"\",\"zerolinecolor\":\"white\",\"gridwidth\":2},\"zaxis\":{\"backgroundcolor\":\"#E5ECF6\",\"gridcolor\":\"white\",\"linecolor\":\"white\",\"showbackground\":true,\"ticks\":\"\",\"zerolinecolor\":\"white\",\"gridwidth\":2}},\"shapedefaults\":{\"line\":{\"color\":\"#2a3f5f\"}},\"annotationdefaults\":{\"arrowcolor\":\"#2a3f5f\",\"arrowhead\":0,\"arrowwidth\":1},\"geo\":{\"bgcolor\":\"white\",\"landcolor\":\"#E5ECF6\",\"subunitcolor\":\"white\",\"showland\":true,\"showlakes\":true,\"lakecolor\":\"white\"},\"title\":{\"x\":0.05},\"mapbox\":{\"style\":\"light\"}}},\"xaxis\":{\"anchor\":\"y\",\"domain\":[0.0,1.0],\"title\":{\"text\":\"runtime(s)\"}},\"yaxis\":{\"anchor\":\"x\",\"domain\":[0.0,1.0],\"title\":{\"text\":\"optimumRuntime(s)\"}},\"legend\":{\"title\":{\"text\":\"c\"},\"tracegroupgap\":0},\"margin\":{\"t\":60}},                        {\"responsive\": true}                    ).then(function(){\n",
       "                            \n",
       "var gd = document.getElementById('6ef2791c-40e6-465e-a1d5-ea211130b553');\n",
       "var x = new MutationObserver(function (mutations, observer) {{\n",
       "        var display = window.getComputedStyle(gd).display;\n",
       "        if (!display || display === 'none') {{\n",
       "            console.log([gd, 'removed!']);\n",
       "            Plotly.purge(gd);\n",
       "            observer.disconnect();\n",
       "        }}\n",
       "}});\n",
       "\n",
       "// Listen for the removal of the full notebook cells\n",
       "var notebookContainer = gd.closest('#notebook-container');\n",
       "if (notebookContainer) {{\n",
       "    x.observe(notebookContainer, {childList: true});\n",
       "}}\n",
       "\n",
       "// Listen for the clearing of the current output cell\n",
       "var outputEl = gd.closest('.output');\n",
       "if (outputEl) {{\n",
       "    x.observe(outputEl, {childList: true});\n",
       "}}\n",
       "\n",
       "                        })                };                });            </script>        </div>"
      ]
     },
     "metadata": {},
     "output_type": "display_data"
    }
   ],
   "source": [
    "scatterPlotDF = testSummary[['instanceName', 'optimumRuntime', 'runtime', 'n', 'c']]\n",
    "scatterPlotDF = scatterPlotDF.rename(columns = {'optimumRuntime': 'optimumRuntime(s)', 'runtime': 'runtime(s)'})\n",
    "px.scatter(scatterPlotDF, x = 'runtime(s)', y = 'optimumRuntime(s)', color = 'c')"
   ]
  },
  {
   "cell_type": "code",
   "execution_count": null,
   "metadata": {},
   "outputs": [],
   "source": []
  }
 ],
 "metadata": {
  "kernelspec": {
   "display_name": "Python 3.8.10 ('venv': venv)",
   "language": "python",
   "name": "python3"
  },
  "language_info": {
   "codemirror_mode": {
    "name": "ipython",
    "version": 3
   },
   "file_extension": ".py",
   "mimetype": "text/x-python",
   "name": "python",
   "nbconvert_exporter": "python",
   "pygments_lexer": "ipython3",
   "version": "3.8.10"
  },
  "orig_nbformat": 4,
  "vscode": {
   "interpreter": {
    "hash": "7ce6afdbdfadc31a5624df2c0601c464734632445bf6d123e406bff26ad0915a"
   }
  }
 },
 "nbformat": 4,
 "nbformat_minor": 2
}
