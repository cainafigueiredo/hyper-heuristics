{
 "cells": [
  {
   "cell_type": "code",
   "execution_count": 2,
   "metadata": {},
   "outputs": [],
   "source": [
    "%load_ext autoreload\n",
    "%autoreload 2"
   ]
  },
  {
   "cell_type": "code",
   "execution_count": 78,
   "metadata": {},
   "outputs": [],
   "source": [
    "# Reinforcement Learning\n",
    "from src.reinforcement_learning.env import HyperHeuristicEnv \n",
    "\n",
    "# Hyperheuristic\n",
    "from src.HyperHeuristic import HyperHeuristic\n",
    "\n",
    "from src.initial_solution.ConstructiveHeuristic import ConstructiveHeuristic, RandomConstructive, GreedyRandomizedConstructive, GreedyConstructive\n",
    "from src.operators.DestroyOperators import RandomRemove, WorstRemove \n",
    "from src.operators.RepairOperators import RandomRepair, GreedyRepair\n",
    "from src.local_search.LocalSearch import FirstImprovement\n",
    "\n",
    "from src.accept.SimulatedAnnealing import SimulatedAnnealing\n",
    "from src.accept.RecordToRecordTravel import RecordToRecordTravel\n",
    "\n",
    "from src.stop.MaxRuntimeOrNoImprovement import MaxRuntimeOrNoImprovement\n",
    "\n",
    "# Instances\n",
    "from src.KnapsackInstance import KnapsackInstance\n",
    "from utils.benchmark import BinaryKnapsackBenchmark\n",
    "from utils.knapsackSortFunctions import sortIndexesByProfitWeightDensity\n",
    "\n",
    "# Misc libraries\n",
    "import pandas as pd\n",
    "import numpy as np\n",
    "import random\n",
    "import time\n",
    "import re\n",
    "import os\n",
    "\n",
    "import plotly.express as px\n",
    "\n",
    "from sklearn.model_selection import train_test_split\n",
    "\n",
    "import warnings\n",
    "warnings.filterwarnings('ignore')"
   ]
  },
  {
   "cell_type": "markdown",
   "metadata": {},
   "source": [
    "# **Hyperheuristic Construction**"
   ]
  },
  {
   "cell_type": "code",
   "execution_count": 4,
   "metadata": {},
   "outputs": [],
   "source": [
    "def on_best(cand, rand):\n",
    "    # Write your code here\n",
    "    return cand"
   ]
  },
  {
   "cell_type": "code",
   "execution_count": 5,
   "metadata": {},
   "outputs": [],
   "source": [
    "stop = MaxRuntimeOrNoImprovement(max_runtime = 60, max_iterations = 1000)\n",
    "\n",
    "recordToRecordTravel = RecordToRecordTravel(\n",
    "    start_threshold = 0.5,\n",
    "    end_threshold = 0.1,\n",
    "    step = 0.01,\n",
    "    method = 'linear',\n",
    "    cmp_best = True\n",
    ")\n",
    "\n",
    "# simulatedAnnealingCriteria = SimulatedAnnealing(\n",
    "#     start_temperature = 100,\n",
    "#     end_temperature = 0.001,\n",
    "#     step = 0.99,\n",
    "#     method = 'exponential'\n",
    "# )\n",
    "\n",
    "randomRemove1 = RandomRemove(0.2)\n",
    "randomRemove2 = RandomRemove(0.4)\n",
    "worstRemove1 = WorstRemove(0.2)\n",
    "worstRemove2 = WorstRemove(0.4)\n",
    "randomRepair = RandomRepair()\n",
    "greedyRepair = GreedyRepair()\n",
    "\n",
    "firstImprovement = FirstImprovement()\n",
    "\n",
    "randomConstruct = RandomConstructive()\n",
    "greedyConstruct = GreedyConstructive(sortIndexesByProfitWeightDensity)\n",
    "greedyRandomizedConstruct = GreedyRandomizedConstructive(0.3)\n",
    "\n",
    "rewards = [5,3,1,0.5]"
   ]
  },
  {
   "cell_type": "code",
   "execution_count": 6,
   "metadata": {},
   "outputs": [],
   "source": [
    "hyperHeuristic = HyperHeuristic(stop = stop, acceptance = recordToRecordTravel, rewards = rewards, on_best = on_best)\n",
    "\n",
    "hyperHeuristic.add_refinement(randomRemove1, 'randomRemove0.2')\n",
    "hyperHeuristic.add_refinement(randomRemove2, 'randomRemove0.4')\n",
    "hyperHeuristic.add_refinement(worstRemove1, 'worstRemove0.2')\n",
    "hyperHeuristic.add_refinement(worstRemove2, 'worstRemove0.4')\n",
    "hyperHeuristic.add_refinement(randomRepair, 'randomRepair')\n",
    "hyperHeuristic.add_refinement(greedyRepair, 'greedyRepair')\n",
    "\n",
    "hyperHeuristic.add_refinement(firstImprovement, 'firstImprovement')\n",
    "\n",
    "hyperHeuristic.add_refinement(randomConstruct, 'randomConstruct')\n",
    "hyperHeuristic.add_refinement(greedyConstruct, 'greedyConstruct')\n",
    "hyperHeuristic.add_refinement(greedyRandomizedConstruct, 'greedyRandomizedConstruct')"
   ]
  },
  {
   "cell_type": "markdown",
   "metadata": {},
   "source": [
    "# **Benchmark**"
   ]
  },
  {
   "cell_type": "code",
   "execution_count": 7,
   "metadata": {},
   "outputs": [],
   "source": [
    "benchmarkPath = \"../data/benchmark/binaryKnapsack\"\n",
    "benchmark = BinaryKnapsackBenchmark(\"binary\", benchmarkPath)\n",
    "instancesList = benchmark.getInstancesList()\n",
    "np.random.shuffle(instancesList)"
   ]
  },
  {
   "cell_type": "markdown",
   "metadata": {},
   "source": [
    "# **Q-Learning**"
   ]
  },
  {
   "cell_type": "code",
   "execution_count": 8,
   "metadata": {},
   "outputs": [],
   "source": [
    "def instanceGenerator(instancesNames):\n",
    "    while True:\n",
    "        instanceName = np.random.choice(instancesNames, 1, replace = True)[0]\n",
    "        instance = benchmark.parseInstance(instanceName)\n",
    "        yield (instanceName, instance)"
   ]
  },
  {
   "cell_type": "code",
   "execution_count": 79,
   "metadata": {},
   "outputs": [
    {
     "name": "stdout",
     "output_type": "stream",
     "text": [
      "True\n"
     ]
    }
   ],
   "source": [
    "dirFiles = os.listdir()\n",
    "if \"train.txt\" in dirFiles and \"test.txt\" in dirFiles: \n",
    "    with open('./train.txt', 'r') as f:\n",
    "        train = f.read().strip().split(\"\\n\")\n",
    "\n",
    "    with open('./test.txt', 'r') as f:\n",
    "        train = f.read().strip().split(\"\\n\")\n",
    "        \n",
    "else:\n",
    "    train, test = train_test_split(instancesList, test_size = 0.2)\n",
    "\n",
    "    with open('./train.txt', 'w') as f:\n",
    "        f.write(\"\\n\".join(train))\n",
    "\n",
    "    with open('./test.txt', 'w') as f:\n",
    "        f.write(\"\\n\".join(test))\n",
    "\n",
    "    trainInstancesGenerator = instanceGenerator(train)"
   ]
  },
  {
   "cell_type": "code",
   "execution_count": 11,
   "metadata": {},
   "outputs": [],
   "source": [
    "env = HyperHeuristicEnv(hyperHeuristic, trainInstancesGenerator)"
   ]
  },
  {
   "cell_type": "code",
   "execution_count": 13,
   "metadata": {},
   "outputs": [
    {
     "name": "stdout",
     "output_type": "stream",
     "text": [
      "Episode: 15000\n",
      "Training finished.\n",
      "\n"
     ]
    }
   ],
   "source": [
    "from IPython.display import clear_output\n",
    "\n",
    "q_tables = []\n",
    "q_table = np.zeros([env.observation_space.n, env.action_space.n])\n",
    "q_tables.append((0, np.array(q_table, dtype = np.double)))\n",
    "\n",
    "# Hyperparameters\n",
    "alpha_start = 0.5\n",
    "alpha_end = 0.05\n",
    "gamma = 0.6\n",
    "epsilon = 0.1\n",
    "n_epochs = 15000\n",
    "\n",
    "# For plotting metrics\n",
    "all_epochs = []\n",
    "\n",
    "for i in range(1, n_epochs + 1):\n",
    "    state = env.reset()\n",
    "\n",
    "    totalEpochIterations, totalEpochReward, = 1, 0\n",
    "    done = False\n",
    "    \n",
    "    while not done:\n",
    "        alpha = alpha_start + (i-1) * (alpha_end - alpha_start)/n_epochs\n",
    "        \n",
    "        if random.uniform(0, 1) < epsilon:\n",
    "            action = env.action_space.sample() # Explore action space\n",
    "        else:\n",
    "            action = np.argmax(q_table[state]) # Exploit learned values\n",
    "\n",
    "        next_state, reward, done, info = env.step(action) \n",
    "        totalEpochReward += reward\n",
    "        \n",
    "        old_value = q_table[state, action]\n",
    "        next_max = np.max(q_table[next_state])\n",
    "        \n",
    "        new_value = (1 - alpha) * old_value + alpha * (reward + gamma * next_max)\n",
    "        q_table[state, action] = new_value\n",
    "\n",
    "        state = next_state\n",
    "        totalEpochIterations += 1\n",
    "        \n",
    "    runningTime = env.get_running_time()\n",
    "\n",
    "    all_epochs.append([totalEpochIterations, totalEpochReward, runningTime])\n",
    "\n",
    "    if i % 100 == 0:\n",
    "        clear_output(wait=True)\n",
    "        print(f\"Episode: {i}\")\n",
    "        # print(q_table)\n",
    "        q_tables.append((i, np.array(q_table, dtype = np.double)))\n",
    "\n",
    "print(\"Training finished.\\n\")"
   ]
  },
  {
   "cell_type": "code",
   "execution_count": 15,
   "metadata": {},
   "outputs": [
    {
     "data": {
      "text/html": [
       "<div>\n",
       "<style scoped>\n",
       "    .dataframe tbody tr th:only-of-type {\n",
       "        vertical-align: middle;\n",
       "    }\n",
       "\n",
       "    .dataframe tbody tr th {\n",
       "        vertical-align: top;\n",
       "    }\n",
       "\n",
       "    .dataframe thead th {\n",
       "        text-align: right;\n",
       "    }\n",
       "</style>\n",
       "<table border=\"1\" class=\"dataframe\">\n",
       "  <thead>\n",
       "    <tr style=\"text-align: right;\">\n",
       "      <th></th>\n",
       "      <th>iterations</th>\n",
       "      <th>reward</th>\n",
       "      <th>runnnigTime</th>\n",
       "    </tr>\n",
       "  </thead>\n",
       "  <tbody>\n",
       "    <tr>\n",
       "      <th>0</th>\n",
       "      <td>1236</td>\n",
       "      <td>832.5</td>\n",
       "      <td>2.015615</td>\n",
       "    </tr>\n",
       "    <tr>\n",
       "      <th>1</th>\n",
       "      <td>2</td>\n",
       "      <td>0.5</td>\n",
       "      <td>0.018470</td>\n",
       "    </tr>\n",
       "    <tr>\n",
       "      <th>2</th>\n",
       "      <td>2</td>\n",
       "      <td>5.0</td>\n",
       "      <td>0.014452</td>\n",
       "    </tr>\n",
       "    <tr>\n",
       "      <th>3</th>\n",
       "      <td>1002</td>\n",
       "      <td>961.5</td>\n",
       "      <td>2.961271</td>\n",
       "    </tr>\n",
       "    <tr>\n",
       "      <th>4</th>\n",
       "      <td>2</td>\n",
       "      <td>0.5</td>\n",
       "      <td>0.018626</td>\n",
       "    </tr>\n",
       "  </tbody>\n",
       "</table>\n",
       "</div>"
      ],
      "text/plain": [
       "   iterations  reward  runnnigTime\n",
       "0        1236   832.5     2.015615\n",
       "1           2     0.5     0.018470\n",
       "2           2     5.0     0.014452\n",
       "3        1002   961.5     2.961271\n",
       "4           2     0.5     0.018626"
      ]
     },
     "execution_count": 15,
     "metadata": {},
     "output_type": "execute_result"
    }
   ],
   "source": [
    "trainingSummary = pd.DataFrame(data = all_epochs, columns = ['iterations', 'reward', 'runnnigTime'])\n",
    "trainingSummary.head()"
   ]
  },
  {
   "cell_type": "markdown",
   "metadata": {},
   "source": [
    "## **Evaluation**"
   ]
  },
  {
   "cell_type": "code",
   "execution_count": 16,
   "metadata": {},
   "outputs": [
    {
     "name": "stdout",
     "output_type": "stream",
     "text": [
      "n_600_c_1000000_g_2_f_0.3_eps_0_s_300/test.in\n",
      "n_800_c_10000000000_g_14_f_0.3_eps_0.1_s_200/test.in\n",
      "n_800_c_10000000000_g_2_f_0.2_eps_0.1_s_200/test.in\n",
      "n_800_c_10000000000_g_6_f_0.1_eps_0.001_s_200/test.in\n",
      "n_600_c_100000000_g_14_f_0.1_eps_1e-05_s_100/test.in\n",
      "n_1200_c_10000000000_g_10_f_0.1_eps_0.1_s_200/test.in\n",
      "n_1000_c_100000000_g_2_f_0.3_eps_0_s_200/test.in\n",
      "n_600_c_100000000_g_6_f_0.2_eps_0.0001_s_200/test.in\n",
      "n_400_c_100000000_g_2_f_0.1_eps_1e-05_s_200/test.in\n",
      "n_400_c_10000000000_g_6_f_0.1_eps_0.0001_s_100/test.in\n",
      "n_400_c_1000000_g_6_f_0.2_eps_1e-05_s_100/test.in\n",
      "n_400_c_1000000_g_6_f_0.1_eps_1e-05_s_200/test.in\n",
      "n_1000_c_1000000_g_2_f_0.3_eps_0.01_s_300/test.in\n",
      "n_800_c_10000000000_g_14_f_0.2_eps_0.01_s_100/test.in\n",
      "n_1000_c_100000000_g_6_f_0.3_eps_0_s_100/test.in\n",
      "n_1200_c_100000000_g_14_f_0.3_eps_0.001_s_200/test.in\n",
      "n_1000_c_100000000_g_6_f_0.2_eps_1e-05_s_200/test.in\n",
      "n_600_c_1000000_g_6_f_0.1_eps_0.1_s_200/test.in\n",
      "n_1200_c_10000000000_g_14_f_0.3_eps_0.01_s_300/test.in\n",
      "n_400_c_1000000_g_14_f_0.2_eps_0_s_300/test.in\n",
      "n_600_c_100000000_g_6_f_0.2_eps_0_s_100/test.in\n",
      "n_800_c_10000000000_g_2_f_0.2_eps_1e-05_s_300/test.in\n",
      "n_800_c_1000000_g_10_f_0.3_eps_0.0001_s_200/test.in\n",
      "n_600_c_10000000000_g_2_f_0.2_eps_0.0001_s_300/test.in\n",
      "n_1200_c_100000000_g_2_f_0.2_eps_0.0001_s_200/test.in\n",
      "n_800_c_100000000_g_6_f_0.1_eps_0.001_s_100/test.in\n",
      "n_400_c_100000000_g_10_f_0.1_eps_0.01_s_200/test.in\n",
      "n_600_c_10000000000_g_10_f_0.1_eps_0_s_300/test.in\n",
      "n_800_c_100000000_g_6_f_0.2_eps_0.001_s_300/test.in\n",
      "n_800_c_1000000_g_10_f_0.3_eps_0_s_100/test.in\n",
      "n_600_c_1000000_g_10_f_0.2_eps_0.01_s_200/test.in\n",
      "n_1000_c_100000000_g_14_f_0.2_eps_0.001_s_300/test.in\n",
      "n_600_c_1000000_g_6_f_0.2_eps_0.01_s_100/test.in\n",
      "n_600_c_10000000000_g_2_f_0.1_eps_0_s_300/test.in\n",
      "n_1200_c_10000000000_g_10_f_0.3_eps_0.01_s_300/test.in\n",
      "n_800_c_1000000_g_2_f_0.1_eps_0.01_s_300/test.in\n",
      "n_800_c_1000000_g_2_f_0.3_eps_0.1_s_200/test.in\n",
      "n_1000_c_100000000_g_6_f_0.2_eps_0.1_s_200/test.in\n",
      "n_800_c_1000000_g_6_f_0.2_eps_0.01_s_100/test.in\n",
      "n_400_c_10000000000_g_14_f_0.2_eps_1e-05_s_100/test.in\n",
      "n_600_c_10000000000_g_2_f_0.2_eps_0_s_300/test.in\n",
      "n_400_c_1000000_g_10_f_0.1_eps_0.001_s_100/test.in\n",
      "n_1200_c_100000000_g_6_f_0.3_eps_0.001_s_100/test.in\n",
      "n_1000_c_1000000_g_2_f_0.1_eps_0.01_s_200/test.in\n",
      "n_1000_c_100000000_g_6_f_0.3_eps_0_s_300/test.in\n",
      "n_1200_c_10000000000_g_2_f_0.2_eps_1e-05_s_200/test.in\n",
      "n_600_c_1000000_g_2_f_0.2_eps_0.001_s_300/test.in\n",
      "n_600_c_10000000000_g_2_f_0.1_eps_0.01_s_200/test.in\n",
      "n_1200_c_1000000_g_6_f_0.2_eps_1e-05_s_300/test.in\n",
      "n_1000_c_10000000000_g_10_f_0.1_eps_0.01_s_200/test.in\n",
      "n_1000_c_100000000_g_14_f_0.2_eps_0_s_300/test.in\n",
      "n_600_c_1000000_g_2_f_0.1_eps_0.1_s_200/test.in\n",
      "n_1200_c_10000000000_g_6_f_0.3_eps_1e-05_s_300/test.in\n",
      "n_400_c_1000000_g_10_f_0.1_eps_0_s_200/test.in\n",
      "n_600_c_1000000_g_14_f_0.1_eps_0.01_s_100/test.in\n",
      "n_800_c_10000000000_g_2_f_0.2_eps_0_s_100/test.in\n",
      "n_400_c_10000000000_g_2_f_0.1_eps_0.0001_s_100/test.in\n",
      "n_600_c_10000000000_g_10_f_0.2_eps_0.1_s_200/test.in\n",
      "n_800_c_100000000_g_2_f_0.2_eps_0.01_s_300/test.in\n",
      "n_1000_c_100000000_g_6_f_0.2_eps_0_s_200/test.in\n",
      "n_1000_c_100000000_g_6_f_0.3_eps_0.1_s_200/test.in\n",
      "n_1000_c_100000000_g_10_f_0.3_eps_0_s_100/test.in\n",
      "n_600_c_1000000_g_14_f_0.3_eps_0.1_s_100/test.in\n",
      "n_400_c_100000000_g_10_f_0.1_eps_0_s_100/test.in\n",
      "n_800_c_10000000000_g_6_f_0.3_eps_0.001_s_100/test.in\n",
      "n_800_c_1000000_g_10_f_0.1_eps_0.001_s_200/test.in\n",
      "n_1200_c_1000000_g_10_f_0.3_eps_0.0001_s_300/test.in\n",
      "n_400_c_100000000_g_2_f_0.2_eps_0_s_300/test.in\n",
      "n_800_c_1000000_g_10_f_0.1_eps_0.0001_s_300/test.in\n",
      "n_400_c_100000000_g_14_f_0.3_eps_1e-05_s_100/test.in\n",
      "n_1200_c_10000000000_g_10_f_0.2_eps_0.01_s_100/test.in\n",
      "n_800_c_1000000_g_10_f_0.3_eps_0.1_s_300/test.in\n",
      "n_800_c_1000000_g_6_f_0.2_eps_0.1_s_200/test.in\n",
      "n_1000_c_10000000000_g_2_f_0.2_eps_0.0001_s_100/test.in\n",
      "n_1000_c_100000000_g_6_f_0.3_eps_0.001_s_300/test.in\n",
      "n_600_c_10000000000_g_14_f_0.3_eps_0.01_s_100/test.in\n",
      "n_1200_c_10000000000_g_6_f_0.1_eps_0_s_200/test.in\n",
      "n_800_c_1000000_g_2_f_0.3_eps_0.001_s_200/test.in\n",
      "n_1000_c_100000000_g_10_f_0.1_eps_0_s_300/test.in\n",
      "n_800_c_100000000_g_10_f_0.2_eps_0.01_s_100/test.in\n",
      "n_800_c_1000000_g_2_f_0.3_eps_0.01_s_200/test.in\n",
      "n_400_c_1000000_g_10_f_0.3_eps_0.1_s_100/test.in\n",
      "n_1000_c_1000000_g_14_f_0.2_eps_0.001_s_300/test.in\n",
      "n_600_c_1000000_g_10_f_0.1_eps_0.01_s_300/test.in\n",
      "n_800_c_1000000_g_6_f_0.3_eps_0.001_s_200/test.in\n",
      "n_1200_c_1000000_g_6_f_0.3_eps_1e-05_s_100/test.in\n",
      "n_800_c_100000000_g_14_f_0.3_eps_1e-05_s_300/test.in\n",
      "n_800_c_1000000_g_10_f_0.1_eps_0.0001_s_200/test.in\n",
      "n_1200_c_100000000_g_14_f_0.1_eps_0.1_s_300/test.in\n",
      "n_1000_c_100000000_g_2_f_0.2_eps_0.01_s_100/test.in\n",
      "n_1200_c_100000000_g_14_f_0.2_eps_1e-05_s_300/test.in\n",
      "n_400_c_10000000000_g_2_f_0.2_eps_0_s_200/test.in\n",
      "n_800_c_100000000_g_2_f_0.3_eps_0.1_s_200/test.in\n",
      "n_1200_c_1000000_g_10_f_0.2_eps_0_s_300/test.in\n",
      "n_1200_c_100000000_g_2_f_0.3_eps_0_s_300/test.in\n",
      "n_400_c_1000000_g_14_f_0.1_eps_1e-05_s_100/test.in\n",
      "n_600_c_10000000000_g_14_f_0.1_eps_0.01_s_200/test.in\n",
      "n_600_c_1000000_g_10_f_0.1_eps_0_s_200/test.in\n",
      "n_600_c_1000000_g_6_f_0.3_eps_0.001_s_200/test.in\n",
      "n_400_c_100000000_g_10_f_0.2_eps_0_s_200/test.in\n",
      "n_800_c_1000000_g_14_f_0.1_eps_1e-05_s_200/test.in\n",
      "n_400_c_10000000000_g_6_f_0.1_eps_0_s_200/test.in\n",
      "n_1200_c_100000000_g_2_f_0.3_eps_0_s_100/test.in\n",
      "n_1000_c_10000000000_g_14_f_0.2_eps_1e-05_s_100/test.in\n",
      "n_400_c_1000000_g_10_f_0.2_eps_0_s_300/test.in\n",
      "n_1200_c_100000000_g_2_f_0.3_eps_0.01_s_100/test.in\n",
      "n_400_c_100000000_g_6_f_0.3_eps_1e-05_s_200/test.in\n",
      "n_400_c_1000000_g_2_f_0.3_eps_0.01_s_100/test.in\n",
      "n_1000_c_100000000_g_14_f_0.3_eps_0_s_300/test.in\n",
      "n_400_c_10000000000_g_2_f_0.3_eps_1e-05_s_100/test.in\n",
      "n_800_c_10000000000_g_6_f_0.3_eps_0.1_s_100/test.in\n",
      "n_800_c_1000000_g_10_f_0.1_eps_0.1_s_300/test.in\n",
      "n_800_c_10000000000_g_6_f_0.3_eps_0.0001_s_100/test.in\n",
      "n_1000_c_1000000_g_6_f_0.3_eps_0_s_200/test.in\n",
      "n_600_c_100000000_g_2_f_0.3_eps_1e-05_s_300/test.in\n",
      "n_600_c_100000000_g_14_f_0.3_eps_0.001_s_200/test.in\n",
      "n_400_c_10000000000_g_6_f_0.1_eps_1e-05_s_200/test.in\n",
      "n_1200_c_1000000_g_10_f_0.3_eps_0.0001_s_200/test.in\n",
      "n_600_c_10000000000_g_14_f_0.2_eps_0.001_s_100/test.in\n",
      "n_400_c_100000000_g_14_f_0.2_eps_0.001_s_100/test.in\n",
      "n_600_c_10000000000_g_14_f_0.2_eps_0_s_200/test.in\n",
      "n_600_c_10000000000_g_14_f_0.2_eps_0_s_300/test.in\n",
      "n_1200_c_10000000000_g_10_f_0.1_eps_1e-05_s_200/test.in\n",
      "n_1200_c_1000000_g_6_f_0.3_eps_1e-05_s_200/test.in\n",
      "n_1200_c_100000000_g_10_f_0.3_eps_0.001_s_100/test.in\n",
      "n_600_c_100000000_g_2_f_0.3_eps_0.001_s_300/test.in\n",
      "n_800_c_100000000_g_14_f_0.1_eps_0_s_200/test.in\n",
      "n_400_c_100000000_g_10_f_0.3_eps_1e-05_s_200/test.in\n",
      "n_800_c_100000000_g_10_f_0.1_eps_0.001_s_100/test.in\n",
      "n_1000_c_100000000_g_14_f_0.2_eps_0.0001_s_300/test.in\n",
      "n_400_c_100000000_g_14_f_0.2_eps_0_s_200/test.in\n",
      "n_800_c_100000000_g_6_f_0.3_eps_0.0001_s_200/test.in\n",
      "n_800_c_1000000_g_10_f_0.3_eps_0.001_s_100/test.in\n",
      "n_1200_c_10000000000_g_10_f_0.2_eps_0_s_100/test.in\n",
      "n_400_c_100000000_g_14_f_0.1_eps_1e-05_s_300/test.in\n",
      "n_1200_c_1000000_g_14_f_0.3_eps_0.01_s_100/test.in\n",
      "n_1200_c_10000000000_g_14_f_0.3_eps_1e-05_s_100/test.in\n",
      "n_400_c_100000000_g_14_f_0.1_eps_1e-05_s_100/test.in\n",
      "n_600_c_1000000_g_2_f_0.2_eps_0_s_100/test.in\n",
      "n_1000_c_100000000_g_10_f_0.1_eps_0.0001_s_300/test.in\n",
      "n_1200_c_1000000_g_2_f_0.1_eps_0.01_s_200/test.in\n",
      "n_800_c_1000000_g_6_f_0.2_eps_0_s_200/test.in\n",
      "n_800_c_10000000000_g_2_f_0.1_eps_0.1_s_100/test.in\n",
      "n_400_c_1000000_g_14_f_0.3_eps_1e-05_s_300/test.in\n",
      "n_1200_c_100000000_g_10_f_0.3_eps_0.001_s_200/test.in\n",
      "n_600_c_1000000_g_14_f_0.2_eps_1e-05_s_200/test.in\n",
      "n_800_c_10000000000_g_2_f_0.2_eps_0.1_s_300/test.in\n",
      "n_1000_c_100000000_g_2_f_0.3_eps_0.01_s_100/test.in\n",
      "n_600_c_10000000000_g_14_f_0.1_eps_1e-05_s_100/test.in\n",
      "n_1200_c_1000000_g_10_f_0.1_eps_0.01_s_200/test.in\n",
      "n_600_c_100000000_g_14_f_0.3_eps_0.1_s_200/test.in\n",
      "n_400_c_100000000_g_10_f_0.2_eps_0_s_300/test.in\n",
      "n_600_c_10000000000_g_6_f_0.1_eps_0.0001_s_100/test.in\n",
      "n_600_c_1000000_g_6_f_0.3_eps_0.1_s_300/test.in\n",
      "n_800_c_10000000000_g_10_f_0.2_eps_0.001_s_100/test.in\n",
      "n_1200_c_100000000_g_10_f_0.2_eps_1e-05_s_100/test.in\n",
      "n_600_c_1000000_g_2_f_0.1_eps_0.1_s_100/test.in\n",
      "n_800_c_10000000000_g_10_f_0.1_eps_0.001_s_100/test.in\n",
      "n_800_c_100000000_g_2_f_0.2_eps_0.001_s_100/test.in\n",
      "n_1000_c_1000000_g_14_f_0.2_eps_0_s_200/test.in\n",
      "n_1200_c_100000000_g_10_f_0.1_eps_0.001_s_200/test.in\n",
      "n_1000_c_100000000_g_2_f_0.1_eps_0.1_s_100/test.in\n",
      "n_600_c_1000000_g_2_f_0.2_eps_0_s_300/test.in\n",
      "n_1200_c_100000000_g_14_f_0.3_eps_0.1_s_100/test.in\n",
      "n_400_c_1000000_g_10_f_0.1_eps_0.01_s_200/test.in\n",
      "n_1000_c_10000000000_g_14_f_0.2_eps_0_s_300/test.in\n",
      "n_800_c_100000000_g_2_f_0.1_eps_1e-05_s_300/test.in\n",
      "n_400_c_10000000000_g_14_f_0.1_eps_0_s_200/test.in\n",
      "n_1200_c_1000000_g_14_f_0.3_eps_0_s_300/test.in\n",
      "n_600_c_100000000_g_10_f_0.3_eps_0.1_s_200/test.in\n",
      "n_1200_c_10000000000_g_14_f_0.2_eps_0.0001_s_300/test.in\n",
      "n_800_c_100000000_g_10_f_0.1_eps_0_s_200/test.in\n",
      "n_600_c_10000000000_g_6_f_0.1_eps_0.1_s_100/test.in\n",
      "n_1000_c_10000000000_g_2_f_0.2_eps_0.001_s_200/test.in\n",
      "n_600_c_1000000_g_6_f_0.2_eps_0.1_s_200/test.in\n",
      "n_1000_c_1000000_g_10_f_0.1_eps_1e-05_s_100/test.in\n",
      "n_600_c_100000000_g_2_f_0.2_eps_0.1_s_200/test.in\n",
      "n_800_c_100000000_g_6_f_0.2_eps_0.01_s_300/test.in\n",
      "n_1200_c_10000000000_g_10_f_0.1_eps_0.0001_s_200/test.in\n",
      "n_400_c_100000000_g_14_f_0.3_eps_0.01_s_200/test.in\n",
      "n_800_c_10000000000_g_14_f_0.1_eps_0.0001_s_300/test.in\n",
      "n_400_c_100000000_g_14_f_0.2_eps_0.01_s_300/test.in\n",
      "n_400_c_10000000000_g_2_f_0.3_eps_0_s_300/test.in\n",
      "n_1000_c_1000000_g_14_f_0.3_eps_0_s_300/test.in\n",
      "n_600_c_100000000_g_6_f_0.2_eps_0.0001_s_100/test.in\n",
      "n_800_c_10000000000_g_14_f_0.2_eps_0.0001_s_300/test.in\n",
      "n_400_c_10000000000_g_10_f_0.3_eps_1e-05_s_100/test.in\n",
      "n_1000_c_10000000000_g_2_f_0.3_eps_0.0001_s_300/test.in\n",
      "n_600_c_1000000_g_6_f_0.2_eps_0_s_300/test.in\n",
      "n_1200_c_10000000000_g_6_f_0.2_eps_0.0001_s_100/test.in\n",
      "n_800_c_10000000000_g_6_f_0.2_eps_0.001_s_100/test.in\n",
      "n_1000_c_100000000_g_10_f_0.3_eps_0.1_s_100/test.in\n",
      "n_1000_c_10000000000_g_2_f_0.1_eps_0.1_s_300/test.in\n",
      "n_600_c_10000000000_g_6_f_0.3_eps_0.001_s_200/test.in\n",
      "n_800_c_10000000000_g_10_f_0.2_eps_0.0001_s_300/test.in\n",
      "n_600_c_10000000000_g_10_f_0.2_eps_0.0001_s_300/test.in\n",
      "n_600_c_10000000000_g_14_f_0.2_eps_0_s_100/test.in\n",
      "n_600_c_1000000_g_10_f_0.3_eps_0.1_s_100/test.in\n",
      "n_400_c_100000000_g_6_f_0.2_eps_0.1_s_300/test.in\n",
      "n_600_c_1000000_g_10_f_0.2_eps_1e-05_s_100/test.in\n",
      "n_1000_c_100000000_g_10_f_0.2_eps_0.01_s_300/test.in\n",
      "n_800_c_1000000_g_14_f_0.3_eps_0.0001_s_300/test.in\n",
      "n_1200_c_1000000_g_2_f_0.3_eps_0.0001_s_300/test.in\n",
      "n_1200_c_10000000000_g_14_f_0.3_eps_0.1_s_100/test.in\n",
      "n_400_c_100000000_g_2_f_0.3_eps_1e-05_s_300/test.in\n",
      "n_400_c_1000000_g_2_f_0.3_eps_0.0001_s_100/test.in\n",
      "n_1000_c_100000000_g_10_f_0.2_eps_0_s_300/test.in\n",
      "n_400_c_100000000_g_6_f_0.2_eps_0.01_s_300/test.in\n",
      "n_400_c_1000000_g_2_f_0.1_eps_0.001_s_100/test.in\n",
      "n_400_c_1000000_g_14_f_0.3_eps_0_s_300/test.in\n",
      "n_400_c_100000000_g_10_f_0.2_eps_1e-05_s_200/test.in\n",
      "n_400_c_100000000_g_10_f_0.2_eps_0.001_s_100/test.in\n",
      "n_1000_c_1000000_g_2_f_0.3_eps_0.001_s_300/test.in\n",
      "n_600_c_1000000_g_14_f_0.1_eps_0.1_s_300/test.in\n",
      "n_400_c_1000000_g_2_f_0.2_eps_0.0001_s_200/test.in\n",
      "n_1200_c_10000000000_g_6_f_0.2_eps_1e-05_s_300/test.in\n",
      "n_1000_c_100000000_g_2_f_0.3_eps_1e-05_s_200/test.in\n",
      "n_800_c_10000000000_g_10_f_0.3_eps_1e-05_s_300/test.in\n",
      "n_1200_c_100000000_g_6_f_0.2_eps_1e-05_s_300/test.in\n",
      "n_400_c_100000000_g_10_f_0.1_eps_0_s_300/test.in\n",
      "n_1000_c_1000000_g_6_f_0.1_eps_1e-05_s_200/test.in\n",
      "n_400_c_10000000000_g_6_f_0.3_eps_0.0001_s_100/test.in\n",
      "n_1200_c_100000000_g_6_f_0.1_eps_0.01_s_200/test.in\n",
      "n_1000_c_1000000_g_6_f_0.1_eps_0.001_s_100/test.in\n",
      "n_400_c_1000000_g_14_f_0.1_eps_1e-05_s_300/test.in\n",
      "n_800_c_100000000_g_6_f_0.1_eps_1e-05_s_100/test.in\n",
      "n_1200_c_100000000_g_14_f_0.3_eps_0_s_100/test.in\n",
      "n_1000_c_100000000_g_6_f_0.3_eps_1e-05_s_200/test.in\n",
      "n_1000_c_100000000_g_10_f_0.1_eps_0.001_s_200/test.in\n",
      "n_1200_c_1000000_g_10_f_0.1_eps_0.0001_s_100/test.in\n",
      "n_400_c_10000000000_g_10_f_0.1_eps_1e-05_s_300/test.in\n",
      "n_1200_c_10000000000_g_10_f_0.3_eps_0.1_s_200/test.in\n",
      "n_1000_c_100000000_g_6_f_0.2_eps_0.01_s_200/test.in\n",
      "n_600_c_100000000_g_10_f_0.1_eps_0.1_s_100/test.in\n",
      "n_800_c_100000000_g_14_f_0.2_eps_0.0001_s_200/test.in\n",
      "n_600_c_100000000_g_2_f_0.3_eps_1e-05_s_100/test.in\n",
      "n_800_c_100000000_g_2_f_0.1_eps_0.1_s_300/test.in\n",
      "n_600_c_10000000000_g_2_f_0.3_eps_0.0001_s_100/test.in\n",
      "n_800_c_10000000000_g_2_f_0.3_eps_0.001_s_200/test.in\n",
      "n_800_c_100000000_g_10_f_0.3_eps_1e-05_s_100/test.in\n",
      "n_1000_c_10000000000_g_14_f_0.3_eps_0.001_s_100/test.in\n",
      "n_600_c_1000000_g_14_f_0.2_eps_0.0001_s_100/test.in\n",
      "n_1000_c_1000000_g_14_f_0.2_eps_0.0001_s_200/test.in\n",
      "n_1200_c_100000000_g_6_f_0.2_eps_0_s_300/test.in\n",
      "n_400_c_10000000000_g_10_f_0.2_eps_0.001_s_200/test.in\n",
      "n_800_c_100000000_g_6_f_0.3_eps_0.01_s_200/test.in\n",
      "n_1000_c_10000000000_g_2_f_0.1_eps_0.001_s_100/test.in\n",
      "n_600_c_10000000000_g_10_f_0.1_eps_0.0001_s_100/test.in\n",
      "n_1200_c_1000000_g_10_f_0.3_eps_1e-05_s_100/test.in\n",
      "n_600_c_100000000_g_2_f_0.3_eps_0_s_200/test.in\n",
      "n_400_c_100000000_g_6_f_0.2_eps_0.0001_s_300/test.in\n",
      "n_800_c_100000000_g_10_f_0.2_eps_0.0001_s_200/test.in\n",
      "n_400_c_100000000_g_14_f_0.2_eps_0.001_s_300/test.in\n",
      "n_1000_c_10000000000_g_6_f_0.3_eps_0.001_s_200/test.in\n",
      "n_800_c_10000000000_g_10_f_0.2_eps_0.1_s_300/test.in\n",
      "n_400_c_100000000_g_14_f_0.1_eps_0.0001_s_100/test.in\n",
      "n_800_c_10000000000_g_14_f_0.2_eps_0.01_s_200/test.in\n",
      "n_600_c_1000000_g_10_f_0.1_eps_0.001_s_300/test.in\n",
      "n_400_c_100000000_g_10_f_0.3_eps_0.0001_s_100/test.in\n",
      "n_600_c_100000000_g_6_f_0.1_eps_0.001_s_100/test.in\n",
      "n_800_c_100000000_g_6_f_0.3_eps_0.01_s_300/test.in\n",
      "n_800_c_1000000_g_10_f_0.2_eps_0_s_200/test.in\n",
      "n_600_c_100000000_g_14_f_0.1_eps_0.01_s_300/test.in\n",
      "n_400_c_1000000_g_14_f_0.3_eps_1e-05_s_200/test.in\n",
      "n_600_c_100000000_g_2_f_0.2_eps_0_s_200/test.in\n",
      "n_400_c_10000000000_g_14_f_0.3_eps_0.1_s_300/test.in\n",
      "n_1000_c_100000000_g_10_f_0.2_eps_0.0001_s_300/test.in\n",
      "n_800_c_1000000_g_2_f_0.2_eps_0.01_s_300/test.in\n",
      "n_1200_c_100000000_g_14_f_0.2_eps_0_s_200/test.in\n",
      "n_600_c_1000000_g_10_f_0.3_eps_1e-05_s_100/test.in\n",
      "n_600_c_1000000_g_6_f_0.3_eps_0_s_200/test.in\n",
      "n_400_c_10000000000_g_14_f_0.2_eps_0.0001_s_200/test.in\n",
      "n_1200_c_1000000_g_14_f_0.3_eps_0.0001_s_200/test.in\n",
      "n_600_c_100000000_g_2_f_0.2_eps_0.001_s_100/test.in\n",
      "n_1200_c_100000000_g_6_f_0.2_eps_0.001_s_100/test.in\n",
      "n_600_c_10000000000_g_2_f_0.2_eps_0.001_s_100/test.in\n",
      "n_1200_c_100000000_g_6_f_0.3_eps_0_s_300/test.in\n",
      "n_400_c_100000000_g_6_f_0.1_eps_0.001_s_200/test.in\n",
      "n_1200_c_10000000000_g_10_f_0.1_eps_0.1_s_100/test.in\n",
      "n_400_c_100000000_g_2_f_0.1_eps_0.0001_s_200/test.in\n",
      "n_400_c_1000000_g_6_f_0.3_eps_1e-05_s_100/test.in\n",
      "n_1200_c_100000000_g_10_f_0.2_eps_0.0001_s_200/test.in\n",
      "n_800_c_100000000_g_6_f_0.2_eps_0.1_s_100/test.in\n",
      "n_1200_c_100000000_g_10_f_0.3_eps_0.01_s_300/test.in\n",
      "n_800_c_1000000_g_10_f_0.3_eps_0.0001_s_100/test.in\n",
      "n_400_c_10000000000_g_2_f_0.3_eps_0.01_s_300/test.in\n",
      "n_400_c_1000000_g_2_f_0.3_eps_1e-05_s_300/test.in\n",
      "n_600_c_100000000_g_2_f_0.2_eps_0.1_s_300/test.in\n",
      "n_600_c_1000000_g_14_f_0.1_eps_0.0001_s_200/test.in\n",
      "n_400_c_1000000_g_14_f_0.1_eps_0.01_s_300/test.in\n",
      "n_800_c_1000000_g_14_f_0.1_eps_0.001_s_200/test.in\n",
      "n_1000_c_10000000000_g_2_f_0.2_eps_0.0001_s_300/test.in\n",
      "n_600_c_1000000_g_10_f_0.1_eps_1e-05_s_100/test.in\n",
      "n_1000_c_10000000000_g_14_f_0.1_eps_0.0001_s_300/test.in\n",
      "n_600_c_100000000_g_6_f_0.2_eps_1e-05_s_300/test.in\n",
      "n_1000_c_1000000_g_2_f_0.3_eps_0.0001_s_300/test.in\n",
      "n_1200_c_10000000000_g_2_f_0.1_eps_0.001_s_200/test.in\n",
      "n_600_c_10000000000_g_6_f_0.1_eps_1e-05_s_100/test.in\n",
      "n_1000_c_100000000_g_14_f_0.2_eps_0_s_100/test.in\n",
      "n_1000_c_1000000_g_6_f_0.1_eps_1e-05_s_300/test.in\n",
      "n_1200_c_1000000_g_14_f_0.2_eps_0.0001_s_100/test.in\n",
      "n_1000_c_1000000_g_10_f_0.1_eps_1e-05_s_200/test.in\n",
      "n_400_c_100000000_g_14_f_0.1_eps_1e-05_s_200/test.in\n",
      "n_400_c_10000000000_g_14_f_0.1_eps_0.01_s_200/test.in\n",
      "n_400_c_10000000000_g_2_f_0.2_eps_0.1_s_300/test.in\n",
      "n_600_c_1000000_g_10_f_0.2_eps_0.1_s_100/test.in\n",
      "n_1200_c_100000000_g_6_f_0.1_eps_0.001_s_100/test.in\n",
      "n_800_c_1000000_g_14_f_0.1_eps_1e-05_s_100/test.in\n",
      "n_400_c_1000000_g_6_f_0.3_eps_0.1_s_100/test.in\n",
      "n_1200_c_1000000_g_6_f_0.3_eps_0_s_300/test.in\n",
      "n_600_c_1000000_g_6_f_0.1_eps_0.01_s_300/test.in\n",
      "n_1000_c_100000000_g_2_f_0.3_eps_0_s_100/test.in\n",
      "n_600_c_100000000_g_14_f_0.1_eps_0.0001_s_300/test.in\n",
      "n_800_c_10000000000_g_2_f_0.2_eps_0.001_s_300/test.in\n",
      "n_400_c_1000000_g_6_f_0.2_eps_0_s_200/test.in\n",
      "n_800_c_10000000000_g_2_f_0.2_eps_0.01_s_100/test.in\n",
      "n_1200_c_100000000_g_2_f_0.3_eps_0.1_s_200/test.in\n",
      "n_400_c_1000000_g_6_f_0.1_eps_0.0001_s_200/test.in\n",
      "n_1200_c_100000000_g_14_f_0.2_eps_0.01_s_200/test.in\n",
      "n_1000_c_100000000_g_14_f_0.3_eps_0.001_s_300/test.in\n",
      "n_600_c_100000000_g_2_f_0.1_eps_0.0001_s_300/test.in\n",
      "n_800_c_10000000000_g_6_f_0.3_eps_0.01_s_200/test.in\n",
      "n_1000_c_1000000_g_6_f_0.1_eps_0.0001_s_300/test.in\n",
      "n_1200_c_1000000_g_6_f_0.2_eps_0_s_300/test.in\n",
      "n_1000_c_10000000000_g_14_f_0.1_eps_0.1_s_200/test.in\n",
      "n_1000_c_100000000_g_6_f_0.3_eps_0_s_200/test.in\n",
      "n_600_c_1000000_g_14_f_0.3_eps_0.1_s_300/test.in\n",
      "n_800_c_1000000_g_14_f_0.1_eps_0.001_s_300/test.in\n",
      "n_1200_c_10000000000_g_6_f_0.1_eps_1e-05_s_100/test.in\n",
      "n_1000_c_10000000000_g_10_f_0.1_eps_0.001_s_300/test.in\n",
      "n_800_c_100000000_g_6_f_0.2_eps_0.1_s_200/test.in\n",
      "n_1000_c_10000000000_g_2_f_0.2_eps_0.0001_s_200/test.in\n",
      "n_600_c_10000000000_g_10_f_0.1_eps_0.001_s_100/test.in\n",
      "n_400_c_1000000_g_6_f_0.3_eps_0.01_s_300/test.in\n",
      "n_1000_c_1000000_g_2_f_0.1_eps_0.1_s_100/test.in\n",
      "n_600_c_1000000_g_6_f_0.2_eps_0.1_s_300/test.in\n",
      "n_1200_c_1000000_g_6_f_0.2_eps_0.1_s_200/test.in\n",
      "n_1200_c_100000000_g_2_f_0.1_eps_0.0001_s_100/test.in\n",
      "n_800_c_10000000000_g_2_f_0.1_eps_0.1_s_300/test.in\n",
      "n_400_c_1000000_g_10_f_0.2_eps_0.01_s_100/test.in\n",
      "n_600_c_1000000_g_14_f_0.3_eps_0.0001_s_200/test.in\n",
      "n_1200_c_10000000000_g_14_f_0.3_eps_0.0001_s_200/test.in\n",
      "n_1200_c_1000000_g_2_f_0.3_eps_0.001_s_200/test.in\n",
      "n_400_c_100000000_g_10_f_0.2_eps_0.01_s_300/test.in\n",
      "n_800_c_10000000000_g_2_f_0.1_eps_0.01_s_100/test.in\n",
      "n_400_c_10000000000_g_2_f_0.1_eps_0.001_s_300/test.in\n",
      "n_1200_c_1000000_g_6_f_0.1_eps_0.001_s_300/test.in\n",
      "n_600_c_1000000_g_6_f_0.3_eps_0.1_s_100/test.in\n",
      "n_400_c_10000000000_g_2_f_0.2_eps_0.001_s_300/test.in\n",
      "n_600_c_100000000_g_10_f_0.2_eps_1e-05_s_100/test.in\n",
      "n_400_c_100000000_g_10_f_0.1_eps_0.001_s_300/test.in\n",
      "n_1000_c_10000000000_g_10_f_0.3_eps_0.001_s_300/test.in\n",
      "n_600_c_10000000000_g_14_f_0.3_eps_0_s_100/test.in\n",
      "n_600_c_1000000_g_10_f_0.3_eps_0.0001_s_200/test.in\n",
      "n_400_c_100000000_g_6_f_0.1_eps_1e-05_s_100/test.in\n",
      "n_1000_c_10000000000_g_14_f_0.3_eps_0.0001_s_100/test.in\n",
      "n_400_c_100000000_g_14_f_0.2_eps_1e-05_s_300/test.in\n",
      "n_800_c_100000000_g_14_f_0.1_eps_0.1_s_300/test.in\n",
      "n_1000_c_1000000_g_10_f_0.2_eps_0.1_s_200/test.in\n",
      "n_1000_c_10000000000_g_14_f_0.2_eps_0.01_s_100/test.in\n",
      "n_600_c_1000000_g_14_f_0.2_eps_1e-05_s_100/test.in\n",
      "n_1200_c_10000000000_g_6_f_0.3_eps_0.1_s_200/test.in\n",
      "n_400_c_100000000_g_2_f_0.3_eps_0.01_s_200/test.in\n",
      "n_1200_c_1000000_g_6_f_0.2_eps_1e-05_s_100/test.in\n",
      "n_800_c_1000000_g_2_f_0.3_eps_0_s_300/test.in\n",
      "n_1000_c_100000000_g_14_f_0.1_eps_1e-05_s_300/test.in\n",
      "n_800_c_10000000000_g_10_f_0.2_eps_1e-05_s_100/test.in\n",
      "n_1000_c_100000000_g_14_f_0.2_eps_1e-05_s_200/test.in\n",
      "n_1200_c_100000000_g_10_f_0.2_eps_0.0001_s_100/test.in\n",
      "n_1000_c_10000000000_g_6_f_0.1_eps_0.1_s_100/test.in\n",
      "n_1200_c_10000000000_g_10_f_0.2_eps_0.1_s_100/test.in\n",
      "n_400_c_1000000_g_6_f_0.3_eps_0_s_300/test.in\n",
      "n_800_c_1000000_g_14_f_0.1_eps_0.01_s_100/test.in\n",
      "n_1200_c_1000000_g_2_f_0.2_eps_1e-05_s_200/test.in\n",
      "n_1200_c_1000000_g_2_f_0.3_eps_0.0001_s_100/test.in\n",
      "n_600_c_1000000_g_14_f_0.1_eps_1e-05_s_100/test.in\n",
      "n_600_c_1000000_g_10_f_0.2_eps_0.0001_s_300/test.in\n",
      "n_1000_c_10000000000_g_14_f_0.2_eps_0.1_s_300/test.in\n",
      "n_1200_c_1000000_g_14_f_0.1_eps_0.1_s_300/test.in\n",
      "n_1200_c_10000000000_g_14_f_0.3_eps_0.001_s_100/test.in\n",
      "n_1200_c_10000000000_g_6_f_0.3_eps_0_s_300/test.in\n",
      "n_400_c_10000000000_g_2_f_0.1_eps_0_s_100/test.in\n",
      "n_800_c_100000000_g_2_f_0.3_eps_0.01_s_200/test.in\n",
      "n_400_c_10000000000_g_6_f_0.2_eps_0_s_100/test.in\n",
      "n_400_c_10000000000_g_6_f_0.3_eps_0.01_s_300/test.in\n",
      "n_1000_c_10000000000_g_14_f_0.2_eps_0_s_100/test.in\n",
      "n_1200_c_10000000000_g_14_f_0.1_eps_0.0001_s_200/test.in\n",
      "n_1000_c_1000000_g_10_f_0.3_eps_0.001_s_100/test.in\n",
      "n_400_c_10000000000_g_2_f_0.2_eps_0.001_s_200/test.in\n",
      "n_400_c_10000000000_g_6_f_0.1_eps_0.01_s_300/test.in\n",
      "n_400_c_1000000_g_10_f_0.1_eps_0.1_s_200/test.in\n",
      "n_1000_c_100000000_g_14_f_0.2_eps_1e-05_s_300/test.in\n",
      "n_1200_c_10000000000_g_6_f_0.2_eps_0.01_s_200/test.in\n",
      "n_600_c_1000000_g_2_f_0.2_eps_1e-05_s_100/test.in\n",
      "n_600_c_1000000_g_14_f_0.3_eps_1e-05_s_300/test.in\n",
      "n_1200_c_100000000_g_10_f_0.2_eps_0.001_s_300/test.in\n",
      "n_400_c_1000000_g_6_f_0.2_eps_0.0001_s_300/test.in\n",
      "n_800_c_1000000_g_6_f_0.3_eps_0.001_s_100/test.in\n",
      "n_800_c_1000000_g_14_f_0.2_eps_0_s_200/test.in\n",
      "n_600_c_1000000_g_2_f_0.1_eps_0.001_s_300/test.in\n",
      "n_800_c_10000000000_g_2_f_0.3_eps_0.1_s_100/test.in\n",
      "n_1200_c_1000000_g_14_f_0.3_eps_0_s_200/test.in\n",
      "n_1000_c_10000000000_g_10_f_0.1_eps_1e-05_s_300/test.in\n",
      "n_1200_c_10000000000_g_14_f_0.2_eps_0.001_s_300/test.in\n",
      "n_1000_c_10000000000_g_14_f_0.2_eps_0.0001_s_100/test.in\n",
      "n_800_c_10000000000_g_10_f_0.2_eps_0_s_300/test.in\n",
      "n_600_c_10000000000_g_2_f_0.2_eps_1e-05_s_300/test.in\n",
      "n_1200_c_100000000_g_6_f_0.2_eps_0.0001_s_100/test.in\n",
      "n_1000_c_10000000000_g_10_f_0.1_eps_1e-05_s_100/test.in\n",
      "n_1200_c_1000000_g_6_f_0.1_eps_0.001_s_100/test.in\n",
      "n_800_c_1000000_g_2_f_0.3_eps_1e-05_s_100/test.in\n",
      "n_600_c_10000000000_g_10_f_0.3_eps_1e-05_s_300/test.in\n",
      "n_1200_c_100000000_g_2_f_0.1_eps_0.0001_s_200/test.in\n",
      "n_800_c_1000000_g_10_f_0.3_eps_0.001_s_300/test.in\n",
      "n_400_c_100000000_g_2_f_0.1_eps_0.1_s_300/test.in\n",
      "n_800_c_100000000_g_14_f_0.1_eps_0.0001_s_200/test.in\n",
      "n_600_c_10000000000_g_14_f_0.3_eps_0.1_s_100/test.in\n",
      "n_1000_c_1000000_g_10_f_0.1_eps_0_s_300/test.in\n",
      "n_1000_c_100000000_g_10_f_0.2_eps_0.01_s_200/test.in\n",
      "n_1000_c_100000000_g_10_f_0.3_eps_1e-05_s_300/test.in\n",
      "n_1000_c_10000000000_g_6_f_0.2_eps_0.0001_s_100/test.in\n",
      "n_1200_c_100000000_g_2_f_0.3_eps_0.001_s_300/test.in\n",
      "n_1000_c_100000000_g_6_f_0.3_eps_0.001_s_200/test.in\n",
      "n_600_c_10000000000_g_6_f_0.1_eps_0.1_s_200/test.in\n",
      "n_600_c_10000000000_g_10_f_0.3_eps_0.1_s_200/test.in\n",
      "n_600_c_100000000_g_14_f_0.2_eps_0.1_s_300/test.in\n",
      "n_600_c_10000000000_g_10_f_0.1_eps_0.1_s_300/test.in\n",
      "n_400_c_1000000_g_2_f_0.3_eps_0.1_s_200/test.in\n",
      "n_400_c_100000000_g_2_f_0.3_eps_0.001_s_200/test.in\n",
      "n_1000_c_100000000_g_2_f_0.2_eps_0.0001_s_100/test.in\n",
      "n_400_c_10000000000_g_10_f_0.2_eps_0.01_s_100/test.in\n",
      "n_600_c_100000000_g_10_f_0.3_eps_0.001_s_300/test.in\n",
      "n_400_c_10000000000_g_10_f_0.1_eps_0.001_s_300/test.in\n",
      "n_1000_c_100000000_g_10_f_0.2_eps_1e-05_s_200/test.in\n",
      "n_1000_c_100000000_g_6_f_0.3_eps_1e-05_s_100/test.in\n",
      "n_1000_c_100000000_g_2_f_0.2_eps_0.01_s_300/test.in\n",
      "n_1200_c_100000000_g_14_f_0.1_eps_0_s_100/test.in\n",
      "n_600_c_100000000_g_10_f_0.1_eps_0.001_s_300/test.in\n",
      "n_400_c_1000000_g_10_f_0.1_eps_0.0001_s_200/test.in\n",
      "n_1000_c_1000000_g_14_f_0.2_eps_0_s_100/test.in\n",
      "n_1000_c_10000000000_g_2_f_0.1_eps_0.001_s_200/test.in\n",
      "n_1200_c_10000000000_g_6_f_0.1_eps_0.01_s_100/test.in\n",
      "n_1000_c_10000000000_g_14_f_0.3_eps_0.01_s_100/test.in\n",
      "n_1000_c_1000000_g_2_f_0.1_eps_0_s_200/test.in\n",
      "n_400_c_1000000_g_6_f_0.3_eps_1e-05_s_200/test.in\n",
      "n_400_c_100000000_g_2_f_0.2_eps_1e-05_s_200/test.in\n",
      "n_1000_c_100000000_g_2_f_0.3_eps_0.001_s_200/test.in\n",
      "n_1000_c_10000000000_g_6_f_0.3_eps_0.01_s_300/test.in\n",
      "n_1200_c_10000000000_g_2_f_0.2_eps_0_s_200/test.in\n",
      "n_1000_c_10000000000_g_6_f_0.2_eps_0.1_s_200/test.in\n",
      "n_600_c_100000000_g_10_f_0.1_eps_0.01_s_100/test.in\n",
      "n_400_c_1000000_g_14_f_0.1_eps_0.1_s_300/test.in\n",
      "n_1000_c_1000000_g_6_f_0.2_eps_1e-05_s_100/test.in\n",
      "n_1200_c_100000000_g_6_f_0.3_eps_0.01_s_200/test.in\n",
      "n_1000_c_10000000000_g_2_f_0.2_eps_1e-05_s_100/test.in\n",
      "n_1000_c_1000000_g_14_f_0.1_eps_0.001_s_200/test.in\n",
      "n_1200_c_10000000000_g_14_f_0.2_eps_0.01_s_300/test.in\n",
      "n_600_c_100000000_g_10_f_0.3_eps_0.01_s_300/test.in\n",
      "n_1000_c_1000000_g_6_f_0.2_eps_0_s_300/test.in\n",
      "n_800_c_10000000000_g_14_f_0.3_eps_0_s_100/test.in\n",
      "n_1000_c_100000000_g_6_f_0.3_eps_0.01_s_100/test.in\n",
      "n_1200_c_100000000_g_14_f_0.1_eps_0.01_s_300/test.in\n",
      "n_1200_c_100000000_g_10_f_0.2_eps_1e-05_s_300/test.in\n",
      "n_1000_c_1000000_g_10_f_0.1_eps_0.001_s_300/test.in\n",
      "n_1200_c_1000000_g_10_f_0.3_eps_0.001_s_100/test.in\n",
      "n_600_c_1000000_g_14_f_0.2_eps_0.001_s_100/test.in\n",
      "n_1200_c_1000000_g_2_f_0.2_eps_0.01_s_100/test.in\n",
      "n_600_c_100000000_g_10_f_0.3_eps_0_s_200/test.in\n",
      "n_800_c_10000000000_g_10_f_0.3_eps_0.001_s_300/test.in\n",
      "n_1200_c_10000000000_g_2_f_0.1_eps_0.0001_s_300/test.in\n",
      "n_1000_c_100000000_g_10_f_0.3_eps_0.0001_s_200/test.in\n",
      "n_800_c_10000000000_g_10_f_0.3_eps_0.001_s_100/test.in\n",
      "n_800_c_100000000_g_10_f_0.2_eps_0.1_s_200/test.in\n",
      "n_800_c_100000000_g_6_f_0.1_eps_0.01_s_200/test.in\n",
      "n_800_c_1000000_g_14_f_0.2_eps_0.01_s_300/test.in\n",
      "n_1000_c_1000000_g_10_f_0.1_eps_0.01_s_100/test.in\n",
      "n_1200_c_100000000_g_10_f_0.3_eps_0.1_s_100/test.in\n",
      "n_800_c_10000000000_g_2_f_0.1_eps_0_s_100/test.in\n",
      "n_1200_c_1000000_g_2_f_0.2_eps_0.1_s_200/test.in\n",
      "n_800_c_1000000_g_6_f_0.3_eps_0_s_200/test.in\n",
      "n_800_c_100000000_g_10_f_0.2_eps_0.001_s_100/test.in\n",
      "n_600_c_10000000000_g_14_f_0.3_eps_1e-05_s_300/test.in\n",
      "n_400_c_100000000_g_2_f_0.1_eps_0.0001_s_100/test.in\n",
      "n_400_c_10000000000_g_6_f_0.2_eps_0_s_300/test.in\n",
      "n_1200_c_100000000_g_2_f_0.2_eps_0.1_s_100/test.in\n",
      "n_600_c_1000000_g_10_f_0.3_eps_0_s_200/test.in\n",
      "n_800_c_1000000_g_6_f_0.2_eps_0_s_100/test.in\n",
      "n_400_c_10000000000_g_6_f_0.3_eps_0.1_s_200/test.in\n",
      "n_800_c_100000000_g_10_f_0.2_eps_1e-05_s_100/test.in\n",
      "n_400_c_100000000_g_14_f_0.2_eps_0.001_s_200/test.in\n",
      "n_1200_c_10000000000_g_14_f_0.1_eps_0.01_s_200/test.in\n",
      "n_1000_c_100000000_g_14_f_0.3_eps_0.01_s_200/test.in\n",
      "n_1200_c_10000000000_g_10_f_0.1_eps_1e-05_s_100/test.in\n",
      "n_600_c_1000000_g_10_f_0.2_eps_0.001_s_300/test.in\n",
      "n_400_c_10000000000_g_10_f_0.2_eps_0.0001_s_200/test.in\n",
      "n_1000_c_100000000_g_14_f_0.2_eps_0.01_s_200/test.in\n",
      "n_1000_c_1000000_g_6_f_0.2_eps_0.1_s_200/test.in\n",
      "n_800_c_1000000_g_6_f_0.1_eps_0.1_s_300/test.in\n",
      "n_800_c_1000000_g_10_f_0.2_eps_0.01_s_200/test.in\n",
      "n_400_c_100000000_g_14_f_0.3_eps_0_s_200/test.in\n",
      "n_600_c_1000000_g_6_f_0.1_eps_0.01_s_200/test.in\n",
      "n_600_c_1000000_g_6_f_0.3_eps_0.001_s_100/test.in\n",
      "n_1200_c_100000000_g_6_f_0.1_eps_0.0001_s_300/test.in\n",
      "n_1200_c_1000000_g_2_f_0.1_eps_1e-05_s_200/test.in\n",
      "n_1000_c_1000000_g_10_f_0.2_eps_0.0001_s_200/test.in\n",
      "n_1200_c_100000000_g_14_f_0.3_eps_0.001_s_300/test.in\n",
      "n_1000_c_10000000000_g_6_f_0.1_eps_0_s_100/test.in\n",
      "n_800_c_10000000000_g_2_f_0.3_eps_0_s_200/test.in\n",
      "n_400_c_1000000_g_14_f_0.3_eps_0.1_s_100/test.in\n",
      "n_800_c_100000000_g_14_f_0.3_eps_0.01_s_200/test.in\n",
      "n_400_c_100000000_g_6_f_0.1_eps_0.001_s_300/test.in\n",
      "n_800_c_1000000_g_14_f_0.2_eps_1e-05_s_300/test.in\n",
      "n_400_c_10000000000_g_14_f_0.2_eps_0.001_s_200/test.in\n",
      "n_1000_c_10000000000_g_14_f_0.1_eps_0.01_s_100/test.in\n",
      "n_1200_c_1000000_g_2_f_0.3_eps_0.001_s_100/test.in\n",
      "n_800_c_100000000_g_10_f_0.1_eps_0.01_s_200/test.in\n",
      "n_800_c_1000000_g_10_f_0.1_eps_0.001_s_100/test.in\n",
      "n_400_c_1000000_g_2_f_0.3_eps_0_s_200/test.in\n",
      "n_400_c_10000000000_g_2_f_0.3_eps_0.01_s_200/test.in\n",
      "n_400_c_1000000_g_6_f_0.1_eps_0.0001_s_100/test.in\n",
      "n_400_c_100000000_g_14_f_0.1_eps_0.0001_s_300/test.in\n",
      "n_400_c_1000000_g_2_f_0.1_eps_1e-05_s_200/test.in\n",
      "n_600_c_100000000_g_6_f_0.2_eps_0.0001_s_300/test.in\n",
      "n_600_c_100000000_g_6_f_0.1_eps_0.0001_s_100/test.in\n",
      "n_1200_c_10000000000_g_2_f_0.3_eps_0_s_100/test.in\n",
      "n_600_c_1000000_g_10_f_0.1_eps_0.0001_s_100/test.in\n",
      "n_400_c_10000000000_g_6_f_0.3_eps_0_s_300/test.in\n",
      "n_1200_c_1000000_g_6_f_0.1_eps_0.01_s_100/test.in\n",
      "n_1200_c_100000000_g_6_f_0.3_eps_1e-05_s_100/test.in\n",
      "n_600_c_1000000_g_10_f_0.1_eps_1e-05_s_200/test.in\n",
      "n_1000_c_10000000000_g_2_f_0.3_eps_0.001_s_100/test.in\n",
      "n_400_c_100000000_g_2_f_0.3_eps_0.1_s_100/test.in\n",
      "n_400_c_1000000_g_10_f_0.3_eps_1e-05_s_100/test.in\n",
      "n_800_c_10000000000_g_2_f_0.1_eps_0.01_s_200/test.in\n",
      "n_1000_c_1000000_g_10_f_0.3_eps_0.01_s_100/test.in\n",
      "n_800_c_10000000000_g_2_f_0.1_eps_1e-05_s_100/test.in\n",
      "n_1200_c_100000000_g_10_f_0.2_eps_0.1_s_300/test.in\n",
      "n_800_c_10000000000_g_2_f_0.2_eps_0.0001_s_200/test.in\n",
      "n_1000_c_100000000_g_2_f_0.1_eps_1e-05_s_200/test.in\n",
      "n_1200_c_10000000000_g_2_f_0.3_eps_0.001_s_100/test.in\n",
      "n_1000_c_1000000_g_6_f_0.2_eps_0.1_s_300/test.in\n",
      "n_400_c_1000000_g_2_f_0.1_eps_0.01_s_100/test.in\n",
      "n_1200_c_100000000_g_14_f_0.3_eps_0.1_s_300/test.in\n",
      "n_600_c_100000000_g_2_f_0.1_eps_0.01_s_100/test.in\n",
      "n_1200_c_1000000_g_10_f_0.2_eps_0.0001_s_200/test.in\n",
      "n_800_c_10000000000_g_14_f_0.3_eps_1e-05_s_300/test.in\n",
      "n_800_c_10000000000_g_14_f_0.2_eps_1e-05_s_100/test.in\n",
      "n_800_c_10000000000_g_10_f_0.1_eps_0.001_s_200/test.in\n",
      "n_1000_c_1000000_g_10_f_0.1_eps_0.001_s_200/test.in\n",
      "n_800_c_1000000_g_14_f_0.2_eps_1e-05_s_200/test.in\n",
      "n_1200_c_1000000_g_14_f_0.1_eps_0_s_100/test.in\n",
      "n_800_c_10000000000_g_6_f_0.1_eps_0.01_s_300/test.in\n",
      "n_1200_c_100000000_g_10_f_0.1_eps_0.01_s_300/test.in\n",
      "n_400_c_100000000_g_6_f_0.3_eps_0_s_300/test.in\n",
      "n_600_c_100000000_g_10_f_0.2_eps_0.1_s_100/test.in\n",
      "n_1000_c_10000000000_g_2_f_0.2_eps_0_s_200/test.in\n",
      "n_1200_c_1000000_g_10_f_0.1_eps_0_s_200/test.in\n",
      "n_400_c_10000000000_g_10_f_0.2_eps_0.1_s_300/test.in\n",
      "n_1000_c_10000000000_g_10_f_0.2_eps_0.001_s_300/test.in\n",
      "n_1200_c_10000000000_g_14_f_0.2_eps_1e-05_s_300/test.in\n",
      "n_1000_c_10000000000_g_2_f_0.3_eps_0_s_300/test.in\n",
      "n_800_c_100000000_g_2_f_0.1_eps_0.0001_s_200/test.in\n",
      "n_1200_c_10000000000_g_6_f_0.2_eps_0.1_s_300/test.in\n",
      "n_1200_c_10000000000_g_14_f_0.1_eps_1e-05_s_100/test.in\n",
      "n_1000_c_1000000_g_6_f_0.1_eps_0.0001_s_100/test.in\n",
      "n_400_c_100000000_g_2_f_0.3_eps_1e-05_s_100/test.in\n",
      "n_600_c_1000000_g_10_f_0.3_eps_0.0001_s_300/test.in\n",
      "n_1000_c_10000000000_g_6_f_0.2_eps_0.01_s_300/test.in\n",
      "n_400_c_1000000_g_6_f_0.1_eps_0.001_s_300/test.in\n",
      "n_400_c_10000000000_g_2_f_0.1_eps_0.0001_s_200/test.in\n",
      "n_800_c_10000000000_g_14_f_0.3_eps_0_s_300/test.in\n",
      "n_600_c_100000000_g_6_f_0.2_eps_1e-05_s_100/test.in\n",
      "n_600_c_100000000_g_14_f_0.3_eps_0.1_s_100/test.in\n",
      "n_1000_c_1000000_g_14_f_0.2_eps_0.0001_s_100/test.in\n",
      "n_800_c_10000000000_g_2_f_0.3_eps_0.1_s_200/test.in\n",
      "n_1000_c_100000000_g_2_f_0.3_eps_0.001_s_300/test.in\n",
      "n_1200_c_1000000_g_2_f_0.2_eps_0.001_s_200/test.in\n",
      "n_800_c_10000000000_g_2_f_0.3_eps_0.01_s_300/test.in\n",
      "n_1200_c_10000000000_g_2_f_0.1_eps_1e-05_s_300/test.in\n",
      "n_1200_c_1000000_g_14_f_0.2_eps_0_s_200/test.in\n",
      "n_1200_c_10000000000_g_2_f_0.1_eps_0.01_s_100/test.in\n",
      "n_400_c_100000000_g_10_f_0.1_eps_0.01_s_300/test.in\n",
      "n_600_c_10000000000_g_14_f_0.3_eps_0.0001_s_100/test.in\n",
      "n_1200_c_10000000000_g_14_f_0.1_eps_0.001_s_200/test.in\n",
      "n_1000_c_100000000_g_6_f_0.3_eps_0.001_s_100/test.in\n",
      "n_400_c_10000000000_g_2_f_0.3_eps_0.1_s_200/test.in\n",
      "n_1000_c_10000000000_g_6_f_0.1_eps_0.01_s_200/test.in\n",
      "n_800_c_10000000000_g_10_f_0.1_eps_0.01_s_200/test.in\n",
      "n_800_c_100000000_g_6_f_0.2_eps_0_s_300/test.in\n",
      "n_1200_c_10000000000_g_6_f_0.2_eps_0.001_s_200/test.in\n",
      "n_600_c_10000000000_g_2_f_0.1_eps_1e-05_s_100/test.in\n",
      "n_400_c_1000000_g_10_f_0.3_eps_1e-05_s_300/test.in\n",
      "n_1200_c_10000000000_g_14_f_0.1_eps_0.001_s_100/test.in\n",
      "n_800_c_10000000000_g_14_f_0.2_eps_0.1_s_200/test.in\n",
      "n_600_c_100000000_g_2_f_0.1_eps_0.01_s_200/test.in\n",
      "n_600_c_100000000_g_6_f_0.2_eps_1e-05_s_200/test.in\n",
      "n_800_c_100000000_g_2_f_0.2_eps_0.0001_s_300/test.in\n",
      "n_400_c_10000000000_g_14_f_0.1_eps_0.01_s_300/test.in\n",
      "n_600_c_1000000_g_6_f_0.3_eps_0_s_300/test.in\n",
      "n_1200_c_10000000000_g_6_f_0.3_eps_0.001_s_100/test.in\n",
      "n_600_c_10000000000_g_6_f_0.2_eps_0.1_s_300/test.in\n",
      "n_800_c_10000000000_g_14_f_0.3_eps_0.001_s_100/test.in\n",
      "n_400_c_1000000_g_2_f_0.3_eps_0.0001_s_300/test.in\n",
      "n_800_c_10000000000_g_10_f_0.1_eps_0.01_s_300/test.in\n",
      "n_1000_c_100000000_g_14_f_0.3_eps_1e-05_s_300/test.in\n",
      "n_800_c_1000000_g_10_f_0.1_eps_1e-05_s_100/test.in\n",
      "n_600_c_10000000000_g_2_f_0.2_eps_0.001_s_300/test.in\n",
      "n_1200_c_10000000000_g_14_f_0.1_eps_0.001_s_300/test.in\n",
      "n_1000_c_10000000000_g_10_f_0.2_eps_0.001_s_200/test.in\n",
      "n_1200_c_1000000_g_14_f_0.3_eps_0.001_s_300/test.in\n",
      "n_400_c_10000000000_g_2_f_0.2_eps_1e-05_s_300/test.in\n",
      "n_1000_c_10000000000_g_2_f_0.1_eps_1e-05_s_300/test.in\n",
      "n_400_c_1000000_g_6_f_0.2_eps_0.01_s_100/test.in\n",
      "n_600_c_100000000_g_14_f_0.2_eps_0.01_s_200/test.in\n",
      "n_800_c_1000000_g_14_f_0.2_eps_0.1_s_200/test.in\n",
      "n_600_c_1000000_g_2_f_0.3_eps_0.0001_s_200/test.in\n",
      "n_1200_c_10000000000_g_2_f_0.1_eps_0.0001_s_200/test.in\n",
      "n_600_c_1000000_g_6_f_0.3_eps_0.0001_s_300/test.in\n",
      "n_400_c_1000000_g_6_f_0.3_eps_0.0001_s_100/test.in\n",
      "n_1000_c_1000000_g_10_f_0.2_eps_0.001_s_200/test.in\n",
      "n_600_c_10000000000_g_10_f_0.2_eps_0.0001_s_100/test.in\n",
      "n_400_c_1000000_g_6_f_0.2_eps_0.1_s_100/test.in\n",
      "n_800_c_10000000000_g_6_f_0.2_eps_0.01_s_300/test.in\n",
      "n_800_c_10000000000_g_14_f_0.2_eps_0.001_s_300/test.in\n",
      "n_400_c_100000000_g_14_f_0.1_eps_0.01_s_300/test.in\n",
      "n_1200_c_1000000_g_2_f_0.3_eps_1e-05_s_300/test.in\n",
      "n_1200_c_100000000_g_14_f_0.2_eps_0.0001_s_100/test.in\n",
      "n_1200_c_10000000000_g_10_f_0.3_eps_0.0001_s_300/test.in\n",
      "n_600_c_1000000_g_2_f_0.1_eps_0.0001_s_100/test.in\n",
      "n_1200_c_1000000_g_2_f_0.1_eps_0_s_300/test.in\n",
      "n_1000_c_1000000_g_2_f_0.3_eps_0.01_s_100/test.in\n",
      "n_1000_c_1000000_g_10_f_0.2_eps_0.001_s_100/test.in\n",
      "n_800_c_100000000_g_6_f_0.1_eps_0.001_s_300/test.in\n",
      "n_1200_c_100000000_g_10_f_0.1_eps_0.0001_s_300/test.in\n",
      "n_800_c_10000000000_g_2_f_0.3_eps_0_s_100/test.in\n",
      "n_1200_c_10000000000_g_10_f_0.2_eps_1e-05_s_300/test.in\n",
      "n_600_c_10000000000_g_14_f_0.2_eps_0.0001_s_200/test.in\n",
      "n_1200_c_10000000000_g_2_f_0.3_eps_0.001_s_200/test.in\n",
      "n_800_c_10000000000_g_6_f_0.2_eps_0.1_s_300/test.in\n",
      "n_1000_c_100000000_g_10_f_0.3_eps_0_s_300/test.in\n",
      "n_400_c_100000000_g_2_f_0.3_eps_0.0001_s_300/test.in\n",
      "n_400_c_1000000_g_14_f_0.3_eps_0.001_s_200/test.in\n",
      "n_800_c_100000000_g_14_f_0.2_eps_1e-05_s_100/test.in\n",
      "n_600_c_10000000000_g_14_f_0.1_eps_0.0001_s_300/test.in\n",
      "n_1200_c_1000000_g_6_f_0.1_eps_0_s_100/test.in\n",
      "n_600_c_1000000_g_14_f_0.1_eps_0.01_s_200/test.in\n",
      "n_800_c_100000000_g_2_f_0.1_eps_0.0001_s_300/test.in\n",
      "n_800_c_10000000000_g_6_f_0.2_eps_0.0001_s_300/test.in\n"
     ]
    }
   ],
   "source": [
    "columns = ['instanceName', 'optimumFO', 'bestFO', 'optimumRuntime', 'runtime', 'relativeError']\n",
    "values = []\n",
    "\n",
    "for instanceName in test:\n",
    "    print(instanceName)\n",
    "    instance = benchmark.parseInstance(instanceName)\n",
    "\n",
    "    state = env.reset(instance)\n",
    "\n",
    "    done = False\n",
    "\n",
    "    while not done:\n",
    "        action = np.argmax(q_tables[-1][1][state])\n",
    "        state, reward, done, info = env.step(action)\n",
    "\n",
    "    optimum = benchmark.getOptimalFO(instanceName)\n",
    "    objective = env._hyperHeuristic.best_solution.objective(isMinimizing = False)\n",
    "    runtime = env.get_running_time()\n",
    "    optimumRuntime = benchmark.getOptimalRunningTime(instanceName)\n",
    "\n",
    "    values.append([\n",
    "        instanceName.replace('/test.in',''),\n",
    "        optimum,\n",
    "        objective,\n",
    "        optimumRuntime,\n",
    "        runtime,\n",
    "        (optimum - objective)/optimum,\n",
    "    ])"
   ]
  },
  {
   "cell_type": "code",
   "execution_count": 17,
   "metadata": {},
   "outputs": [
    {
     "data": {
      "text/html": [
       "<div>\n",
       "<style scoped>\n",
       "    .dataframe tbody tr th:only-of-type {\n",
       "        vertical-align: middle;\n",
       "    }\n",
       "\n",
       "    .dataframe tbody tr th {\n",
       "        vertical-align: top;\n",
       "    }\n",
       "\n",
       "    .dataframe thead th {\n",
       "        text-align: right;\n",
       "    }\n",
       "</style>\n",
       "<table border=\"1\" class=\"dataframe\">\n",
       "  <thead>\n",
       "    <tr style=\"text-align: right;\">\n",
       "      <th></th>\n",
       "      <th>instanceName</th>\n",
       "      <th>optimumFO</th>\n",
       "      <th>bestFO</th>\n",
       "      <th>optimumRuntime</th>\n",
       "      <th>runtime</th>\n",
       "      <th>relativeError</th>\n",
       "    </tr>\n",
       "  </thead>\n",
       "  <tbody>\n",
       "    <tr>\n",
       "      <th>0</th>\n",
       "      <td>n_600_c_1000000_g_2_f_0.3_eps_0_s_300</td>\n",
       "      <td>527855</td>\n",
       "      <td>527843</td>\n",
       "      <td>0.128349</td>\n",
       "      <td>0.002907</td>\n",
       "      <td>0.000023</td>\n",
       "    </tr>\n",
       "    <tr>\n",
       "      <th>1</th>\n",
       "      <td>n_800_c_10000000000_g_14_f_0.3_eps_0.1_s_200</td>\n",
       "      <td>9999782171</td>\n",
       "      <td>9264918802</td>\n",
       "      <td>665.718123</td>\n",
       "      <td>0.004301</td>\n",
       "      <td>0.073488</td>\n",
       "    </tr>\n",
       "    <tr>\n",
       "      <th>2</th>\n",
       "      <td>n_800_c_10000000000_g_2_f_0.2_eps_0.1_s_200</td>\n",
       "      <td>6000016871</td>\n",
       "      <td>6000016871</td>\n",
       "      <td>0.098871</td>\n",
       "      <td>0.003442</td>\n",
       "      <td>0.000000</td>\n",
       "    </tr>\n",
       "    <tr>\n",
       "      <th>3</th>\n",
       "      <td>n_800_c_10000000000_g_6_f_0.1_eps_0.001_s_200</td>\n",
       "      <td>9997513189</td>\n",
       "      <td>9737508557</td>\n",
       "      <td>8.421776</td>\n",
       "      <td>0.004299</td>\n",
       "      <td>0.026007</td>\n",
       "    </tr>\n",
       "    <tr>\n",
       "      <th>4</th>\n",
       "      <td>n_600_c_100000000_g_14_f_0.1_eps_1e-05_s_100</td>\n",
       "      <td>100006526</td>\n",
       "      <td>99998353</td>\n",
       "      <td>6.501696</td>\n",
       "      <td>0.003328</td>\n",
       "      <td>0.000082</td>\n",
       "    </tr>\n",
       "  </tbody>\n",
       "</table>\n",
       "</div>"
      ],
      "text/plain": [
       "                                    instanceName   optimumFO      bestFO  \\\n",
       "0          n_600_c_1000000_g_2_f_0.3_eps_0_s_300      527855      527843   \n",
       "1   n_800_c_10000000000_g_14_f_0.3_eps_0.1_s_200  9999782171  9264918802   \n",
       "2    n_800_c_10000000000_g_2_f_0.2_eps_0.1_s_200  6000016871  6000016871   \n",
       "3  n_800_c_10000000000_g_6_f_0.1_eps_0.001_s_200  9997513189  9737508557   \n",
       "4   n_600_c_100000000_g_14_f_0.1_eps_1e-05_s_100   100006526    99998353   \n",
       "\n",
       "   optimumRuntime   runtime  relativeError  \n",
       "0        0.128349  0.002907       0.000023  \n",
       "1      665.718123  0.004301       0.073488  \n",
       "2        0.098871  0.003442       0.000000  \n",
       "3        8.421776  0.004299       0.026007  \n",
       "4        6.501696  0.003328       0.000082  "
      ]
     },
     "execution_count": 17,
     "metadata": {},
     "output_type": "execute_result"
    }
   ],
   "source": [
    "testSummary = pd.DataFrame(data = values, columns = columns)\n",
    "testSummary.head()"
   ]
  },
  {
   "cell_type": "code",
   "execution_count": 18,
   "metadata": {},
   "outputs": [
    {
     "data": {
      "text/html": [
       "<div>\n",
       "<style scoped>\n",
       "    .dataframe tbody tr th:only-of-type {\n",
       "        vertical-align: middle;\n",
       "    }\n",
       "\n",
       "    .dataframe tbody tr th {\n",
       "        vertical-align: top;\n",
       "    }\n",
       "\n",
       "    .dataframe thead th {\n",
       "        text-align: right;\n",
       "    }\n",
       "</style>\n",
       "<table border=\"1\" class=\"dataframe\">\n",
       "  <thead>\n",
       "    <tr style=\"text-align: right;\">\n",
       "      <th></th>\n",
       "      <th>instanceName</th>\n",
       "      <th>optimumFO</th>\n",
       "      <th>bestFO</th>\n",
       "      <th>optimumRuntime</th>\n",
       "      <th>runtime</th>\n",
       "      <th>relativeError</th>\n",
       "      <th>n</th>\n",
       "      <th>c</th>\n",
       "    </tr>\n",
       "  </thead>\n",
       "  <tbody>\n",
       "    <tr>\n",
       "      <th>0</th>\n",
       "      <td>n_600_c_1000000_g_2_f_0.3_eps_0_s_300</td>\n",
       "      <td>527855</td>\n",
       "      <td>527843</td>\n",
       "      <td>0.128349</td>\n",
       "      <td>0.002907</td>\n",
       "      <td>0.000023</td>\n",
       "      <td>600</td>\n",
       "      <td>1000000</td>\n",
       "    </tr>\n",
       "    <tr>\n",
       "      <th>1</th>\n",
       "      <td>n_800_c_10000000000_g_14_f_0.3_eps_0.1_s_200</td>\n",
       "      <td>9999782171</td>\n",
       "      <td>9264918802</td>\n",
       "      <td>665.718123</td>\n",
       "      <td>0.004301</td>\n",
       "      <td>0.073488</td>\n",
       "      <td>800</td>\n",
       "      <td>10000000000</td>\n",
       "    </tr>\n",
       "    <tr>\n",
       "      <th>2</th>\n",
       "      <td>n_800_c_10000000000_g_2_f_0.2_eps_0.1_s_200</td>\n",
       "      <td>6000016871</td>\n",
       "      <td>6000016871</td>\n",
       "      <td>0.098871</td>\n",
       "      <td>0.003442</td>\n",
       "      <td>0.000000</td>\n",
       "      <td>800</td>\n",
       "      <td>10000000000</td>\n",
       "    </tr>\n",
       "    <tr>\n",
       "      <th>3</th>\n",
       "      <td>n_800_c_10000000000_g_6_f_0.1_eps_0.001_s_200</td>\n",
       "      <td>9997513189</td>\n",
       "      <td>9737508557</td>\n",
       "      <td>8.421776</td>\n",
       "      <td>0.004299</td>\n",
       "      <td>0.026007</td>\n",
       "      <td>800</td>\n",
       "      <td>10000000000</td>\n",
       "    </tr>\n",
       "    <tr>\n",
       "      <th>4</th>\n",
       "      <td>n_600_c_100000000_g_14_f_0.1_eps_1e-05_s_100</td>\n",
       "      <td>100006526</td>\n",
       "      <td>99998353</td>\n",
       "      <td>6.501696</td>\n",
       "      <td>0.003328</td>\n",
       "      <td>0.000082</td>\n",
       "      <td>600</td>\n",
       "      <td>100000000</td>\n",
       "    </tr>\n",
       "  </tbody>\n",
       "</table>\n",
       "</div>"
      ],
      "text/plain": [
       "                                    instanceName   optimumFO      bestFO  \\\n",
       "0          n_600_c_1000000_g_2_f_0.3_eps_0_s_300      527855      527843   \n",
       "1   n_800_c_10000000000_g_14_f_0.3_eps_0.1_s_200  9999782171  9264918802   \n",
       "2    n_800_c_10000000000_g_2_f_0.2_eps_0.1_s_200  6000016871  6000016871   \n",
       "3  n_800_c_10000000000_g_6_f_0.1_eps_0.001_s_200  9997513189  9737508557   \n",
       "4   n_600_c_100000000_g_14_f_0.1_eps_1e-05_s_100   100006526    99998353   \n",
       "\n",
       "   optimumRuntime   runtime  relativeError    n            c  \n",
       "0        0.128349  0.002907       0.000023  600      1000000  \n",
       "1      665.718123  0.004301       0.073488  800  10000000000  \n",
       "2        0.098871  0.003442       0.000000  800  10000000000  \n",
       "3        8.421776  0.004299       0.026007  800  10000000000  \n",
       "4        6.501696  0.003328       0.000082  600    100000000  "
      ]
     },
     "execution_count": 18,
     "metadata": {},
     "output_type": "execute_result"
    }
   ],
   "source": [
    "testSummary['n'] = testSummary.instanceName.apply(lambda name: re.findall(r\"n_(\\d+).*\", name)[0])\n",
    "testSummary['c'] = testSummary.instanceName.apply(lambda name: re.findall(r\".*c_(\\d+).*\", name)[0])\n",
    "testSummary.head()"
   ]
  },
  {
   "cell_type": "markdown",
   "metadata": {},
   "source": [
    "# **Visualization**"
   ]
  },
  {
   "cell_type": "markdown",
   "metadata": {},
   "source": [
    "## **Train**"
   ]
  },
  {
   "cell_type": "markdown",
   "metadata": {},
   "source": [
    "### **Q-Table convergence**"
   ]
  },
  {
   "cell_type": "code",
   "execution_count": 19,
   "metadata": {},
   "outputs": [
    {
     "data": {
      "text/html": [
       "<div>\n",
       "<style scoped>\n",
       "    .dataframe tbody tr th:only-of-type {\n",
       "        vertical-align: middle;\n",
       "    }\n",
       "\n",
       "    .dataframe tbody tr th {\n",
       "        vertical-align: top;\n",
       "    }\n",
       "\n",
       "    .dataframe thead th {\n",
       "        text-align: right;\n",
       "    }\n",
       "</style>\n",
       "<table border=\"1\" class=\"dataframe\">\n",
       "  <thead>\n",
       "    <tr style=\"text-align: right;\">\n",
       "      <th></th>\n",
       "      <th>epoch</th>\n",
       "      <th>mean</th>\n",
       "      <th>std</th>\n",
       "    </tr>\n",
       "  </thead>\n",
       "  <tbody>\n",
       "    <tr>\n",
       "      <th>0</th>\n",
       "      <td>100</td>\n",
       "      <td>0.537744</td>\n",
       "      <td>1.267708</td>\n",
       "    </tr>\n",
       "    <tr>\n",
       "      <th>1</th>\n",
       "      <td>200</td>\n",
       "      <td>0.161192</td>\n",
       "      <td>0.769878</td>\n",
       "    </tr>\n",
       "    <tr>\n",
       "      <th>2</th>\n",
       "      <td>300</td>\n",
       "      <td>0.323505</td>\n",
       "      <td>0.805814</td>\n",
       "    </tr>\n",
       "    <tr>\n",
       "      <th>3</th>\n",
       "      <td>400</td>\n",
       "      <td>0.101485</td>\n",
       "      <td>0.545330</td>\n",
       "    </tr>\n",
       "    <tr>\n",
       "      <th>4</th>\n",
       "      <td>500</td>\n",
       "      <td>0.115152</td>\n",
       "      <td>0.541104</td>\n",
       "    </tr>\n",
       "  </tbody>\n",
       "</table>\n",
       "</div>"
      ],
      "text/plain": [
       "   epoch      mean       std\n",
       "0    100  0.537744  1.267708\n",
       "1    200  0.161192  0.769878\n",
       "2    300  0.323505  0.805814\n",
       "3    400  0.101485  0.545330\n",
       "4    500  0.115152  0.541104"
      ]
     },
     "execution_count": 19,
     "metadata": {},
     "output_type": "execute_result"
    }
   ],
   "source": [
    "QAbsErrors = [(q_tables[i][0], abs(q_tables[i][1] - q_tables[i-1][1])) for i in range(1, len(q_tables))]\n",
    "QErrors = [(errorTable[0], errorTable[1].mean(), errorTable[1].std()) for errorTable in QAbsErrors]\n",
    "QErrorsDF = pd.DataFrame(data = QErrors, columns = ['epoch', 'mean', 'std'])\n",
    "QErrorsDF.head()"
   ]
  },
  {
   "cell_type": "code",
   "execution_count": 30,
   "metadata": {},
   "outputs": [
    {
     "data": {
      "application/vnd.plotly.v1+json": {
       "config": {
        "plotlyServerURL": "https://plot.ly"
       },
       "data": [
        {
         "hovertemplate": "epoch=%{x}<br>mean=%{y}<extra></extra>",
         "legendgroup": "",
         "line": {
          "color": "#636efa",
          "dash": "solid"
         },
         "marker": {
          "symbol": "circle"
         },
         "mode": "lines",
         "name": "",
         "orientation": "v",
         "showlegend": false,
         "type": "scatter",
         "x": [
          100,
          200,
          300,
          400,
          500,
          600,
          700,
          800,
          900,
          1000,
          1100,
          1200,
          1300,
          1400,
          1500,
          1600,
          1700,
          1800,
          1900,
          2000,
          2100,
          2200,
          2300,
          2400,
          2500,
          2600,
          2700,
          2800,
          2900,
          3000,
          3100,
          3200,
          3300,
          3400,
          3500,
          3600,
          3700,
          3800,
          3900,
          4000,
          4100,
          4200,
          4300,
          4400,
          4500,
          4600,
          4700,
          4800,
          4900,
          5000,
          5100,
          5200,
          5300,
          5400,
          5500,
          5600,
          5700,
          5800,
          5900,
          6000,
          6100,
          6200,
          6300,
          6400,
          6500,
          6600,
          6700,
          6800,
          6900,
          7000,
          7100,
          7200,
          7300,
          7400,
          7500,
          7600,
          7700,
          7800,
          7900,
          8000,
          8100,
          8200,
          8300,
          8400,
          8500,
          8600,
          8700,
          8800,
          8900,
          9000,
          9100,
          9200,
          9300,
          9400,
          9500,
          9600,
          9700,
          9800,
          9900,
          10000,
          10100,
          10200,
          10300,
          10400,
          10500,
          10600,
          10700,
          10800,
          10900,
          11000,
          11100,
          11200,
          11300,
          11400,
          11500,
          11600,
          11700,
          11800,
          11900,
          12000,
          12100,
          12200,
          12300,
          12400,
          12500,
          12600,
          12700,
          12800,
          12900,
          13000,
          13100,
          13200,
          13300,
          13400,
          13500,
          13600,
          13700,
          13800,
          13900,
          14000,
          14100,
          14200,
          14300,
          14400,
          14500,
          14600,
          14700,
          14800,
          14900,
          15000
         ],
         "xaxis": "x",
         "y": [
          0.537743826677245,
          0.16119211729357213,
          0.32350480226214456,
          0.1014847179361665,
          0.11515157172280936,
          0.16090306740208185,
          0.12124089884282721,
          0.07436165631161094,
          0.10204795160737383,
          0.1476469892785914,
          0.028132108773873385,
          0.06081207013365094,
          0.05238908855381311,
          0.1316261823832346,
          0.10467109361166496,
          0.12877115945457657,
          0.15123596653121749,
          0.08028498956580474,
          0.06674389608942241,
          0.05526069651643357,
          0.09474497338885225,
          0.06998718496557173,
          0.07998748983316166,
          0.043226215732238345,
          0.0827491406522172,
          0.0602230913358176,
          0.06874279326508338,
          0.1023410929037669,
          0.08122265623464903,
          0.08444031642172017,
          0.10559709668821174,
          0.09442193095595244,
          0.042241217783956446,
          0.07738271644361333,
          0.09241046968686872,
          0.11558542521089885,
          0.1591231788131502,
          0.11023978073941056,
          0.06212729969793218,
          0.06717603323592847,
          0.07073121447271868,
          0.07061791804039758,
          0.055590602288663304,
          0.12163824685038833,
          0.08719389785541821,
          0.092423762597995,
          0.06267416738889246,
          0.0961085965321369,
          0.053407149928535916,
          0.03850375643995057,
          0.04055112005227383,
          0.0840631694340012,
          0.04973665177543658,
          0.09284955027865362,
          0.06215215205549759,
          0.06361039020709666,
          0.07972747873602104,
          0.06576766390641385,
          0.05947866093259412,
          0.04518833479034456,
          0.04503895076756318,
          0.04037557113940463,
          0.08143479007057973,
          0.053589481454269304,
          0.047566648528324665,
          0.035045649326671355,
          0.05271322820146487,
          0.030752368932879713,
          0.04171955092989564,
          0.07891222623548864,
          0.051168314597901804,
          0.0255889584287828,
          0.052270868537296976,
          0.05567353318382913,
          0.03347605065816618,
          0.04816054246934313,
          0.06192311582717533,
          0.028263651560964807,
          0.017594438505737768,
          0.03956050187134797,
          0.04380933234235899,
          0.027657026005183993,
          0.0381641279871586,
          0.025422050806989428,
          0.01132667302721975,
          0.04110164055700495,
          0.050594745895129654,
          0.04866247873716855,
          0.018252068330562376,
          0.036731311087926724,
          0.038941336621831066,
          0.06827553735952736,
          0.029526907086173386,
          0.040339485754782495,
          0.03941608801194135,
          0.01538089314649535,
          0.022690125881009268,
          0.0540678283712002,
          0.02999890875312276,
          0.0703311100230721,
          0.021820576690498847,
          0.03356636137736053,
          0.03145104394381332,
          0.014310069710626008,
          0.032217160121965155,
          0.08093890937239187,
          0.02588676792267551,
          0.014429365674176946,
          0.026818941441726318,
          0.023123682025768137,
          0.018102576143243718,
          0.014896389365475876,
          0.03647493067207399,
          0.03219418192479961,
          0.030621713633541638,
          0.04189944342124872,
          0.024488072728120258,
          0.02769039733569143,
          0.01759777379792626,
          0.014723289098518623,
          0.040268063741875,
          0.007615704248161492,
          0.019304482162719197,
          0.03752327639988134,
          0.01294315432915383,
          0.005128810836609383,
          0.02255330751026021,
          0.015205550991697701,
          0.03537821528885976,
          0.02035699176360093,
          0.014617222613321856,
          0.022920144234302914,
          0.016620075470190725,
          0.012244277555013344,
          0.012583022608953744,
          0.0145385202026209,
          0.008527699136731291,
          0.012681619011955591,
          0.014087792350968466,
          0.006115352191382466,
          0.013837226896103847,
          0.008720022552569014,
          0.007641714342704402,
          0.007859327783782686,
          0.01396207284549716,
          0.017292830298424135,
          0.009613143715566302,
          0.013545680988282642,
          0.00981128021201667,
          0.009899755543107718
         ],
         "yaxis": "y"
        }
       ],
       "layout": {
        "legend": {
         "tracegroupgap": 0
        },
        "template": {
         "data": {
          "bar": [
           {
            "error_x": {
             "color": "#2a3f5f"
            },
            "error_y": {
             "color": "#2a3f5f"
            },
            "marker": {
             "line": {
              "color": "#E5ECF6",
              "width": 0.5
             },
             "pattern": {
              "fillmode": "overlay",
              "size": 10,
              "solidity": 0.2
             }
            },
            "type": "bar"
           }
          ],
          "barpolar": [
           {
            "marker": {
             "line": {
              "color": "#E5ECF6",
              "width": 0.5
             },
             "pattern": {
              "fillmode": "overlay",
              "size": 10,
              "solidity": 0.2
             }
            },
            "type": "barpolar"
           }
          ],
          "carpet": [
           {
            "aaxis": {
             "endlinecolor": "#2a3f5f",
             "gridcolor": "white",
             "linecolor": "white",
             "minorgridcolor": "white",
             "startlinecolor": "#2a3f5f"
            },
            "baxis": {
             "endlinecolor": "#2a3f5f",
             "gridcolor": "white",
             "linecolor": "white",
             "minorgridcolor": "white",
             "startlinecolor": "#2a3f5f"
            },
            "type": "carpet"
           }
          ],
          "choropleth": [
           {
            "colorbar": {
             "outlinewidth": 0,
             "ticks": ""
            },
            "type": "choropleth"
           }
          ],
          "contour": [
           {
            "colorbar": {
             "outlinewidth": 0,
             "ticks": ""
            },
            "colorscale": [
             [
              0,
              "#0d0887"
             ],
             [
              0.1111111111111111,
              "#46039f"
             ],
             [
              0.2222222222222222,
              "#7201a8"
             ],
             [
              0.3333333333333333,
              "#9c179e"
             ],
             [
              0.4444444444444444,
              "#bd3786"
             ],
             [
              0.5555555555555556,
              "#d8576b"
             ],
             [
              0.6666666666666666,
              "#ed7953"
             ],
             [
              0.7777777777777778,
              "#fb9f3a"
             ],
             [
              0.8888888888888888,
              "#fdca26"
             ],
             [
              1,
              "#f0f921"
             ]
            ],
            "type": "contour"
           }
          ],
          "contourcarpet": [
           {
            "colorbar": {
             "outlinewidth": 0,
             "ticks": ""
            },
            "type": "contourcarpet"
           }
          ],
          "heatmap": [
           {
            "colorbar": {
             "outlinewidth": 0,
             "ticks": ""
            },
            "colorscale": [
             [
              0,
              "#0d0887"
             ],
             [
              0.1111111111111111,
              "#46039f"
             ],
             [
              0.2222222222222222,
              "#7201a8"
             ],
             [
              0.3333333333333333,
              "#9c179e"
             ],
             [
              0.4444444444444444,
              "#bd3786"
             ],
             [
              0.5555555555555556,
              "#d8576b"
             ],
             [
              0.6666666666666666,
              "#ed7953"
             ],
             [
              0.7777777777777778,
              "#fb9f3a"
             ],
             [
              0.8888888888888888,
              "#fdca26"
             ],
             [
              1,
              "#f0f921"
             ]
            ],
            "type": "heatmap"
           }
          ],
          "heatmapgl": [
           {
            "colorbar": {
             "outlinewidth": 0,
             "ticks": ""
            },
            "colorscale": [
             [
              0,
              "#0d0887"
             ],
             [
              0.1111111111111111,
              "#46039f"
             ],
             [
              0.2222222222222222,
              "#7201a8"
             ],
             [
              0.3333333333333333,
              "#9c179e"
             ],
             [
              0.4444444444444444,
              "#bd3786"
             ],
             [
              0.5555555555555556,
              "#d8576b"
             ],
             [
              0.6666666666666666,
              "#ed7953"
             ],
             [
              0.7777777777777778,
              "#fb9f3a"
             ],
             [
              0.8888888888888888,
              "#fdca26"
             ],
             [
              1,
              "#f0f921"
             ]
            ],
            "type": "heatmapgl"
           }
          ],
          "histogram": [
           {
            "marker": {
             "pattern": {
              "fillmode": "overlay",
              "size": 10,
              "solidity": 0.2
             }
            },
            "type": "histogram"
           }
          ],
          "histogram2d": [
           {
            "colorbar": {
             "outlinewidth": 0,
             "ticks": ""
            },
            "colorscale": [
             [
              0,
              "#0d0887"
             ],
             [
              0.1111111111111111,
              "#46039f"
             ],
             [
              0.2222222222222222,
              "#7201a8"
             ],
             [
              0.3333333333333333,
              "#9c179e"
             ],
             [
              0.4444444444444444,
              "#bd3786"
             ],
             [
              0.5555555555555556,
              "#d8576b"
             ],
             [
              0.6666666666666666,
              "#ed7953"
             ],
             [
              0.7777777777777778,
              "#fb9f3a"
             ],
             [
              0.8888888888888888,
              "#fdca26"
             ],
             [
              1,
              "#f0f921"
             ]
            ],
            "type": "histogram2d"
           }
          ],
          "histogram2dcontour": [
           {
            "colorbar": {
             "outlinewidth": 0,
             "ticks": ""
            },
            "colorscale": [
             [
              0,
              "#0d0887"
             ],
             [
              0.1111111111111111,
              "#46039f"
             ],
             [
              0.2222222222222222,
              "#7201a8"
             ],
             [
              0.3333333333333333,
              "#9c179e"
             ],
             [
              0.4444444444444444,
              "#bd3786"
             ],
             [
              0.5555555555555556,
              "#d8576b"
             ],
             [
              0.6666666666666666,
              "#ed7953"
             ],
             [
              0.7777777777777778,
              "#fb9f3a"
             ],
             [
              0.8888888888888888,
              "#fdca26"
             ],
             [
              1,
              "#f0f921"
             ]
            ],
            "type": "histogram2dcontour"
           }
          ],
          "mesh3d": [
           {
            "colorbar": {
             "outlinewidth": 0,
             "ticks": ""
            },
            "type": "mesh3d"
           }
          ],
          "parcoords": [
           {
            "line": {
             "colorbar": {
              "outlinewidth": 0,
              "ticks": ""
             }
            },
            "type": "parcoords"
           }
          ],
          "pie": [
           {
            "automargin": true,
            "type": "pie"
           }
          ],
          "scatter": [
           {
            "fillpattern": {
             "fillmode": "overlay",
             "size": 10,
             "solidity": 0.2
            },
            "type": "scatter"
           }
          ],
          "scatter3d": [
           {
            "line": {
             "colorbar": {
              "outlinewidth": 0,
              "ticks": ""
             }
            },
            "marker": {
             "colorbar": {
              "outlinewidth": 0,
              "ticks": ""
             }
            },
            "type": "scatter3d"
           }
          ],
          "scattercarpet": [
           {
            "marker": {
             "colorbar": {
              "outlinewidth": 0,
              "ticks": ""
             }
            },
            "type": "scattercarpet"
           }
          ],
          "scattergeo": [
           {
            "marker": {
             "colorbar": {
              "outlinewidth": 0,
              "ticks": ""
             }
            },
            "type": "scattergeo"
           }
          ],
          "scattergl": [
           {
            "marker": {
             "colorbar": {
              "outlinewidth": 0,
              "ticks": ""
             }
            },
            "type": "scattergl"
           }
          ],
          "scattermapbox": [
           {
            "marker": {
             "colorbar": {
              "outlinewidth": 0,
              "ticks": ""
             }
            },
            "type": "scattermapbox"
           }
          ],
          "scatterpolar": [
           {
            "marker": {
             "colorbar": {
              "outlinewidth": 0,
              "ticks": ""
             }
            },
            "type": "scatterpolar"
           }
          ],
          "scatterpolargl": [
           {
            "marker": {
             "colorbar": {
              "outlinewidth": 0,
              "ticks": ""
             }
            },
            "type": "scatterpolargl"
           }
          ],
          "scatterternary": [
           {
            "marker": {
             "colorbar": {
              "outlinewidth": 0,
              "ticks": ""
             }
            },
            "type": "scatterternary"
           }
          ],
          "surface": [
           {
            "colorbar": {
             "outlinewidth": 0,
             "ticks": ""
            },
            "colorscale": [
             [
              0,
              "#0d0887"
             ],
             [
              0.1111111111111111,
              "#46039f"
             ],
             [
              0.2222222222222222,
              "#7201a8"
             ],
             [
              0.3333333333333333,
              "#9c179e"
             ],
             [
              0.4444444444444444,
              "#bd3786"
             ],
             [
              0.5555555555555556,
              "#d8576b"
             ],
             [
              0.6666666666666666,
              "#ed7953"
             ],
             [
              0.7777777777777778,
              "#fb9f3a"
             ],
             [
              0.8888888888888888,
              "#fdca26"
             ],
             [
              1,
              "#f0f921"
             ]
            ],
            "type": "surface"
           }
          ],
          "table": [
           {
            "cells": {
             "fill": {
              "color": "#EBF0F8"
             },
             "line": {
              "color": "white"
             }
            },
            "header": {
             "fill": {
              "color": "#C8D4E3"
             },
             "line": {
              "color": "white"
             }
            },
            "type": "table"
           }
          ]
         },
         "layout": {
          "annotationdefaults": {
           "arrowcolor": "#2a3f5f",
           "arrowhead": 0,
           "arrowwidth": 1
          },
          "autotypenumbers": "strict",
          "coloraxis": {
           "colorbar": {
            "outlinewidth": 0,
            "ticks": ""
           }
          },
          "colorscale": {
           "diverging": [
            [
             0,
             "#8e0152"
            ],
            [
             0.1,
             "#c51b7d"
            ],
            [
             0.2,
             "#de77ae"
            ],
            [
             0.3,
             "#f1b6da"
            ],
            [
             0.4,
             "#fde0ef"
            ],
            [
             0.5,
             "#f7f7f7"
            ],
            [
             0.6,
             "#e6f5d0"
            ],
            [
             0.7,
             "#b8e186"
            ],
            [
             0.8,
             "#7fbc41"
            ],
            [
             0.9,
             "#4d9221"
            ],
            [
             1,
             "#276419"
            ]
           ],
           "sequential": [
            [
             0,
             "#0d0887"
            ],
            [
             0.1111111111111111,
             "#46039f"
            ],
            [
             0.2222222222222222,
             "#7201a8"
            ],
            [
             0.3333333333333333,
             "#9c179e"
            ],
            [
             0.4444444444444444,
             "#bd3786"
            ],
            [
             0.5555555555555556,
             "#d8576b"
            ],
            [
             0.6666666666666666,
             "#ed7953"
            ],
            [
             0.7777777777777778,
             "#fb9f3a"
            ],
            [
             0.8888888888888888,
             "#fdca26"
            ],
            [
             1,
             "#f0f921"
            ]
           ],
           "sequentialminus": [
            [
             0,
             "#0d0887"
            ],
            [
             0.1111111111111111,
             "#46039f"
            ],
            [
             0.2222222222222222,
             "#7201a8"
            ],
            [
             0.3333333333333333,
             "#9c179e"
            ],
            [
             0.4444444444444444,
             "#bd3786"
            ],
            [
             0.5555555555555556,
             "#d8576b"
            ],
            [
             0.6666666666666666,
             "#ed7953"
            ],
            [
             0.7777777777777778,
             "#fb9f3a"
            ],
            [
             0.8888888888888888,
             "#fdca26"
            ],
            [
             1,
             "#f0f921"
            ]
           ]
          },
          "colorway": [
           "#636efa",
           "#EF553B",
           "#00cc96",
           "#ab63fa",
           "#FFA15A",
           "#19d3f3",
           "#FF6692",
           "#B6E880",
           "#FF97FF",
           "#FECB52"
          ],
          "font": {
           "color": "#2a3f5f"
          },
          "geo": {
           "bgcolor": "white",
           "lakecolor": "white",
           "landcolor": "#E5ECF6",
           "showlakes": true,
           "showland": true,
           "subunitcolor": "white"
          },
          "hoverlabel": {
           "align": "left"
          },
          "hovermode": "closest",
          "mapbox": {
           "style": "light"
          },
          "paper_bgcolor": "white",
          "plot_bgcolor": "#E5ECF6",
          "polar": {
           "angularaxis": {
            "gridcolor": "white",
            "linecolor": "white",
            "ticks": ""
           },
           "bgcolor": "#E5ECF6",
           "radialaxis": {
            "gridcolor": "white",
            "linecolor": "white",
            "ticks": ""
           }
          },
          "scene": {
           "xaxis": {
            "backgroundcolor": "#E5ECF6",
            "gridcolor": "white",
            "gridwidth": 2,
            "linecolor": "white",
            "showbackground": true,
            "ticks": "",
            "zerolinecolor": "white"
           },
           "yaxis": {
            "backgroundcolor": "#E5ECF6",
            "gridcolor": "white",
            "gridwidth": 2,
            "linecolor": "white",
            "showbackground": true,
            "ticks": "",
            "zerolinecolor": "white"
           },
           "zaxis": {
            "backgroundcolor": "#E5ECF6",
            "gridcolor": "white",
            "gridwidth": 2,
            "linecolor": "white",
            "showbackground": true,
            "ticks": "",
            "zerolinecolor": "white"
           }
          },
          "shapedefaults": {
           "line": {
            "color": "#2a3f5f"
           }
          },
          "ternary": {
           "aaxis": {
            "gridcolor": "white",
            "linecolor": "white",
            "ticks": ""
           },
           "baxis": {
            "gridcolor": "white",
            "linecolor": "white",
            "ticks": ""
           },
           "bgcolor": "#E5ECF6",
           "caxis": {
            "gridcolor": "white",
            "linecolor": "white",
            "ticks": ""
           }
          },
          "title": {
           "x": 0.05
          },
          "xaxis": {
           "automargin": true,
           "gridcolor": "white",
           "linecolor": "white",
           "ticks": "",
           "title": {
            "standoff": 15
           },
           "zerolinecolor": "white",
           "zerolinewidth": 2
          },
          "yaxis": {
           "automargin": true,
           "gridcolor": "white",
           "linecolor": "white",
           "ticks": "",
           "title": {
            "standoff": 15
           },
           "zerolinecolor": "white",
           "zerolinewidth": 2
          }
         }
        },
        "title": {
         "text": "Q-Table Convergence"
        },
        "xaxis": {
         "anchor": "y",
         "domain": [
          0,
          1
         ],
         "title": {
          "text": "episode"
         }
        },
        "yaxis": {
         "anchor": "x",
         "domain": [
          0,
          1
         ],
         "title": {
          "text": "Q-Table Mean Absulute Error"
         }
        }
       }
      },
      "text/html": [
       "<div>                            <div id=\"cdb4fdee-ea2c-4ba6-a8cf-d040576e4ff7\" class=\"plotly-graph-div\" style=\"height:525px; width:100%;\"></div>            <script type=\"text/javascript\">                require([\"plotly\"], function(Plotly) {                    window.PLOTLYENV=window.PLOTLYENV || {};                                    if (document.getElementById(\"cdb4fdee-ea2c-4ba6-a8cf-d040576e4ff7\")) {                    Plotly.newPlot(                        \"cdb4fdee-ea2c-4ba6-a8cf-d040576e4ff7\",                        [{\"hovertemplate\":\"epoch=%{x}<br>mean=%{y}<extra></extra>\",\"legendgroup\":\"\",\"line\":{\"color\":\"#636efa\",\"dash\":\"solid\"},\"marker\":{\"symbol\":\"circle\"},\"mode\":\"lines\",\"name\":\"\",\"orientation\":\"v\",\"showlegend\":false,\"x\":[100,200,300,400,500,600,700,800,900,1000,1100,1200,1300,1400,1500,1600,1700,1800,1900,2000,2100,2200,2300,2400,2500,2600,2700,2800,2900,3000,3100,3200,3300,3400,3500,3600,3700,3800,3900,4000,4100,4200,4300,4400,4500,4600,4700,4800,4900,5000,5100,5200,5300,5400,5500,5600,5700,5800,5900,6000,6100,6200,6300,6400,6500,6600,6700,6800,6900,7000,7100,7200,7300,7400,7500,7600,7700,7800,7900,8000,8100,8200,8300,8400,8500,8600,8700,8800,8900,9000,9100,9200,9300,9400,9500,9600,9700,9800,9900,10000,10100,10200,10300,10400,10500,10600,10700,10800,10900,11000,11100,11200,11300,11400,11500,11600,11700,11800,11900,12000,12100,12200,12300,12400,12500,12600,12700,12800,12900,13000,13100,13200,13300,13400,13500,13600,13700,13800,13900,14000,14100,14200,14300,14400,14500,14600,14700,14800,14900,15000],\"xaxis\":\"x\",\"y\":[0.537743826677245,0.16119211729357213,0.32350480226214456,0.1014847179361665,0.11515157172280936,0.16090306740208185,0.12124089884282721,0.07436165631161094,0.10204795160737383,0.1476469892785914,0.028132108773873385,0.06081207013365094,0.05238908855381311,0.1316261823832346,0.10467109361166496,0.12877115945457657,0.15123596653121749,0.08028498956580474,0.06674389608942241,0.05526069651643357,0.09474497338885225,0.06998718496557173,0.07998748983316166,0.043226215732238345,0.0827491406522172,0.0602230913358176,0.06874279326508338,0.1023410929037669,0.08122265623464903,0.08444031642172017,0.10559709668821174,0.09442193095595244,0.042241217783956446,0.07738271644361333,0.09241046968686872,0.11558542521089885,0.1591231788131502,0.11023978073941056,0.06212729969793218,0.06717603323592847,0.07073121447271868,0.07061791804039758,0.055590602288663304,0.12163824685038833,0.08719389785541821,0.092423762597995,0.06267416738889246,0.0961085965321369,0.053407149928535916,0.03850375643995057,0.04055112005227383,0.0840631694340012,0.04973665177543658,0.09284955027865362,0.06215215205549759,0.06361039020709666,0.07972747873602104,0.06576766390641385,0.05947866093259412,0.04518833479034456,0.04503895076756318,0.04037557113940463,0.08143479007057973,0.053589481454269304,0.047566648528324665,0.035045649326671355,0.05271322820146487,0.030752368932879713,0.04171955092989564,0.07891222623548864,0.051168314597901804,0.0255889584287828,0.052270868537296976,0.05567353318382913,0.03347605065816618,0.04816054246934313,0.06192311582717533,0.028263651560964807,0.017594438505737768,0.03956050187134797,0.04380933234235899,0.027657026005183993,0.0381641279871586,0.025422050806989428,0.01132667302721975,0.04110164055700495,0.050594745895129654,0.04866247873716855,0.018252068330562376,0.036731311087926724,0.038941336621831066,0.06827553735952736,0.029526907086173386,0.040339485754782495,0.03941608801194135,0.01538089314649535,0.022690125881009268,0.0540678283712002,0.02999890875312276,0.0703311100230721,0.021820576690498847,0.03356636137736053,0.03145104394381332,0.014310069710626008,0.032217160121965155,0.08093890937239187,0.02588676792267551,0.014429365674176946,0.026818941441726318,0.023123682025768137,0.018102576143243718,0.014896389365475876,0.03647493067207399,0.03219418192479961,0.030621713633541638,0.04189944342124872,0.024488072728120258,0.02769039733569143,0.01759777379792626,0.014723289098518623,0.040268063741875,0.007615704248161492,0.019304482162719197,0.03752327639988134,0.01294315432915383,0.005128810836609383,0.02255330751026021,0.015205550991697701,0.03537821528885976,0.02035699176360093,0.014617222613321856,0.022920144234302914,0.016620075470190725,0.012244277555013344,0.012583022608953744,0.0145385202026209,0.008527699136731291,0.012681619011955591,0.014087792350968466,0.006115352191382466,0.013837226896103847,0.008720022552569014,0.007641714342704402,0.007859327783782686,0.01396207284549716,0.017292830298424135,0.009613143715566302,0.013545680988282642,0.00981128021201667,0.009899755543107718],\"yaxis\":\"y\",\"type\":\"scatter\"}],                        {\"template\":{\"data\":{\"histogram2dcontour\":[{\"type\":\"histogram2dcontour\",\"colorbar\":{\"outlinewidth\":0,\"ticks\":\"\"},\"colorscale\":[[0.0,\"#0d0887\"],[0.1111111111111111,\"#46039f\"],[0.2222222222222222,\"#7201a8\"],[0.3333333333333333,\"#9c179e\"],[0.4444444444444444,\"#bd3786\"],[0.5555555555555556,\"#d8576b\"],[0.6666666666666666,\"#ed7953\"],[0.7777777777777778,\"#fb9f3a\"],[0.8888888888888888,\"#fdca26\"],[1.0,\"#f0f921\"]]}],\"choropleth\":[{\"type\":\"choropleth\",\"colorbar\":{\"outlinewidth\":0,\"ticks\":\"\"}}],\"histogram2d\":[{\"type\":\"histogram2d\",\"colorbar\":{\"outlinewidth\":0,\"ticks\":\"\"},\"colorscale\":[[0.0,\"#0d0887\"],[0.1111111111111111,\"#46039f\"],[0.2222222222222222,\"#7201a8\"],[0.3333333333333333,\"#9c179e\"],[0.4444444444444444,\"#bd3786\"],[0.5555555555555556,\"#d8576b\"],[0.6666666666666666,\"#ed7953\"],[0.7777777777777778,\"#fb9f3a\"],[0.8888888888888888,\"#fdca26\"],[1.0,\"#f0f921\"]]}],\"heatmap\":[{\"type\":\"heatmap\",\"colorbar\":{\"outlinewidth\":0,\"ticks\":\"\"},\"colorscale\":[[0.0,\"#0d0887\"],[0.1111111111111111,\"#46039f\"],[0.2222222222222222,\"#7201a8\"],[0.3333333333333333,\"#9c179e\"],[0.4444444444444444,\"#bd3786\"],[0.5555555555555556,\"#d8576b\"],[0.6666666666666666,\"#ed7953\"],[0.7777777777777778,\"#fb9f3a\"],[0.8888888888888888,\"#fdca26\"],[1.0,\"#f0f921\"]]}],\"heatmapgl\":[{\"type\":\"heatmapgl\",\"colorbar\":{\"outlinewidth\":0,\"ticks\":\"\"},\"colorscale\":[[0.0,\"#0d0887\"],[0.1111111111111111,\"#46039f\"],[0.2222222222222222,\"#7201a8\"],[0.3333333333333333,\"#9c179e\"],[0.4444444444444444,\"#bd3786\"],[0.5555555555555556,\"#d8576b\"],[0.6666666666666666,\"#ed7953\"],[0.7777777777777778,\"#fb9f3a\"],[0.8888888888888888,\"#fdca26\"],[1.0,\"#f0f921\"]]}],\"contourcarpet\":[{\"type\":\"contourcarpet\",\"colorbar\":{\"outlinewidth\":0,\"ticks\":\"\"}}],\"contour\":[{\"type\":\"contour\",\"colorbar\":{\"outlinewidth\":0,\"ticks\":\"\"},\"colorscale\":[[0.0,\"#0d0887\"],[0.1111111111111111,\"#46039f\"],[0.2222222222222222,\"#7201a8\"],[0.3333333333333333,\"#9c179e\"],[0.4444444444444444,\"#bd3786\"],[0.5555555555555556,\"#d8576b\"],[0.6666666666666666,\"#ed7953\"],[0.7777777777777778,\"#fb9f3a\"],[0.8888888888888888,\"#fdca26\"],[1.0,\"#f0f921\"]]}],\"surface\":[{\"type\":\"surface\",\"colorbar\":{\"outlinewidth\":0,\"ticks\":\"\"},\"colorscale\":[[0.0,\"#0d0887\"],[0.1111111111111111,\"#46039f\"],[0.2222222222222222,\"#7201a8\"],[0.3333333333333333,\"#9c179e\"],[0.4444444444444444,\"#bd3786\"],[0.5555555555555556,\"#d8576b\"],[0.6666666666666666,\"#ed7953\"],[0.7777777777777778,\"#fb9f3a\"],[0.8888888888888888,\"#fdca26\"],[1.0,\"#f0f921\"]]}],\"mesh3d\":[{\"type\":\"mesh3d\",\"colorbar\":{\"outlinewidth\":0,\"ticks\":\"\"}}],\"scatter\":[{\"fillpattern\":{\"fillmode\":\"overlay\",\"size\":10,\"solidity\":0.2},\"type\":\"scatter\"}],\"parcoords\":[{\"type\":\"parcoords\",\"line\":{\"colorbar\":{\"outlinewidth\":0,\"ticks\":\"\"}}}],\"scatterpolargl\":[{\"type\":\"scatterpolargl\",\"marker\":{\"colorbar\":{\"outlinewidth\":0,\"ticks\":\"\"}}}],\"bar\":[{\"error_x\":{\"color\":\"#2a3f5f\"},\"error_y\":{\"color\":\"#2a3f5f\"},\"marker\":{\"line\":{\"color\":\"#E5ECF6\",\"width\":0.5},\"pattern\":{\"fillmode\":\"overlay\",\"size\":10,\"solidity\":0.2}},\"type\":\"bar\"}],\"scattergeo\":[{\"type\":\"scattergeo\",\"marker\":{\"colorbar\":{\"outlinewidth\":0,\"ticks\":\"\"}}}],\"scatterpolar\":[{\"type\":\"scatterpolar\",\"marker\":{\"colorbar\":{\"outlinewidth\":0,\"ticks\":\"\"}}}],\"histogram\":[{\"marker\":{\"pattern\":{\"fillmode\":\"overlay\",\"size\":10,\"solidity\":0.2}},\"type\":\"histogram\"}],\"scattergl\":[{\"type\":\"scattergl\",\"marker\":{\"colorbar\":{\"outlinewidth\":0,\"ticks\":\"\"}}}],\"scatter3d\":[{\"type\":\"scatter3d\",\"line\":{\"colorbar\":{\"outlinewidth\":0,\"ticks\":\"\"}},\"marker\":{\"colorbar\":{\"outlinewidth\":0,\"ticks\":\"\"}}}],\"scattermapbox\":[{\"type\":\"scattermapbox\",\"marker\":{\"colorbar\":{\"outlinewidth\":0,\"ticks\":\"\"}}}],\"scatterternary\":[{\"type\":\"scatterternary\",\"marker\":{\"colorbar\":{\"outlinewidth\":0,\"ticks\":\"\"}}}],\"scattercarpet\":[{\"type\":\"scattercarpet\",\"marker\":{\"colorbar\":{\"outlinewidth\":0,\"ticks\":\"\"}}}],\"carpet\":[{\"aaxis\":{\"endlinecolor\":\"#2a3f5f\",\"gridcolor\":\"white\",\"linecolor\":\"white\",\"minorgridcolor\":\"white\",\"startlinecolor\":\"#2a3f5f\"},\"baxis\":{\"endlinecolor\":\"#2a3f5f\",\"gridcolor\":\"white\",\"linecolor\":\"white\",\"minorgridcolor\":\"white\",\"startlinecolor\":\"#2a3f5f\"},\"type\":\"carpet\"}],\"table\":[{\"cells\":{\"fill\":{\"color\":\"#EBF0F8\"},\"line\":{\"color\":\"white\"}},\"header\":{\"fill\":{\"color\":\"#C8D4E3\"},\"line\":{\"color\":\"white\"}},\"type\":\"table\"}],\"barpolar\":[{\"marker\":{\"line\":{\"color\":\"#E5ECF6\",\"width\":0.5},\"pattern\":{\"fillmode\":\"overlay\",\"size\":10,\"solidity\":0.2}},\"type\":\"barpolar\"}],\"pie\":[{\"automargin\":true,\"type\":\"pie\"}]},\"layout\":{\"autotypenumbers\":\"strict\",\"colorway\":[\"#636efa\",\"#EF553B\",\"#00cc96\",\"#ab63fa\",\"#FFA15A\",\"#19d3f3\",\"#FF6692\",\"#B6E880\",\"#FF97FF\",\"#FECB52\"],\"font\":{\"color\":\"#2a3f5f\"},\"hovermode\":\"closest\",\"hoverlabel\":{\"align\":\"left\"},\"paper_bgcolor\":\"white\",\"plot_bgcolor\":\"#E5ECF6\",\"polar\":{\"bgcolor\":\"#E5ECF6\",\"angularaxis\":{\"gridcolor\":\"white\",\"linecolor\":\"white\",\"ticks\":\"\"},\"radialaxis\":{\"gridcolor\":\"white\",\"linecolor\":\"white\",\"ticks\":\"\"}},\"ternary\":{\"bgcolor\":\"#E5ECF6\",\"aaxis\":{\"gridcolor\":\"white\",\"linecolor\":\"white\",\"ticks\":\"\"},\"baxis\":{\"gridcolor\":\"white\",\"linecolor\":\"white\",\"ticks\":\"\"},\"caxis\":{\"gridcolor\":\"white\",\"linecolor\":\"white\",\"ticks\":\"\"}},\"coloraxis\":{\"colorbar\":{\"outlinewidth\":0,\"ticks\":\"\"}},\"colorscale\":{\"sequential\":[[0.0,\"#0d0887\"],[0.1111111111111111,\"#46039f\"],[0.2222222222222222,\"#7201a8\"],[0.3333333333333333,\"#9c179e\"],[0.4444444444444444,\"#bd3786\"],[0.5555555555555556,\"#d8576b\"],[0.6666666666666666,\"#ed7953\"],[0.7777777777777778,\"#fb9f3a\"],[0.8888888888888888,\"#fdca26\"],[1.0,\"#f0f921\"]],\"sequentialminus\":[[0.0,\"#0d0887\"],[0.1111111111111111,\"#46039f\"],[0.2222222222222222,\"#7201a8\"],[0.3333333333333333,\"#9c179e\"],[0.4444444444444444,\"#bd3786\"],[0.5555555555555556,\"#d8576b\"],[0.6666666666666666,\"#ed7953\"],[0.7777777777777778,\"#fb9f3a\"],[0.8888888888888888,\"#fdca26\"],[1.0,\"#f0f921\"]],\"diverging\":[[0,\"#8e0152\"],[0.1,\"#c51b7d\"],[0.2,\"#de77ae\"],[0.3,\"#f1b6da\"],[0.4,\"#fde0ef\"],[0.5,\"#f7f7f7\"],[0.6,\"#e6f5d0\"],[0.7,\"#b8e186\"],[0.8,\"#7fbc41\"],[0.9,\"#4d9221\"],[1,\"#276419\"]]},\"xaxis\":{\"gridcolor\":\"white\",\"linecolor\":\"white\",\"ticks\":\"\",\"title\":{\"standoff\":15},\"zerolinecolor\":\"white\",\"automargin\":true,\"zerolinewidth\":2},\"yaxis\":{\"gridcolor\":\"white\",\"linecolor\":\"white\",\"ticks\":\"\",\"title\":{\"standoff\":15},\"zerolinecolor\":\"white\",\"automargin\":true,\"zerolinewidth\":2},\"scene\":{\"xaxis\":{\"backgroundcolor\":\"#E5ECF6\",\"gridcolor\":\"white\",\"linecolor\":\"white\",\"showbackground\":true,\"ticks\":\"\",\"zerolinecolor\":\"white\",\"gridwidth\":2},\"yaxis\":{\"backgroundcolor\":\"#E5ECF6\",\"gridcolor\":\"white\",\"linecolor\":\"white\",\"showbackground\":true,\"ticks\":\"\",\"zerolinecolor\":\"white\",\"gridwidth\":2},\"zaxis\":{\"backgroundcolor\":\"#E5ECF6\",\"gridcolor\":\"white\",\"linecolor\":\"white\",\"showbackground\":true,\"ticks\":\"\",\"zerolinecolor\":\"white\",\"gridwidth\":2}},\"shapedefaults\":{\"line\":{\"color\":\"#2a3f5f\"}},\"annotationdefaults\":{\"arrowcolor\":\"#2a3f5f\",\"arrowhead\":0,\"arrowwidth\":1},\"geo\":{\"bgcolor\":\"white\",\"landcolor\":\"#E5ECF6\",\"subunitcolor\":\"white\",\"showland\":true,\"showlakes\":true,\"lakecolor\":\"white\"},\"title\":{\"x\":0.05},\"mapbox\":{\"style\":\"light\"}}},\"xaxis\":{\"anchor\":\"y\",\"domain\":[0.0,1.0],\"title\":{\"text\":\"episode\"}},\"yaxis\":{\"anchor\":\"x\",\"domain\":[0.0,1.0],\"title\":{\"text\":\"Q-Table Mean Absulute Error\"}},\"legend\":{\"tracegroupgap\":0},\"title\":{\"text\":\"Q-Table Convergence\"}},                        {\"responsive\": true}                    ).then(function(){\n",
       "                            \n",
       "var gd = document.getElementById('cdb4fdee-ea2c-4ba6-a8cf-d040576e4ff7');\n",
       "var x = new MutationObserver(function (mutations, observer) {{\n",
       "        var display = window.getComputedStyle(gd).display;\n",
       "        if (!display || display === 'none') {{\n",
       "            console.log([gd, 'removed!']);\n",
       "            Plotly.purge(gd);\n",
       "            observer.disconnect();\n",
       "        }}\n",
       "}});\n",
       "\n",
       "// Listen for the removal of the full notebook cells\n",
       "var notebookContainer = gd.closest('#notebook-container');\n",
       "if (notebookContainer) {{\n",
       "    x.observe(notebookContainer, {childList: true});\n",
       "}}\n",
       "\n",
       "// Listen for the clearing of the current output cell\n",
       "var outputEl = gd.closest('.output');\n",
       "if (outputEl) {{\n",
       "    x.observe(outputEl, {childList: true});\n",
       "}}\n",
       "\n",
       "                        })                };                });            </script>        </div>"
      ]
     },
     "metadata": {},
     "output_type": "display_data"
    }
   ],
   "source": [
    "fig = px.line(QErrorsDF, x = 'epoch', y = 'mean', title = 'Q-Table Convergence')\n",
    "\n",
    "fig.update_layout(\n",
    "    yaxis_title=\"Q-Table Mean Absulute Error\",\n",
    "    xaxis_title=\"episode\"\n",
    ")\n",
    "\n",
    "fileTemplate = \"../plots/{}/QTableConvergence.{}\"\n",
    "fig.write_html(fileTemplate.format(\"html\",\"html\"), full_html=True, include_plotlyjs='cdn')\n",
    "fig"
   ]
  },
  {
   "cell_type": "markdown",
   "metadata": {},
   "source": [
    "## **Test**"
   ]
  },
  {
   "cell_type": "markdown",
   "metadata": {},
   "source": [
    "In the cell below, we dropped all instances without a optimal solution and those instances for which we found an unfeasible solution. "
   ]
  },
  {
   "cell_type": "code",
   "execution_count": 68,
   "metadata": {},
   "outputs": [
    {
     "data": {
      "text/html": [
       "<div>\n",
       "<style scoped>\n",
       "    .dataframe tbody tr th:only-of-type {\n",
       "        vertical-align: middle;\n",
       "    }\n",
       "\n",
       "    .dataframe tbody tr th {\n",
       "        vertical-align: top;\n",
       "    }\n",
       "\n",
       "    .dataframe thead th {\n",
       "        text-align: right;\n",
       "    }\n",
       "</style>\n",
       "<table border=\"1\" class=\"dataframe\">\n",
       "  <thead>\n",
       "    <tr style=\"text-align: right;\">\n",
       "      <th></th>\n",
       "      <th>Number of items</th>\n",
       "      <th>Capacity</th>\n",
       "      <th>count</th>\n",
       "      <th>Mean relative error (%)</th>\n",
       "      <th>relativeError_std</th>\n",
       "      <th>relativeError_min</th>\n",
       "      <th>relativeError_25%</th>\n",
       "      <th>relativeError_50%</th>\n",
       "      <th>relativeError_75%</th>\n",
       "      <th>relativeError_max</th>\n",
       "    </tr>\n",
       "  </thead>\n",
       "  <tbody>\n",
       "    <tr>\n",
       "      <th>0</th>\n",
       "      <td>1000</td>\n",
       "      <td>1000000</td>\n",
       "      <td>33.0</td>\n",
       "      <td>0.452904</td>\n",
       "      <td>0.013011</td>\n",
       "      <td>0.0</td>\n",
       "      <td>1.877394e-05</td>\n",
       "      <td>5.029524e-05</td>\n",
       "      <td>0.001154</td>\n",
       "      <td>0.064886</td>\n",
       "    </tr>\n",
       "    <tr>\n",
       "      <th>1</th>\n",
       "      <td>1000</td>\n",
       "      <td>100000000</td>\n",
       "      <td>48.0</td>\n",
       "      <td>0.541940</td>\n",
       "      <td>0.012415</td>\n",
       "      <td>0.0</td>\n",
       "      <td>2.887759e-06</td>\n",
       "      <td>9.804310e-05</td>\n",
       "      <td>0.001350</td>\n",
       "      <td>0.049627</td>\n",
       "    </tr>\n",
       "    <tr>\n",
       "      <th>2</th>\n",
       "      <td>1000</td>\n",
       "      <td>10000000000</td>\n",
       "      <td>23.0</td>\n",
       "      <td>1.205861</td>\n",
       "      <td>0.024171</td>\n",
       "      <td>0.0</td>\n",
       "      <td>7.332517e-10</td>\n",
       "      <td>2.199949e-09</td>\n",
       "      <td>0.006133</td>\n",
       "      <td>0.094729</td>\n",
       "    </tr>\n",
       "    <tr>\n",
       "      <th>3</th>\n",
       "      <td>1200</td>\n",
       "      <td>1000000</td>\n",
       "      <td>38.0</td>\n",
       "      <td>0.515211</td>\n",
       "      <td>0.013476</td>\n",
       "      <td>0.0</td>\n",
       "      <td>6.245051e-06</td>\n",
       "      <td>3.370444e-05</td>\n",
       "      <td>0.000384</td>\n",
       "      <td>0.071611</td>\n",
       "    </tr>\n",
       "    <tr>\n",
       "      <th>4</th>\n",
       "      <td>1200</td>\n",
       "      <td>100000000</td>\n",
       "      <td>44.0</td>\n",
       "      <td>0.930147</td>\n",
       "      <td>0.021853</td>\n",
       "      <td>0.0</td>\n",
       "      <td>2.957083e-06</td>\n",
       "      <td>7.054236e-04</td>\n",
       "      <td>0.002721</td>\n",
       "      <td>0.084606</td>\n",
       "    </tr>\n",
       "  </tbody>\n",
       "</table>\n",
       "</div>"
      ],
      "text/plain": [
       "   Number of items     Capacity  count  Mean relative error (%)  \\\n",
       "0             1000      1000000   33.0                 0.452904   \n",
       "1             1000    100000000   48.0                 0.541940   \n",
       "2             1000  10000000000   23.0                 1.205861   \n",
       "3             1200      1000000   38.0                 0.515211   \n",
       "4             1200    100000000   44.0                 0.930147   \n",
       "\n",
       "   relativeError_std  relativeError_min  relativeError_25%  relativeError_50%  \\\n",
       "0           0.013011                0.0       1.877394e-05       5.029524e-05   \n",
       "1           0.012415                0.0       2.887759e-06       9.804310e-05   \n",
       "2           0.024171                0.0       7.332517e-10       2.199949e-09   \n",
       "3           0.013476                0.0       6.245051e-06       3.370444e-05   \n",
       "4           0.021853                0.0       2.957083e-06       7.054236e-04   \n",
       "\n",
       "   relativeError_75%  relativeError_max  \n",
       "0           0.001154           0.064886  \n",
       "1           0.001350           0.049627  \n",
       "2           0.006133           0.094729  \n",
       "3           0.000384           0.071611  \n",
       "4           0.002721           0.084606  "
      ]
     },
     "execution_count": 68,
     "metadata": {},
     "output_type": "execute_result"
    }
   ],
   "source": []
  },
  {
   "cell_type": "code",
   "execution_count": 21,
   "metadata": {},
   "outputs": [
    {
     "data": {
      "text/html": [
       "<div>\n",
       "<style scoped>\n",
       "    .dataframe tbody tr th:only-of-type {\n",
       "        vertical-align: middle;\n",
       "    }\n",
       "\n",
       "    .dataframe tbody tr th {\n",
       "        vertical-align: top;\n",
       "    }\n",
       "\n",
       "    .dataframe thead tr th {\n",
       "        text-align: left;\n",
       "    }\n",
       "\n",
       "    .dataframe thead tr:last-of-type th {\n",
       "        text-align: right;\n",
       "    }\n",
       "</style>\n",
       "<table border=\"1\" class=\"dataframe\">\n",
       "  <thead>\n",
       "    <tr>\n",
       "      <th></th>\n",
       "      <th></th>\n",
       "      <th colspan=\"8\" halign=\"left\">optimumRuntime</th>\n",
       "      <th colspan=\"5\" halign=\"left\">runtime</th>\n",
       "      <th colspan=\"8\" halign=\"left\">relativeError</th>\n",
       "    </tr>\n",
       "    <tr>\n",
       "      <th></th>\n",
       "      <th></th>\n",
       "      <th>count</th>\n",
       "      <th>mean</th>\n",
       "      <th>std</th>\n",
       "      <th>min</th>\n",
       "      <th>25%</th>\n",
       "      <th>50%</th>\n",
       "      <th>75%</th>\n",
       "      <th>max</th>\n",
       "      <th>count</th>\n",
       "      <th>mean</th>\n",
       "      <th>...</th>\n",
       "      <th>75%</th>\n",
       "      <th>max</th>\n",
       "      <th>count</th>\n",
       "      <th>mean</th>\n",
       "      <th>std</th>\n",
       "      <th>min</th>\n",
       "      <th>25%</th>\n",
       "      <th>50%</th>\n",
       "      <th>75%</th>\n",
       "      <th>max</th>\n",
       "    </tr>\n",
       "    <tr>\n",
       "      <th>n</th>\n",
       "      <th>c</th>\n",
       "      <th></th>\n",
       "      <th></th>\n",
       "      <th></th>\n",
       "      <th></th>\n",
       "      <th></th>\n",
       "      <th></th>\n",
       "      <th></th>\n",
       "      <th></th>\n",
       "      <th></th>\n",
       "      <th></th>\n",
       "      <th></th>\n",
       "      <th></th>\n",
       "      <th></th>\n",
       "      <th></th>\n",
       "      <th></th>\n",
       "      <th></th>\n",
       "      <th></th>\n",
       "      <th></th>\n",
       "      <th></th>\n",
       "      <th></th>\n",
       "      <th></th>\n",
       "    </tr>\n",
       "  </thead>\n",
       "  <tbody>\n",
       "    <tr>\n",
       "      <th rowspan=\"3\" valign=\"top\">1000</th>\n",
       "      <th>1000000</th>\n",
       "      <td>33.0</td>\n",
       "      <td>0.629272</td>\n",
       "      <td>0.911742</td>\n",
       "      <td>0.058373</td>\n",
       "      <td>0.111350</td>\n",
       "      <td>0.184010</td>\n",
       "      <td>0.747961</td>\n",
       "      <td>4.335682</td>\n",
       "      <td>33.0</td>\n",
       "      <td>0.004872</td>\n",
       "      <td>...</td>\n",
       "      <td>0.005426</td>\n",
       "      <td>0.006597</td>\n",
       "      <td>33.0</td>\n",
       "      <td>0.004529</td>\n",
       "      <td>0.013011</td>\n",
       "      <td>0.0</td>\n",
       "      <td>1.877394e-05</td>\n",
       "      <td>5.029524e-05</td>\n",
       "      <td>0.001154</td>\n",
       "      <td>0.064886</td>\n",
       "    </tr>\n",
       "    <tr>\n",
       "      <th>100000000</th>\n",
       "      <td>48.0</td>\n",
       "      <td>31.805593</td>\n",
       "      <td>61.217056</td>\n",
       "      <td>0.107452</td>\n",
       "      <td>0.715903</td>\n",
       "      <td>7.140235</td>\n",
       "      <td>26.159501</td>\n",
       "      <td>294.078567</td>\n",
       "      <td>48.0</td>\n",
       "      <td>0.005668</td>\n",
       "      <td>...</td>\n",
       "      <td>0.006371</td>\n",
       "      <td>0.008150</td>\n",
       "      <td>48.0</td>\n",
       "      <td>0.005419</td>\n",
       "      <td>0.012415</td>\n",
       "      <td>0.0</td>\n",
       "      <td>2.887759e-06</td>\n",
       "      <td>9.804310e-05</td>\n",
       "      <td>0.001350</td>\n",
       "      <td>0.049627</td>\n",
       "    </tr>\n",
       "    <tr>\n",
       "      <th>10000000000</th>\n",
       "      <td>23.0</td>\n",
       "      <td>261.991257</td>\n",
       "      <td>887.235679</td>\n",
       "      <td>0.091054</td>\n",
       "      <td>0.246487</td>\n",
       "      <td>0.593619</td>\n",
       "      <td>27.317455</td>\n",
       "      <td>4222.267330</td>\n",
       "      <td>23.0</td>\n",
       "      <td>0.004312</td>\n",
       "      <td>...</td>\n",
       "      <td>0.004873</td>\n",
       "      <td>0.006144</td>\n",
       "      <td>23.0</td>\n",
       "      <td>0.012059</td>\n",
       "      <td>0.024171</td>\n",
       "      <td>0.0</td>\n",
       "      <td>7.332517e-10</td>\n",
       "      <td>2.199949e-09</td>\n",
       "      <td>0.006133</td>\n",
       "      <td>0.094729</td>\n",
       "    </tr>\n",
       "    <tr>\n",
       "      <th rowspan=\"3\" valign=\"top\">1200</th>\n",
       "      <th>1000000</th>\n",
       "      <td>38.0</td>\n",
       "      <td>0.772424</td>\n",
       "      <td>1.129680</td>\n",
       "      <td>0.052015</td>\n",
       "      <td>0.126794</td>\n",
       "      <td>0.275831</td>\n",
       "      <td>0.654100</td>\n",
       "      <td>3.918329</td>\n",
       "      <td>38.0</td>\n",
       "      <td>0.005892</td>\n",
       "      <td>...</td>\n",
       "      <td>0.006507</td>\n",
       "      <td>0.008147</td>\n",
       "      <td>38.0</td>\n",
       "      <td>0.005152</td>\n",
       "      <td>0.013476</td>\n",
       "      <td>0.0</td>\n",
       "      <td>6.245051e-06</td>\n",
       "      <td>3.370444e-05</td>\n",
       "      <td>0.000384</td>\n",
       "      <td>0.071611</td>\n",
       "    </tr>\n",
       "    <tr>\n",
       "      <th>100000000</th>\n",
       "      <td>44.0</td>\n",
       "      <td>34.944665</td>\n",
       "      <td>86.841742</td>\n",
       "      <td>0.131280</td>\n",
       "      <td>0.756752</td>\n",
       "      <td>8.702209</td>\n",
       "      <td>17.489976</td>\n",
       "      <td>519.782642</td>\n",
       "      <td>44.0</td>\n",
       "      <td>0.005959</td>\n",
       "      <td>...</td>\n",
       "      <td>0.006694</td>\n",
       "      <td>0.008994</td>\n",
       "      <td>44.0</td>\n",
       "      <td>0.009301</td>\n",
       "      <td>0.021853</td>\n",
       "      <td>0.0</td>\n",
       "      <td>2.957083e-06</td>\n",
       "      <td>7.054236e-04</td>\n",
       "      <td>0.002721</td>\n",
       "      <td>0.084606</td>\n",
       "    </tr>\n",
       "    <tr>\n",
       "      <th>10000000000</th>\n",
       "      <td>31.0</td>\n",
       "      <td>426.090392</td>\n",
       "      <td>1068.588748</td>\n",
       "      <td>0.113484</td>\n",
       "      <td>1.204633</td>\n",
       "      <td>27.523952</td>\n",
       "      <td>116.723365</td>\n",
       "      <td>4795.614831</td>\n",
       "      <td>31.0</td>\n",
       "      <td>0.005781</td>\n",
       "      <td>...</td>\n",
       "      <td>0.006698</td>\n",
       "      <td>0.009399</td>\n",
       "      <td>31.0</td>\n",
       "      <td>0.013905</td>\n",
       "      <td>0.025357</td>\n",
       "      <td>0.0</td>\n",
       "      <td>1.803664e-08</td>\n",
       "      <td>6.357464e-05</td>\n",
       "      <td>0.018797</td>\n",
       "      <td>0.088747</td>\n",
       "    </tr>\n",
       "    <tr>\n",
       "      <th rowspan=\"3\" valign=\"top\">400</th>\n",
       "      <th>1000000</th>\n",
       "      <td>42.0</td>\n",
       "      <td>0.282710</td>\n",
       "      <td>0.275393</td>\n",
       "      <td>0.046710</td>\n",
       "      <td>0.088763</td>\n",
       "      <td>0.162916</td>\n",
       "      <td>0.371926</td>\n",
       "      <td>1.267928</td>\n",
       "      <td>42.0</td>\n",
       "      <td>0.002453</td>\n",
       "      <td>...</td>\n",
       "      <td>0.002736</td>\n",
       "      <td>0.003706</td>\n",
       "      <td>42.0</td>\n",
       "      <td>0.008548</td>\n",
       "      <td>0.019341</td>\n",
       "      <td>0.0</td>\n",
       "      <td>1.913750e-05</td>\n",
       "      <td>8.852070e-04</td>\n",
       "      <td>0.005930</td>\n",
       "      <td>0.088537</td>\n",
       "    </tr>\n",
       "    <tr>\n",
       "      <th>100000000</th>\n",
       "      <td>47.0</td>\n",
       "      <td>9.394258</td>\n",
       "      <td>20.743351</td>\n",
       "      <td>0.071593</td>\n",
       "      <td>0.222929</td>\n",
       "      <td>1.314687</td>\n",
       "      <td>8.606258</td>\n",
       "      <td>99.131133</td>\n",
       "      <td>47.0</td>\n",
       "      <td>0.002661</td>\n",
       "      <td>...</td>\n",
       "      <td>0.002857</td>\n",
       "      <td>0.005350</td>\n",
       "      <td>47.0</td>\n",
       "      <td>0.002826</td>\n",
       "      <td>0.008212</td>\n",
       "      <td>0.0</td>\n",
       "      <td>7.099175e-07</td>\n",
       "      <td>6.770643e-05</td>\n",
       "      <td>0.000779</td>\n",
       "      <td>0.044025</td>\n",
       "    </tr>\n",
       "    <tr>\n",
       "      <th>10000000000</th>\n",
       "      <td>34.0</td>\n",
       "      <td>70.779865</td>\n",
       "      <td>132.713759</td>\n",
       "      <td>0.071851</td>\n",
       "      <td>0.116905</td>\n",
       "      <td>0.525308</td>\n",
       "      <td>47.662029</td>\n",
       "      <td>409.610610</td>\n",
       "      <td>34.0</td>\n",
       "      <td>0.002262</td>\n",
       "      <td>...</td>\n",
       "      <td>0.002573</td>\n",
       "      <td>0.004966</td>\n",
       "      <td>34.0</td>\n",
       "      <td>0.005772</td>\n",
       "      <td>0.016561</td>\n",
       "      <td>0.0</td>\n",
       "      <td>7.993998e-10</td>\n",
       "      <td>1.608255e-07</td>\n",
       "      <td>0.000823</td>\n",
       "      <td>0.083742</td>\n",
       "    </tr>\n",
       "    <tr>\n",
       "      <th rowspan=\"3\" valign=\"top\">600</th>\n",
       "      <th>1000000</th>\n",
       "      <td>48.0</td>\n",
       "      <td>0.347852</td>\n",
       "      <td>0.443536</td>\n",
       "      <td>0.050456</td>\n",
       "      <td>0.088677</td>\n",
       "      <td>0.118356</td>\n",
       "      <td>0.441028</td>\n",
       "      <td>1.968798</td>\n",
       "      <td>48.0</td>\n",
       "      <td>0.003336</td>\n",
       "      <td>...</td>\n",
       "      <td>0.003612</td>\n",
       "      <td>0.007374</td>\n",
       "      <td>48.0</td>\n",
       "      <td>0.010586</td>\n",
       "      <td>0.016168</td>\n",
       "      <td>0.0</td>\n",
       "      <td>2.245127e-05</td>\n",
       "      <td>1.586647e-03</td>\n",
       "      <td>0.013103</td>\n",
       "      <td>0.068972</td>\n",
       "    </tr>\n",
       "    <tr>\n",
       "      <th>100000000</th>\n",
       "      <td>35.0</td>\n",
       "      <td>21.319913</td>\n",
       "      <td>77.437725</td>\n",
       "      <td>0.064728</td>\n",
       "      <td>0.178213</td>\n",
       "      <td>3.150416</td>\n",
       "      <td>8.416147</td>\n",
       "      <td>449.869251</td>\n",
       "      <td>35.0</td>\n",
       "      <td>0.003176</td>\n",
       "      <td>...</td>\n",
       "      <td>0.003460</td>\n",
       "      <td>0.004300</td>\n",
       "      <td>35.0</td>\n",
       "      <td>0.009324</td>\n",
       "      <td>0.020959</td>\n",
       "      <td>0.0</td>\n",
       "      <td>7.997366e-08</td>\n",
       "      <td>3.190787e-04</td>\n",
       "      <td>0.008267</td>\n",
       "      <td>0.087666</td>\n",
       "    </tr>\n",
       "    <tr>\n",
       "      <th>10000000000</th>\n",
       "      <td>24.0</td>\n",
       "      <td>175.310820</td>\n",
       "      <td>366.613185</td>\n",
       "      <td>0.077154</td>\n",
       "      <td>0.363250</td>\n",
       "      <td>1.722071</td>\n",
       "      <td>35.333457</td>\n",
       "      <td>1088.753533</td>\n",
       "      <td>24.0</td>\n",
       "      <td>0.003357</td>\n",
       "      <td>...</td>\n",
       "      <td>0.003688</td>\n",
       "      <td>0.004740</td>\n",
       "      <td>24.0</td>\n",
       "      <td>0.013864</td>\n",
       "      <td>0.023935</td>\n",
       "      <td>0.0</td>\n",
       "      <td>2.387868e-09</td>\n",
       "      <td>2.316403e-04</td>\n",
       "      <td>0.018226</td>\n",
       "      <td>0.084353</td>\n",
       "    </tr>\n",
       "    <tr>\n",
       "      <th rowspan=\"3\" valign=\"top\">800</th>\n",
       "      <th>1000000</th>\n",
       "      <td>34.0</td>\n",
       "      <td>0.395605</td>\n",
       "      <td>0.490960</td>\n",
       "      <td>0.048589</td>\n",
       "      <td>0.115435</td>\n",
       "      <td>0.190459</td>\n",
       "      <td>0.400434</td>\n",
       "      <td>1.929668</td>\n",
       "      <td>34.0</td>\n",
       "      <td>0.004509</td>\n",
       "      <td>...</td>\n",
       "      <td>0.005017</td>\n",
       "      <td>0.007922</td>\n",
       "      <td>34.0</td>\n",
       "      <td>0.008651</td>\n",
       "      <td>0.015964</td>\n",
       "      <td>0.0</td>\n",
       "      <td>1.007147e-05</td>\n",
       "      <td>1.829664e-04</td>\n",
       "      <td>0.010437</td>\n",
       "      <td>0.071312</td>\n",
       "    </tr>\n",
       "    <tr>\n",
       "      <th>100000000</th>\n",
       "      <td>37.0</td>\n",
       "      <td>39.047706</td>\n",
       "      <td>98.802143</td>\n",
       "      <td>0.076405</td>\n",
       "      <td>0.284430</td>\n",
       "      <td>3.365852</td>\n",
       "      <td>22.694043</td>\n",
       "      <td>443.066133</td>\n",
       "      <td>37.0</td>\n",
       "      <td>0.004230</td>\n",
       "      <td>...</td>\n",
       "      <td>0.005043</td>\n",
       "      <td>0.006278</td>\n",
       "      <td>37.0</td>\n",
       "      <td>0.008540</td>\n",
       "      <td>0.015210</td>\n",
       "      <td>0.0</td>\n",
       "      <td>1.279757e-06</td>\n",
       "      <td>6.618367e-04</td>\n",
       "      <td>0.006018</td>\n",
       "      <td>0.049937</td>\n",
       "    </tr>\n",
       "    <tr>\n",
       "      <th>10000000000</th>\n",
       "      <td>39.0</td>\n",
       "      <td>278.734356</td>\n",
       "      <td>745.573079</td>\n",
       "      <td>0.068917</td>\n",
       "      <td>0.198787</td>\n",
       "      <td>3.217082</td>\n",
       "      <td>64.265046</td>\n",
       "      <td>3801.790159</td>\n",
       "      <td>39.0</td>\n",
       "      <td>0.003960</td>\n",
       "      <td>...</td>\n",
       "      <td>0.004457</td>\n",
       "      <td>0.006061</td>\n",
       "      <td>39.0</td>\n",
       "      <td>0.009585</td>\n",
       "      <td>0.020039</td>\n",
       "      <td>0.0</td>\n",
       "      <td>9.803907e-11</td>\n",
       "      <td>3.293490e-05</td>\n",
       "      <td>0.004141</td>\n",
       "      <td>0.075471</td>\n",
       "    </tr>\n",
       "  </tbody>\n",
       "</table>\n",
       "<p>15 rows × 24 columns</p>\n",
       "</div>"
      ],
      "text/plain": [
       "                 optimumRuntime                                               \\\n",
       "                          count        mean          std       min       25%   \n",
       "n    c                                                                         \n",
       "1000 1000000               33.0    0.629272     0.911742  0.058373  0.111350   \n",
       "     100000000             48.0   31.805593    61.217056  0.107452  0.715903   \n",
       "     10000000000           23.0  261.991257   887.235679  0.091054  0.246487   \n",
       "1200 1000000               38.0    0.772424     1.129680  0.052015  0.126794   \n",
       "     100000000             44.0   34.944665    86.841742  0.131280  0.756752   \n",
       "     10000000000           31.0  426.090392  1068.588748  0.113484  1.204633   \n",
       "400  1000000               42.0    0.282710     0.275393  0.046710  0.088763   \n",
       "     100000000             47.0    9.394258    20.743351  0.071593  0.222929   \n",
       "     10000000000           34.0   70.779865   132.713759  0.071851  0.116905   \n",
       "600  1000000               48.0    0.347852     0.443536  0.050456  0.088677   \n",
       "     100000000             35.0   21.319913    77.437725  0.064728  0.178213   \n",
       "     10000000000           24.0  175.310820   366.613185  0.077154  0.363250   \n",
       "800  1000000               34.0    0.395605     0.490960  0.048589  0.115435   \n",
       "     100000000             37.0   39.047706    98.802143  0.076405  0.284430   \n",
       "     10000000000           39.0  278.734356   745.573079  0.068917  0.198787   \n",
       "\n",
       "                                                     runtime            ...  \\\n",
       "                        50%         75%          max   count      mean  ...   \n",
       "n    c                                                                  ...   \n",
       "1000 1000000       0.184010    0.747961     4.335682    33.0  0.004872  ...   \n",
       "     100000000     7.140235   26.159501   294.078567    48.0  0.005668  ...   \n",
       "     10000000000   0.593619   27.317455  4222.267330    23.0  0.004312  ...   \n",
       "1200 1000000       0.275831    0.654100     3.918329    38.0  0.005892  ...   \n",
       "     100000000     8.702209   17.489976   519.782642    44.0  0.005959  ...   \n",
       "     10000000000  27.523952  116.723365  4795.614831    31.0  0.005781  ...   \n",
       "400  1000000       0.162916    0.371926     1.267928    42.0  0.002453  ...   \n",
       "     100000000     1.314687    8.606258    99.131133    47.0  0.002661  ...   \n",
       "     10000000000   0.525308   47.662029   409.610610    34.0  0.002262  ...   \n",
       "600  1000000       0.118356    0.441028     1.968798    48.0  0.003336  ...   \n",
       "     100000000     3.150416    8.416147   449.869251    35.0  0.003176  ...   \n",
       "     10000000000   1.722071   35.333457  1088.753533    24.0  0.003357  ...   \n",
       "800  1000000       0.190459    0.400434     1.929668    34.0  0.004509  ...   \n",
       "     100000000     3.365852   22.694043   443.066133    37.0  0.004230  ...   \n",
       "     10000000000   3.217082   64.265046  3801.790159    39.0  0.003960  ...   \n",
       "\n",
       "                                     relativeError                           \\\n",
       "                       75%       max         count      mean       std  min   \n",
       "n    c                                                                        \n",
       "1000 1000000      0.005426  0.006597          33.0  0.004529  0.013011  0.0   \n",
       "     100000000    0.006371  0.008150          48.0  0.005419  0.012415  0.0   \n",
       "     10000000000  0.004873  0.006144          23.0  0.012059  0.024171  0.0   \n",
       "1200 1000000      0.006507  0.008147          38.0  0.005152  0.013476  0.0   \n",
       "     100000000    0.006694  0.008994          44.0  0.009301  0.021853  0.0   \n",
       "     10000000000  0.006698  0.009399          31.0  0.013905  0.025357  0.0   \n",
       "400  1000000      0.002736  0.003706          42.0  0.008548  0.019341  0.0   \n",
       "     100000000    0.002857  0.005350          47.0  0.002826  0.008212  0.0   \n",
       "     10000000000  0.002573  0.004966          34.0  0.005772  0.016561  0.0   \n",
       "600  1000000      0.003612  0.007374          48.0  0.010586  0.016168  0.0   \n",
       "     100000000    0.003460  0.004300          35.0  0.009324  0.020959  0.0   \n",
       "     10000000000  0.003688  0.004740          24.0  0.013864  0.023935  0.0   \n",
       "800  1000000      0.005017  0.007922          34.0  0.008651  0.015964  0.0   \n",
       "     100000000    0.005043  0.006278          37.0  0.008540  0.015210  0.0   \n",
       "     10000000000  0.004457  0.006061          39.0  0.009585  0.020039  0.0   \n",
       "\n",
       "                                                                  \n",
       "                           25%           50%       75%       max  \n",
       "n    c                                                            \n",
       "1000 1000000      1.877394e-05  5.029524e-05  0.001154  0.064886  \n",
       "     100000000    2.887759e-06  9.804310e-05  0.001350  0.049627  \n",
       "     10000000000  7.332517e-10  2.199949e-09  0.006133  0.094729  \n",
       "1200 1000000      6.245051e-06  3.370444e-05  0.000384  0.071611  \n",
       "     100000000    2.957083e-06  7.054236e-04  0.002721  0.084606  \n",
       "     10000000000  1.803664e-08  6.357464e-05  0.018797  0.088747  \n",
       "400  1000000      1.913750e-05  8.852070e-04  0.005930  0.088537  \n",
       "     100000000    7.099175e-07  6.770643e-05  0.000779  0.044025  \n",
       "     10000000000  7.993998e-10  1.608255e-07  0.000823  0.083742  \n",
       "600  1000000      2.245127e-05  1.586647e-03  0.013103  0.068972  \n",
       "     100000000    7.997366e-08  3.190787e-04  0.008267  0.087666  \n",
       "     10000000000  2.387868e-09  2.316403e-04  0.018226  0.084353  \n",
       "800  1000000      1.007147e-05  1.829664e-04  0.010437  0.071312  \n",
       "     100000000    1.279757e-06  6.618367e-04  0.006018  0.049937  \n",
       "     10000000000  9.803907e-11  3.293490e-05  0.004141  0.075471  \n",
       "\n",
       "[15 rows x 24 columns]"
      ]
     },
     "execution_count": 21,
     "metadata": {},
     "output_type": "execute_result"
    }
   ],
   "source": [
    "testStats = testSummary[(testSummary.optimumFO != -1) & (testSummary.bestFO >= 0)].drop(['instanceName', 'optimumFO', 'bestFO'], axis = 1).groupby(['n','c']).describe()\n",
    "testStats"
   ]
  },
  {
   "cell_type": "markdown",
   "metadata": {},
   "source": [
    "Generating plot for relative error"
   ]
  },
  {
   "cell_type": "code",
   "execution_count": 76,
   "metadata": {},
   "outputs": [
    {
     "data": {
      "text/html": [
       "<div>\n",
       "<style scoped>\n",
       "    .dataframe tbody tr th:only-of-type {\n",
       "        vertical-align: middle;\n",
       "    }\n",
       "\n",
       "    .dataframe tbody tr th {\n",
       "        vertical-align: top;\n",
       "    }\n",
       "\n",
       "    .dataframe thead th {\n",
       "        text-align: right;\n",
       "    }\n",
       "</style>\n",
       "<table border=\"1\" class=\"dataframe\">\n",
       "  <thead>\n",
       "    <tr style=\"text-align: right;\">\n",
       "      <th></th>\n",
       "      <th>Number of items</th>\n",
       "      <th>0/1 Knapsack Capacity</th>\n",
       "      <th>count</th>\n",
       "      <th>Mean relative error (%)</th>\n",
       "      <th>relativeError_std</th>\n",
       "      <th>relativeError_min</th>\n",
       "      <th>relativeError_25%</th>\n",
       "      <th>relativeError_50%</th>\n",
       "      <th>relativeError_75%</th>\n",
       "      <th>relativeError_max</th>\n",
       "    </tr>\n",
       "  </thead>\n",
       "  <tbody>\n",
       "    <tr>\n",
       "      <th>0</th>\n",
       "      <td>1000</td>\n",
       "      <td>1000000</td>\n",
       "      <td>33.0</td>\n",
       "      <td>0.452904</td>\n",
       "      <td>0.013011</td>\n",
       "      <td>0.0</td>\n",
       "      <td>1.877394e-05</td>\n",
       "      <td>5.029524e-05</td>\n",
       "      <td>0.001154</td>\n",
       "      <td>0.064886</td>\n",
       "    </tr>\n",
       "    <tr>\n",
       "      <th>1</th>\n",
       "      <td>1000</td>\n",
       "      <td>100000000</td>\n",
       "      <td>48.0</td>\n",
       "      <td>0.541940</td>\n",
       "      <td>0.012415</td>\n",
       "      <td>0.0</td>\n",
       "      <td>2.887759e-06</td>\n",
       "      <td>9.804310e-05</td>\n",
       "      <td>0.001350</td>\n",
       "      <td>0.049627</td>\n",
       "    </tr>\n",
       "    <tr>\n",
       "      <th>2</th>\n",
       "      <td>1000</td>\n",
       "      <td>10000000000</td>\n",
       "      <td>23.0</td>\n",
       "      <td>1.205861</td>\n",
       "      <td>0.024171</td>\n",
       "      <td>0.0</td>\n",
       "      <td>7.332517e-10</td>\n",
       "      <td>2.199949e-09</td>\n",
       "      <td>0.006133</td>\n",
       "      <td>0.094729</td>\n",
       "    </tr>\n",
       "    <tr>\n",
       "      <th>3</th>\n",
       "      <td>1200</td>\n",
       "      <td>1000000</td>\n",
       "      <td>38.0</td>\n",
       "      <td>0.515211</td>\n",
       "      <td>0.013476</td>\n",
       "      <td>0.0</td>\n",
       "      <td>6.245051e-06</td>\n",
       "      <td>3.370444e-05</td>\n",
       "      <td>0.000384</td>\n",
       "      <td>0.071611</td>\n",
       "    </tr>\n",
       "    <tr>\n",
       "      <th>4</th>\n",
       "      <td>1200</td>\n",
       "      <td>100000000</td>\n",
       "      <td>44.0</td>\n",
       "      <td>0.930147</td>\n",
       "      <td>0.021853</td>\n",
       "      <td>0.0</td>\n",
       "      <td>2.957083e-06</td>\n",
       "      <td>7.054236e-04</td>\n",
       "      <td>0.002721</td>\n",
       "      <td>0.084606</td>\n",
       "    </tr>\n",
       "  </tbody>\n",
       "</table>\n",
       "</div>"
      ],
      "text/plain": [
       "   Number of items 0/1 Knapsack Capacity  count  Mean relative error (%)  \\\n",
       "0             1000               1000000   33.0                 0.452904   \n",
       "1             1000             100000000   48.0                 0.541940   \n",
       "2             1000           10000000000   23.0                 1.205861   \n",
       "3             1200               1000000   38.0                 0.515211   \n",
       "4             1200             100000000   44.0                 0.930147   \n",
       "\n",
       "   relativeError_std  relativeError_min  relativeError_25%  relativeError_50%  \\\n",
       "0           0.013011                0.0       1.877394e-05       5.029524e-05   \n",
       "1           0.012415                0.0       2.887759e-06       9.804310e-05   \n",
       "2           0.024171                0.0       7.332517e-10       2.199949e-09   \n",
       "3           0.013476                0.0       6.245051e-06       3.370444e-05   \n",
       "4           0.021853                0.0       2.957083e-06       7.054236e-04   \n",
       "\n",
       "   relativeError_75%  relativeError_max  \n",
       "0           0.001154           0.064886  \n",
       "1           0.001350           0.049627  \n",
       "2           0.006133           0.094729  \n",
       "3           0.000384           0.071611  \n",
       "4           0.002721           0.084606  "
      ]
     },
     "execution_count": 76,
     "metadata": {},
     "output_type": "execute_result"
    }
   ],
   "source": [
    "relativeErrorDF = testStats.reset_index()[['n','c','relativeError']]\n",
    "relativeErrorDF.columns = [\"_\".join(column) for column in relativeErrorDF.columns]\n",
    "relativeErrorDF['n_'] = relativeErrorDF['n_'].apply(lambda x: int(x))\n",
    "relativeErrorDF['relativeError_mean'] = relativeErrorDF['relativeError_mean'].apply(lambda x: float(x)*100)\n",
    "relativeErrorDF = relativeErrorDF.rename(\n",
    "    columns = {\n",
    "        'relativeError_mean': 'Mean relative error (%)',\n",
    "        'n_': 'Number of items',\n",
    "        'c_': '0/1 Knapsack Capacity',\n",
    "        'relativeError_count': 'count'\n",
    "    }\n",
    ")\n",
    "relativeErrorDF.head()"
   ]
  },
  {
   "cell_type": "code",
   "execution_count": 77,
   "metadata": {},
   "outputs": [
    {
     "data": {
      "application/vnd.plotly.v1+json": {
       "config": {
        "plotlyServerURL": "https://plot.ly"
       },
       "data": [
        {
         "alignmentgroup": "True",
         "customdata": [
          [
           33
          ],
          [
           38
          ],
          [
           42
          ],
          [
           48
          ],
          [
           34
          ]
         ],
         "hovertemplate": "0/1 Knapsack Capacity=1000000<br>Number of items=%{x}<br>Mean relative error (%)=%{y}<br>count=%{customdata[0]}<extra></extra>",
         "legendgroup": "1000000",
         "marker": {
          "color": "#636efa",
          "pattern": {
           "shape": ""
          }
         },
         "name": "1000000",
         "offsetgroup": "1000000",
         "orientation": "v",
         "showlegend": true,
         "textposition": "auto",
         "type": "bar",
         "x": [
          1000,
          1200,
          400,
          600,
          800
         ],
         "xaxis": "x",
         "y": [
          0.4529040909636716,
          0.5152114128550523,
          0.8547648534290945,
          1.058645343043403,
          0.8650571603200479
         ],
         "yaxis": "y"
        },
        {
         "alignmentgroup": "True",
         "customdata": [
          [
           48
          ],
          [
           44
          ],
          [
           47
          ],
          [
           35
          ],
          [
           37
          ]
         ],
         "hovertemplate": "0/1 Knapsack Capacity=100000000<br>Number of items=%{x}<br>Mean relative error (%)=%{y}<br>count=%{customdata[0]}<extra></extra>",
         "legendgroup": "100000000",
         "marker": {
          "color": "#EF553B",
          "pattern": {
           "shape": ""
          }
         },
         "name": "100000000",
         "offsetgroup": "100000000",
         "orientation": "v",
         "showlegend": true,
         "textposition": "auto",
         "type": "bar",
         "x": [
          1000,
          1200,
          400,
          600,
          800
         ],
         "xaxis": "x",
         "y": [
          0.5419397826020765,
          0.9301474464661394,
          0.2826450020853923,
          0.9323974776209856,
          0.8540412732922829
         ],
         "yaxis": "y"
        },
        {
         "alignmentgroup": "True",
         "customdata": [
          [
           23
          ],
          [
           31
          ],
          [
           34
          ],
          [
           24
          ],
          [
           39
          ]
         ],
         "hovertemplate": "0/1 Knapsack Capacity=10000000000<br>Number of items=%{x}<br>Mean relative error (%)=%{y}<br>count=%{customdata[0]}<extra></extra>",
         "legendgroup": "10000000000",
         "marker": {
          "color": "#00cc96",
          "pattern": {
           "shape": ""
          }
         },
         "name": "10000000000",
         "offsetgroup": "10000000000",
         "orientation": "v",
         "showlegend": true,
         "textposition": "auto",
         "type": "bar",
         "x": [
          1000,
          1200,
          400,
          600,
          800
         ],
         "xaxis": "x",
         "y": [
          1.2058607865490256,
          1.39047240688925,
          0.5771509906150969,
          1.3864402308055752,
          0.9585285395667146
         ],
         "yaxis": "y"
        }
       ],
       "layout": {
        "barmode": "group",
        "legend": {
         "title": {
          "text": "0/1 Knapsack Capacity"
         },
         "tracegroupgap": 0
        },
        "template": {
         "data": {
          "bar": [
           {
            "error_x": {
             "color": "#2a3f5f"
            },
            "error_y": {
             "color": "#2a3f5f"
            },
            "marker": {
             "line": {
              "color": "#E5ECF6",
              "width": 0.5
             },
             "pattern": {
              "fillmode": "overlay",
              "size": 10,
              "solidity": 0.2
             }
            },
            "type": "bar"
           }
          ],
          "barpolar": [
           {
            "marker": {
             "line": {
              "color": "#E5ECF6",
              "width": 0.5
             },
             "pattern": {
              "fillmode": "overlay",
              "size": 10,
              "solidity": 0.2
             }
            },
            "type": "barpolar"
           }
          ],
          "carpet": [
           {
            "aaxis": {
             "endlinecolor": "#2a3f5f",
             "gridcolor": "white",
             "linecolor": "white",
             "minorgridcolor": "white",
             "startlinecolor": "#2a3f5f"
            },
            "baxis": {
             "endlinecolor": "#2a3f5f",
             "gridcolor": "white",
             "linecolor": "white",
             "minorgridcolor": "white",
             "startlinecolor": "#2a3f5f"
            },
            "type": "carpet"
           }
          ],
          "choropleth": [
           {
            "colorbar": {
             "outlinewidth": 0,
             "ticks": ""
            },
            "type": "choropleth"
           }
          ],
          "contour": [
           {
            "colorbar": {
             "outlinewidth": 0,
             "ticks": ""
            },
            "colorscale": [
             [
              0,
              "#0d0887"
             ],
             [
              0.1111111111111111,
              "#46039f"
             ],
             [
              0.2222222222222222,
              "#7201a8"
             ],
             [
              0.3333333333333333,
              "#9c179e"
             ],
             [
              0.4444444444444444,
              "#bd3786"
             ],
             [
              0.5555555555555556,
              "#d8576b"
             ],
             [
              0.6666666666666666,
              "#ed7953"
             ],
             [
              0.7777777777777778,
              "#fb9f3a"
             ],
             [
              0.8888888888888888,
              "#fdca26"
             ],
             [
              1,
              "#f0f921"
             ]
            ],
            "type": "contour"
           }
          ],
          "contourcarpet": [
           {
            "colorbar": {
             "outlinewidth": 0,
             "ticks": ""
            },
            "type": "contourcarpet"
           }
          ],
          "heatmap": [
           {
            "colorbar": {
             "outlinewidth": 0,
             "ticks": ""
            },
            "colorscale": [
             [
              0,
              "#0d0887"
             ],
             [
              0.1111111111111111,
              "#46039f"
             ],
             [
              0.2222222222222222,
              "#7201a8"
             ],
             [
              0.3333333333333333,
              "#9c179e"
             ],
             [
              0.4444444444444444,
              "#bd3786"
             ],
             [
              0.5555555555555556,
              "#d8576b"
             ],
             [
              0.6666666666666666,
              "#ed7953"
             ],
             [
              0.7777777777777778,
              "#fb9f3a"
             ],
             [
              0.8888888888888888,
              "#fdca26"
             ],
             [
              1,
              "#f0f921"
             ]
            ],
            "type": "heatmap"
           }
          ],
          "heatmapgl": [
           {
            "colorbar": {
             "outlinewidth": 0,
             "ticks": ""
            },
            "colorscale": [
             [
              0,
              "#0d0887"
             ],
             [
              0.1111111111111111,
              "#46039f"
             ],
             [
              0.2222222222222222,
              "#7201a8"
             ],
             [
              0.3333333333333333,
              "#9c179e"
             ],
             [
              0.4444444444444444,
              "#bd3786"
             ],
             [
              0.5555555555555556,
              "#d8576b"
             ],
             [
              0.6666666666666666,
              "#ed7953"
             ],
             [
              0.7777777777777778,
              "#fb9f3a"
             ],
             [
              0.8888888888888888,
              "#fdca26"
             ],
             [
              1,
              "#f0f921"
             ]
            ],
            "type": "heatmapgl"
           }
          ],
          "histogram": [
           {
            "marker": {
             "pattern": {
              "fillmode": "overlay",
              "size": 10,
              "solidity": 0.2
             }
            },
            "type": "histogram"
           }
          ],
          "histogram2d": [
           {
            "colorbar": {
             "outlinewidth": 0,
             "ticks": ""
            },
            "colorscale": [
             [
              0,
              "#0d0887"
             ],
             [
              0.1111111111111111,
              "#46039f"
             ],
             [
              0.2222222222222222,
              "#7201a8"
             ],
             [
              0.3333333333333333,
              "#9c179e"
             ],
             [
              0.4444444444444444,
              "#bd3786"
             ],
             [
              0.5555555555555556,
              "#d8576b"
             ],
             [
              0.6666666666666666,
              "#ed7953"
             ],
             [
              0.7777777777777778,
              "#fb9f3a"
             ],
             [
              0.8888888888888888,
              "#fdca26"
             ],
             [
              1,
              "#f0f921"
             ]
            ],
            "type": "histogram2d"
           }
          ],
          "histogram2dcontour": [
           {
            "colorbar": {
             "outlinewidth": 0,
             "ticks": ""
            },
            "colorscale": [
             [
              0,
              "#0d0887"
             ],
             [
              0.1111111111111111,
              "#46039f"
             ],
             [
              0.2222222222222222,
              "#7201a8"
             ],
             [
              0.3333333333333333,
              "#9c179e"
             ],
             [
              0.4444444444444444,
              "#bd3786"
             ],
             [
              0.5555555555555556,
              "#d8576b"
             ],
             [
              0.6666666666666666,
              "#ed7953"
             ],
             [
              0.7777777777777778,
              "#fb9f3a"
             ],
             [
              0.8888888888888888,
              "#fdca26"
             ],
             [
              1,
              "#f0f921"
             ]
            ],
            "type": "histogram2dcontour"
           }
          ],
          "mesh3d": [
           {
            "colorbar": {
             "outlinewidth": 0,
             "ticks": ""
            },
            "type": "mesh3d"
           }
          ],
          "parcoords": [
           {
            "line": {
             "colorbar": {
              "outlinewidth": 0,
              "ticks": ""
             }
            },
            "type": "parcoords"
           }
          ],
          "pie": [
           {
            "automargin": true,
            "type": "pie"
           }
          ],
          "scatter": [
           {
            "fillpattern": {
             "fillmode": "overlay",
             "size": 10,
             "solidity": 0.2
            },
            "type": "scatter"
           }
          ],
          "scatter3d": [
           {
            "line": {
             "colorbar": {
              "outlinewidth": 0,
              "ticks": ""
             }
            },
            "marker": {
             "colorbar": {
              "outlinewidth": 0,
              "ticks": ""
             }
            },
            "type": "scatter3d"
           }
          ],
          "scattercarpet": [
           {
            "marker": {
             "colorbar": {
              "outlinewidth": 0,
              "ticks": ""
             }
            },
            "type": "scattercarpet"
           }
          ],
          "scattergeo": [
           {
            "marker": {
             "colorbar": {
              "outlinewidth": 0,
              "ticks": ""
             }
            },
            "type": "scattergeo"
           }
          ],
          "scattergl": [
           {
            "marker": {
             "colorbar": {
              "outlinewidth": 0,
              "ticks": ""
             }
            },
            "type": "scattergl"
           }
          ],
          "scattermapbox": [
           {
            "marker": {
             "colorbar": {
              "outlinewidth": 0,
              "ticks": ""
             }
            },
            "type": "scattermapbox"
           }
          ],
          "scatterpolar": [
           {
            "marker": {
             "colorbar": {
              "outlinewidth": 0,
              "ticks": ""
             }
            },
            "type": "scatterpolar"
           }
          ],
          "scatterpolargl": [
           {
            "marker": {
             "colorbar": {
              "outlinewidth": 0,
              "ticks": ""
             }
            },
            "type": "scatterpolargl"
           }
          ],
          "scatterternary": [
           {
            "marker": {
             "colorbar": {
              "outlinewidth": 0,
              "ticks": ""
             }
            },
            "type": "scatterternary"
           }
          ],
          "surface": [
           {
            "colorbar": {
             "outlinewidth": 0,
             "ticks": ""
            },
            "colorscale": [
             [
              0,
              "#0d0887"
             ],
             [
              0.1111111111111111,
              "#46039f"
             ],
             [
              0.2222222222222222,
              "#7201a8"
             ],
             [
              0.3333333333333333,
              "#9c179e"
             ],
             [
              0.4444444444444444,
              "#bd3786"
             ],
             [
              0.5555555555555556,
              "#d8576b"
             ],
             [
              0.6666666666666666,
              "#ed7953"
             ],
             [
              0.7777777777777778,
              "#fb9f3a"
             ],
             [
              0.8888888888888888,
              "#fdca26"
             ],
             [
              1,
              "#f0f921"
             ]
            ],
            "type": "surface"
           }
          ],
          "table": [
           {
            "cells": {
             "fill": {
              "color": "#EBF0F8"
             },
             "line": {
              "color": "white"
             }
            },
            "header": {
             "fill": {
              "color": "#C8D4E3"
             },
             "line": {
              "color": "white"
             }
            },
            "type": "table"
           }
          ]
         },
         "layout": {
          "annotationdefaults": {
           "arrowcolor": "#2a3f5f",
           "arrowhead": 0,
           "arrowwidth": 1
          },
          "autotypenumbers": "strict",
          "coloraxis": {
           "colorbar": {
            "outlinewidth": 0,
            "ticks": ""
           }
          },
          "colorscale": {
           "diverging": [
            [
             0,
             "#8e0152"
            ],
            [
             0.1,
             "#c51b7d"
            ],
            [
             0.2,
             "#de77ae"
            ],
            [
             0.3,
             "#f1b6da"
            ],
            [
             0.4,
             "#fde0ef"
            ],
            [
             0.5,
             "#f7f7f7"
            ],
            [
             0.6,
             "#e6f5d0"
            ],
            [
             0.7,
             "#b8e186"
            ],
            [
             0.8,
             "#7fbc41"
            ],
            [
             0.9,
             "#4d9221"
            ],
            [
             1,
             "#276419"
            ]
           ],
           "sequential": [
            [
             0,
             "#0d0887"
            ],
            [
             0.1111111111111111,
             "#46039f"
            ],
            [
             0.2222222222222222,
             "#7201a8"
            ],
            [
             0.3333333333333333,
             "#9c179e"
            ],
            [
             0.4444444444444444,
             "#bd3786"
            ],
            [
             0.5555555555555556,
             "#d8576b"
            ],
            [
             0.6666666666666666,
             "#ed7953"
            ],
            [
             0.7777777777777778,
             "#fb9f3a"
            ],
            [
             0.8888888888888888,
             "#fdca26"
            ],
            [
             1,
             "#f0f921"
            ]
           ],
           "sequentialminus": [
            [
             0,
             "#0d0887"
            ],
            [
             0.1111111111111111,
             "#46039f"
            ],
            [
             0.2222222222222222,
             "#7201a8"
            ],
            [
             0.3333333333333333,
             "#9c179e"
            ],
            [
             0.4444444444444444,
             "#bd3786"
            ],
            [
             0.5555555555555556,
             "#d8576b"
            ],
            [
             0.6666666666666666,
             "#ed7953"
            ],
            [
             0.7777777777777778,
             "#fb9f3a"
            ],
            [
             0.8888888888888888,
             "#fdca26"
            ],
            [
             1,
             "#f0f921"
            ]
           ]
          },
          "colorway": [
           "#636efa",
           "#EF553B",
           "#00cc96",
           "#ab63fa",
           "#FFA15A",
           "#19d3f3",
           "#FF6692",
           "#B6E880",
           "#FF97FF",
           "#FECB52"
          ],
          "font": {
           "color": "#2a3f5f"
          },
          "geo": {
           "bgcolor": "white",
           "lakecolor": "white",
           "landcolor": "#E5ECF6",
           "showlakes": true,
           "showland": true,
           "subunitcolor": "white"
          },
          "hoverlabel": {
           "align": "left"
          },
          "hovermode": "closest",
          "mapbox": {
           "style": "light"
          },
          "paper_bgcolor": "white",
          "plot_bgcolor": "#E5ECF6",
          "polar": {
           "angularaxis": {
            "gridcolor": "white",
            "linecolor": "white",
            "ticks": ""
           },
           "bgcolor": "#E5ECF6",
           "radialaxis": {
            "gridcolor": "white",
            "linecolor": "white",
            "ticks": ""
           }
          },
          "scene": {
           "xaxis": {
            "backgroundcolor": "#E5ECF6",
            "gridcolor": "white",
            "gridwidth": 2,
            "linecolor": "white",
            "showbackground": true,
            "ticks": "",
            "zerolinecolor": "white"
           },
           "yaxis": {
            "backgroundcolor": "#E5ECF6",
            "gridcolor": "white",
            "gridwidth": 2,
            "linecolor": "white",
            "showbackground": true,
            "ticks": "",
            "zerolinecolor": "white"
           },
           "zaxis": {
            "backgroundcolor": "#E5ECF6",
            "gridcolor": "white",
            "gridwidth": 2,
            "linecolor": "white",
            "showbackground": true,
            "ticks": "",
            "zerolinecolor": "white"
           }
          },
          "shapedefaults": {
           "line": {
            "color": "#2a3f5f"
           }
          },
          "ternary": {
           "aaxis": {
            "gridcolor": "white",
            "linecolor": "white",
            "ticks": ""
           },
           "baxis": {
            "gridcolor": "white",
            "linecolor": "white",
            "ticks": ""
           },
           "bgcolor": "#E5ECF6",
           "caxis": {
            "gridcolor": "white",
            "linecolor": "white",
            "ticks": ""
           }
          },
          "title": {
           "x": 0.05
          },
          "xaxis": {
           "automargin": true,
           "gridcolor": "white",
           "linecolor": "white",
           "ticks": "",
           "title": {
            "standoff": 15
           },
           "zerolinecolor": "white",
           "zerolinewidth": 2
          },
          "yaxis": {
           "automargin": true,
           "gridcolor": "white",
           "linecolor": "white",
           "ticks": "",
           "title": {
            "standoff": 15
           },
           "zerolinecolor": "white",
           "zerolinewidth": 2
          }
         }
        },
        "title": {
         "text": "Mean relative error by instance group"
        },
        "xaxis": {
         "anchor": "y",
         "domain": [
          0,
          1
         ],
         "title": {
          "text": "Number of items"
         }
        },
        "yaxis": {
         "anchor": "x",
         "domain": [
          0,
          1
         ],
         "title": {
          "text": "Mean relative error (%)"
         }
        }
       }
      },
      "text/html": [
       "<div>                            <div id=\"106b7be6-65aa-47cd-969c-140de8f90a3b\" class=\"plotly-graph-div\" style=\"height:525px; width:100%;\"></div>            <script type=\"text/javascript\">                require([\"plotly\"], function(Plotly) {                    window.PLOTLYENV=window.PLOTLYENV || {};                                    if (document.getElementById(\"106b7be6-65aa-47cd-969c-140de8f90a3b\")) {                    Plotly.newPlot(                        \"106b7be6-65aa-47cd-969c-140de8f90a3b\",                        [{\"alignmentgroup\":\"True\",\"customdata\":[[33.0],[38.0],[42.0],[48.0],[34.0]],\"hovertemplate\":\"0/1 Knapsack Capacity=1000000<br>Number of items=%{x}<br>Mean relative error (%)=%{y}<br>count=%{customdata[0]}<extra></extra>\",\"legendgroup\":\"1000000\",\"marker\":{\"color\":\"#636efa\",\"pattern\":{\"shape\":\"\"}},\"name\":\"1000000\",\"offsetgroup\":\"1000000\",\"orientation\":\"v\",\"showlegend\":true,\"textposition\":\"auto\",\"x\":[1000,1200,400,600,800],\"xaxis\":\"x\",\"y\":[0.4529040909636716,0.5152114128550523,0.8547648534290945,1.058645343043403,0.8650571603200479],\"yaxis\":\"y\",\"type\":\"bar\"},{\"alignmentgroup\":\"True\",\"customdata\":[[48.0],[44.0],[47.0],[35.0],[37.0]],\"hovertemplate\":\"0/1 Knapsack Capacity=100000000<br>Number of items=%{x}<br>Mean relative error (%)=%{y}<br>count=%{customdata[0]}<extra></extra>\",\"legendgroup\":\"100000000\",\"marker\":{\"color\":\"#EF553B\",\"pattern\":{\"shape\":\"\"}},\"name\":\"100000000\",\"offsetgroup\":\"100000000\",\"orientation\":\"v\",\"showlegend\":true,\"textposition\":\"auto\",\"x\":[1000,1200,400,600,800],\"xaxis\":\"x\",\"y\":[0.5419397826020765,0.9301474464661394,0.2826450020853923,0.9323974776209856,0.8540412732922829],\"yaxis\":\"y\",\"type\":\"bar\"},{\"alignmentgroup\":\"True\",\"customdata\":[[23.0],[31.0],[34.0],[24.0],[39.0]],\"hovertemplate\":\"0/1 Knapsack Capacity=10000000000<br>Number of items=%{x}<br>Mean relative error (%)=%{y}<br>count=%{customdata[0]}<extra></extra>\",\"legendgroup\":\"10000000000\",\"marker\":{\"color\":\"#00cc96\",\"pattern\":{\"shape\":\"\"}},\"name\":\"10000000000\",\"offsetgroup\":\"10000000000\",\"orientation\":\"v\",\"showlegend\":true,\"textposition\":\"auto\",\"x\":[1000,1200,400,600,800],\"xaxis\":\"x\",\"y\":[1.2058607865490256,1.39047240688925,0.5771509906150969,1.3864402308055752,0.9585285395667146],\"yaxis\":\"y\",\"type\":\"bar\"}],                        {\"template\":{\"data\":{\"histogram2dcontour\":[{\"type\":\"histogram2dcontour\",\"colorbar\":{\"outlinewidth\":0,\"ticks\":\"\"},\"colorscale\":[[0.0,\"#0d0887\"],[0.1111111111111111,\"#46039f\"],[0.2222222222222222,\"#7201a8\"],[0.3333333333333333,\"#9c179e\"],[0.4444444444444444,\"#bd3786\"],[0.5555555555555556,\"#d8576b\"],[0.6666666666666666,\"#ed7953\"],[0.7777777777777778,\"#fb9f3a\"],[0.8888888888888888,\"#fdca26\"],[1.0,\"#f0f921\"]]}],\"choropleth\":[{\"type\":\"choropleth\",\"colorbar\":{\"outlinewidth\":0,\"ticks\":\"\"}}],\"histogram2d\":[{\"type\":\"histogram2d\",\"colorbar\":{\"outlinewidth\":0,\"ticks\":\"\"},\"colorscale\":[[0.0,\"#0d0887\"],[0.1111111111111111,\"#46039f\"],[0.2222222222222222,\"#7201a8\"],[0.3333333333333333,\"#9c179e\"],[0.4444444444444444,\"#bd3786\"],[0.5555555555555556,\"#d8576b\"],[0.6666666666666666,\"#ed7953\"],[0.7777777777777778,\"#fb9f3a\"],[0.8888888888888888,\"#fdca26\"],[1.0,\"#f0f921\"]]}],\"heatmap\":[{\"type\":\"heatmap\",\"colorbar\":{\"outlinewidth\":0,\"ticks\":\"\"},\"colorscale\":[[0.0,\"#0d0887\"],[0.1111111111111111,\"#46039f\"],[0.2222222222222222,\"#7201a8\"],[0.3333333333333333,\"#9c179e\"],[0.4444444444444444,\"#bd3786\"],[0.5555555555555556,\"#d8576b\"],[0.6666666666666666,\"#ed7953\"],[0.7777777777777778,\"#fb9f3a\"],[0.8888888888888888,\"#fdca26\"],[1.0,\"#f0f921\"]]}],\"heatmapgl\":[{\"type\":\"heatmapgl\",\"colorbar\":{\"outlinewidth\":0,\"ticks\":\"\"},\"colorscale\":[[0.0,\"#0d0887\"],[0.1111111111111111,\"#46039f\"],[0.2222222222222222,\"#7201a8\"],[0.3333333333333333,\"#9c179e\"],[0.4444444444444444,\"#bd3786\"],[0.5555555555555556,\"#d8576b\"],[0.6666666666666666,\"#ed7953\"],[0.7777777777777778,\"#fb9f3a\"],[0.8888888888888888,\"#fdca26\"],[1.0,\"#f0f921\"]]}],\"contourcarpet\":[{\"type\":\"contourcarpet\",\"colorbar\":{\"outlinewidth\":0,\"ticks\":\"\"}}],\"contour\":[{\"type\":\"contour\",\"colorbar\":{\"outlinewidth\":0,\"ticks\":\"\"},\"colorscale\":[[0.0,\"#0d0887\"],[0.1111111111111111,\"#46039f\"],[0.2222222222222222,\"#7201a8\"],[0.3333333333333333,\"#9c179e\"],[0.4444444444444444,\"#bd3786\"],[0.5555555555555556,\"#d8576b\"],[0.6666666666666666,\"#ed7953\"],[0.7777777777777778,\"#fb9f3a\"],[0.8888888888888888,\"#fdca26\"],[1.0,\"#f0f921\"]]}],\"surface\":[{\"type\":\"surface\",\"colorbar\":{\"outlinewidth\":0,\"ticks\":\"\"},\"colorscale\":[[0.0,\"#0d0887\"],[0.1111111111111111,\"#46039f\"],[0.2222222222222222,\"#7201a8\"],[0.3333333333333333,\"#9c179e\"],[0.4444444444444444,\"#bd3786\"],[0.5555555555555556,\"#d8576b\"],[0.6666666666666666,\"#ed7953\"],[0.7777777777777778,\"#fb9f3a\"],[0.8888888888888888,\"#fdca26\"],[1.0,\"#f0f921\"]]}],\"mesh3d\":[{\"type\":\"mesh3d\",\"colorbar\":{\"outlinewidth\":0,\"ticks\":\"\"}}],\"scatter\":[{\"fillpattern\":{\"fillmode\":\"overlay\",\"size\":10,\"solidity\":0.2},\"type\":\"scatter\"}],\"parcoords\":[{\"type\":\"parcoords\",\"line\":{\"colorbar\":{\"outlinewidth\":0,\"ticks\":\"\"}}}],\"scatterpolargl\":[{\"type\":\"scatterpolargl\",\"marker\":{\"colorbar\":{\"outlinewidth\":0,\"ticks\":\"\"}}}],\"bar\":[{\"error_x\":{\"color\":\"#2a3f5f\"},\"error_y\":{\"color\":\"#2a3f5f\"},\"marker\":{\"line\":{\"color\":\"#E5ECF6\",\"width\":0.5},\"pattern\":{\"fillmode\":\"overlay\",\"size\":10,\"solidity\":0.2}},\"type\":\"bar\"}],\"scattergeo\":[{\"type\":\"scattergeo\",\"marker\":{\"colorbar\":{\"outlinewidth\":0,\"ticks\":\"\"}}}],\"scatterpolar\":[{\"type\":\"scatterpolar\",\"marker\":{\"colorbar\":{\"outlinewidth\":0,\"ticks\":\"\"}}}],\"histogram\":[{\"marker\":{\"pattern\":{\"fillmode\":\"overlay\",\"size\":10,\"solidity\":0.2}},\"type\":\"histogram\"}],\"scattergl\":[{\"type\":\"scattergl\",\"marker\":{\"colorbar\":{\"outlinewidth\":0,\"ticks\":\"\"}}}],\"scatter3d\":[{\"type\":\"scatter3d\",\"line\":{\"colorbar\":{\"outlinewidth\":0,\"ticks\":\"\"}},\"marker\":{\"colorbar\":{\"outlinewidth\":0,\"ticks\":\"\"}}}],\"scattermapbox\":[{\"type\":\"scattermapbox\",\"marker\":{\"colorbar\":{\"outlinewidth\":0,\"ticks\":\"\"}}}],\"scatterternary\":[{\"type\":\"scatterternary\",\"marker\":{\"colorbar\":{\"outlinewidth\":0,\"ticks\":\"\"}}}],\"scattercarpet\":[{\"type\":\"scattercarpet\",\"marker\":{\"colorbar\":{\"outlinewidth\":0,\"ticks\":\"\"}}}],\"carpet\":[{\"aaxis\":{\"endlinecolor\":\"#2a3f5f\",\"gridcolor\":\"white\",\"linecolor\":\"white\",\"minorgridcolor\":\"white\",\"startlinecolor\":\"#2a3f5f\"},\"baxis\":{\"endlinecolor\":\"#2a3f5f\",\"gridcolor\":\"white\",\"linecolor\":\"white\",\"minorgridcolor\":\"white\",\"startlinecolor\":\"#2a3f5f\"},\"type\":\"carpet\"}],\"table\":[{\"cells\":{\"fill\":{\"color\":\"#EBF0F8\"},\"line\":{\"color\":\"white\"}},\"header\":{\"fill\":{\"color\":\"#C8D4E3\"},\"line\":{\"color\":\"white\"}},\"type\":\"table\"}],\"barpolar\":[{\"marker\":{\"line\":{\"color\":\"#E5ECF6\",\"width\":0.5},\"pattern\":{\"fillmode\":\"overlay\",\"size\":10,\"solidity\":0.2}},\"type\":\"barpolar\"}],\"pie\":[{\"automargin\":true,\"type\":\"pie\"}]},\"layout\":{\"autotypenumbers\":\"strict\",\"colorway\":[\"#636efa\",\"#EF553B\",\"#00cc96\",\"#ab63fa\",\"#FFA15A\",\"#19d3f3\",\"#FF6692\",\"#B6E880\",\"#FF97FF\",\"#FECB52\"],\"font\":{\"color\":\"#2a3f5f\"},\"hovermode\":\"closest\",\"hoverlabel\":{\"align\":\"left\"},\"paper_bgcolor\":\"white\",\"plot_bgcolor\":\"#E5ECF6\",\"polar\":{\"bgcolor\":\"#E5ECF6\",\"angularaxis\":{\"gridcolor\":\"white\",\"linecolor\":\"white\",\"ticks\":\"\"},\"radialaxis\":{\"gridcolor\":\"white\",\"linecolor\":\"white\",\"ticks\":\"\"}},\"ternary\":{\"bgcolor\":\"#E5ECF6\",\"aaxis\":{\"gridcolor\":\"white\",\"linecolor\":\"white\",\"ticks\":\"\"},\"baxis\":{\"gridcolor\":\"white\",\"linecolor\":\"white\",\"ticks\":\"\"},\"caxis\":{\"gridcolor\":\"white\",\"linecolor\":\"white\",\"ticks\":\"\"}},\"coloraxis\":{\"colorbar\":{\"outlinewidth\":0,\"ticks\":\"\"}},\"colorscale\":{\"sequential\":[[0.0,\"#0d0887\"],[0.1111111111111111,\"#46039f\"],[0.2222222222222222,\"#7201a8\"],[0.3333333333333333,\"#9c179e\"],[0.4444444444444444,\"#bd3786\"],[0.5555555555555556,\"#d8576b\"],[0.6666666666666666,\"#ed7953\"],[0.7777777777777778,\"#fb9f3a\"],[0.8888888888888888,\"#fdca26\"],[1.0,\"#f0f921\"]],\"sequentialminus\":[[0.0,\"#0d0887\"],[0.1111111111111111,\"#46039f\"],[0.2222222222222222,\"#7201a8\"],[0.3333333333333333,\"#9c179e\"],[0.4444444444444444,\"#bd3786\"],[0.5555555555555556,\"#d8576b\"],[0.6666666666666666,\"#ed7953\"],[0.7777777777777778,\"#fb9f3a\"],[0.8888888888888888,\"#fdca26\"],[1.0,\"#f0f921\"]],\"diverging\":[[0,\"#8e0152\"],[0.1,\"#c51b7d\"],[0.2,\"#de77ae\"],[0.3,\"#f1b6da\"],[0.4,\"#fde0ef\"],[0.5,\"#f7f7f7\"],[0.6,\"#e6f5d0\"],[0.7,\"#b8e186\"],[0.8,\"#7fbc41\"],[0.9,\"#4d9221\"],[1,\"#276419\"]]},\"xaxis\":{\"gridcolor\":\"white\",\"linecolor\":\"white\",\"ticks\":\"\",\"title\":{\"standoff\":15},\"zerolinecolor\":\"white\",\"automargin\":true,\"zerolinewidth\":2},\"yaxis\":{\"gridcolor\":\"white\",\"linecolor\":\"white\",\"ticks\":\"\",\"title\":{\"standoff\":15},\"zerolinecolor\":\"white\",\"automargin\":true,\"zerolinewidth\":2},\"scene\":{\"xaxis\":{\"backgroundcolor\":\"#E5ECF6\",\"gridcolor\":\"white\",\"linecolor\":\"white\",\"showbackground\":true,\"ticks\":\"\",\"zerolinecolor\":\"white\",\"gridwidth\":2},\"yaxis\":{\"backgroundcolor\":\"#E5ECF6\",\"gridcolor\":\"white\",\"linecolor\":\"white\",\"showbackground\":true,\"ticks\":\"\",\"zerolinecolor\":\"white\",\"gridwidth\":2},\"zaxis\":{\"backgroundcolor\":\"#E5ECF6\",\"gridcolor\":\"white\",\"linecolor\":\"white\",\"showbackground\":true,\"ticks\":\"\",\"zerolinecolor\":\"white\",\"gridwidth\":2}},\"shapedefaults\":{\"line\":{\"color\":\"#2a3f5f\"}},\"annotationdefaults\":{\"arrowcolor\":\"#2a3f5f\",\"arrowhead\":0,\"arrowwidth\":1},\"geo\":{\"bgcolor\":\"white\",\"landcolor\":\"#E5ECF6\",\"subunitcolor\":\"white\",\"showland\":true,\"showlakes\":true,\"lakecolor\":\"white\"},\"title\":{\"x\":0.05},\"mapbox\":{\"style\":\"light\"}}},\"xaxis\":{\"anchor\":\"y\",\"domain\":[0.0,1.0],\"title\":{\"text\":\"Number of items\"}},\"yaxis\":{\"anchor\":\"x\",\"domain\":[0.0,1.0],\"title\":{\"text\":\"Mean relative error (%)\"}},\"legend\":{\"title\":{\"text\":\"0/1 Knapsack Capacity\"},\"tracegroupgap\":0},\"title\":{\"text\":\"Mean relative error by instance group\"},\"barmode\":\"group\"},                        {\"responsive\": true}                    ).then(function(){\n",
       "                            \n",
       "var gd = document.getElementById('106b7be6-65aa-47cd-969c-140de8f90a3b');\n",
       "var x = new MutationObserver(function (mutations, observer) {{\n",
       "        var display = window.getComputedStyle(gd).display;\n",
       "        if (!display || display === 'none') {{\n",
       "            console.log([gd, 'removed!']);\n",
       "            Plotly.purge(gd);\n",
       "            observer.disconnect();\n",
       "        }}\n",
       "}});\n",
       "\n",
       "// Listen for the removal of the full notebook cells\n",
       "var notebookContainer = gd.closest('#notebook-container');\n",
       "if (notebookContainer) {{\n",
       "    x.observe(notebookContainer, {childList: true});\n",
       "}}\n",
       "\n",
       "// Listen for the clearing of the current output cell\n",
       "var outputEl = gd.closest('.output');\n",
       "if (outputEl) {{\n",
       "    x.observe(outputEl, {childList: true});\n",
       "}}\n",
       "\n",
       "                        })                };                });            </script>        </div>"
      ]
     },
     "metadata": {},
     "output_type": "display_data"
    }
   ],
   "source": [
    "fig = px.bar(\n",
    "    relativeErrorDF, \n",
    "    x = 'Number of items', \n",
    "    y = 'Mean relative error (%)', \n",
    "    color = '0/1 Knapsack Capacity', \n",
    "    barmode = 'group', \n",
    "    hover_data = ['count'], \n",
    "    title = \"Mean relative error by instances group\"\n",
    ")\n",
    "\n",
    "fileTemplate = \"../plots/{}/relativeError.{}\"\n",
    "# fig.write_image(fileTemplate.format(\"png\",\"png\"))\n",
    "fig.write_html(fileTemplate.format(\"html\",\"html\"), full_html=True, include_plotlyjs='cdn')\n",
    "fig"
   ]
  },
  {
   "cell_type": "markdown",
   "metadata": {},
   "source": [
    "Next, we focus on those instances without optimum solutions and those instances for which the best solution was unfeasible."
   ]
  },
  {
   "cell_type": "code",
   "execution_count": 22,
   "metadata": {},
   "outputs": [
    {
     "data": {
      "text/html": [
       "<div>\n",
       "<style scoped>\n",
       "    .dataframe tbody tr th:only-of-type {\n",
       "        vertical-align: middle;\n",
       "    }\n",
       "\n",
       "    .dataframe tbody tr th {\n",
       "        vertical-align: top;\n",
       "    }\n",
       "\n",
       "    .dataframe thead th {\n",
       "        text-align: right;\n",
       "    }\n",
       "</style>\n",
       "<table border=\"1\" class=\"dataframe\">\n",
       "  <thead>\n",
       "    <tr style=\"text-align: right;\">\n",
       "      <th></th>\n",
       "      <th>instanceName</th>\n",
       "      <th>optimumFO</th>\n",
       "      <th>bestFO</th>\n",
       "      <th>optimumRuntime</th>\n",
       "      <th>runtime</th>\n",
       "      <th>relativeError</th>\n",
       "      <th>n</th>\n",
       "      <th>c</th>\n",
       "    </tr>\n",
       "  </thead>\n",
       "  <tbody>\n",
       "    <tr>\n",
       "      <th>13</th>\n",
       "      <td>n_800_c_10000000000_g_14_f_0.2_eps_0.01_s_100</td>\n",
       "      <td>-1</td>\n",
       "      <td>9997182463</td>\n",
       "      <td>-1.000000</td>\n",
       "      <td>0.004800</td>\n",
       "      <td>9.997182e+09</td>\n",
       "      <td>800</td>\n",
       "      <td>10000000000</td>\n",
       "    </tr>\n",
       "    <tr>\n",
       "      <th>16</th>\n",
       "      <td>n_1000_c_100000000_g_6_f_0.2_eps_1e-05_s_200</td>\n",
       "      <td>96930433</td>\n",
       "      <td>-690364053740515970</td>\n",
       "      <td>5.437214</td>\n",
       "      <td>0.006735</td>\n",
       "      <td>7.122263e+09</td>\n",
       "      <td>1000</td>\n",
       "      <td>100000000</td>\n",
       "    </tr>\n",
       "    <tr>\n",
       "      <th>18</th>\n",
       "      <td>n_1200_c_10000000000_g_14_f_0.3_eps_0.01_s_300</td>\n",
       "      <td>-1</td>\n",
       "      <td>9980888076</td>\n",
       "      <td>-1.000000</td>\n",
       "      <td>0.006353</td>\n",
       "      <td>9.980888e+09</td>\n",
       "      <td>1200</td>\n",
       "      <td>10000000000</td>\n",
       "    </tr>\n",
       "    <tr>\n",
       "      <th>75</th>\n",
       "      <td>n_600_c_10000000000_g_14_f_0.3_eps_0.01_s_100</td>\n",
       "      <td>-1</td>\n",
       "      <td>9919154826</td>\n",
       "      <td>-1.000000</td>\n",
       "      <td>0.004462</td>\n",
       "      <td>9.919155e+09</td>\n",
       "      <td>600</td>\n",
       "      <td>10000000000</td>\n",
       "    </tr>\n",
       "    <tr>\n",
       "      <th>96</th>\n",
       "      <td>n_600_c_10000000000_g_14_f_0.1_eps_0.01_s_200</td>\n",
       "      <td>-1</td>\n",
       "      <td>9919795158</td>\n",
       "      <td>-1.000000</td>\n",
       "      <td>0.002443</td>\n",
       "      <td>9.919795e+09</td>\n",
       "      <td>600</td>\n",
       "      <td>10000000000</td>\n",
       "    </tr>\n",
       "    <tr>\n",
       "      <th>...</th>\n",
       "      <td>...</td>\n",
       "      <td>...</td>\n",
       "      <td>...</td>\n",
       "      <td>...</td>\n",
       "      <td>...</td>\n",
       "      <td>...</td>\n",
       "      <td>...</td>\n",
       "      <td>...</td>\n",
       "    </tr>\n",
       "    <tr>\n",
       "      <th>623</th>\n",
       "      <td>n_800_c_10000000000_g_14_f_0.2_eps_0.001_s_300</td>\n",
       "      <td>-1</td>\n",
       "      <td>9997036955</td>\n",
       "      <td>-1.000000</td>\n",
       "      <td>0.004822</td>\n",
       "      <td>9.997037e+09</td>\n",
       "      <td>800</td>\n",
       "      <td>10000000000</td>\n",
       "    </tr>\n",
       "    <tr>\n",
       "      <th>627</th>\n",
       "      <td>n_1200_c_10000000000_g_10_f_0.3_eps_0.0001_s_300</td>\n",
       "      <td>-1</td>\n",
       "      <td>9996837153</td>\n",
       "      <td>-1.000000</td>\n",
       "      <td>0.007058</td>\n",
       "      <td>9.996837e+09</td>\n",
       "      <td>1200</td>\n",
       "      <td>10000000000</td>\n",
       "    </tr>\n",
       "    <tr>\n",
       "      <th>635</th>\n",
       "      <td>n_1200_c_10000000000_g_10_f_0.2_eps_1e-05_s_300</td>\n",
       "      <td>-1</td>\n",
       "      <td>9995538003</td>\n",
       "      <td>-1.000000</td>\n",
       "      <td>0.006791</td>\n",
       "      <td>9.995538e+09</td>\n",
       "      <td>1200</td>\n",
       "      <td>10000000000</td>\n",
       "    </tr>\n",
       "    <tr>\n",
       "      <th>636</th>\n",
       "      <td>n_600_c_10000000000_g_14_f_0.2_eps_0.0001_s_200</td>\n",
       "      <td>-1</td>\n",
       "      <td>9999534272</td>\n",
       "      <td>-1.000000</td>\n",
       "      <td>0.003874</td>\n",
       "      <td>9.999534e+09</td>\n",
       "      <td>600</td>\n",
       "      <td>10000000000</td>\n",
       "    </tr>\n",
       "    <tr>\n",
       "      <th>643</th>\n",
       "      <td>n_600_c_10000000000_g_14_f_0.1_eps_0.0001_s_300</td>\n",
       "      <td>-1</td>\n",
       "      <td>9997806628</td>\n",
       "      <td>-1.000000</td>\n",
       "      <td>0.003780</td>\n",
       "      <td>9.997807e+09</td>\n",
       "      <td>600</td>\n",
       "      <td>10000000000</td>\n",
       "    </tr>\n",
       "  </tbody>\n",
       "</table>\n",
       "<p>91 rows × 8 columns</p>\n",
       "</div>"
      ],
      "text/plain": [
       "                                         instanceName  optimumFO  \\\n",
       "13      n_800_c_10000000000_g_14_f_0.2_eps_0.01_s_100         -1   \n",
       "16       n_1000_c_100000000_g_6_f_0.2_eps_1e-05_s_200   96930433   \n",
       "18     n_1200_c_10000000000_g_14_f_0.3_eps_0.01_s_300         -1   \n",
       "75      n_600_c_10000000000_g_14_f_0.3_eps_0.01_s_100         -1   \n",
       "96      n_600_c_10000000000_g_14_f_0.1_eps_0.01_s_200         -1   \n",
       "..                                                ...        ...   \n",
       "623    n_800_c_10000000000_g_14_f_0.2_eps_0.001_s_300         -1   \n",
       "627  n_1200_c_10000000000_g_10_f_0.3_eps_0.0001_s_300         -1   \n",
       "635   n_1200_c_10000000000_g_10_f_0.2_eps_1e-05_s_300         -1   \n",
       "636   n_600_c_10000000000_g_14_f_0.2_eps_0.0001_s_200         -1   \n",
       "643   n_600_c_10000000000_g_14_f_0.1_eps_0.0001_s_300         -1   \n",
       "\n",
       "                 bestFO  optimumRuntime   runtime  relativeError     n  \\\n",
       "13           9997182463       -1.000000  0.004800   9.997182e+09   800   \n",
       "16  -690364053740515970        5.437214  0.006735   7.122263e+09  1000   \n",
       "18           9980888076       -1.000000  0.006353   9.980888e+09  1200   \n",
       "75           9919154826       -1.000000  0.004462   9.919155e+09   600   \n",
       "96           9919795158       -1.000000  0.002443   9.919795e+09   600   \n",
       "..                  ...             ...       ...            ...   ...   \n",
       "623          9997036955       -1.000000  0.004822   9.997037e+09   800   \n",
       "627          9996837153       -1.000000  0.007058   9.996837e+09  1200   \n",
       "635          9995538003       -1.000000  0.006791   9.995538e+09  1200   \n",
       "636          9999534272       -1.000000  0.003874   9.999534e+09   600   \n",
       "643          9997806628       -1.000000  0.003780   9.997807e+09   600   \n",
       "\n",
       "               c  \n",
       "13   10000000000  \n",
       "16     100000000  \n",
       "18   10000000000  \n",
       "75   10000000000  \n",
       "96   10000000000  \n",
       "..           ...  \n",
       "623  10000000000  \n",
       "627  10000000000  \n",
       "635  10000000000  \n",
       "636  10000000000  \n",
       "643  10000000000  \n",
       "\n",
       "[91 rows x 8 columns]"
      ]
     },
     "execution_count": 22,
     "metadata": {},
     "output_type": "execute_result"
    }
   ],
   "source": [
    "withoutOptimumOrUnfeasible = testSummary[(testSummary.optimumFO == -1) | (testSummary.bestFO < 0)]\n",
    "withoutOptimumOrUnfeasible"
   ]
  },
  {
   "cell_type": "markdown",
   "metadata": {},
   "source": [
    "Running time comparison: exact methods x hyperheuristic"
   ]
  },
  {
   "cell_type": "code",
   "execution_count": 35,
   "metadata": {},
   "outputs": [
    {
     "data": {
      "application/vnd.plotly.v1+json": {
       "config": {
        "plotlyServerURL": "https://plot.ly"
       },
       "data": [
        {
         "hovertemplate": "capacity=1000000<br>RLH runtime (s)=%{x}<br>Benchmark runtime (s)=%{y}<extra></extra>",
         "legendgroup": "1000000",
         "marker": {
          "color": "#636efa",
          "symbol": "circle"
         },
         "mode": "markers",
         "name": "1000000",
         "orientation": "v",
         "showlegend": true,
         "type": "scatter",
         "x": [
          0.00290679931640625,
          0.002460002899169922,
          0.0015492439270019531,
          0.00625920295715332,
          0.001787424087524414,
          0.0032231807708740234,
          0.004831790924072266,
          0.004216194152832031,
          0.004033088684082031,
          0.004272937774658203,
          0.002270936965942383,
          0.0047607421875,
          0.005157470703125,
          0.0023338794708251953,
          0.006397247314453125,
          0.0073740482330322266,
          0.00791478157043457,
          0.0034394264221191406,
          0.0023741722106933594,
          0.003529071807861328,
          0.0030829906463623047,
          0.00438690185546875,
          0.005376100540161133,
          0.005124092102050781,
          0.004723548889160156,
          0.0037813186645507812,
          0.003984689712524414,
          0.0039021968841552734,
          0.00270843505859375,
          0.004691600799560547,
          0.0030968189239501953,
          0.005249977111816406,
          0.0066797733306884766,
          0.004716396331787109,
          0.0060002803802490234,
          0.0025260448455810547,
          0.003935337066650391,
          0.003928184509277344,
          0.007921695709228516,
          0.002171754837036133,
          0.0016510486602783203,
          0.0050487518310546875,
          0.0063016414642333984,
          0.005677223205566406,
          0.004548311233520508,
          0.0050737857818603516,
          0.005942583084106445,
          0.0035736560821533203,
          0.005287647247314453,
          0.004970073699951172,
          0.0027375221252441406,
          0.003229856491088867,
          0.005902528762817383,
          0.005008697509765625,
          0.002106904983520508,
          0.004732608795166016,
          0.003442049026489258,
          0.0023391246795654297,
          0.006703853607177734,
          0.004787445068359375,
          0.0069959163665771484,
          0.00583958625793457,
          0.0021674633026123047,
          0.003589630126953125,
          0.0035157203674316406,
          0.0053751468658447266,
          0.005835294723510742,
          0.003119230270385742,
          0.0022134780883789062,
          0.003320455551147461,
          0.005038022994995117,
          0.0025763511657714844,
          0.003108501434326172,
          0.004459857940673828,
          0.004773855209350586,
          0.002731800079345703,
          0.0052869319915771484,
          0.003704071044921875,
          0.004022836685180664,
          0.00567936897277832,
          0.0029096603393554688,
          0.003905057907104492,
          0.0027649402618408203,
          0.002969980239868164,
          0.0032596588134765625,
          0.0032057762145996094,
          0.006157875061035156,
          0.002206087112426758,
          0.0037865638732910156,
          0.0025026798248291016,
          0.0033664703369140625,
          0.002033233642578125,
          0.004150390625,
          0.003218412399291992,
          0.006253480911254883,
          0.0047607421875,
          0.006206512451171875,
          0.003999233245849609,
          0.0028226375579833984,
          0.005821943283081055,
          0.002165079116821289,
          0.006215333938598633,
          0.002899646759033203,
          0.0017886161804199219,
          0.0016820430755615234,
          0.0052640438079833984,
          0.0051457881927490234,
          0.003199338912963867,
          0.0053865909576416016,
          0.0017588138580322266,
          0.004391670227050781,
          0.0031795501708984375,
          0.00667572021484375,
          0.0025818347930908203,
          0.003830432891845703,
          0.0069582462310791016,
          0.00527501106262207,
          0.003571033477783203,
          0.005084991455078125,
          0.006596565246582031,
          0.003680706024169922,
          0.008571624755859375,
          0.005424022674560547,
          0.003705739974975586,
          0.003239870071411133,
          0.005566596984863281,
          0.006562948226928711,
          0.004172801971435547,
          0.003089427947998047,
          0.005307197570800781,
          0.004966020584106445,
          0.003055095672607422,
          0.0035393238067626953,
          0.004474163055419922,
          0.002361297607421875,
          0.006015300750732422,
          0.003087282180786133,
          0.002834320068359375,
          0.0067059993743896484,
          0.006426334381103516,
          0.00484466552734375,
          0.006517648696899414,
          0.005341529846191406,
          0.002568960189819336,
          0.0020797252655029297,
          0.0050506591796875,
          0.005027055740356445,
          0.002141714096069336,
          0.002405881881713867,
          0.004632472991943359,
          0.005426168441772461,
          0.003139019012451172,
          0.007178544998168945,
          0.004039287567138672,
          0.0030357837677001953,
          0.0056993961334228516,
          0.004152774810791016,
          0.0034084320068359375,
          0.005524158477783203,
          0.004630327224731445,
          0.003748655319213867,
          0.003369569778442383,
          0.0030426979064941406,
          0.0031890869140625,
          0.00478816032409668,
          0.003926753997802734,
          0.0029036998748779297,
          0.003770589828491211,
          0.005434751510620117,
          0.005553245544433594,
          0.0031185150146484375,
          0.004755496978759766,
          0.012283563613891602,
          0.0043103694915771484,
          0.0031003952026367188,
          0.002801656723022461,
          0.0019795894622802734,
          0.00423121452331543,
          0.005784511566162109,
          0.003808736801147461,
          0.0022721290588378906,
          0.005253314971923828,
          0.003006458282470703,
          0.0032753944396972656,
          0.0045013427734375,
          0.005661964416503906,
          0.005430698394775391,
          0.004994869232177734,
          0.008147478103637695,
          0.0031843185424804688,
          0.003220081329345703,
          0.002453327178955078,
          0.005593299865722656,
          0.006837129592895508,
          0.006422281265258789,
          0.0028107166290283203,
          0.0032644271850585938,
          0.002182483673095703,
          0.006206512451171875,
          0.009624242782592773,
          0.0021424293518066406,
          0.0045013427734375,
          0.0025534629821777344,
          0.003190279006958008,
          0.0030629634857177734,
          0.004837512969970703,
          0.002460479736328125,
          0.00582432746887207,
          0.0027153491973876953,
          0.004119396209716797,
          0.005136966705322266,
          0.004845142364501953,
          0.0021958351135253906,
          0.0065343379974365234,
          0.001982450485229492
         ],
         "xaxis": "x",
         "y": [
          0.1283490597270429,
          0.3699795198626816,
          0.30751154012978077,
          0.7479614983312786,
          1.9687984571792185,
          0.04670984158292413,
          0.0953848878853023,
          1.2648031180724502,
          0.056600996758788824,
          1.5406779390759766,
          0.31147581012919545,
          0.30037952587008476,
          1.8682597228325903,
          0.08297564182430506,
          0.14751654397696257,
          0.11547701898962259,
          2.025341906119138,
          0.88836889853701,
          0.14982555899769068,
          0.1212352910079062,
          0.23573816660791636,
          0.06597398407757282,
          0.09558599488809705,
          0.11338169593364,
          0.15617612982168794,
          0.6797341736964881,
          0.23167124902829528,
          0.43008622201159596,
          0.3725742669776082,
          0.11134976195171475,
          0.11287195142358541,
          0.08515805192291737,
          3.9183287168852985,
          0.12992822378873825,
          0.0817296551540494,
          0.2623479012399912,
          0.08565611531957984,
          0.14121482614427805,
          0.16421780502423644,
          0.18220060598105192,
          0.08023631712421775,
          0.08516696793958545,
          4.335681861732155,
          0.0520147061906755,
          3.9060473521240056,
          0.058082752861082554,
          0.055469742976129055,
          0.07089147623628378,
          0.1380107062868774,
          1.3764317110180855,
          0.04835558217018843,
          0.09505851892754436,
          0.24138285126537085,
          0.6881343373097479,
          1.061581299174577,
          0.07174081914126873,
          0.06503517413511872,
          0.0697361403144896,
          0.1265972349792719,
          0.7635295470245183,
          0.1498387842439115,
          0.16176537703722715,
          0.5333932307548821,
          0.13135508308187127,
          0.0996941146440804,
          0.5530771249905229,
          0.6595263741910458,
          0.15380661189556122,
          0.0581266232766211,
          0.08868685318157077,
          0.5479090330190957,
          0.12747659301385283,
          0.13583311904221773,
          1.2873762557283044,
          0.05837255995720625,
          0.3539545489475131,
          0.0941868731752038,
          0.06709322985261679,
          0.07744259992614388,
          0.06900368211790919,
          0.08267476689070463,
          0.0589388320222497,
          0.10164280189201236,
          0.2230122177861631,
          0.09615497710183263,
          0.9555043368600309,
          0.14699038909748197,
          0.7793175890110433,
          0.14727311581373215,
          0.38235044991597533,
          0.050455558113753796,
          0.0744082210585475,
          0.14674501726403832,
          0.08435902604833245,
          0.7128224419429898,
          1.7598604247905314,
          0.0884046908468008,
          0.1030046190135181,
          0.0927865020930767,
          0.16753165517002344,
          0.3857563966885209,
          3.0395407979376614,
          0.32286632899194956,
          0.39766045985743403,
          0.3697325331158936,
          1.8724959599785507,
          2.757529695983976,
          0.05728351417928934,
          0.04858856275677681,
          0.07232399610802531,
          0.2865446279756725,
          0.4286855002865195,
          0.6838619289919734,
          1.267927578650415,
          0.11210092715919018,
          0.5061839441768825,
          0.2981938919983804,
          0.9103111666627228,
          0.05942827183753252,
          0.10073471395298839,
          0.24032872775569558,
          3.3966277460567653,
          0.28300237702205777,
          0.7380531542003155,
          0.09681679820641875,
          0.3305749371647835,
          0.4399399934336543,
          0.14490512991324067,
          0.08910672506317496,
          0.28789556911215186,
          0.11091822385787964,
          0.5124708148650825,
          0.09667772892862558,
          0.06264918483793736,
          0.34345619613304734,
          0.08276128396391869,
          0.09768186369910836,
          0.0885259653441608,
          0.10213538724929094,
          0.12738428264856339,
          0.12159636616706848,
          0.13911163667216897,
          0.13886357424780726,
          0.08446922805160284,
          0.10545290634036064,
          0.18401029100641608,
          0.16716678300872445,
          0.524259916972369,
          0.11201291531324387,
          1.7098171659745276,
          0.21136449603363872,
          2.143467351794243,
          0.0946112647652626,
          0.06534971995279193,
          0.08935866272076964,
          0.21807297505438328,
          0.2934115952812135,
          0.1460557607933879,
          0.2637671451084316,
          1.9296683389693499,
          0.17902782885357738,
          1.2958814771845937,
          0.0539813251234591,
          0.4835106721147895,
          0.6924390001222491,
          0.19399143382906914,
          1.1166407000273466,
          0.18555146595463157,
          0.1493409089744091,
          0.27554955519735813,
          0.24508263589814305,
          0.7506236680783331,
          0.3859532787464559,
          0.2610596250742674,
          0.0815537991002202,
          0.3007086352445185,
          0.11006208695471287,
          0.14303658111020923,
          3.408891540952027,
          0.47805619379505515,
          0.17202445538714528,
          0.20523533364757895,
          1.2804715288802981,
          0.10189746879041195,
          0.16511486284434795,
          0.09909663302823901,
          0.13989921705797315,
          0.387980290222913,
          0.1605902137234807,
          1.3402729048393667,
          0.08922464586794376,
          0.14213005034253,
          0.170650330837816,
          0.5129603748209774,
          0.5653283502906561,
          0.06569594005122781,
          1.0256617977283895,
          0.11865166900679469,
          0.2305953032337129,
          0.1606599148362875,
          1.086773328948766,
          0.186926637776196,
          0.2659897147677839,
          1.031417769845575,
          0.38127053203061223,
          0.08183077117428184,
          0.5426725200377405,
          0.6378203211352229,
          0.050750235095620155,
          0.8716324339620769,
          0.1926848730072379,
          0.15526682790368795,
          0.04680816829204559,
          1.6733828452415764,
          0.08872795989736915
         ],
         "yaxis": "y"
        },
        {
         "hovertemplate": "capacity=10000000000<br>RLH runtime (s)=%{x}<br>Benchmark runtime (s)=%{y}<extra></extra>",
         "legendgroup": "10000000000",
         "marker": {
          "color": "#EF553B",
          "symbol": "circle"
         },
         "mode": "markers",
         "name": "10000000000",
         "orientation": "v",
         "showlegend": true,
         "type": "scatter",
         "x": [
          0.004300594329833984,
          0.0034418106079101562,
          0.0042989253997802734,
          0.005081892013549805,
          0.00148773193359375,
          0.004800319671630859,
          0.0063533782958984375,
          0.0029914379119873047,
          0.0037381649017333984,
          0.0047397613525390625,
          0.002855539321899414,
          0.0077571868896484375,
          0.002583026885986328,
          0.0035774707794189453,
          0.007114887237548828,
          0.002560853958129883,
          0.004716157913208008,
          0.009398698806762695,
          0.0035772323608398438,
          0.0021209716796875,
          0.003671884536743164,
          0.006060600280761719,
          0.004316568374633789,
          0.003915548324584961,
          0.004462480545043945,
          0.007746219635009766,
          0.0014600753784179688,
          0.0024433135986328125,
          0.002210855484008789,
          0.005513668060302734,
          0.002083301544189453,
          0.0050907135009765625,
          0.003154277801513672,
          0.002478361129760742,
          0.003517627716064453,
          0.0038878917694091797,
          0.0035479068756103516,
          0.007562398910522461,
          0.006916046142578125,
          0.006944179534912109,
          0.0036640167236328125,
          0.004838466644287109,
          0.003284931182861328,
          0.002866983413696289,
          0.0053789615631103516,
          0.003688812255859375,
          0.005819797515869141,
          0.0019409656524658203,
          0.006624460220336914,
          0.002698183059692383,
          0.004908323287963867,
          0.008634567260742188,
          0.006507158279418945,
          0.0026886463165283203,
          0.0036003589630126953,
          0.002662181854248047,
          0.007970571517944336,
          0.003879547119140625,
          0.003876924514770508,
          0.003482341766357422,
          0.0030629634857177734,
          0.0050678253173828125,
          0.0039904117584228516,
          0.003447294235229492,
          0.004276275634765625,
          0.005815029144287109,
          0.004313230514526367,
          0.0020623207092285156,
          0.0034627914428710938,
          0.00812220573425293,
          0.0036416053771972656,
          0.0038247108459472656,
          0.006522417068481445,
          0.0018608570098876953,
          0.0025734901428222656,
          0.003110170364379883,
          0.003813505172729492,
          0.003755331039428711,
          0.003139019012451172,
          0.0022940635681152344,
          0.0036194324493408203,
          0.004540681838989258,
          0.0033462047576904297,
          0.0019915103912353516,
          0.006144285202026367,
          0.006016969680786133,
          0.005466938018798828,
          0.0032470226287841797,
          0.002890348434448242,
          0.001802206039428711,
          0.004928112030029297,
          0.0025773048400878906,
          0.004155397415161133,
          0.002599954605102539,
          0.0041484832763671875,
          0.004639625549316406,
          0.004057884216308594,
          0.004638195037841797,
          0.0026013851165771484,
          0.006063222885131836,
          0.003572702407836914,
          0.0023479461669921875,
          0.002620697021484375,
          0.0063784122467041016,
          0.003916740417480469,
          0.004893302917480469,
          0.0037071704864501953,
          0.0064239501953125,
          0.0032625198364257812,
          0.003826141357421875,
          0.0064432621002197266,
          0.0042917728424072266,
          0.0055048465728759766,
          0.006535053253173828,
          0.0020194053649902344,
          0.004965782165527344,
          0.0026171207427978516,
          0.004967927932739258,
          0.006220817565917969,
          0.001711130142211914,
          0.002313852310180664,
          0.0052068233489990234,
          0.004037380218505859,
          0.004271984100341797,
          0.006772279739379883,
          0.005589723587036133,
          0.005029916763305664,
          0.0036017894744873047,
          0.005620718002319336,
          0.004104137420654297,
          0.003602266311645508,
          0.004440784454345703,
          0.0025064945220947266,
          0.004084587097167969,
          0.0024449825286865234,
          0.0027937889099121094,
          0.0017561912536621094,
          0.0025243759155273438,
          0.006242275238037109,
          0.004183053970336914,
          0.006902456283569336,
          0.004277229309082031,
          0.0058019161224365234,
          0.004837512969970703,
          0.004035472869873047,
          0.004320383071899414,
          0.0033941268920898438,
          0.005057811737060547,
          0.0038552284240722656,
          0.0037758350372314453,
          0.002943754196166992,
          0.0018978118896484375,
          0.0018985271453857422,
          0.0040819644927978516,
          0.0045604705810546875,
          0.0018770694732666016,
          0.00431060791015625,
          0.0043146610260009766,
          0.0024857521057128906,
          0.006122112274169922,
          0.0020449161529541016,
          0.00763392448425293,
          0.002462148666381836,
          0.0055696964263916016,
          0.003505229949951172,
          0.0036401748657226562,
          0.002573728561401367,
          0.007565736770629883,
          0.004762887954711914,
          0.006825923919677734,
          0.0026597976684570312,
          0.0021975040435791016,
          0.0033731460571289062,
          0.002544403076171875,
          0.005590200424194336,
          0.005569934844970703,
          0.0047757625579833984,
          0.005398750305175781,
          0.006083488464355469,
          0.004090309143066406,
          0.0013148784637451172,
          0.0070972442626953125,
          0.004357099533081055,
          0.003525257110595703,
          0.005044460296630859,
          0.00506591796875,
          0.004048585891723633,
          0.0067446231842041016,
          0.0029408931732177734,
          0.004611492156982422,
          0.004737138748168945,
          0.003712892532348633,
          0.0029549598693847656,
          0.006277561187744141,
          0.0038497447967529297,
          0.0018169879913330078,
          0.0054416656494140625,
          0.00341796875,
          0.004363059997558594,
          0.003736734390258789,
          0.002319812774658203,
          0.005814790725708008,
          0.006888151168823242,
          0.001598358154296875,
          0.004914999008178711,
          0.005110502243041992,
          0.003790140151977539,
          0.003916025161743164,
          0.00482177734375,
          0.007057666778564453,
          0.00455164909362793,
          0.006790637969970703,
          0.0038738250732421875,
          0.00790715217590332,
          0.0028433799743652344,
          0.0037801265716552734,
          0.004645347595214844
         ],
         "xaxis": "x",
         "y": [
          665.7181230159476,
          0.09887088509276509,
          8.421775731723756,
          27.523951928596944,
          0.9252389944158494,
          -1,
          -1,
          0.21049940586090088,
          0.15885753324255347,
          44.98514646291733,
          0.07715411670506,
          3179.211717486847,
          270.7703639212996,
          0.2967816572636366,
          0.2625774787738919,
          0.38540676375851035,
          742.3659349619411,
          140.37506997492164,
          0.09654421964660287,
          0.08121199393644929,
          17.10169578762725,
          15.103879185859114,
          1750.852646003943,
          0.20480202790349722,
          -1,
          1.7701743878424168,
          0.08117238571867347,
          -1,
          1.4980201153084636,
          -1,
          0.07185137970373034,
          3.2170819309540093,
          22.50019566062838,
          1.5757869370281696,
          -1,
          -1,
          1088.7535330741666,
          -1,
          129.63516422593966,
          -1,
          0.06891734339296818,
          0.152704366017133,
          -1,
          2.1679806248284876,
          1632.4040025551803,
          -1,
          -1,
          409.6106098019518,
          6.022175590042025,
          0.7504030391573906,
          0.5936192837543786,
          -1,
          -1,
          0.08172952616587281,
          -1,
          310.4887672131881,
          0.40670515689998865,
          38.89993436774239,
          12.46725331991911,
          0.13294175127521157,
          11.094695850741118,
          3801.790159319062,
          923.6699500409886,
          -1,
          1749.4933311808854,
          67.64664190495387,
          -1,
          3.286136443261057,
          292.7202517162077,
          217.3497472270392,
          0.1712676053866744,
          0.5279795099049807,
          -1,
          381.8473369469866,
          0.09105402696877718,
          744.2715320428833,
          64.25770614575595,
          48.06509365607053,
          -1,
          86.09083477361128,
          -1,
          0.14234382286667824,
          31.901190714910626,
          0.11772822868078947,
          0.5257353838533163,
          -1,
          0.14988696621730924,
          4.182379944715649,
          -1,
          0.11663086991757154,
          0.20075910026207566,
          0.10866099083796144,
          27.47170443739742,
          255.01407286990434,
          15.113032563123852,
          -1,
          0.1990839196369052,
          -1,
          0.44853813434019685,
          -1,
          0.32866474613547325,
          0.30934180226176977,
          0.08674272429198027,
          -1,
          -1,
          -1,
          -1,
          19.463730338029563,
          -1,
          1.0630471212789416,
          103.81156597984955,
          668.86199732963,
          -1,
          6.473968102131039,
          0.08464733604341745,
          0.4075420261360705,
          5.164181929081678,
          -1,
          -1,
          0.1371618011035025,
          1.6409578216262162,
          54.8408628241159,
          1.0341105591505766,
          -1,
          734.8629515930079,
          -1,
          80.46499932417646,
          0.10210825735703111,
          -1,
          -1,
          244.54741908283904,
          22.285956924315542,
          0.5686070709489286,
          32.11622695205733,
          6.547002809122205,
          61.05875976104289,
          214.9753070329316,
          0.10230065416544676,
          14.032104185782373,
          -1,
          97.9062873837538,
          0.6390911019407213,
          4.1861077467910945,
          0.30581947788596153,
          -1,
          -1,
          -1,
          0.43290822114795446,
          2331.2796493708156,
          0.07078322721645236,
          -1,
          0.3338993266224861,
          0.4770322027616203,
          -1,
          4795.614830589853,
          353.70852021779865,
          1.0900996993295848,
          0.32494105165824294,
          -1,
          -1,
          0.13893615314736962,
          0.3313574488274753,
          0.5735838976688683,
          0.4718516608700156,
          0.08535295492038131,
          0.15154952183365822,
          0.10195513814687729,
          0.49143030820414424,
          727.929265494924,
          -1,
          -1,
          7.3513428550213575,
          0.2881711539812386,
          7.471836664248258,
          4222.267329997849,
          -1,
          0.3964337180368602,
          9.1736611276865,
          -1,
          32.34895222913474,
          0.10819573421031237,
          -1,
          0.2094537396915257,
          1.5021766708232462,
          0.13737660367041826,
          0.11348396213725209,
          -1,
          -1,
          0.3672791398130357,
          8.569915269035846,
          571.3217549682595,
          42.21301052486524,
          0.5928181107155979,
          -1,
          356.8916901135817,
          -1,
          70.02802792331204,
          1.2761620236560702,
          130.50653707096353,
          380.82155084004626,
          0.4026362388394773,
          -1,
          4247.3501537060365,
          0.10781234595924616,
          0.17598197190091014,
          0.12514308607205749,
          1083.0975810969248,
          20.73792195599526,
          -1,
          -1,
          0.18812071392312646,
          -1,
          -1,
          0.6321957358159125,
          2.8964731018058956,
          -1,
          17.569615630898625
         ],
         "yaxis": "y"
        },
        {
         "hovertemplate": "capacity=100000000<br>RLH runtime (s)=%{x}<br>Benchmark runtime (s)=%{y}<extra></extra>",
         "legendgroup": "100000000",
         "marker": {
          "color": "#00cc96",
          "symbol": "circle"
         },
         "mode": "markers",
         "name": "100000000",
         "orientation": "v",
         "showlegend": true,
         "type": "scatter",
         "x": [
          0.003327608108520508,
          0.0051882266998291016,
          0.0036725997924804688,
          0.0022690296173095703,
          0.00673222541809082,
          0.007085323333740234,
          0.006735324859619141,
          0.002645254135131836,
          0.0059697628021240234,
          0.0037708282470703125,
          0.00222015380859375,
          0.00421905517578125,
          0.006293058395385742,
          0.004241228103637695,
          0.0067920684814453125,
          0.006642818450927734,
          0.006224632263183594,
          0.004840850830078125,
          0.0048143863677978516,
          0.004343986511230469,
          0.00633549690246582,
          0.0029544830322265625,
          0.0019266605377197266,
          0.005350351333618164,
          0.007518768310546875,
          0.004797697067260742,
          0.006023883819580078,
          0.004146575927734375,
          0.00379180908203125,
          0.00494074821472168,
          0.006833076477050781,
          0.006278038024902344,
          0.006134986877441406,
          0.003999233245849609,
          0.006719350814819336,
          0.0050580501556396484,
          0.004082679748535156,
          0.006936073303222656,
          0.003196239471435547,
          0.0038378238677978516,
          0.0024232864379882812,
          0.0064966678619384766,
          0.0037620067596435547,
          0.0036802291870117188,
          0.0025577545166015625,
          0.0055599212646484375,
          0.007982015609741211,
          0.0048487186431884766,
          0.006174564361572266,
          0.0034646987915039062,
          0.002639293670654297,
          0.0048749446868896484,
          0.005039691925048828,
          0.0052068233489990234,
          0.0026335716247558594,
          0.0030431747436523438,
          0.00899362564086914,
          0.00552678108215332,
          0.004540920257568359,
          0.005772829055786133,
          0.006266117095947266,
          0.0040283203125,
          0.0033674240112304688,
          0.00455164909362793,
          0.002919435501098633,
          0.005490303039550781,
          0.0027778148651123047,
          0.0019884109497070312,
          0.0022056102752685547,
          0.004012346267700195,
          0.0018000602722167969,
          0.0038230419158935547,
          0.0023026466369628906,
          0.005232095718383789,
          0.0022568702697753906,
          0.0024993419647216797,
          0.0023870468139648438,
          0.005318164825439453,
          0.0057201385498046875,
          0.0029358863830566406,
          0.005766868591308594,
          0.004131793975830078,
          0.006990194320678711,
          0.0053713321685791016,
          0.006876707077026367,
          0.006537675857543945,
          0.004492998123168945,
          0.0050432682037353516,
          0.0035696029663085938,
          0.003569364547729492,
          0.0037331581115722656,
          0.004588127136230469,
          0.0041561126708984375,
          0.003195524215698242,
          0.0021347999572753906,
          0.003171205520629883,
          0.003144979476928711,
          0.0026602745056152344,
          0.0021784305572509766,
          0.003509521484375,
          0.0033044815063476562,
          0.0029997825622558594,
          0.0026085376739501953,
          0.005425930023193359,
          0.004948139190673828,
          0.0029413700103759766,
          0.00687718391418457,
          0.006032466888427734,
          0.0023505687713623047,
          0.0024557113647460938,
          0.004833698272705078,
          0.004543781280517578,
          0.006699562072753906,
          0.003050088882446289,
          0.0034160614013671875,
          0.00718379020690918,
          0.002341032028198242,
          0.006201267242431641,
          0.004953861236572266,
          0.0032711029052734375,
          0.007203578948974609,
          0.004744529724121094,
          0.005694389343261719,
          0.0027365684509277344,
          0.0049631595611572266,
          0.0033469200134277344,
          0.005204200744628906,
          0.003419637680053711,
          0.003503561019897461,
          0.002251148223876953,
          0.001827239990234375,
          0.0025649070739746094,
          0.0027086734771728516,
          0.002748250961303711,
          0.005399227142333984,
          0.005704164505004883,
          0.004828453063964844,
          0.0051631927490234375,
          0.0056836605072021484,
          0.0050623416900634766,
          0.007535219192504883,
          0.006151676177978516,
          0.0033245086669921875,
          0.004344463348388672,
          0.00534820556640625,
          0.007135152816772461,
          0.006958723068237305,
          0.005848407745361328,
          0.0033643245697021484,
          0.001703500747680664,
          0.004469633102416992,
          0.004300117492675781,
          0.00522160530090332,
          0.008191585540771484,
          0.0036787986755371094,
          0.0059642791748046875,
          0.002228260040283203,
          0.0016491413116455078,
          0.008150339126586914,
          0.0038704872131347656,
          0.0060389041900634766,
          0.002991199493408203,
          0.007382392883300781,
          0.005316257476806641,
          0.006532907485961914,
          0.003226041793823242,
          0.005710124969482422,
          0.006037235260009766,
          0.003610372543334961,
          0.005914211273193359,
          0.0029795169830322266,
          0.002131223678588867,
          0.006691694259643555,
          0.004485607147216797,
          0.0027010440826416016,
          0.006455421447753906,
          0.006343364715576172,
          0.002305746078491211,
          0.0054013729095458984,
          0.0057909488677978516,
          0.0040435791015625,
          0.0027647018432617188,
          0.005159854888916016,
          0.002018451690673828,
          0.0025377273559570312,
          0.00281524658203125,
          0.0064923763275146484,
          0.002282381057739258,
          0.0054280757904052734,
          0.0043566226959228516,
          0.005467653274536133,
          0.004049777984619141,
          0.005356550216674805,
          0.0018978118896484375,
          0.0031414031982421875,
          0.0027930736541748047,
          0.004827737808227539,
          0.004173755645751953,
          0.0031690597534179688,
          0.005258083343505859,
          0.0022547245025634766,
          0.0052356719970703125,
          0.0025963783264160156,
          0.0023488998413085938,
          0.003374338150024414,
          0.004288196563720703,
          0.0053675174713134766,
          0.003368854522705078,
          0.0024094581604003906,
          0.005649089813232422,
          0.002240419387817383,
          0.007608652114868164,
          0.005076408386230469,
          0.002015352249145508,
          0.0038945674896240234,
          0.0028684139251708984
         ],
         "xaxis": "x",
         "y": [
          6.501695905812085,
          0.3222069521434605,
          6.7526482050307095,
          0.13615530310198665,
          2.7102616541087627,
          0.25441008107736707,
          5.4372137929312885,
          0.727737327106297,
          0.8167994949035347,
          6.106838375795633,
          32.95350540895015,
          19.778020833153278,
          1.8841147739440203,
          5.8245226186700165,
          57.51357611082494,
          4.704614891204983,
          0.12155316304415464,
          0.14762652339413762,
          2.43273911671713,
          12.31981504894793,
          105.72522421972826,
          9.956473984755576,
          0.2818633313290775,
          28.29503798764199,
          21.305415051989257,
          100.69501660205424,
          183.61380206001922,
          4.152780852746218,
          5.327855336945504,
          0.17572374269366264,
          1.0722209266386926,
          0.26596442284062505,
          0.6952654388733208,
          10.71165905194357,
          0.3516879677772522,
          0.5465386710129678,
          1.1910961251705885,
          25.267197722103447,
          0.29104214534163475,
          7.683486397843808,
          6.242555759847164,
          0.3760490342974663,
          0.17132122768089175,
          20.064610183704644,
          99.1311334031634,
          0.44755211379379034,
          1.2226225761696696,
          11.640775128733367,
          22.69404275296256,
          10.142891308292747,
          0.24813235783949494,
          4.05670553073287,
          17.417791923042387,
          0.9572873492725194,
          12.864477120805532,
          16.324695742689073,
          519.7826424231753,
          0.13956101285293698,
          18.684324702247977,
          0.13033073069527745,
          117.54893498960882,
          0.07640520110726357,
          26.167166073340923,
          59.06497458508238,
          0.18510482367128134,
          21.783371079713106,
          1.7625596160069108,
          1.2184847369790077,
          5.523550167214125,
          100.6737245619297,
          0.4142241198569536,
          2.214301645755768,
          0.1409246060065925,
          135.07618864206597,
          2.577240774873644,
          89.5030542188324,
          14.482402653899044,
          0.6101934812031686,
          6.006824162788689,
          11.65220602415502,
          14.802361180074513,
          2.6507056173868477,
          16.647351175080985,
          11.324417163152248,
          8.455948081798851,
          29.870053806342185,
          6.991185993887484,
          0.28443040885031223,
          0.10499732894822955,
          0.14014248037710786,
          443.0661328500137,
          3.739554594270885,
          34.64316280791536,
          0.12283306615427136,
          2.936867273878306,
          0.7279669349081814,
          0.28288118820637465,
          0.8413127949461341,
          54.2070202678442,
          3.2861056439578533,
          30.47157552698627,
          0.8780071311630309,
          0.16098604910075665,
          13.24954836582765,
          0.8743605986237526,
          0.1319700567983091,
          32.37495161406696,
          9.020980365108699,
          1.314687476027757,
          0.07927412632852793,
          42.370074471924454,
          1.987068757880479,
          8.64005252206698,
          0.131827755831182,
          1.4428152991458774,
          57.75418775063008,
          0.36176568409428,
          11.485418105963618,
          0.3019982371479273,
          1.2572102318517864,
          0.5116725475527346,
          0.8006878257729113,
          0.10745236510410905,
          0.0732508129440248,
          4.66099944896996,
          3.3658519238233566,
          0.17614062689244747,
          3.7979836580343544,
          449.86925099324435,
          6.100019908044487,
          1.0604143501259387,
          5.159553344827145,
          6.704408490099013,
          0.132452588994056,
          8.695888641290367,
          13.244205964263529,
          8.764365495648235,
          0.19331151992082596,
          0.7545822360552847,
          12.851955879945308,
          33.36638598097488,
          0.13127965619787574,
          0.19772556331008673,
          0.13090092921629548,
          14.349664278328419,
          220.767750215251,
          0.777247809804976,
          28.836409457027912,
          8.794172472786158,
          0.173971357755363,
          0.37171984277665615,
          10.30470387917012,
          294.0785668059252,
          11.779963232111186,
          0.2054279437288642,
          1.7309648082591593,
          14.139612942934036,
          0.114125472959131,
          0.38391411723569036,
          121.54652801388875,
          113.71072406740859,
          8.038120630662888,
          42.00753215700388,
          0.2817643480375409,
          16.54042602237314,
          30.635824392084032,
          15.138315801043063,
          39.593116350937635,
          6.194542936980724,
          204.65458439989015,
          66.06998629914597,
          0.17378676030784845,
          0.19991881400346756,
          402.1474118013866,
          3.3650958528742194,
          9.488141495734453,
          0.7511400142684579,
          7.256041570100933,
          17.70652956608683,
          0.3142527141608298,
          2.970889976248145,
          2.0232051932252944,
          49.92523948615417,
          0.12385380920022726,
          7.579833896830678,
          3.150415705051273,
          16.609740814659745,
          0.10692862374708056,
          164.2635983498767,
          0.13474217429757118,
          53.47951271105558,
          0.06472842395305634,
          3.9412646521814167,
          0.405388989020139,
          10.881366203073412,
          0.14572731778025627,
          0.1056434684433043,
          2.631315228063613,
          3.947102737147361,
          0.2703584716655314,
          1.672149517107755,
          43.45842937612906,
          1.7338966587558389,
          0.16140813287347555,
          2.3866120502352715,
          0.6146673979237676,
          10.988220448140055,
          0.2390362611040473,
          0.4592987638898194,
          17.271908645983785,
          9.437810693867505,
          16.496684942860156,
          168.58910918561742,
          0.07159348484128714,
          3.0244982661679387,
          0.20611050678417087
         ],
         "yaxis": "y"
        }
       ],
       "layout": {
        "legend": {
         "title": {
          "text": "capacity"
         },
         "tracegroupgap": 0
        },
        "template": {
         "data": {
          "bar": [
           {
            "error_x": {
             "color": "#2a3f5f"
            },
            "error_y": {
             "color": "#2a3f5f"
            },
            "marker": {
             "line": {
              "color": "#E5ECF6",
              "width": 0.5
             },
             "pattern": {
              "fillmode": "overlay",
              "size": 10,
              "solidity": 0.2
             }
            },
            "type": "bar"
           }
          ],
          "barpolar": [
           {
            "marker": {
             "line": {
              "color": "#E5ECF6",
              "width": 0.5
             },
             "pattern": {
              "fillmode": "overlay",
              "size": 10,
              "solidity": 0.2
             }
            },
            "type": "barpolar"
           }
          ],
          "carpet": [
           {
            "aaxis": {
             "endlinecolor": "#2a3f5f",
             "gridcolor": "white",
             "linecolor": "white",
             "minorgridcolor": "white",
             "startlinecolor": "#2a3f5f"
            },
            "baxis": {
             "endlinecolor": "#2a3f5f",
             "gridcolor": "white",
             "linecolor": "white",
             "minorgridcolor": "white",
             "startlinecolor": "#2a3f5f"
            },
            "type": "carpet"
           }
          ],
          "choropleth": [
           {
            "colorbar": {
             "outlinewidth": 0,
             "ticks": ""
            },
            "type": "choropleth"
           }
          ],
          "contour": [
           {
            "colorbar": {
             "outlinewidth": 0,
             "ticks": ""
            },
            "colorscale": [
             [
              0,
              "#0d0887"
             ],
             [
              0.1111111111111111,
              "#46039f"
             ],
             [
              0.2222222222222222,
              "#7201a8"
             ],
             [
              0.3333333333333333,
              "#9c179e"
             ],
             [
              0.4444444444444444,
              "#bd3786"
             ],
             [
              0.5555555555555556,
              "#d8576b"
             ],
             [
              0.6666666666666666,
              "#ed7953"
             ],
             [
              0.7777777777777778,
              "#fb9f3a"
             ],
             [
              0.8888888888888888,
              "#fdca26"
             ],
             [
              1,
              "#f0f921"
             ]
            ],
            "type": "contour"
           }
          ],
          "contourcarpet": [
           {
            "colorbar": {
             "outlinewidth": 0,
             "ticks": ""
            },
            "type": "contourcarpet"
           }
          ],
          "heatmap": [
           {
            "colorbar": {
             "outlinewidth": 0,
             "ticks": ""
            },
            "colorscale": [
             [
              0,
              "#0d0887"
             ],
             [
              0.1111111111111111,
              "#46039f"
             ],
             [
              0.2222222222222222,
              "#7201a8"
             ],
             [
              0.3333333333333333,
              "#9c179e"
             ],
             [
              0.4444444444444444,
              "#bd3786"
             ],
             [
              0.5555555555555556,
              "#d8576b"
             ],
             [
              0.6666666666666666,
              "#ed7953"
             ],
             [
              0.7777777777777778,
              "#fb9f3a"
             ],
             [
              0.8888888888888888,
              "#fdca26"
             ],
             [
              1,
              "#f0f921"
             ]
            ],
            "type": "heatmap"
           }
          ],
          "heatmapgl": [
           {
            "colorbar": {
             "outlinewidth": 0,
             "ticks": ""
            },
            "colorscale": [
             [
              0,
              "#0d0887"
             ],
             [
              0.1111111111111111,
              "#46039f"
             ],
             [
              0.2222222222222222,
              "#7201a8"
             ],
             [
              0.3333333333333333,
              "#9c179e"
             ],
             [
              0.4444444444444444,
              "#bd3786"
             ],
             [
              0.5555555555555556,
              "#d8576b"
             ],
             [
              0.6666666666666666,
              "#ed7953"
             ],
             [
              0.7777777777777778,
              "#fb9f3a"
             ],
             [
              0.8888888888888888,
              "#fdca26"
             ],
             [
              1,
              "#f0f921"
             ]
            ],
            "type": "heatmapgl"
           }
          ],
          "histogram": [
           {
            "marker": {
             "pattern": {
              "fillmode": "overlay",
              "size": 10,
              "solidity": 0.2
             }
            },
            "type": "histogram"
           }
          ],
          "histogram2d": [
           {
            "colorbar": {
             "outlinewidth": 0,
             "ticks": ""
            },
            "colorscale": [
             [
              0,
              "#0d0887"
             ],
             [
              0.1111111111111111,
              "#46039f"
             ],
             [
              0.2222222222222222,
              "#7201a8"
             ],
             [
              0.3333333333333333,
              "#9c179e"
             ],
             [
              0.4444444444444444,
              "#bd3786"
             ],
             [
              0.5555555555555556,
              "#d8576b"
             ],
             [
              0.6666666666666666,
              "#ed7953"
             ],
             [
              0.7777777777777778,
              "#fb9f3a"
             ],
             [
              0.8888888888888888,
              "#fdca26"
             ],
             [
              1,
              "#f0f921"
             ]
            ],
            "type": "histogram2d"
           }
          ],
          "histogram2dcontour": [
           {
            "colorbar": {
             "outlinewidth": 0,
             "ticks": ""
            },
            "colorscale": [
             [
              0,
              "#0d0887"
             ],
             [
              0.1111111111111111,
              "#46039f"
             ],
             [
              0.2222222222222222,
              "#7201a8"
             ],
             [
              0.3333333333333333,
              "#9c179e"
             ],
             [
              0.4444444444444444,
              "#bd3786"
             ],
             [
              0.5555555555555556,
              "#d8576b"
             ],
             [
              0.6666666666666666,
              "#ed7953"
             ],
             [
              0.7777777777777778,
              "#fb9f3a"
             ],
             [
              0.8888888888888888,
              "#fdca26"
             ],
             [
              1,
              "#f0f921"
             ]
            ],
            "type": "histogram2dcontour"
           }
          ],
          "mesh3d": [
           {
            "colorbar": {
             "outlinewidth": 0,
             "ticks": ""
            },
            "type": "mesh3d"
           }
          ],
          "parcoords": [
           {
            "line": {
             "colorbar": {
              "outlinewidth": 0,
              "ticks": ""
             }
            },
            "type": "parcoords"
           }
          ],
          "pie": [
           {
            "automargin": true,
            "type": "pie"
           }
          ],
          "scatter": [
           {
            "fillpattern": {
             "fillmode": "overlay",
             "size": 10,
             "solidity": 0.2
            },
            "type": "scatter"
           }
          ],
          "scatter3d": [
           {
            "line": {
             "colorbar": {
              "outlinewidth": 0,
              "ticks": ""
             }
            },
            "marker": {
             "colorbar": {
              "outlinewidth": 0,
              "ticks": ""
             }
            },
            "type": "scatter3d"
           }
          ],
          "scattercarpet": [
           {
            "marker": {
             "colorbar": {
              "outlinewidth": 0,
              "ticks": ""
             }
            },
            "type": "scattercarpet"
           }
          ],
          "scattergeo": [
           {
            "marker": {
             "colorbar": {
              "outlinewidth": 0,
              "ticks": ""
             }
            },
            "type": "scattergeo"
           }
          ],
          "scattergl": [
           {
            "marker": {
             "colorbar": {
              "outlinewidth": 0,
              "ticks": ""
             }
            },
            "type": "scattergl"
           }
          ],
          "scattermapbox": [
           {
            "marker": {
             "colorbar": {
              "outlinewidth": 0,
              "ticks": ""
             }
            },
            "type": "scattermapbox"
           }
          ],
          "scatterpolar": [
           {
            "marker": {
             "colorbar": {
              "outlinewidth": 0,
              "ticks": ""
             }
            },
            "type": "scatterpolar"
           }
          ],
          "scatterpolargl": [
           {
            "marker": {
             "colorbar": {
              "outlinewidth": 0,
              "ticks": ""
             }
            },
            "type": "scatterpolargl"
           }
          ],
          "scatterternary": [
           {
            "marker": {
             "colorbar": {
              "outlinewidth": 0,
              "ticks": ""
             }
            },
            "type": "scatterternary"
           }
          ],
          "surface": [
           {
            "colorbar": {
             "outlinewidth": 0,
             "ticks": ""
            },
            "colorscale": [
             [
              0,
              "#0d0887"
             ],
             [
              0.1111111111111111,
              "#46039f"
             ],
             [
              0.2222222222222222,
              "#7201a8"
             ],
             [
              0.3333333333333333,
              "#9c179e"
             ],
             [
              0.4444444444444444,
              "#bd3786"
             ],
             [
              0.5555555555555556,
              "#d8576b"
             ],
             [
              0.6666666666666666,
              "#ed7953"
             ],
             [
              0.7777777777777778,
              "#fb9f3a"
             ],
             [
              0.8888888888888888,
              "#fdca26"
             ],
             [
              1,
              "#f0f921"
             ]
            ],
            "type": "surface"
           }
          ],
          "table": [
           {
            "cells": {
             "fill": {
              "color": "#EBF0F8"
             },
             "line": {
              "color": "white"
             }
            },
            "header": {
             "fill": {
              "color": "#C8D4E3"
             },
             "line": {
              "color": "white"
             }
            },
            "type": "table"
           }
          ]
         },
         "layout": {
          "annotationdefaults": {
           "arrowcolor": "#2a3f5f",
           "arrowhead": 0,
           "arrowwidth": 1
          },
          "autotypenumbers": "strict",
          "coloraxis": {
           "colorbar": {
            "outlinewidth": 0,
            "ticks": ""
           }
          },
          "colorscale": {
           "diverging": [
            [
             0,
             "#8e0152"
            ],
            [
             0.1,
             "#c51b7d"
            ],
            [
             0.2,
             "#de77ae"
            ],
            [
             0.3,
             "#f1b6da"
            ],
            [
             0.4,
             "#fde0ef"
            ],
            [
             0.5,
             "#f7f7f7"
            ],
            [
             0.6,
             "#e6f5d0"
            ],
            [
             0.7,
             "#b8e186"
            ],
            [
             0.8,
             "#7fbc41"
            ],
            [
             0.9,
             "#4d9221"
            ],
            [
             1,
             "#276419"
            ]
           ],
           "sequential": [
            [
             0,
             "#0d0887"
            ],
            [
             0.1111111111111111,
             "#46039f"
            ],
            [
             0.2222222222222222,
             "#7201a8"
            ],
            [
             0.3333333333333333,
             "#9c179e"
            ],
            [
             0.4444444444444444,
             "#bd3786"
            ],
            [
             0.5555555555555556,
             "#d8576b"
            ],
            [
             0.6666666666666666,
             "#ed7953"
            ],
            [
             0.7777777777777778,
             "#fb9f3a"
            ],
            [
             0.8888888888888888,
             "#fdca26"
            ],
            [
             1,
             "#f0f921"
            ]
           ],
           "sequentialminus": [
            [
             0,
             "#0d0887"
            ],
            [
             0.1111111111111111,
             "#46039f"
            ],
            [
             0.2222222222222222,
             "#7201a8"
            ],
            [
             0.3333333333333333,
             "#9c179e"
            ],
            [
             0.4444444444444444,
             "#bd3786"
            ],
            [
             0.5555555555555556,
             "#d8576b"
            ],
            [
             0.6666666666666666,
             "#ed7953"
            ],
            [
             0.7777777777777778,
             "#fb9f3a"
            ],
            [
             0.8888888888888888,
             "#fdca26"
            ],
            [
             1,
             "#f0f921"
            ]
           ]
          },
          "colorway": [
           "#636efa",
           "#EF553B",
           "#00cc96",
           "#ab63fa",
           "#FFA15A",
           "#19d3f3",
           "#FF6692",
           "#B6E880",
           "#FF97FF",
           "#FECB52"
          ],
          "font": {
           "color": "#2a3f5f"
          },
          "geo": {
           "bgcolor": "white",
           "lakecolor": "white",
           "landcolor": "#E5ECF6",
           "showlakes": true,
           "showland": true,
           "subunitcolor": "white"
          },
          "hoverlabel": {
           "align": "left"
          },
          "hovermode": "closest",
          "mapbox": {
           "style": "light"
          },
          "paper_bgcolor": "white",
          "plot_bgcolor": "#E5ECF6",
          "polar": {
           "angularaxis": {
            "gridcolor": "white",
            "linecolor": "white",
            "ticks": ""
           },
           "bgcolor": "#E5ECF6",
           "radialaxis": {
            "gridcolor": "white",
            "linecolor": "white",
            "ticks": ""
           }
          },
          "scene": {
           "xaxis": {
            "backgroundcolor": "#E5ECF6",
            "gridcolor": "white",
            "gridwidth": 2,
            "linecolor": "white",
            "showbackground": true,
            "ticks": "",
            "zerolinecolor": "white"
           },
           "yaxis": {
            "backgroundcolor": "#E5ECF6",
            "gridcolor": "white",
            "gridwidth": 2,
            "linecolor": "white",
            "showbackground": true,
            "ticks": "",
            "zerolinecolor": "white"
           },
           "zaxis": {
            "backgroundcolor": "#E5ECF6",
            "gridcolor": "white",
            "gridwidth": 2,
            "linecolor": "white",
            "showbackground": true,
            "ticks": "",
            "zerolinecolor": "white"
           }
          },
          "shapedefaults": {
           "line": {
            "color": "#2a3f5f"
           }
          },
          "ternary": {
           "aaxis": {
            "gridcolor": "white",
            "linecolor": "white",
            "ticks": ""
           },
           "baxis": {
            "gridcolor": "white",
            "linecolor": "white",
            "ticks": ""
           },
           "bgcolor": "#E5ECF6",
           "caxis": {
            "gridcolor": "white",
            "linecolor": "white",
            "ticks": ""
           }
          },
          "title": {
           "x": 0.05
          },
          "xaxis": {
           "automargin": true,
           "gridcolor": "white",
           "linecolor": "white",
           "ticks": "",
           "title": {
            "standoff": 15
           },
           "zerolinecolor": "white",
           "zerolinewidth": 2
          },
          "yaxis": {
           "automargin": true,
           "gridcolor": "white",
           "linecolor": "white",
           "ticks": "",
           "title": {
            "standoff": 15
           },
           "zerolinecolor": "white",
           "zerolinewidth": 2
          }
         }
        },
        "title": {
         "text": "Running Time Comparison: RLH vs Benchmark"
        },
        "xaxis": {
         "anchor": "y",
         "domain": [
          0,
          1
         ],
         "title": {
          "text": "RLH runtime (s)"
         }
        },
        "yaxis": {
         "anchor": "x",
         "domain": [
          0,
          1
         ],
         "title": {
          "text": "Benchmark runtime (s)"
         }
        }
       }
      },
      "text/html": [
       "<div>                            <div id=\"ac09c707-f1f8-456d-969e-2b25dc13539f\" class=\"plotly-graph-div\" style=\"height:525px; width:100%;\"></div>            <script type=\"text/javascript\">                require([\"plotly\"], function(Plotly) {                    window.PLOTLYENV=window.PLOTLYENV || {};                                    if (document.getElementById(\"ac09c707-f1f8-456d-969e-2b25dc13539f\")) {                    Plotly.newPlot(                        \"ac09c707-f1f8-456d-969e-2b25dc13539f\",                        [{\"hovertemplate\":\"capacity=1000000<br>RLH runtime (s)=%{x}<br>Benchmark runtime (s)=%{y}<extra></extra>\",\"legendgroup\":\"1000000\",\"marker\":{\"color\":\"#636efa\",\"symbol\":\"circle\"},\"mode\":\"markers\",\"name\":\"1000000\",\"orientation\":\"v\",\"showlegend\":true,\"x\":[0.00290679931640625,0.002460002899169922,0.0015492439270019531,0.00625920295715332,0.001787424087524414,0.0032231807708740234,0.004831790924072266,0.004216194152832031,0.004033088684082031,0.004272937774658203,0.002270936965942383,0.0047607421875,0.005157470703125,0.0023338794708251953,0.006397247314453125,0.0073740482330322266,0.00791478157043457,0.0034394264221191406,0.0023741722106933594,0.003529071807861328,0.0030829906463623047,0.00438690185546875,0.005376100540161133,0.005124092102050781,0.004723548889160156,0.0037813186645507812,0.003984689712524414,0.0039021968841552734,0.00270843505859375,0.004691600799560547,0.0030968189239501953,0.005249977111816406,0.0066797733306884766,0.004716396331787109,0.0060002803802490234,0.0025260448455810547,0.003935337066650391,0.003928184509277344,0.007921695709228516,0.002171754837036133,0.0016510486602783203,0.0050487518310546875,0.0063016414642333984,0.005677223205566406,0.004548311233520508,0.0050737857818603516,0.005942583084106445,0.0035736560821533203,0.005287647247314453,0.004970073699951172,0.0027375221252441406,0.003229856491088867,0.005902528762817383,0.005008697509765625,0.002106904983520508,0.004732608795166016,0.003442049026489258,0.0023391246795654297,0.006703853607177734,0.004787445068359375,0.0069959163665771484,0.00583958625793457,0.0021674633026123047,0.003589630126953125,0.0035157203674316406,0.0053751468658447266,0.005835294723510742,0.003119230270385742,0.0022134780883789062,0.003320455551147461,0.005038022994995117,0.0025763511657714844,0.003108501434326172,0.004459857940673828,0.004773855209350586,0.002731800079345703,0.0052869319915771484,0.003704071044921875,0.004022836685180664,0.00567936897277832,0.0029096603393554688,0.003905057907104492,0.0027649402618408203,0.002969980239868164,0.0032596588134765625,0.0032057762145996094,0.006157875061035156,0.002206087112426758,0.0037865638732910156,0.0025026798248291016,0.0033664703369140625,0.002033233642578125,0.004150390625,0.003218412399291992,0.006253480911254883,0.0047607421875,0.006206512451171875,0.003999233245849609,0.0028226375579833984,0.005821943283081055,0.002165079116821289,0.006215333938598633,0.002899646759033203,0.0017886161804199219,0.0016820430755615234,0.0052640438079833984,0.0051457881927490234,0.003199338912963867,0.0053865909576416016,0.0017588138580322266,0.004391670227050781,0.0031795501708984375,0.00667572021484375,0.0025818347930908203,0.003830432891845703,0.0069582462310791016,0.00527501106262207,0.003571033477783203,0.005084991455078125,0.006596565246582031,0.003680706024169922,0.008571624755859375,0.005424022674560547,0.003705739974975586,0.003239870071411133,0.005566596984863281,0.006562948226928711,0.004172801971435547,0.003089427947998047,0.005307197570800781,0.004966020584106445,0.003055095672607422,0.0035393238067626953,0.004474163055419922,0.002361297607421875,0.006015300750732422,0.003087282180786133,0.002834320068359375,0.0067059993743896484,0.006426334381103516,0.00484466552734375,0.006517648696899414,0.005341529846191406,0.002568960189819336,0.0020797252655029297,0.0050506591796875,0.005027055740356445,0.002141714096069336,0.002405881881713867,0.004632472991943359,0.005426168441772461,0.003139019012451172,0.007178544998168945,0.004039287567138672,0.0030357837677001953,0.0056993961334228516,0.004152774810791016,0.0034084320068359375,0.005524158477783203,0.004630327224731445,0.003748655319213867,0.003369569778442383,0.0030426979064941406,0.0031890869140625,0.00478816032409668,0.003926753997802734,0.0029036998748779297,0.003770589828491211,0.005434751510620117,0.005553245544433594,0.0031185150146484375,0.004755496978759766,0.012283563613891602,0.0043103694915771484,0.0031003952026367188,0.002801656723022461,0.0019795894622802734,0.00423121452331543,0.005784511566162109,0.003808736801147461,0.0022721290588378906,0.005253314971923828,0.003006458282470703,0.0032753944396972656,0.0045013427734375,0.005661964416503906,0.005430698394775391,0.004994869232177734,0.008147478103637695,0.0031843185424804688,0.003220081329345703,0.002453327178955078,0.005593299865722656,0.006837129592895508,0.006422281265258789,0.0028107166290283203,0.0032644271850585938,0.002182483673095703,0.006206512451171875,0.009624242782592773,0.0021424293518066406,0.0045013427734375,0.0025534629821777344,0.003190279006958008,0.0030629634857177734,0.004837512969970703,0.002460479736328125,0.00582432746887207,0.0027153491973876953,0.004119396209716797,0.005136966705322266,0.004845142364501953,0.0021958351135253906,0.0065343379974365234,0.001982450485229492],\"xaxis\":\"x\",\"y\":[0.1283490597270429,0.3699795198626816,0.30751154012978077,0.7479614983312786,1.9687984571792185,0.04670984158292413,0.0953848878853023,1.2648031180724502,0.056600996758788824,1.5406779390759766,0.31147581012919545,0.30037952587008476,1.8682597228325903,0.08297564182430506,0.14751654397696257,0.11547701898962259,2.025341906119138,0.88836889853701,0.14982555899769068,0.1212352910079062,0.23573816660791636,0.06597398407757282,0.09558599488809705,0.11338169593364,0.15617612982168794,0.6797341736964881,0.23167124902829528,0.43008622201159596,0.3725742669776082,0.11134976195171475,0.11287195142358541,0.08515805192291737,3.9183287168852985,0.12992822378873825,0.0817296551540494,0.2623479012399912,0.08565611531957984,0.14121482614427805,0.16421780502423644,0.18220060598105192,0.08023631712421775,0.08516696793958545,4.335681861732155,0.0520147061906755,3.9060473521240056,0.058082752861082554,0.055469742976129055,0.07089147623628378,0.1380107062868774,1.3764317110180855,0.04835558217018843,0.09505851892754436,0.24138285126537085,0.6881343373097479,1.061581299174577,0.07174081914126873,0.06503517413511872,0.0697361403144896,0.1265972349792719,0.7635295470245183,0.1498387842439115,0.16176537703722715,0.5333932307548821,0.13135508308187127,0.0996941146440804,0.5530771249905229,0.6595263741910458,0.15380661189556122,0.0581266232766211,0.08868685318157077,0.5479090330190957,0.12747659301385283,0.13583311904221773,1.2873762557283044,0.05837255995720625,0.3539545489475131,0.0941868731752038,0.06709322985261679,0.07744259992614388,0.06900368211790919,0.08267476689070463,0.0589388320222497,0.10164280189201236,0.2230122177861631,0.09615497710183263,0.9555043368600309,0.14699038909748197,0.7793175890110433,0.14727311581373215,0.38235044991597533,0.050455558113753796,0.0744082210585475,0.14674501726403832,0.08435902604833245,0.7128224419429898,1.7598604247905314,0.0884046908468008,0.1030046190135181,0.0927865020930767,0.16753165517002344,0.3857563966885209,3.0395407979376614,0.32286632899194956,0.39766045985743403,0.3697325331158936,1.8724959599785507,2.757529695983976,0.05728351417928934,0.04858856275677681,0.07232399610802531,0.2865446279756725,0.4286855002865195,0.6838619289919734,1.267927578650415,0.11210092715919018,0.5061839441768825,0.2981938919983804,0.9103111666627228,0.05942827183753252,0.10073471395298839,0.24032872775569558,3.3966277460567653,0.28300237702205777,0.7380531542003155,0.09681679820641875,0.3305749371647835,0.4399399934336543,0.14490512991324067,0.08910672506317496,0.28789556911215186,0.11091822385787964,0.5124708148650825,0.09667772892862558,0.06264918483793736,0.34345619613304734,0.08276128396391869,0.09768186369910836,0.0885259653441608,0.10213538724929094,0.12738428264856339,0.12159636616706848,0.13911163667216897,0.13886357424780726,0.08446922805160284,0.10545290634036064,0.18401029100641608,0.16716678300872445,0.524259916972369,0.11201291531324387,1.7098171659745276,0.21136449603363872,2.143467351794243,0.0946112647652626,0.06534971995279193,0.08935866272076964,0.21807297505438328,0.2934115952812135,0.1460557607933879,0.2637671451084316,1.9296683389693499,0.17902782885357738,1.2958814771845937,0.0539813251234591,0.4835106721147895,0.6924390001222491,0.19399143382906914,1.1166407000273466,0.18555146595463157,0.1493409089744091,0.27554955519735813,0.24508263589814305,0.7506236680783331,0.3859532787464559,0.2610596250742674,0.0815537991002202,0.3007086352445185,0.11006208695471287,0.14303658111020923,3.408891540952027,0.47805619379505515,0.17202445538714528,0.20523533364757895,1.2804715288802981,0.10189746879041195,0.16511486284434795,0.09909663302823901,0.13989921705797315,0.387980290222913,0.1605902137234807,1.3402729048393667,0.08922464586794376,0.14213005034253,0.170650330837816,0.5129603748209774,0.5653283502906561,0.06569594005122781,1.0256617977283895,0.11865166900679469,0.2305953032337129,0.1606599148362875,1.086773328948766,0.186926637776196,0.2659897147677839,1.031417769845575,0.38127053203061223,0.08183077117428184,0.5426725200377405,0.6378203211352229,0.050750235095620155,0.8716324339620769,0.1926848730072379,0.15526682790368795,0.04680816829204559,1.6733828452415764,0.08872795989736915],\"yaxis\":\"y\",\"type\":\"scatter\"},{\"hovertemplate\":\"capacity=10000000000<br>RLH runtime (s)=%{x}<br>Benchmark runtime (s)=%{y}<extra></extra>\",\"legendgroup\":\"10000000000\",\"marker\":{\"color\":\"#EF553B\",\"symbol\":\"circle\"},\"mode\":\"markers\",\"name\":\"10000000000\",\"orientation\":\"v\",\"showlegend\":true,\"x\":[0.004300594329833984,0.0034418106079101562,0.0042989253997802734,0.005081892013549805,0.00148773193359375,0.004800319671630859,0.0063533782958984375,0.0029914379119873047,0.0037381649017333984,0.0047397613525390625,0.002855539321899414,0.0077571868896484375,0.002583026885986328,0.0035774707794189453,0.007114887237548828,0.002560853958129883,0.004716157913208008,0.009398698806762695,0.0035772323608398438,0.0021209716796875,0.003671884536743164,0.006060600280761719,0.004316568374633789,0.003915548324584961,0.004462480545043945,0.007746219635009766,0.0014600753784179688,0.0024433135986328125,0.002210855484008789,0.005513668060302734,0.002083301544189453,0.0050907135009765625,0.003154277801513672,0.002478361129760742,0.003517627716064453,0.0038878917694091797,0.0035479068756103516,0.007562398910522461,0.006916046142578125,0.006944179534912109,0.0036640167236328125,0.004838466644287109,0.003284931182861328,0.002866983413696289,0.0053789615631103516,0.003688812255859375,0.005819797515869141,0.0019409656524658203,0.006624460220336914,0.002698183059692383,0.004908323287963867,0.008634567260742188,0.006507158279418945,0.0026886463165283203,0.0036003589630126953,0.002662181854248047,0.007970571517944336,0.003879547119140625,0.003876924514770508,0.003482341766357422,0.0030629634857177734,0.0050678253173828125,0.0039904117584228516,0.003447294235229492,0.004276275634765625,0.005815029144287109,0.004313230514526367,0.0020623207092285156,0.0034627914428710938,0.00812220573425293,0.0036416053771972656,0.0038247108459472656,0.006522417068481445,0.0018608570098876953,0.0025734901428222656,0.003110170364379883,0.003813505172729492,0.003755331039428711,0.003139019012451172,0.0022940635681152344,0.0036194324493408203,0.004540681838989258,0.0033462047576904297,0.0019915103912353516,0.006144285202026367,0.006016969680786133,0.005466938018798828,0.0032470226287841797,0.002890348434448242,0.001802206039428711,0.004928112030029297,0.0025773048400878906,0.004155397415161133,0.002599954605102539,0.0041484832763671875,0.004639625549316406,0.004057884216308594,0.004638195037841797,0.0026013851165771484,0.006063222885131836,0.003572702407836914,0.0023479461669921875,0.002620697021484375,0.0063784122467041016,0.003916740417480469,0.004893302917480469,0.0037071704864501953,0.0064239501953125,0.0032625198364257812,0.003826141357421875,0.0064432621002197266,0.0042917728424072266,0.0055048465728759766,0.006535053253173828,0.0020194053649902344,0.004965782165527344,0.0026171207427978516,0.004967927932739258,0.006220817565917969,0.001711130142211914,0.002313852310180664,0.0052068233489990234,0.004037380218505859,0.004271984100341797,0.006772279739379883,0.005589723587036133,0.005029916763305664,0.0036017894744873047,0.005620718002319336,0.004104137420654297,0.003602266311645508,0.004440784454345703,0.0025064945220947266,0.004084587097167969,0.0024449825286865234,0.0027937889099121094,0.0017561912536621094,0.0025243759155273438,0.006242275238037109,0.004183053970336914,0.006902456283569336,0.004277229309082031,0.0058019161224365234,0.004837512969970703,0.004035472869873047,0.004320383071899414,0.0033941268920898438,0.005057811737060547,0.0038552284240722656,0.0037758350372314453,0.002943754196166992,0.0018978118896484375,0.0018985271453857422,0.0040819644927978516,0.0045604705810546875,0.0018770694732666016,0.00431060791015625,0.0043146610260009766,0.0024857521057128906,0.006122112274169922,0.0020449161529541016,0.00763392448425293,0.002462148666381836,0.0055696964263916016,0.003505229949951172,0.0036401748657226562,0.002573728561401367,0.007565736770629883,0.004762887954711914,0.006825923919677734,0.0026597976684570312,0.0021975040435791016,0.0033731460571289062,0.002544403076171875,0.005590200424194336,0.005569934844970703,0.0047757625579833984,0.005398750305175781,0.006083488464355469,0.004090309143066406,0.0013148784637451172,0.0070972442626953125,0.004357099533081055,0.003525257110595703,0.005044460296630859,0.00506591796875,0.004048585891723633,0.0067446231842041016,0.0029408931732177734,0.004611492156982422,0.004737138748168945,0.003712892532348633,0.0029549598693847656,0.006277561187744141,0.0038497447967529297,0.0018169879913330078,0.0054416656494140625,0.00341796875,0.004363059997558594,0.003736734390258789,0.002319812774658203,0.005814790725708008,0.006888151168823242,0.001598358154296875,0.004914999008178711,0.005110502243041992,0.003790140151977539,0.003916025161743164,0.00482177734375,0.007057666778564453,0.00455164909362793,0.006790637969970703,0.0038738250732421875,0.00790715217590332,0.0028433799743652344,0.0037801265716552734,0.004645347595214844],\"xaxis\":\"x\",\"y\":[665.7181230159476,0.09887088509276509,8.421775731723756,27.523951928596944,0.9252389944158494,-1.0,-1.0,0.21049940586090088,0.15885753324255347,44.98514646291733,0.07715411670506,3179.211717486847,270.7703639212996,0.2967816572636366,0.2625774787738919,0.38540676375851035,742.3659349619411,140.37506997492164,0.09654421964660287,0.08121199393644929,17.10169578762725,15.103879185859114,1750.852646003943,0.20480202790349722,-1.0,1.7701743878424168,0.08117238571867347,-1.0,1.4980201153084636,-1.0,0.07185137970373034,3.2170819309540093,22.50019566062838,1.5757869370281696,-1.0,-1.0,1088.7535330741666,-1.0,129.63516422593966,-1.0,0.06891734339296818,0.152704366017133,-1.0,2.1679806248284876,1632.4040025551803,-1.0,-1.0,409.6106098019518,6.022175590042025,0.7504030391573906,0.5936192837543786,-1.0,-1.0,0.08172952616587281,-1.0,310.4887672131881,0.40670515689998865,38.89993436774239,12.46725331991911,0.13294175127521157,11.094695850741118,3801.790159319062,923.6699500409886,-1.0,1749.4933311808854,67.64664190495387,-1.0,3.286136443261057,292.7202517162077,217.3497472270392,0.1712676053866744,0.5279795099049807,-1.0,381.8473369469866,0.09105402696877718,744.2715320428833,64.25770614575595,48.06509365607053,-1.0,86.09083477361128,-1.0,0.14234382286667824,31.901190714910626,0.11772822868078947,0.5257353838533163,-1.0,0.14988696621730924,4.182379944715649,-1.0,0.11663086991757154,0.20075910026207566,0.10866099083796144,27.47170443739742,255.01407286990434,15.113032563123852,-1.0,0.1990839196369052,-1.0,0.44853813434019685,-1.0,0.32866474613547325,0.30934180226176977,0.08674272429198027,-1.0,-1.0,-1.0,-1.0,19.463730338029563,-1.0,1.0630471212789416,103.81156597984955,668.86199732963,-1.0,6.473968102131039,0.08464733604341745,0.4075420261360705,5.164181929081678,-1.0,-1.0,0.1371618011035025,1.6409578216262162,54.8408628241159,1.0341105591505766,-1.0,734.8629515930079,-1.0,80.46499932417646,0.10210825735703111,-1.0,-1.0,244.54741908283904,22.285956924315542,0.5686070709489286,32.11622695205733,6.547002809122205,61.05875976104289,214.9753070329316,0.10230065416544676,14.032104185782373,-1.0,97.9062873837538,0.6390911019407213,4.1861077467910945,0.30581947788596153,-1.0,-1.0,-1.0,0.43290822114795446,2331.2796493708156,0.07078322721645236,-1.0,0.3338993266224861,0.4770322027616203,-1.0,4795.614830589853,353.70852021779865,1.0900996993295848,0.32494105165824294,-1.0,-1.0,0.13893615314736962,0.3313574488274753,0.5735838976688683,0.4718516608700156,0.08535295492038131,0.15154952183365822,0.10195513814687729,0.49143030820414424,727.929265494924,-1.0,-1.0,7.3513428550213575,0.2881711539812386,7.471836664248258,4222.267329997849,-1.0,0.3964337180368602,9.1736611276865,-1.0,32.34895222913474,0.10819573421031237,-1.0,0.2094537396915257,1.5021766708232462,0.13737660367041826,0.11348396213725209,-1.0,-1.0,0.3672791398130357,8.569915269035846,571.3217549682595,42.21301052486524,0.5928181107155979,-1.0,356.8916901135817,-1.0,70.02802792331204,1.2761620236560702,130.50653707096353,380.82155084004626,0.4026362388394773,-1.0,4247.3501537060365,0.10781234595924616,0.17598197190091014,0.12514308607205749,1083.0975810969248,20.73792195599526,-1.0,-1.0,0.18812071392312646,-1.0,-1.0,0.6321957358159125,2.8964731018058956,-1.0,17.569615630898625],\"yaxis\":\"y\",\"type\":\"scatter\"},{\"hovertemplate\":\"capacity=100000000<br>RLH runtime (s)=%{x}<br>Benchmark runtime (s)=%{y}<extra></extra>\",\"legendgroup\":\"100000000\",\"marker\":{\"color\":\"#00cc96\",\"symbol\":\"circle\"},\"mode\":\"markers\",\"name\":\"100000000\",\"orientation\":\"v\",\"showlegend\":true,\"x\":[0.003327608108520508,0.0051882266998291016,0.0036725997924804688,0.0022690296173095703,0.00673222541809082,0.007085323333740234,0.006735324859619141,0.002645254135131836,0.0059697628021240234,0.0037708282470703125,0.00222015380859375,0.00421905517578125,0.006293058395385742,0.004241228103637695,0.0067920684814453125,0.006642818450927734,0.006224632263183594,0.004840850830078125,0.0048143863677978516,0.004343986511230469,0.00633549690246582,0.0029544830322265625,0.0019266605377197266,0.005350351333618164,0.007518768310546875,0.004797697067260742,0.006023883819580078,0.004146575927734375,0.00379180908203125,0.00494074821472168,0.006833076477050781,0.006278038024902344,0.006134986877441406,0.003999233245849609,0.006719350814819336,0.0050580501556396484,0.004082679748535156,0.006936073303222656,0.003196239471435547,0.0038378238677978516,0.0024232864379882812,0.0064966678619384766,0.0037620067596435547,0.0036802291870117188,0.0025577545166015625,0.0055599212646484375,0.007982015609741211,0.0048487186431884766,0.006174564361572266,0.0034646987915039062,0.002639293670654297,0.0048749446868896484,0.005039691925048828,0.0052068233489990234,0.0026335716247558594,0.0030431747436523438,0.00899362564086914,0.00552678108215332,0.004540920257568359,0.005772829055786133,0.006266117095947266,0.0040283203125,0.0033674240112304688,0.00455164909362793,0.002919435501098633,0.005490303039550781,0.0027778148651123047,0.0019884109497070312,0.0022056102752685547,0.004012346267700195,0.0018000602722167969,0.0038230419158935547,0.0023026466369628906,0.005232095718383789,0.0022568702697753906,0.0024993419647216797,0.0023870468139648438,0.005318164825439453,0.0057201385498046875,0.0029358863830566406,0.005766868591308594,0.004131793975830078,0.006990194320678711,0.0053713321685791016,0.006876707077026367,0.006537675857543945,0.004492998123168945,0.0050432682037353516,0.0035696029663085938,0.003569364547729492,0.0037331581115722656,0.004588127136230469,0.0041561126708984375,0.003195524215698242,0.0021347999572753906,0.003171205520629883,0.003144979476928711,0.0026602745056152344,0.0021784305572509766,0.003509521484375,0.0033044815063476562,0.0029997825622558594,0.0026085376739501953,0.005425930023193359,0.004948139190673828,0.0029413700103759766,0.00687718391418457,0.006032466888427734,0.0023505687713623047,0.0024557113647460938,0.004833698272705078,0.004543781280517578,0.006699562072753906,0.003050088882446289,0.0034160614013671875,0.00718379020690918,0.002341032028198242,0.006201267242431641,0.004953861236572266,0.0032711029052734375,0.007203578948974609,0.004744529724121094,0.005694389343261719,0.0027365684509277344,0.0049631595611572266,0.0033469200134277344,0.005204200744628906,0.003419637680053711,0.003503561019897461,0.002251148223876953,0.001827239990234375,0.0025649070739746094,0.0027086734771728516,0.002748250961303711,0.005399227142333984,0.005704164505004883,0.004828453063964844,0.0051631927490234375,0.0056836605072021484,0.0050623416900634766,0.007535219192504883,0.006151676177978516,0.0033245086669921875,0.004344463348388672,0.00534820556640625,0.007135152816772461,0.006958723068237305,0.005848407745361328,0.0033643245697021484,0.001703500747680664,0.004469633102416992,0.004300117492675781,0.00522160530090332,0.008191585540771484,0.0036787986755371094,0.0059642791748046875,0.002228260040283203,0.0016491413116455078,0.008150339126586914,0.0038704872131347656,0.0060389041900634766,0.002991199493408203,0.007382392883300781,0.005316257476806641,0.006532907485961914,0.003226041793823242,0.005710124969482422,0.006037235260009766,0.003610372543334961,0.005914211273193359,0.0029795169830322266,0.002131223678588867,0.006691694259643555,0.004485607147216797,0.0027010440826416016,0.006455421447753906,0.006343364715576172,0.002305746078491211,0.0054013729095458984,0.0057909488677978516,0.0040435791015625,0.0027647018432617188,0.005159854888916016,0.002018451690673828,0.0025377273559570312,0.00281524658203125,0.0064923763275146484,0.002282381057739258,0.0054280757904052734,0.0043566226959228516,0.005467653274536133,0.004049777984619141,0.005356550216674805,0.0018978118896484375,0.0031414031982421875,0.0027930736541748047,0.004827737808227539,0.004173755645751953,0.0031690597534179688,0.005258083343505859,0.0022547245025634766,0.0052356719970703125,0.0025963783264160156,0.0023488998413085938,0.003374338150024414,0.004288196563720703,0.0053675174713134766,0.003368854522705078,0.0024094581604003906,0.005649089813232422,0.002240419387817383,0.007608652114868164,0.005076408386230469,0.002015352249145508,0.0038945674896240234,0.0028684139251708984],\"xaxis\":\"x\",\"y\":[6.501695905812085,0.3222069521434605,6.7526482050307095,0.13615530310198665,2.7102616541087627,0.25441008107736707,5.4372137929312885,0.727737327106297,0.8167994949035347,6.106838375795633,32.95350540895015,19.778020833153278,1.8841147739440203,5.8245226186700165,57.51357611082494,4.704614891204983,0.12155316304415464,0.14762652339413762,2.43273911671713,12.31981504894793,105.72522421972826,9.956473984755576,0.2818633313290775,28.29503798764199,21.305415051989257,100.69501660205424,183.61380206001922,4.152780852746218,5.327855336945504,0.17572374269366264,1.0722209266386926,0.26596442284062505,0.6952654388733208,10.71165905194357,0.3516879677772522,0.5465386710129678,1.1910961251705885,25.267197722103447,0.29104214534163475,7.683486397843808,6.242555759847164,0.3760490342974663,0.17132122768089175,20.064610183704644,99.1311334031634,0.44755211379379034,1.2226225761696696,11.640775128733367,22.69404275296256,10.142891308292747,0.24813235783949494,4.05670553073287,17.417791923042387,0.9572873492725194,12.864477120805532,16.324695742689073,519.7826424231753,0.13956101285293698,18.684324702247977,0.13033073069527745,117.54893498960882,0.07640520110726357,26.167166073340923,59.06497458508238,0.18510482367128134,21.783371079713106,1.7625596160069108,1.2184847369790077,5.523550167214125,100.6737245619297,0.4142241198569536,2.214301645755768,0.1409246060065925,135.07618864206597,2.577240774873644,89.5030542188324,14.482402653899044,0.6101934812031686,6.006824162788689,11.65220602415502,14.802361180074513,2.6507056173868477,16.647351175080985,11.324417163152248,8.455948081798851,29.870053806342185,6.991185993887484,0.28443040885031223,0.10499732894822955,0.14014248037710786,443.0661328500137,3.739554594270885,34.64316280791536,0.12283306615427136,2.936867273878306,0.7279669349081814,0.28288118820637465,0.8413127949461341,54.2070202678442,3.2861056439578533,30.47157552698627,0.8780071311630309,0.16098604910075665,13.24954836582765,0.8743605986237526,0.1319700567983091,32.37495161406696,9.020980365108699,1.314687476027757,0.07927412632852793,42.370074471924454,1.987068757880479,8.64005252206698,0.131827755831182,1.4428152991458774,57.75418775063008,0.36176568409428,11.485418105963618,0.3019982371479273,1.2572102318517864,0.5116725475527346,0.8006878257729113,0.10745236510410905,0.0732508129440248,4.66099944896996,3.3658519238233566,0.17614062689244747,3.7979836580343544,449.86925099324435,6.100019908044487,1.0604143501259387,5.159553344827145,6.704408490099013,0.132452588994056,8.695888641290367,13.244205964263529,8.764365495648235,0.19331151992082596,0.7545822360552847,12.851955879945308,33.36638598097488,0.13127965619787574,0.19772556331008673,0.13090092921629548,14.349664278328419,220.767750215251,0.777247809804976,28.836409457027912,8.794172472786158,0.173971357755363,0.37171984277665615,10.30470387917012,294.0785668059252,11.779963232111186,0.2054279437288642,1.7309648082591593,14.139612942934036,0.114125472959131,0.38391411723569036,121.54652801388875,113.71072406740859,8.038120630662888,42.00753215700388,0.2817643480375409,16.54042602237314,30.635824392084032,15.138315801043063,39.593116350937635,6.194542936980724,204.65458439989015,66.06998629914597,0.17378676030784845,0.19991881400346756,402.1474118013866,3.3650958528742194,9.488141495734453,0.7511400142684579,7.256041570100933,17.70652956608683,0.3142527141608298,2.970889976248145,2.0232051932252944,49.92523948615417,0.12385380920022726,7.579833896830678,3.150415705051273,16.609740814659745,0.10692862374708056,164.2635983498767,0.13474217429757118,53.47951271105558,0.06472842395305634,3.9412646521814167,0.405388989020139,10.881366203073412,0.14572731778025627,0.1056434684433043,2.631315228063613,3.947102737147361,0.2703584716655314,1.672149517107755,43.45842937612906,1.7338966587558389,0.16140813287347555,2.3866120502352715,0.6146673979237676,10.988220448140055,0.2390362611040473,0.4592987638898194,17.271908645983785,9.437810693867505,16.496684942860156,168.58910918561742,0.07159348484128714,3.0244982661679387,0.20611050678417087],\"yaxis\":\"y\",\"type\":\"scatter\"}],                        {\"template\":{\"data\":{\"histogram2dcontour\":[{\"type\":\"histogram2dcontour\",\"colorbar\":{\"outlinewidth\":0,\"ticks\":\"\"},\"colorscale\":[[0.0,\"#0d0887\"],[0.1111111111111111,\"#46039f\"],[0.2222222222222222,\"#7201a8\"],[0.3333333333333333,\"#9c179e\"],[0.4444444444444444,\"#bd3786\"],[0.5555555555555556,\"#d8576b\"],[0.6666666666666666,\"#ed7953\"],[0.7777777777777778,\"#fb9f3a\"],[0.8888888888888888,\"#fdca26\"],[1.0,\"#f0f921\"]]}],\"choropleth\":[{\"type\":\"choropleth\",\"colorbar\":{\"outlinewidth\":0,\"ticks\":\"\"}}],\"histogram2d\":[{\"type\":\"histogram2d\",\"colorbar\":{\"outlinewidth\":0,\"ticks\":\"\"},\"colorscale\":[[0.0,\"#0d0887\"],[0.1111111111111111,\"#46039f\"],[0.2222222222222222,\"#7201a8\"],[0.3333333333333333,\"#9c179e\"],[0.4444444444444444,\"#bd3786\"],[0.5555555555555556,\"#d8576b\"],[0.6666666666666666,\"#ed7953\"],[0.7777777777777778,\"#fb9f3a\"],[0.8888888888888888,\"#fdca26\"],[1.0,\"#f0f921\"]]}],\"heatmap\":[{\"type\":\"heatmap\",\"colorbar\":{\"outlinewidth\":0,\"ticks\":\"\"},\"colorscale\":[[0.0,\"#0d0887\"],[0.1111111111111111,\"#46039f\"],[0.2222222222222222,\"#7201a8\"],[0.3333333333333333,\"#9c179e\"],[0.4444444444444444,\"#bd3786\"],[0.5555555555555556,\"#d8576b\"],[0.6666666666666666,\"#ed7953\"],[0.7777777777777778,\"#fb9f3a\"],[0.8888888888888888,\"#fdca26\"],[1.0,\"#f0f921\"]]}],\"heatmapgl\":[{\"type\":\"heatmapgl\",\"colorbar\":{\"outlinewidth\":0,\"ticks\":\"\"},\"colorscale\":[[0.0,\"#0d0887\"],[0.1111111111111111,\"#46039f\"],[0.2222222222222222,\"#7201a8\"],[0.3333333333333333,\"#9c179e\"],[0.4444444444444444,\"#bd3786\"],[0.5555555555555556,\"#d8576b\"],[0.6666666666666666,\"#ed7953\"],[0.7777777777777778,\"#fb9f3a\"],[0.8888888888888888,\"#fdca26\"],[1.0,\"#f0f921\"]]}],\"contourcarpet\":[{\"type\":\"contourcarpet\",\"colorbar\":{\"outlinewidth\":0,\"ticks\":\"\"}}],\"contour\":[{\"type\":\"contour\",\"colorbar\":{\"outlinewidth\":0,\"ticks\":\"\"},\"colorscale\":[[0.0,\"#0d0887\"],[0.1111111111111111,\"#46039f\"],[0.2222222222222222,\"#7201a8\"],[0.3333333333333333,\"#9c179e\"],[0.4444444444444444,\"#bd3786\"],[0.5555555555555556,\"#d8576b\"],[0.6666666666666666,\"#ed7953\"],[0.7777777777777778,\"#fb9f3a\"],[0.8888888888888888,\"#fdca26\"],[1.0,\"#f0f921\"]]}],\"surface\":[{\"type\":\"surface\",\"colorbar\":{\"outlinewidth\":0,\"ticks\":\"\"},\"colorscale\":[[0.0,\"#0d0887\"],[0.1111111111111111,\"#46039f\"],[0.2222222222222222,\"#7201a8\"],[0.3333333333333333,\"#9c179e\"],[0.4444444444444444,\"#bd3786\"],[0.5555555555555556,\"#d8576b\"],[0.6666666666666666,\"#ed7953\"],[0.7777777777777778,\"#fb9f3a\"],[0.8888888888888888,\"#fdca26\"],[1.0,\"#f0f921\"]]}],\"mesh3d\":[{\"type\":\"mesh3d\",\"colorbar\":{\"outlinewidth\":0,\"ticks\":\"\"}}],\"scatter\":[{\"fillpattern\":{\"fillmode\":\"overlay\",\"size\":10,\"solidity\":0.2},\"type\":\"scatter\"}],\"parcoords\":[{\"type\":\"parcoords\",\"line\":{\"colorbar\":{\"outlinewidth\":0,\"ticks\":\"\"}}}],\"scatterpolargl\":[{\"type\":\"scatterpolargl\",\"marker\":{\"colorbar\":{\"outlinewidth\":0,\"ticks\":\"\"}}}],\"bar\":[{\"error_x\":{\"color\":\"#2a3f5f\"},\"error_y\":{\"color\":\"#2a3f5f\"},\"marker\":{\"line\":{\"color\":\"#E5ECF6\",\"width\":0.5},\"pattern\":{\"fillmode\":\"overlay\",\"size\":10,\"solidity\":0.2}},\"type\":\"bar\"}],\"scattergeo\":[{\"type\":\"scattergeo\",\"marker\":{\"colorbar\":{\"outlinewidth\":0,\"ticks\":\"\"}}}],\"scatterpolar\":[{\"type\":\"scatterpolar\",\"marker\":{\"colorbar\":{\"outlinewidth\":0,\"ticks\":\"\"}}}],\"histogram\":[{\"marker\":{\"pattern\":{\"fillmode\":\"overlay\",\"size\":10,\"solidity\":0.2}},\"type\":\"histogram\"}],\"scattergl\":[{\"type\":\"scattergl\",\"marker\":{\"colorbar\":{\"outlinewidth\":0,\"ticks\":\"\"}}}],\"scatter3d\":[{\"type\":\"scatter3d\",\"line\":{\"colorbar\":{\"outlinewidth\":0,\"ticks\":\"\"}},\"marker\":{\"colorbar\":{\"outlinewidth\":0,\"ticks\":\"\"}}}],\"scattermapbox\":[{\"type\":\"scattermapbox\",\"marker\":{\"colorbar\":{\"outlinewidth\":0,\"ticks\":\"\"}}}],\"scatterternary\":[{\"type\":\"scatterternary\",\"marker\":{\"colorbar\":{\"outlinewidth\":0,\"ticks\":\"\"}}}],\"scattercarpet\":[{\"type\":\"scattercarpet\",\"marker\":{\"colorbar\":{\"outlinewidth\":0,\"ticks\":\"\"}}}],\"carpet\":[{\"aaxis\":{\"endlinecolor\":\"#2a3f5f\",\"gridcolor\":\"white\",\"linecolor\":\"white\",\"minorgridcolor\":\"white\",\"startlinecolor\":\"#2a3f5f\"},\"baxis\":{\"endlinecolor\":\"#2a3f5f\",\"gridcolor\":\"white\",\"linecolor\":\"white\",\"minorgridcolor\":\"white\",\"startlinecolor\":\"#2a3f5f\"},\"type\":\"carpet\"}],\"table\":[{\"cells\":{\"fill\":{\"color\":\"#EBF0F8\"},\"line\":{\"color\":\"white\"}},\"header\":{\"fill\":{\"color\":\"#C8D4E3\"},\"line\":{\"color\":\"white\"}},\"type\":\"table\"}],\"barpolar\":[{\"marker\":{\"line\":{\"color\":\"#E5ECF6\",\"width\":0.5},\"pattern\":{\"fillmode\":\"overlay\",\"size\":10,\"solidity\":0.2}},\"type\":\"barpolar\"}],\"pie\":[{\"automargin\":true,\"type\":\"pie\"}]},\"layout\":{\"autotypenumbers\":\"strict\",\"colorway\":[\"#636efa\",\"#EF553B\",\"#00cc96\",\"#ab63fa\",\"#FFA15A\",\"#19d3f3\",\"#FF6692\",\"#B6E880\",\"#FF97FF\",\"#FECB52\"],\"font\":{\"color\":\"#2a3f5f\"},\"hovermode\":\"closest\",\"hoverlabel\":{\"align\":\"left\"},\"paper_bgcolor\":\"white\",\"plot_bgcolor\":\"#E5ECF6\",\"polar\":{\"bgcolor\":\"#E5ECF6\",\"angularaxis\":{\"gridcolor\":\"white\",\"linecolor\":\"white\",\"ticks\":\"\"},\"radialaxis\":{\"gridcolor\":\"white\",\"linecolor\":\"white\",\"ticks\":\"\"}},\"ternary\":{\"bgcolor\":\"#E5ECF6\",\"aaxis\":{\"gridcolor\":\"white\",\"linecolor\":\"white\",\"ticks\":\"\"},\"baxis\":{\"gridcolor\":\"white\",\"linecolor\":\"white\",\"ticks\":\"\"},\"caxis\":{\"gridcolor\":\"white\",\"linecolor\":\"white\",\"ticks\":\"\"}},\"coloraxis\":{\"colorbar\":{\"outlinewidth\":0,\"ticks\":\"\"}},\"colorscale\":{\"sequential\":[[0.0,\"#0d0887\"],[0.1111111111111111,\"#46039f\"],[0.2222222222222222,\"#7201a8\"],[0.3333333333333333,\"#9c179e\"],[0.4444444444444444,\"#bd3786\"],[0.5555555555555556,\"#d8576b\"],[0.6666666666666666,\"#ed7953\"],[0.7777777777777778,\"#fb9f3a\"],[0.8888888888888888,\"#fdca26\"],[1.0,\"#f0f921\"]],\"sequentialminus\":[[0.0,\"#0d0887\"],[0.1111111111111111,\"#46039f\"],[0.2222222222222222,\"#7201a8\"],[0.3333333333333333,\"#9c179e\"],[0.4444444444444444,\"#bd3786\"],[0.5555555555555556,\"#d8576b\"],[0.6666666666666666,\"#ed7953\"],[0.7777777777777778,\"#fb9f3a\"],[0.8888888888888888,\"#fdca26\"],[1.0,\"#f0f921\"]],\"diverging\":[[0,\"#8e0152\"],[0.1,\"#c51b7d\"],[0.2,\"#de77ae\"],[0.3,\"#f1b6da\"],[0.4,\"#fde0ef\"],[0.5,\"#f7f7f7\"],[0.6,\"#e6f5d0\"],[0.7,\"#b8e186\"],[0.8,\"#7fbc41\"],[0.9,\"#4d9221\"],[1,\"#276419\"]]},\"xaxis\":{\"gridcolor\":\"white\",\"linecolor\":\"white\",\"ticks\":\"\",\"title\":{\"standoff\":15},\"zerolinecolor\":\"white\",\"automargin\":true,\"zerolinewidth\":2},\"yaxis\":{\"gridcolor\":\"white\",\"linecolor\":\"white\",\"ticks\":\"\",\"title\":{\"standoff\":15},\"zerolinecolor\":\"white\",\"automargin\":true,\"zerolinewidth\":2},\"scene\":{\"xaxis\":{\"backgroundcolor\":\"#E5ECF6\",\"gridcolor\":\"white\",\"linecolor\":\"white\",\"showbackground\":true,\"ticks\":\"\",\"zerolinecolor\":\"white\",\"gridwidth\":2},\"yaxis\":{\"backgroundcolor\":\"#E5ECF6\",\"gridcolor\":\"white\",\"linecolor\":\"white\",\"showbackground\":true,\"ticks\":\"\",\"zerolinecolor\":\"white\",\"gridwidth\":2},\"zaxis\":{\"backgroundcolor\":\"#E5ECF6\",\"gridcolor\":\"white\",\"linecolor\":\"white\",\"showbackground\":true,\"ticks\":\"\",\"zerolinecolor\":\"white\",\"gridwidth\":2}},\"shapedefaults\":{\"line\":{\"color\":\"#2a3f5f\"}},\"annotationdefaults\":{\"arrowcolor\":\"#2a3f5f\",\"arrowhead\":0,\"arrowwidth\":1},\"geo\":{\"bgcolor\":\"white\",\"landcolor\":\"#E5ECF6\",\"subunitcolor\":\"white\",\"showland\":true,\"showlakes\":true,\"lakecolor\":\"white\"},\"title\":{\"x\":0.05},\"mapbox\":{\"style\":\"light\"}}},\"xaxis\":{\"anchor\":\"y\",\"domain\":[0.0,1.0],\"title\":{\"text\":\"RLH runtime (s)\"}},\"yaxis\":{\"anchor\":\"x\",\"domain\":[0.0,1.0],\"title\":{\"text\":\"Benchmark runtime (s)\"}},\"legend\":{\"title\":{\"text\":\"capacity\"},\"tracegroupgap\":0},\"title\":{\"text\":\"Running Time Comparison: RLH vs Benchmark\"}},                        {\"responsive\": true}                    ).then(function(){\n",
       "                            \n",
       "var gd = document.getElementById('ac09c707-f1f8-456d-969e-2b25dc13539f');\n",
       "var x = new MutationObserver(function (mutations, observer) {{\n",
       "        var display = window.getComputedStyle(gd).display;\n",
       "        if (!display || display === 'none') {{\n",
       "            console.log([gd, 'removed!']);\n",
       "            Plotly.purge(gd);\n",
       "            observer.disconnect();\n",
       "        }}\n",
       "}});\n",
       "\n",
       "// Listen for the removal of the full notebook cells\n",
       "var notebookContainer = gd.closest('#notebook-container');\n",
       "if (notebookContainer) {{\n",
       "    x.observe(notebookContainer, {childList: true});\n",
       "}}\n",
       "\n",
       "// Listen for the clearing of the current output cell\n",
       "var outputEl = gd.closest('.output');\n",
       "if (outputEl) {{\n",
       "    x.observe(outputEl, {childList: true});\n",
       "}}\n",
       "\n",
       "                        })                };                });            </script>        </div>"
      ]
     },
     "metadata": {},
     "output_type": "display_data"
    }
   ],
   "source": [
    "scatterPlotDF = testSummary[['instanceName', 'optimumRuntime', 'runtime', 'n', 'c']]\n",
    "scatterPlotDF = scatterPlotDF.rename(columns = {'optimumRuntime': 'Benchmark runtime (s)', 'runtime': 'RLH runtime (s)', 'c': 'capacity'})\n",
    "fig = px.scatter(scatterPlotDF, x = 'RLH runtime (s)', y = 'Benchmark runtime (s)', color = 'capacity', title = 'Running Time Comparison: RLH vs Benchmark')\n",
    "\n",
    "fileTemplate = \"../plots/{}/runningTimeComparison.{}\"\n",
    "# fig.write_image(fileTemplate.format(\"png\",\"png\"))\n",
    "fig.write_html(fileTemplate.format(\"html\",\"html\"), full_html=True, include_plotlyjs='cdn')\n",
    "fig"
   ]
  }
 ],
 "metadata": {
  "kernelspec": {
   "display_name": "Python 3.8.10 ('venv': venv)",
   "language": "python",
   "name": "python3"
  },
  "language_info": {
   "codemirror_mode": {
    "name": "ipython",
    "version": 3
   },
   "file_extension": ".py",
   "mimetype": "text/x-python",
   "name": "python",
   "nbconvert_exporter": "python",
   "pygments_lexer": "ipython3",
   "version": "3.8.10"
  },
  "orig_nbformat": 4,
  "vscode": {
   "interpreter": {
    "hash": "7ce6afdbdfadc31a5624df2c0601c464734632445bf6d123e406bff26ad0915a"
   }
  }
 },
 "nbformat": 4,
 "nbformat_minor": 2
}
