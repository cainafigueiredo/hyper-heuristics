{
 "cells": [
  {
   "cell_type": "markdown",
   "metadata": {},
   "source": [
    "To run this notebook using the project venv, you will need to install the jupyter into it. After activate your venv, run the commands below:\n",
    "\n",
    "```bash\n",
    "$ (venv) pip3 install jupyter\n",
    "$ (venv) ipython kernel install --name \"hyperheuristics-venv\" --user\n",
    "```\n",
    "\n",
    "Next, just restart your Jupyter and change the kernel that your Jupyter notebook is using (if you are running it into VSCode, the kernel is located in the top right corner). "
   ]
  },
  {
   "cell_type": "code",
   "execution_count": 1,
   "metadata": {},
   "outputs": [],
   "source": [
    "%load_ext autoreload\n",
    "%autoreload 2"
   ]
  },
  {
   "cell_type": "code",
   "execution_count": 2,
   "metadata": {},
   "outputs": [],
   "source": [
    "import sys\n",
    "sys.path.append('..')\n",
    "\n",
    "import numpy as np\n",
    "import yaml\n",
    "import os\n",
    "\n",
    "from typing import Text, Dict\n",
    "\n",
    "from src.hyperHeuristics import HyperHeuristic\n",
    "from utils.generator.knapsackInstanceGenerator import generateKnapsackInstance"
   ]
  },
  {
   "cell_type": "code",
   "execution_count": 3,
   "metadata": {},
   "outputs": [],
   "source": [
    "# Data path\n",
    "DATA_PATH = \"../data\"\n",
    "os.makedirs(DATA_PATH, exist_ok = True)"
   ]
  },
  {
   "cell_type": "code",
   "execution_count": 9,
   "metadata": {},
   "outputs": [],
   "source": [
    "config = yaml.load(open('experimentConfig.yaml'), yaml.Loader)\n",
    "stages = config['stages']\n",
    "firstStages = np.array(stages['firstStage'])\n",
    "secondStages = np.array(stages['secondStage'])\n",
    "thirdStages = np.array(stages['thirdStage'])\n",
    "params = config['params']"
   ]
  },
  {
   "cell_type": "code",
   "execution_count": 5,
   "metadata": {},
   "outputs": [],
   "source": [
    "def getRandomStageParams(stage: Text) -> Dict:\n",
    "    stageParams = params[stage]\n",
    "    \n",
    "    sortedParams = {param: values[int(np.random.rand() * len(values))] for param, values in stageParams.items()}\n",
    "    return sortedParams"
   ]
  },
  {
   "cell_type": "code",
   "execution_count": 6,
   "metadata": {},
   "outputs": [],
   "source": [
    "def getRandomThreeStagesPipeline(\n",
    "        firstStageCandidates: np.array, \n",
    "        secondStageCandidates: np.array, \n",
    "        thirdStageCandidates: np.array\n",
    "    ) -> HyperHeuristic:\n",
    "    \n",
    "    hyperheuristic = HyperHeuristic()\n",
    "    lowLevelFunctions = hyperheuristic.getAvailableLowLevelHeuristics()\n",
    "\n",
    "    # Sort first stage\n",
    "    firstStage = np.random.choice(firstStageCandidates, 1)[0]\n",
    "    firstStageParams = getRandomStageParams(firstStage)\n",
    "\n",
    "    firstStageCandidates = firstStageCandidates[firstStageCandidates != firstStage]\n",
    "    thirdStageCandidates = thirdStageCandidates[thirdStageCandidates != firstStage]\n",
    "\n",
    "    # Sort second stage\n",
    "    secondStage = np.random.choice(secondStageCandidates, 1)[0]\n",
    "    secondStageParams = getRandomStageParams(secondStage)\n",
    "\n",
    "    thirdStageCandidates = thirdStageCandidates[thirdStageCandidates != secondStage]\n",
    "\n",
    "    # Sort third stage\n",
    "    thirdStage = np.random.choice(thirdStageCandidates, 1)[0]\n",
    "    thirdStageParams = getRandomStageParams(thirdStage)\n",
    "\n",
    "    stages = [\n",
    "        {\n",
    "            \"name\": firstStage,\n",
    "            \"callback\": lowLevelFunctions[firstStage],\n",
    "            \"inputSchema\": ['problemInstance'],\n",
    "            \"outputSchema\": ['problemInstance', 'solution'],\n",
    "            \"params\": firstStageParams\n",
    "        },\n",
    "        {\n",
    "            \"name\": secondStage,\n",
    "            \"callback\": lowLevelFunctions[secondStage],\n",
    "            \"inputSchema\": ['problemInstance','solution'],\n",
    "            \"outputSchema\": ['problemInstance', 'solution'],\n",
    "            \"params\": secondStageParams\n",
    "        },\n",
    "        {\n",
    "            \"name\": thirdStage,\n",
    "            \"callback\": lowLevelFunctions[thirdStage],\n",
    "            \"inputSchema\": ['problemInstance','solution'],\n",
    "            \"outputSchema\": ['problemInstance', 'solution'],\n",
    "            \"params\": thirdStageParams\n",
    "        },\n",
    "    ]\n",
    "\n",
    "    hyperheuristic.addHyperHeuristicComponentsFromDict(stages)\n",
    "\n",
    "    print(\" -> \".join(hyperheuristic.getStagesNames()))\n",
    "\n",
    "    return hyperheuristic"
   ]
  },
  {
   "cell_type": "code",
   "execution_count": 7,
   "metadata": {},
   "outputs": [],
   "source": [
    "def storeCompositionData(stage):\n",
    "    name = stage.name\n",
    "    params = stage.params\n",
    "    solution = stage.output['problemInstance'].solution\n",
    "    solutionFO = stage.output['problemInstance'].objective(isMinimizing = False)\n",
    "    processTime = stage.processTime\n",
    "    print(name)\n",
    "    print(params)\n",
    "    print(solution)\n",
    "    print(solutionFO)\n",
    "    print(processTime)\n",
    "    print(\"\")"
   ]
  },
  {
   "cell_type": "code",
   "execution_count": null,
   "metadata": {},
   "outputs": [],
   "source": [
    "for i in range(100): \n",
    "    instancePath = f\"{DATA_PATH}/instance_{i}.txt\"\n",
    "    instance = generateKnapsackInstance(10,50,2,7,100,900,10,90,instancePath)\n",
    "    print(\"Best FO for instance %d: %d\"%(i, instance.objective(isMinimizing = False)))\n",
    "    for j in range(10):\n",
    "        composition = getRandomThreeStagesPipeline(firstStages, secondStages, thirdStages)\n",
    "        composition.getSolution(instance, storeCompositionData)"
   ]
  }
 ],
 "metadata": {
  "kernelspec": {
   "display_name": "Python 3.8.10 64-bit ('3.8.10')",
   "language": "python",
   "name": "python3"
  },
  "language_info": {
   "codemirror_mode": {
    "name": "ipython",
    "version": 3
   },
   "file_extension": ".py",
   "mimetype": "text/x-python",
   "name": "python",
   "nbconvert_exporter": "python",
   "pygments_lexer": "ipython3",
   "version": "3.8.10"
  },
  "orig_nbformat": 4,
  "vscode": {
   "interpreter": {
    "hash": "3c63be5f36aa40bcd9b704cb5dad604342ae3fccae956dcf3177294eedf73856"
   }
  }
 },
 "nbformat": 4,
 "nbformat_minor": 2
}
