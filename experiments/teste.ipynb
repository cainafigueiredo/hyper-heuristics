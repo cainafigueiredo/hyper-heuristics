{
 "cells": [
  {
   "cell_type": "markdown",
   "metadata": {},
   "source": [
    "To run this notebook using the project venv, you will need to install the jupyter into it. After activate your venv, run the commands below:\n",
    "\n",
    "```bash\n",
    "$ (venv) pip3 install jupyter\n",
    "$ (venv) ipython kernel install --name \"hyperheuristics-venv\" --user\n",
    "```\n",
    "\n",
    "Next, just restart your Jupyter and change the kernel that your Jupyter notebook is using (if you are running it into VSCode, the kernel is located in the top right corner). "
   ]
  },
  {
   "cell_type": "code",
   "execution_count": 1,
   "metadata": {},
   "outputs": [],
   "source": [
    "%load_ext autoreload\n",
    "%autoreload 2"
   ]
  },
  {
   "cell_type": "code",
   "execution_count": 2,
   "metadata": {},
   "outputs": [],
   "source": [
    "import sys\n",
    "sys.path.append('..')\n",
    "\n",
    "import numpy as np\n",
    "import hashlib\n",
    "import yaml\n",
    "import json\n",
    "import copy\n",
    "import os\n",
    "\n",
    "from typing import Text, Dict\n",
    "\n",
    "from src.hyperHeuristics import HyperHeuristic\n",
    "from utils.generator.knapsackInstanceGenerator import generateKnapsackInstance\n",
    "from src.operators import getAvailableOperators\n",
    "from utils.knapsackSortFunctions import getAvailableSortIndexesFunctions"
   ]
  },
  {
   "cell_type": "code",
   "execution_count": 3,
   "metadata": {},
   "outputs": [],
   "source": [
    "# Data path\n",
    "DATA_PATH = \"../data/raw\"\n",
    "os.makedirs(DATA_PATH, exist_ok = True)"
   ]
  },
  {
   "cell_type": "code",
   "execution_count": 4,
   "metadata": {},
   "outputs": [],
   "source": [
    "config = yaml.load(open('experimentConfig.yaml'), yaml.Loader)\n",
    "stages = config['stages']\n",
    "firstStages = np.array(stages['firstStage'])\n",
    "secondStages = np.array(stages['secondStage'])\n",
    "thirdStages = np.array(stages['thirdStage'])\n",
    "params = config['params']"
   ]
  },
  {
   "cell_type": "code",
   "execution_count": 5,
   "metadata": {},
   "outputs": [],
   "source": [
    "def getRandomOperator(operator):\n",
    "    operatorParams = params[operator]\n",
    "\n",
    "    sortedParams = {param: values[int(np.random.rand() * len(values))] for param, values in operatorParams.items()}\n",
    "\n",
    "    sortedParams['operatorName'] = operator\n",
    "\n",
    "    return sortedParams"
   ]
  },
  {
   "cell_type": "code",
   "execution_count": 6,
   "metadata": {},
   "outputs": [],
   "source": [
    "def getRandomStageParams(stage: Text) -> Dict:\n",
    "    stageParams = params[stage]\n",
    "\n",
    "    sortedParams = {param: values[int(np.random.rand() * len(values))] for param, values in stageParams.items()}\n",
    "\n",
    "    if stage == 'alns':\n",
    "        destroyOperators = params['alns']['destroyOperators']\n",
    "        repairOperators = params['alns']['repairOperators']\n",
    "\n",
    "        # Destroy operators\n",
    "        sortedParams['destroyOperators'] = [getRandomOperator(operator) for operator in destroyOperators]\n",
    "\n",
    "        # Repair operators\n",
    "        sortedParams['repairOperators'] = [getRandomOperator(operator) for operator in destroyOperators]\n",
    "\n",
    "    return sortedParams"
   ]
  },
  {
   "cell_type": "code",
   "execution_count": 7,
   "metadata": {},
   "outputs": [],
   "source": [
    "def parseFunctionsAndObjectsInParams(stageName, stageParams):\n",
    "    stageParams = copy.deepcopy(stageParams)\n",
    "\n",
    "    if stageName == 'alns':\n",
    "        # Destroy operators\n",
    "        destroyOperators = stageParams['destroyOperators']\n",
    "        for i, operatorParams in enumerate(destroyOperators):\n",
    "            if 'sortIndexesFunction' in operatorParams:\n",
    "                sortFunction = operatorParams['sortIndexesFunction']\n",
    "                stageParams['destroyOperators'][i]['sortIndexesFunction'] = getAvailableSortIndexesFunctions()[sortFunction]\n",
    "           \n",
    "            operatorName = operatorParams['operatorName']\n",
    "            stageParams['destroyOperators'][i] = getAvailableOperators()[operatorName](**operatorParams)\n",
    "\n",
    "        # Repair operators\n",
    "        repairOperators = stageParams['repairOperators']\n",
    "        for i, operatorParams in enumerate(repairOperators):\n",
    "            if 'sortIndexesFunction' in operatorParams:\n",
    "                sortFunction = operatorParams['sortIndexesFunction']\n",
    "                stageParams['repairOperators'][i]['sortIndexesFunction'] = getAvailableSortIndexesFunctions()[sortFunction]\n",
    "           \n",
    "            operatorName = operatorParams['operatorName']\n",
    "            stageParams['repairOperators'][i] = getAvailableOperators()[operatorName](**operatorParams)\n",
    "\n",
    "    elif stageName == 'greedyConstruction':\n",
    "        sortFunction = stageParams['sortIndexesFunction']\n",
    "        stageParams['sortIndexesFunction'] = getAvailableSortIndexesFunctions()[sortFunction]\n",
    "        \n",
    "    return stageParams"
   ]
  },
  {
   "cell_type": "code",
   "execution_count": 8,
   "metadata": {},
   "outputs": [],
   "source": [
    "def getRandomThreeStagesPipeline(\n",
    "        firstStageCandidates: np.array, \n",
    "        secondStageCandidates: np.array, \n",
    "        thirdStageCandidates: np.array\n",
    "    ) -> HyperHeuristic:\n",
    "    \n",
    "    hyperheuristic = HyperHeuristic()\n",
    "    lowLevelFunctions = hyperheuristic.getAvailableLowLevelHeuristics()\n",
    "\n",
    "    # Sort first stage\n",
    "    firstStage = np.random.choice(firstStageCandidates, 1)[0]\n",
    "    firstStageParams = getRandomStageParams(firstStage)\n",
    "\n",
    "    firstStageCandidates = firstStageCandidates[firstStageCandidates != firstStage]\n",
    "    thirdStageCandidates = thirdStageCandidates[thirdStageCandidates != firstStage]\n",
    "\n",
    "    # Sort second stage\n",
    "    secondStage = np.random.choice(secondStageCandidates, 1)[0]\n",
    "    secondStageParams = getRandomStageParams(secondStage)\n",
    "\n",
    "    thirdStageCandidates = thirdStageCandidates[thirdStageCandidates != secondStage]\n",
    "\n",
    "    # Sort third stage\n",
    "    thirdStage = np.random.choice(thirdStageCandidates, 1)[0]\n",
    "    thirdStageParams = getRandomStageParams(thirdStage)\n",
    "\n",
    "    stages = [\n",
    "        {\n",
    "            \"name\": firstStage,\n",
    "            \"callback\": lowLevelFunctions[firstStage],\n",
    "            \"inputSchema\": ['problemInstance'],\n",
    "            \"outputSchema\": ['problemInstance', 'solution'],\n",
    "            \"params\": parseFunctionsAndObjectsInParams(firstStage, firstStageParams)\n",
    "        },\n",
    "        {\n",
    "            \"name\": secondStage,\n",
    "            \"callback\": lowLevelFunctions[secondStage],\n",
    "            \"inputSchema\": ['problemInstance','solution'],\n",
    "            \"outputSchema\": ['problemInstance', 'solution'],\n",
    "            \"params\": parseFunctionsAndObjectsInParams(secondStage, secondStageParams)\n",
    "        },\n",
    "        {\n",
    "            \"name\": thirdStage,\n",
    "            \"callback\": lowLevelFunctions[thirdStage],\n",
    "            \"inputSchema\": ['problemInstance','solution'],\n",
    "            \"outputSchema\": ['problemInstance', 'solution'],\n",
    "            \"params\": parseFunctionsAndObjectsInParams(thirdStage, thirdStageParams)\n",
    "        },\n",
    "    ]\n",
    "\n",
    "    hyperheuristic.addHyperHeuristicComponentsFromDict(stages)\n",
    "\n",
    "    print(\" -> \".join(hyperheuristic.getStagesNames()))\n",
    "\n",
    "    return hyperheuristic, {\n",
    "        'firstStage': {'name':firstStage, 'params':firstStageParams},\n",
    "        'secondStage': {'name':secondStage, 'params':secondStageParams},\n",
    "        'thirdStage': {'name':thirdStage, 'params':thirdStageParams},\n",
    "    }"
   ]
  },
  {
   "cell_type": "code",
   "execution_count": 14,
   "metadata": {},
   "outputs": [],
   "source": [
    "def storeCompositionData(dir: Text, compositionHighLevelInfo: Dict):\n",
    "    def storeFunction(stage): \n",
    "        compositionHighLevelInfoCopy = copy.deepcopy(compositionHighLevelInfo)\n",
    "        name = stage.name\n",
    "        if name == compositionHighLevelInfoCopy['firstStage']['name']:\n",
    "            compositionHighLevelInfoCopy.pop('secondStage')\n",
    "            compositionHighLevelInfoCopy.pop('thirdStage')\n",
    "        elif name == compositionHighLevelInfoCopy['secondStage']['name']:\n",
    "            compositionHighLevelInfoCopy.pop('thirdStage')\n",
    "\n",
    "        md5 = hashlib.md5()\n",
    "        dump = json.dumps(compositionHighLevelInfoCopy)\n",
    "        md5.update(dump.encode())\n",
    "        compositionHash = md5.hexdigest()\n",
    "\n",
    "        compositionHighLevelInfoCopy['solution'] = [int(v) for v in stage.output['problemInstance'].solution]\n",
    "        compositionHighLevelInfoCopy['objective'] = int(stage.output['problemInstance'].objective(isMinimizing = False))\n",
    "        compositionHighLevelInfoCopy['cumulativeProcessTime'] = float(stage.cumulativeProcessTime)\n",
    "\n",
    "        with open(f\"{dir}/{compositionHash}.json\", \"w\") as f:\n",
    "            f.write(json.dumps(compositionHighLevelInfoCopy))\n",
    "\n",
    "    return storeFunction"
   ]
  },
  {
   "cell_type": "code",
   "execution_count": 10,
   "metadata": {},
   "outputs": [],
   "source": [
    "np.random.seed(2)\n",
    "for i in range(100): \n",
    "    EXPERIMENT_PATH = f\"{DATA_PATH}/exp_{i}\"\n",
    "    instancePath = f\"{EXPERIMENT_PATH}/instance.txt\"\n",
    "    os.makedirs(EXPERIMENT_PATH, exist_ok = True)\n",
    "\n",
    "    instance = generateKnapsackInstance(10,50,2,7,100,900,10,90,instancePath)\n",
    "    \n",
    "    COMPOSITION_PATH = f\"{EXPERIMENT_PATH}/compositions\"\n",
    "    os.makedirs(COMPOSITION_PATH, exist_ok = True)\n",
    "    \n",
    "    for j in range(10):\n",
    "        composition, stagesHighLevelInfo = getRandomThreeStagesPipeline(firstStages, secondStages, thirdStages)\n",
    "        composition.getSolution(instance, storeCompositionData(COMPOSITION_PATH, stagesHighLevelInfo))"
   ]
  },
  {
   "cell_type": "code",
   "execution_count": 19,
   "metadata": {},
   "outputs": [
    {
     "name": "stdout",
     "output_type": "stream",
     "text": [
      "geneticAlgorithm -> tabuSearch -> firstImprovement\n"
     ]
    }
   ],
   "source": [
    "# from utils.instancesRepresentation import KnapsackInstance\n",
    "\n",
    "# EXPERIMENT_PATH = f\"{DATA_PATH}/exp-teste\"\n",
    "# instancePath = f\"{EXPERIMENT_PATH}/instance.txt\"\n",
    "# instance = KnapsackInstance()\n",
    "# instance.loadInstanceFromFile('./teste.txt')\n",
    "# # instance.loadInstanceFromFile('../examples/knapsack/multipleBinaryKnapsack/knapsackExample.txt')\n",
    "\n",
    "# COMPOSITION_PATH = f\"{EXPERIMENT_PATH}/compositions\"\n",
    "# os.makedirs(COMPOSITION_PATH, exist_ok = True)\n",
    "\n",
    "# for j in range(1):\n",
    "#     composition, stagesHighLevelInfo = getRandomThreeStagesPipeline(firstStages, secondStages, thirdStages)\n",
    "#     composition.getSolution(instance, storeCompositionData(COMPOSITION_PATH, stagesHighLevelInfo))"
   ]
  }
 ],
 "metadata": {
  "kernelspec": {
   "display_name": "hyperheuristics-venv",
   "language": "python",
   "name": "hyperheuristics-venv"
  },
  "language_info": {
   "codemirror_mode": {
    "name": "ipython",
    "version": 3
   },
   "file_extension": ".py",
   "mimetype": "text/x-python",
   "name": "python",
   "nbconvert_exporter": "python",
   "pygments_lexer": "ipython3",
   "version": "3.8.10"
  },
  "orig_nbformat": 4,
  "vscode": {
   "interpreter": {
    "hash": "3c63be5f36aa40bcd9b704cb5dad604342ae3fccae956dcf3177294eedf73856"
   }
  }
 },
 "nbformat": 4,
 "nbformat_minor": 2
}
