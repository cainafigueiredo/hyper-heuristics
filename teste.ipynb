{
 "cells": [
  {
   "cell_type": "code",
   "execution_count": 1,
   "metadata": {},
   "outputs": [],
   "source": [
    "%load_ext autoreload\n",
    "%autoreload 2"
   ]
  },
  {
   "cell_type": "code",
   "execution_count": 2,
   "metadata": {},
   "outputs": [],
   "source": [
    "import numpy as np\n",
    "import pandas as pd\n",
    "\n",
    "from src.HyperHeuristic import HyperHeuristic\n",
    "# from src.stop.NoImprovement import NoImprovement\n",
    "# from src.stop.MaxRuntime import MaxRuntime\n",
    "from src.stop.MaxRuntimeOrNoImprovement import MaxRuntimeOrNoImprovement\n",
    "from src.weights.SegmentedWeights import SegmentedWeights\n",
    "from src.accept.SimulatedAnnealing import SimulatedAnnealing\n",
    "from src.accept.RandomWalk import RandomWalk\n",
    "from src.accept.RecordToRecordTravel import RecordToRecordTravel\n",
    "from src.accept.HillClimbing import HillClimbing\n",
    "from src.initial_solution.ConstructiveHeuristic import RandomConstructive, GreedyRandomizedConstructive, GreedyConstructive\n",
    "from src.operators.DestroyOperators import RandomRemove, WorstRemove, ShawRemove \n",
    "from src.operators.RepairOperators import RandomRepair, GreedyRepair, RegretInsertion\n",
    "from src.local_search.LocalSearch import FirstImprovement, BestImprovement\n",
    "from src.KnapsackInstance import KnapsackInstance\n",
    "from utils.benchmark import BinaryKnapsackBenchmark\n",
    "from utils.knapsackSortFunctions import sortIndexesByProfitWeightDensity"
   ]
  },
  {
   "cell_type": "code",
   "execution_count": 3,
   "metadata": {},
   "outputs": [],
   "source": [
    "benchmarkPath = \"./backup/data/benchmark/binaryKnapsack\"\n",
    "benchmark = BinaryKnapsackBenchmark(\"binary\", benchmarkPath)\n",
    "instancesList = benchmark.getInstancesList()\n",
    "np.random.shuffle(instancesList)"
   ]
  },
  {
   "cell_type": "code",
   "execution_count": 58,
   "metadata": {},
   "outputs": [],
   "source": [
    "instances = [\n",
    "    \"n_800_c_100000000_g_6_f_0.1_eps_0.1_s_300/test.in\",\n",
    "    \"n_1200_c_10000000000_g_6_f_0.2_eps_0.1_s_200/test.in\",\n",
    "    \"n_600_c_100000000_g_14_f_0.3_eps_0.001_s_300/test.in\",\n",
    "    \"n_400_c_10000000000_g_14_f_0.3_eps_0.01_s_200/test.in\",\n",
    "    \"n_600_c_100000000_g_2_f_0.1_eps_0.01_s_100/test.in\",\n",
    "    \"n_600_c_10000000000_g_2_f_0.2_eps_0_s_200/test.in\",\n",
    "    \"n_600_c_10000000000_g_6_f_0.3_eps_0.01_s_300/test.in\",\n",
    "    \"n_800_c_1000000_g_14_f_0.1_eps_0.1_s_100/test.in\",\n",
    "    \"n_600_c_100000000_g_2_f_0.1_eps_0.1_s_300/test.in\",\n",
    "    \"n_1200_c_100000000_g_6_f_0.3_eps_0.1_s_200/test.in\",\n",
    "    \"n_800_c_10000000000_g_14_f_0.2_eps_0.1_s_300/test.in\",\n",
    "    \"n_600_c_100000000_g_6_f_0.2_eps_1e-05_s_100/test.in\",\n",
    "    \"n_1200_c_100000000_g_14_f_0.2_eps_0_s_100/test.in\",\n",
    "    \"n_400_c_1000000_g_2_f_0.2_eps_0_s_200/test.in\",\n",
    "    \"n_1000_c_1000000_g_14_f_0.2_eps_0.1_s_100/test.in\",\n",
    "    \"n_1000_c_100000000_g_2_f_0.2_eps_0.01_s_300/test.in\",\n",
    "    \"n_1000_c_100000000_g_6_f_0.3_eps_0_s_200/test.in\",\n",
    "    \"n_1200_c_1000000_g_10_f_0.2_eps_0.001_s_100/test.in\",\n",
    "    \"n_400_c_10000000000_g_6_f_0.1_eps_0_s_200/test.in\",\n",
    "    \"n_400_c_100000000_g_2_f_0.3_eps_0.0001_s_100/test.in\"\n",
    "]"
   ]
  },
  {
   "cell_type": "code",
   "execution_count": 59,
   "metadata": {},
   "outputs": [
    {
     "name": "stdout",
     "output_type": "stream",
     "text": [
      "n_800_c_100000000_g_6_f_0.1_eps_0.1_s_300/test.in\n"
     ]
    },
    {
     "name": "stderr",
     "output_type": "stream",
     "text": [
      "/mnt/c/Users/caina/OneDrive/Área de Trabalho/UFRJ/Mestrado/OTIMIA/hyper-heuristics/utils/instancesRepresentation.py:76: RuntimeWarning: overflow encountered in long_scalars\n",
      "  foValue -= noFeasiblePenalty * (totalKnapsacksWeights[knapsack] - knapsacksCapacities[knapsack])\n"
     ]
    },
    {
     "name": "stdout",
     "output_type": "stream",
     "text": [
      "n_1200_c_10000000000_g_6_f_0.2_eps_0.1_s_200/test.in\n"
     ]
    },
    {
     "name": "stderr",
     "output_type": "stream",
     "text": [
      "/mnt/c/Users/caina/OneDrive/Área de Trabalho/UFRJ/Mestrado/OTIMIA/hyper-heuristics/utils/instancesRepresentation.py:76: RuntimeWarning: overflow encountered in long_scalars\n",
      "  foValue -= noFeasiblePenalty * (totalKnapsacksWeights[knapsack] - knapsacksCapacities[knapsack])\n"
     ]
    },
    {
     "name": "stdout",
     "output_type": "stream",
     "text": [
      "n_600_c_100000000_g_14_f_0.3_eps_0.001_s_300/test.in\n",
      "n_400_c_10000000000_g_14_f_0.3_eps_0.01_s_200/test.in\n"
     ]
    },
    {
     "name": "stderr",
     "output_type": "stream",
     "text": [
      "/mnt/c/Users/caina/OneDrive/Área de Trabalho/UFRJ/Mestrado/OTIMIA/hyper-heuristics/utils/instancesRepresentation.py:76: RuntimeWarning: overflow encountered in long_scalars\n",
      "  foValue -= noFeasiblePenalty * (totalKnapsacksWeights[knapsack] - knapsacksCapacities[knapsack])\n"
     ]
    },
    {
     "name": "stdout",
     "output_type": "stream",
     "text": [
      "n_600_c_100000000_g_2_f_0.1_eps_0.01_s_100/test.in\n"
     ]
    },
    {
     "name": "stderr",
     "output_type": "stream",
     "text": [
      "/mnt/c/Users/caina/OneDrive/Área de Trabalho/UFRJ/Mestrado/OTIMIA/hyper-heuristics/utils/instancesRepresentation.py:76: RuntimeWarning: overflow encountered in long_scalars\n",
      "  foValue -= noFeasiblePenalty * (totalKnapsacksWeights[knapsack] - knapsacksCapacities[knapsack])\n"
     ]
    },
    {
     "name": "stdout",
     "output_type": "stream",
     "text": [
      "n_600_c_10000000000_g_2_f_0.2_eps_0_s_200/test.in\n"
     ]
    },
    {
     "name": "stderr",
     "output_type": "stream",
     "text": [
      "/mnt/c/Users/caina/OneDrive/Área de Trabalho/UFRJ/Mestrado/OTIMIA/hyper-heuristics/utils/instancesRepresentation.py:76: RuntimeWarning: overflow encountered in long_scalars\n",
      "  foValue -= noFeasiblePenalty * (totalKnapsacksWeights[knapsack] - knapsacksCapacities[knapsack])\n"
     ]
    },
    {
     "name": "stdout",
     "output_type": "stream",
     "text": [
      "n_600_c_10000000000_g_6_f_0.3_eps_0.01_s_300/test.in\n"
     ]
    },
    {
     "name": "stderr",
     "output_type": "stream",
     "text": [
      "/mnt/c/Users/caina/OneDrive/Área de Trabalho/UFRJ/Mestrado/OTIMIA/hyper-heuristics/utils/instancesRepresentation.py:76: RuntimeWarning: overflow encountered in long_scalars\n",
      "  foValue -= noFeasiblePenalty * (totalKnapsacksWeights[knapsack] - knapsacksCapacities[knapsack])\n"
     ]
    },
    {
     "name": "stdout",
     "output_type": "stream",
     "text": [
      "n_800_c_1000000_g_14_f_0.1_eps_0.1_s_100/test.in\n",
      "n_600_c_100000000_g_2_f_0.1_eps_0.1_s_300/test.in\n"
     ]
    },
    {
     "name": "stderr",
     "output_type": "stream",
     "text": [
      "/mnt/c/Users/caina/OneDrive/Área de Trabalho/UFRJ/Mestrado/OTIMIA/hyper-heuristics/utils/instancesRepresentation.py:76: RuntimeWarning: overflow encountered in long_scalars\n",
      "  foValue -= noFeasiblePenalty * (totalKnapsacksWeights[knapsack] - knapsacksCapacities[knapsack])\n"
     ]
    },
    {
     "name": "stdout",
     "output_type": "stream",
     "text": [
      "n_1200_c_100000000_g_6_f_0.3_eps_0.1_s_200/test.in\n"
     ]
    },
    {
     "name": "stderr",
     "output_type": "stream",
     "text": [
      "/mnt/c/Users/caina/OneDrive/Área de Trabalho/UFRJ/Mestrado/OTIMIA/hyper-heuristics/utils/instancesRepresentation.py:76: RuntimeWarning: overflow encountered in long_scalars\n",
      "  foValue -= noFeasiblePenalty * (totalKnapsacksWeights[knapsack] - knapsacksCapacities[knapsack])\n"
     ]
    },
    {
     "name": "stdout",
     "output_type": "stream",
     "text": [
      "n_800_c_10000000000_g_14_f_0.2_eps_0.1_s_300/test.in\n"
     ]
    },
    {
     "name": "stderr",
     "output_type": "stream",
     "text": [
      "/mnt/c/Users/caina/OneDrive/Área de Trabalho/UFRJ/Mestrado/OTIMIA/hyper-heuristics/utils/instancesRepresentation.py:76: RuntimeWarning: overflow encountered in long_scalars\n",
      "  foValue -= noFeasiblePenalty * (totalKnapsacksWeights[knapsack] - knapsacksCapacities[knapsack])\n"
     ]
    },
    {
     "name": "stdout",
     "output_type": "stream",
     "text": [
      "n_600_c_100000000_g_6_f_0.2_eps_1e-05_s_100/test.in\n"
     ]
    },
    {
     "name": "stderr",
     "output_type": "stream",
     "text": [
      "/mnt/c/Users/caina/OneDrive/Área de Trabalho/UFRJ/Mestrado/OTIMIA/hyper-heuristics/utils/instancesRepresentation.py:76: RuntimeWarning: overflow encountered in long_scalars\n",
      "  foValue -= noFeasiblePenalty * (totalKnapsacksWeights[knapsack] - knapsacksCapacities[knapsack])\n"
     ]
    },
    {
     "name": "stdout",
     "output_type": "stream",
     "text": [
      "n_1200_c_100000000_g_14_f_0.2_eps_0_s_100/test.in\n"
     ]
    },
    {
     "name": "stderr",
     "output_type": "stream",
     "text": [
      "/mnt/c/Users/caina/OneDrive/Área de Trabalho/UFRJ/Mestrado/OTIMIA/hyper-heuristics/utils/instancesRepresentation.py:76: RuntimeWarning: overflow encountered in long_scalars\n",
      "  foValue -= noFeasiblePenalty * (totalKnapsacksWeights[knapsack] - knapsacksCapacities[knapsack])\n"
     ]
    },
    {
     "name": "stdout",
     "output_type": "stream",
     "text": [
      "n_400_c_1000000_g_2_f_0.2_eps_0_s_200/test.in\n",
      "n_1000_c_1000000_g_14_f_0.2_eps_0.1_s_100/test.in\n",
      "n_1000_c_100000000_g_2_f_0.2_eps_0.01_s_300/test.in\n"
     ]
    },
    {
     "name": "stderr",
     "output_type": "stream",
     "text": [
      "/mnt/c/Users/caina/OneDrive/Área de Trabalho/UFRJ/Mestrado/OTIMIA/hyper-heuristics/utils/instancesRepresentation.py:76: RuntimeWarning: overflow encountered in long_scalars\n",
      "  foValue -= noFeasiblePenalty * (totalKnapsacksWeights[knapsack] - knapsacksCapacities[knapsack])\n"
     ]
    },
    {
     "name": "stdout",
     "output_type": "stream",
     "text": [
      "n_1000_c_100000000_g_6_f_0.3_eps_0_s_200/test.in\n"
     ]
    },
    {
     "name": "stderr",
     "output_type": "stream",
     "text": [
      "/mnt/c/Users/caina/OneDrive/Área de Trabalho/UFRJ/Mestrado/OTIMIA/hyper-heuristics/utils/instancesRepresentation.py:76: RuntimeWarning: overflow encountered in long_scalars\n",
      "  foValue -= noFeasiblePenalty * (totalKnapsacksWeights[knapsack] - knapsacksCapacities[knapsack])\n"
     ]
    },
    {
     "name": "stdout",
     "output_type": "stream",
     "text": [
      "n_1200_c_1000000_g_10_f_0.2_eps_0.001_s_100/test.in\n",
      "n_400_c_10000000000_g_6_f_0.1_eps_0_s_200/test.in\n"
     ]
    },
    {
     "name": "stderr",
     "output_type": "stream",
     "text": [
      "/mnt/c/Users/caina/OneDrive/Área de Trabalho/UFRJ/Mestrado/OTIMIA/hyper-heuristics/utils/instancesRepresentation.py:76: RuntimeWarning: overflow encountered in long_scalars\n",
      "  foValue -= noFeasiblePenalty * (totalKnapsacksWeights[knapsack] - knapsacksCapacities[knapsack])\n"
     ]
    },
    {
     "name": "stdout",
     "output_type": "stream",
     "text": [
      "n_400_c_100000000_g_2_f_0.3_eps_0.0001_s_100/test.in\n"
     ]
    },
    {
     "name": "stderr",
     "output_type": "stream",
     "text": [
      "/mnt/c/Users/caina/OneDrive/Área de Trabalho/UFRJ/Mestrado/OTIMIA/hyper-heuristics/utils/instancesRepresentation.py:76: RuntimeWarning: overflow encountered in long_scalars\n",
      "  foValue -= noFeasiblePenalty * (totalKnapsacksWeights[knapsack] - knapsacksCapacities[knapsack])\n"
     ]
    },
    {
     "data": {
      "text/html": [
       "<div>\n",
       "<style scoped>\n",
       "    .dataframe tbody tr th:only-of-type {\n",
       "        vertical-align: middle;\n",
       "    }\n",
       "\n",
       "    .dataframe tbody tr th {\n",
       "        vertical-align: top;\n",
       "    }\n",
       "\n",
       "    .dataframe thead th {\n",
       "        text-align: right;\n",
       "    }\n",
       "</style>\n",
       "<table border=\"1\" class=\"dataframe\">\n",
       "  <thead>\n",
       "    <tr style=\"text-align: right;\">\n",
       "      <th></th>\n",
       "      <th>instanceName</th>\n",
       "      <th>optimumFO</th>\n",
       "      <th>FO</th>\n",
       "      <th>relativeError</th>\n",
       "      <th>runtime</th>\n",
       "      <th>foEvolution</th>\n",
       "      <th>weightEvolution</th>\n",
       "    </tr>\n",
       "  </thead>\n",
       "  <tbody>\n",
       "    <tr>\n",
       "      <th>0</th>\n",
       "      <td>n_800_c_100000000_g_6_f_0.1_eps_0.1_s_300</td>\n",
       "      <td>99388338</td>\n",
       "      <td>98139069</td>\n",
       "      <td>1.256957e-02</td>\n",
       "      <td>3.303255</td>\n",
       "      <td>[-inf, -inf, -inf, 95012729, -inf, -inf, -inf,...</td>\n",
       "      <td>[{'randomRemove0.2': 1.0, 'randomRemove0.4': 1...</td>\n",
       "    </tr>\n",
       "    <tr>\n",
       "      <th>1</th>\n",
       "      <td>n_1200_c_10000000000_g_6_f_0.2_eps_0.1_s_200</td>\n",
       "      <td>9937526288</td>\n",
       "      <td>9812526761</td>\n",
       "      <td>1.257854e-02</td>\n",
       "      <td>11.615742</td>\n",
       "      <td>[-1885927895751336807, -1885927895751336807, -...</td>\n",
       "      <td>[{'randomRemove0.2': 1.0, 'randomRemove0.4': 1...</td>\n",
       "    </tr>\n",
       "    <tr>\n",
       "      <th>2</th>\n",
       "      <td>n_600_c_100000000_g_14_f_0.3_eps_0.001_s_300</td>\n",
       "      <td>100024526</td>\n",
       "      <td>100018753</td>\n",
       "      <td>5.771584e-05</td>\n",
       "      <td>2.782607</td>\n",
       "      <td>[-5243145413274593462, -5243145413274593462, -...</td>\n",
       "      <td>[{'randomRemove0.2': 1.0, 'randomRemove0.4': 1...</td>\n",
       "    </tr>\n",
       "    <tr>\n",
       "      <th>3</th>\n",
       "      <td>n_400_c_10000000000_g_14_f_0.3_eps_0.01_s_200</td>\n",
       "      <td>-1</td>\n",
       "      <td>9953138600</td>\n",
       "      <td>9.953139e+09</td>\n",
       "      <td>1.382840</td>\n",
       "      <td>[-1653242595266387388, -1653242595266387388, -...</td>\n",
       "      <td>[{'randomRemove0.2': 1.0, 'randomRemove0.4': 1...</td>\n",
       "    </tr>\n",
       "    <tr>\n",
       "      <th>4</th>\n",
       "      <td>n_600_c_100000000_g_2_f_0.1_eps_0.01_s_100</td>\n",
       "      <td>51003102</td>\n",
       "      <td>51003102</td>\n",
       "      <td>0.000000e+00</td>\n",
       "      <td>2.469832</td>\n",
       "      <td>[-4541009117578419707, -4541009117578419707, -...</td>\n",
       "      <td>[{'randomRemove0.2': 1.0, 'randomRemove0.4': 1...</td>\n",
       "    </tr>\n",
       "  </tbody>\n",
       "</table>\n",
       "</div>"
      ],
      "text/plain": [
       "                                    instanceName   optimumFO          FO  \\\n",
       "0      n_800_c_100000000_g_6_f_0.1_eps_0.1_s_300    99388338    98139069   \n",
       "1   n_1200_c_10000000000_g_6_f_0.2_eps_0.1_s_200  9937526288  9812526761   \n",
       "2   n_600_c_100000000_g_14_f_0.3_eps_0.001_s_300   100024526   100018753   \n",
       "3  n_400_c_10000000000_g_14_f_0.3_eps_0.01_s_200          -1  9953138600   \n",
       "4     n_600_c_100000000_g_2_f_0.1_eps_0.01_s_100    51003102    51003102   \n",
       "\n",
       "   relativeError    runtime  \\\n",
       "0   1.256957e-02   3.303255   \n",
       "1   1.257854e-02  11.615742   \n",
       "2   5.771584e-05   2.782607   \n",
       "3   9.953139e+09   1.382840   \n",
       "4   0.000000e+00   2.469832   \n",
       "\n",
       "                                         foEvolution  \\\n",
       "0  [-inf, -inf, -inf, 95012729, -inf, -inf, -inf,...   \n",
       "1  [-1885927895751336807, -1885927895751336807, -...   \n",
       "2  [-5243145413274593462, -5243145413274593462, -...   \n",
       "3  [-1653242595266387388, -1653242595266387388, -...   \n",
       "4  [-4541009117578419707, -4541009117578419707, -...   \n",
       "\n",
       "                                     weightEvolution  \n",
       "0  [{'randomRemove0.2': 1.0, 'randomRemove0.4': 1...  \n",
       "1  [{'randomRemove0.2': 1.0, 'randomRemove0.4': 1...  \n",
       "2  [{'randomRemove0.2': 1.0, 'randomRemove0.4': 1...  \n",
       "3  [{'randomRemove0.2': 1.0, 'randomRemove0.4': 1...  \n",
       "4  [{'randomRemove0.2': 1.0, 'randomRemove0.4': 1...  "
      ]
     },
     "execution_count": 59,
     "metadata": {},
     "output_type": "execute_result"
    }
   ],
   "source": [
    "columns = ['instanceName', 'optimumFO', 'FO', 'relativeError', 'runtime', 'foEvolution', 'weightEvolution']\n",
    "values = []\n",
    "\n",
    "for instanceName in instances:\n",
    "# for instanceName in pd.read_csv('summary.csv').instanceName.apply(lambda x: x + \"/test.in\").values:\n",
    "    # Create Hyper-Heuristic\n",
    "    hyperHeuristic = HyperHeuristic()\n",
    "\n",
    "    randomRemove1 = RandomRemove(0.2)\n",
    "    randomRemove2 = RandomRemove(0.4)\n",
    "    worstRemove1 = WorstRemove(0.2)\n",
    "    worstRemove2 = WorstRemove(0.4)\n",
    "    randomRepair = RandomRepair()\n",
    "    greedyRepair = GreedyRepair()\n",
    "\n",
    "    hyperHeuristic.add_refinement(randomRemove1, 'randomRemove0.2')\n",
    "    hyperHeuristic.add_refinement(randomRemove2, 'randomRemove0.4')\n",
    "    hyperHeuristic.add_refinement(worstRemove1, 'worstRemove0.2')\n",
    "    hyperHeuristic.add_refinement(worstRemove2, 'worstRemove0.4')\n",
    "    hyperHeuristic.add_refinement(randomRepair, 'randomRepair')\n",
    "    hyperHeuristic.add_refinement(greedyRepair, 'greedyRepair')\n",
    "\n",
    "    firstImprovement = FirstImprovement()\n",
    "    hyperHeuristic.add_refinement(firstImprovement, 'firstImprovement')\n",
    "\n",
    "    randomConstruct = RandomConstructive()\n",
    "    greedyConstruct = GreedyConstructive(sortIndexesByProfitWeightDensity)\n",
    "    greedyRandomizedConstruct = GreedyRandomizedConstructive(0.3)\n",
    "    hyperHeuristic.add_refinement(randomConstruct, 'randomConstruct')\n",
    "    hyperHeuristic.add_refinement(greedyConstruct, 'greedyConstruct')\n",
    "    hyperHeuristic.add_refinement(greedyRandomizedConstruct, 'greedyRandomizedConstruct')\n",
    "\n",
    "    simulatedAnnealingCriteria = SimulatedAnnealing(\n",
    "        start_temperature = 100,\n",
    "        end_temperature = 0.001,\n",
    "        step = 0.99,\n",
    "        method = 'exponential'\n",
    "    )\n",
    "\n",
    "    recordToRecordTravel = RecordToRecordTravel(\n",
    "        start_threshold = 0.5,\n",
    "        end_threshold = 0.1,\n",
    "        step = 0.01,\n",
    "        method = 'linear',\n",
    "        cmp_best = True\n",
    "    )\n",
    "\n",
    "    # hillClimbing = HillClimbing()\n",
    "    # randomWalk = RandomWalk()\n",
    "\n",
    "    # hyperHeuristic.add_acceptance(simulatedAnnealingCriteria, 'simulatedAnnealingCriteria')\n",
    "    hyperHeuristic.add_acceptance(recordToRecordTravel, 'recordToRecordTravel')\n",
    "    # hyperHeuristic.add_acceptance(hillClimbing, 'hillClimbing')\n",
    "\n",
    "    segWeights = SegmentedWeights(\n",
    "        scores = [5,4,1,0.5],\n",
    "        refinements = hyperHeuristic.refinement,\n",
    "        acceptances = hyperHeuristic.acceptance,\n",
    "        seg_decay = 0.8,\n",
    "        seg_length = 100\n",
    "    )\n",
    "\n",
    "    # stop = NoImprovement(max_iterations = 10)\n",
    "    # stop = MaxRuntime(45)\n",
    "    stop = MaxRuntimeOrNoImprovement(max_runtime = 45, max_iterations = 200)\n",
    "\n",
    "    # Run instance\n",
    "    # instanceName = np.random.choice(instancesList)\n",
    "    print(instanceName)\n",
    "    instance = benchmark.parseInstance(instanceName)\n",
    "    optimum = benchmark.getOptimalFO(instanceName)\n",
    "\n",
    "    result = hyperHeuristic.iterate(instance, segWeights, stop, constructive_heuristic_name = 'randomConstruct')\n",
    "    objective = result.best_state.objective(isMinimizing = False)\n",
    "    runtime = result.statistics.total_runtime\n",
    "    foEvolution = result.objectives\n",
    "    weightEvolution = result.refinement_weights\n",
    "    \n",
    "    values.append([\n",
    "        instanceName.replace('/test.in',''),\n",
    "        optimum,\n",
    "        objective, \n",
    "        (optimum - objective)/optimum,\n",
    "        runtime,\n",
    "        foEvolution, \n",
    "        weightEvolution\n",
    "    ])\n",
    "\n",
    "summary = pd.DataFrame(data = values, columns = columns)\n",
    "summary.head()"
   ]
  },
  {
   "cell_type": "code",
   "execution_count": null,
   "metadata": {},
   "outputs": [],
   "source": [
    "summary.to_csv(\"experimento-20-critRecordToRecord.csv\", index = False)"
   ]
  },
  {
   "cell_type": "code",
   "execution_count": 28,
   "metadata": {},
   "outputs": [
    {
     "data": {
      "text/plain": [
       "0"
      ]
     },
     "execution_count": 28,
     "metadata": {},
     "output_type": "execute_result"
    }
   ],
   "source": [
    "# from copy import copy\n",
    "\n",
    "\n",
    "# nInstance = copy(instance)\n",
    "# nInstance.solution = np.array([1 for i in range(nInstance.numberOfItems)], dtype = int)\n",
    "# inst = randomConstruct(nInstance, np.random.RandomState(5))\n",
    "# inst.objective(isMinimizing = False)"
   ]
  },
  {
   "cell_type": "code",
   "execution_count": null,
   "metadata": {},
   "outputs": [],
   "source": []
  },
  {
   "cell_type": "code",
   "execution_count": 44,
   "metadata": {},
   "outputs": [
    {
     "data": {
      "text/plain": [
       "<AxesSubplot:>"
      ]
     },
     "execution_count": 44,
     "metadata": {},
     "output_type": "execute_result"
    },
    {
     "data": {
      "image/png": "[encoded data removed]",
      "text/plain": [
       "<Figure size 640x480 with 1 Axes>"
      ]
     },
     "metadata": {},
     "output_type": "display_data"
    }
   ],
   "source": [
    "pd.Series(summary.iloc[-1]['foEvolution']).plot()"
   ]
  },
  {
   "cell_type": "code",
   "execution_count": 6,
   "metadata": {},
   "outputs": [
    {
     "data": {
      "text/html": [
       "<div>\n",
       "<style scoped>\n",
       "    .dataframe tbody tr th:only-of-type {\n",
       "        vertical-align: middle;\n",
       "    }\n",
       "\n",
       "    .dataframe tbody tr th {\n",
       "        vertical-align: top;\n",
       "    }\n",
       "\n",
       "    .dataframe thead th {\n",
       "        text-align: right;\n",
       "    }\n",
       "</style>\n",
       "<table border=\"1\" class=\"dataframe\">\n",
       "  <thead>\n",
       "    <tr style=\"text-align: right;\">\n",
       "      <th></th>\n",
       "      <th>instanceName</th>\n",
       "      <th>optimumFO</th>\n",
       "      <th>FO</th>\n",
       "      <th>relativeError</th>\n",
       "      <th>runtime</th>\n",
       "      <th>foEvolution</th>\n",
       "      <th>weightEvolution</th>\n",
       "    </tr>\n",
       "  </thead>\n",
       "  <tbody>\n",
       "    <tr>\n",
       "      <th>0</th>\n",
       "      <td>n_600_c_1000000_g_10_f_0.1_eps_0.001_s_200</td>\n",
       "      <td>1009921</td>\n",
       "      <td>1009921</td>\n",
       "      <td>0.000000e+00</td>\n",
       "      <td>1.698191</td>\n",
       "      <td>[0, 989192, 989192, 989192, 989192, 989192, 98...</td>\n",
       "      <td>[{'randomRemove0.2': 1.0, 'randomRemove0.4': 1...</td>\n",
       "    </tr>\n",
       "    <tr>\n",
       "      <th>1</th>\n",
       "      <td>n_400_c_100000000_g_14_f_0.2_eps_0.01_s_200</td>\n",
       "      <td>100009530</td>\n",
       "      <td>99987909</td>\n",
       "      <td>2.161894e-04</td>\n",
       "      <td>4.706612</td>\n",
       "      <td>[0, 99269949, 99269949, 99269949, 99168561, 99...</td>\n",
       "      <td>[{'randomRemove0.2': 1.0, 'randomRemove0.4': 1...</td>\n",
       "    </tr>\n",
       "    <tr>\n",
       "      <th>2</th>\n",
       "      <td>n_600_c_10000000000_g_2_f_0.1_eps_0_s_100</td>\n",
       "      <td>5000003115</td>\n",
       "      <td>5000003115</td>\n",
       "      <td>0.000000e+00</td>\n",
       "      <td>9.491099</td>\n",
       "      <td>[0, 5000003115, 5000003115, 5000003115, 500000...</td>\n",
       "      <td>[{'randomRemove0.2': 1.0, 'randomRemove0.4': 1...</td>\n",
       "    </tr>\n",
       "    <tr>\n",
       "      <th>3</th>\n",
       "      <td>n_400_c_100000000_g_2_f_0.2_eps_1e-05_s_200</td>\n",
       "      <td>50009187</td>\n",
       "      <td>50009187</td>\n",
       "      <td>0.000000e+00</td>\n",
       "      <td>6.273390</td>\n",
       "      <td>[0, 0, 50009121, 0, 50009034, 50009187, 500091...</td>\n",
       "      <td>[{'randomRemove0.2': 1.0, 'randomRemove0.4': 1...</td>\n",
       "    </tr>\n",
       "    <tr>\n",
       "      <th>4</th>\n",
       "      <td>n_400_c_10000000000_g_10_f_0.2_eps_0_s_300</td>\n",
       "      <td>9980505940</td>\n",
       "      <td>9980499863</td>\n",
       "      <td>6.088870e-07</td>\n",
       "      <td>11.307768</td>\n",
       "      <td>[0, 9980486281, 9980486281, 9980486281, 998048...</td>\n",
       "      <td>[{'randomRemove0.2': 1.0, 'randomRemove0.4': 1...</td>\n",
       "    </tr>\n",
       "  </tbody>\n",
       "</table>\n",
       "</div>"
      ],
      "text/plain": [
       "                                  instanceName   optimumFO          FO  \\\n",
       "0   n_600_c_1000000_g_10_f_0.1_eps_0.001_s_200     1009921     1009921   \n",
       "1  n_400_c_100000000_g_14_f_0.2_eps_0.01_s_200   100009530    99987909   \n",
       "2    n_600_c_10000000000_g_2_f_0.1_eps_0_s_100  5000003115  5000003115   \n",
       "3  n_400_c_100000000_g_2_f_0.2_eps_1e-05_s_200    50009187    50009187   \n",
       "4   n_400_c_10000000000_g_10_f_0.2_eps_0_s_300  9980505940  9980499863   \n",
       "\n",
       "   relativeError    runtime  \\\n",
       "0   0.000000e+00   1.698191   \n",
       "1   2.161894e-04   4.706612   \n",
       "2   0.000000e+00   9.491099   \n",
       "3   0.000000e+00   6.273390   \n",
       "4   6.088870e-07  11.307768   \n",
       "\n",
       "                                         foEvolution  \\\n",
       "0  [0, 989192, 989192, 989192, 989192, 989192, 98...   \n",
       "1  [0, 99269949, 99269949, 99269949, 99168561, 99...   \n",
       "2  [0, 5000003115, 5000003115, 5000003115, 500000...   \n",
       "3  [0, 0, 50009121, 0, 50009034, 50009187, 500091...   \n",
       "4  [0, 9980486281, 9980486281, 9980486281, 998048...   \n",
       "\n",
       "                                     weightEvolution  \n",
       "0  [{'randomRemove0.2': 1.0, 'randomRemove0.4': 1...  \n",
       "1  [{'randomRemove0.2': 1.0, 'randomRemove0.4': 1...  \n",
       "2  [{'randomRemove0.2': 1.0, 'randomRemove0.4': 1...  \n",
       "3  [{'randomRemove0.2': 1.0, 'randomRemove0.4': 1...  \n",
       "4  [{'randomRemove0.2': 1.0, 'randomRemove0.4': 1...  "
      ]
     },
     "execution_count": 6,
     "metadata": {},
     "output_type": "execute_result"
    }
   ],
   "source": [
    "summary = pd.DataFrame(data = values, columns = columns)\n",
    "summary.head()"
   ]
  },
  {
   "cell_type": "code",
   "execution_count": 83,
   "metadata": {},
   "outputs": [
    {
     "data": {
      "text/plain": [
       "(9200000000.0, 9938000000.0)"
      ]
     },
     "execution_count": 83,
     "metadata": {},
     "output_type": "execute_result"
    },
    {
     "data": {
      "image/png": "[encoded data removed]",
      "text/plain": [
       "<Figure size 640x480 with 1 Axes>"
      ]
     },
     "metadata": {},
     "output_type": "display_data"
    }
   ],
   "source": [
    "import numpy as np\n",
    "import matplotlib.pyplot as plt\n",
    "fig = pd.Series(summary['foEvolution'][1]).plot()\n",
    "plt.ylim([9200000000,9938000000])"
   ]
  },
  {
   "cell_type": "code",
   "execution_count": 143,
   "metadata": {},
   "outputs": [],
   "source": []
  },
  {
   "cell_type": "code",
   "execution_count": 59,
   "metadata": {},
   "outputs": [
    {
     "data": {
      "text/plain": [
       "{'randomRemove0.2': 1.0,\n",
       " 'randomRemove0.4': 1.0,\n",
       " 'worstRemove0.2': 1.0,\n",
       " 'worstRemove0.4': 1.0,\n",
       " 'randomRepair': 1.0,\n",
       " 'greedyRepair': 1.0,\n",
       " 'firstImprovement': 1.0,\n",
       " 'randomConstruct': 1.0,\n",
       " 'greedyConstruct': 1.0,\n",
       " 'greedyRandomizedConstruct': 1.0}"
      ]
     },
     "execution_count": 59,
     "metadata": {},
     "output_type": "execute_result"
    }
   ],
   "source": [
    "eval(pd.read_csv(\"experimento.csv\")['weightEvolution'][0])[1]"
   ]
  },
  {
   "cell_type": "code",
   "execution_count": 22,
   "metadata": {},
   "outputs": [
    {
     "data": {
      "text/html": [
       "<div>\n",
       "<style scoped>\n",
       "    .dataframe tbody tr th:only-of-type {\n",
       "        vertical-align: middle;\n",
       "    }\n",
       "\n",
       "    .dataframe tbody tr th {\n",
       "        vertical-align: top;\n",
       "    }\n",
       "\n",
       "    .dataframe thead th {\n",
       "        text-align: right;\n",
       "    }\n",
       "</style>\n",
       "<table border=\"1\" class=\"dataframe\">\n",
       "  <thead>\n",
       "    <tr style=\"text-align: right;\">\n",
       "      <th></th>\n",
       "      <th>instanceName</th>\n",
       "      <th>optimumFO</th>\n",
       "      <th>FO</th>\n",
       "      <th>relativeError_x</th>\n",
       "      <th>runtime</th>\n",
       "      <th>relativeError_y</th>\n",
       "    </tr>\n",
       "  </thead>\n",
       "  <tbody>\n",
       "    <tr>\n",
       "      <th>0</th>\n",
       "      <td>n_1200_c_1000000_g_14_f_0.3_eps_0.1_s_100</td>\n",
       "      <td>1006688</td>\n",
       "      <td>968703</td>\n",
       "      <td>3.773264e-02</td>\n",
       "      <td>58.923728</td>\n",
       "      <td>3.773264e-02</td>\n",
       "    </tr>\n",
       "    <tr>\n",
       "      <th>1</th>\n",
       "      <td>n_400_c_10000000000_g_2_f_0.1_eps_1e-05_s_100</td>\n",
       "      <td>5000101912</td>\n",
       "      <td>5000101912</td>\n",
       "      <td>0.000000e+00</td>\n",
       "      <td>45.011591</td>\n",
       "      <td>0.000000e+00</td>\n",
       "    </tr>\n",
       "    <tr>\n",
       "      <th>2</th>\n",
       "      <td>n_600_c_1000000_g_14_f_0.2_eps_0.01_s_100</td>\n",
       "      <td>1005968</td>\n",
       "      <td>1004601</td>\n",
       "      <td>1.358890e-03</td>\n",
       "      <td>45.767097</td>\n",
       "      <td>1.358890e-03</td>\n",
       "    </tr>\n",
       "    <tr>\n",
       "      <th>3</th>\n",
       "      <td>n_800_c_10000000000_g_14_f_0.1_eps_0.01_s_200</td>\n",
       "      <td>-1</td>\n",
       "      <td>9999863063</td>\n",
       "      <td>9.999863e+09</td>\n",
       "      <td>48.016668</td>\n",
       "      <td>9.994590e+09</td>\n",
       "    </tr>\n",
       "    <tr>\n",
       "      <th>4</th>\n",
       "      <td>n_400_c_100000000_g_2_f_0.2_eps_0.0001_s_100</td>\n",
       "      <td>50014064</td>\n",
       "      <td>50014064</td>\n",
       "      <td>0.000000e+00</td>\n",
       "      <td>45.581524</td>\n",
       "      <td>0.000000e+00</td>\n",
       "    </tr>\n",
       "    <tr>\n",
       "      <th>5</th>\n",
       "      <td>n_1200_c_100000000_g_2_f_0.2_eps_0.0001_s_300</td>\n",
       "      <td>50047874</td>\n",
       "      <td>50047874</td>\n",
       "      <td>0.000000e+00</td>\n",
       "      <td>67.072951</td>\n",
       "      <td>1.998087e-08</td>\n",
       "    </tr>\n",
       "    <tr>\n",
       "      <th>6</th>\n",
       "      <td>n_600_c_100000000_g_10_f_0.1_eps_0_s_200</td>\n",
       "      <td>99832372</td>\n",
       "      <td>99827494</td>\n",
       "      <td>4.886191e-05</td>\n",
       "      <td>46.525372</td>\n",
       "      <td>4.886191e-05</td>\n",
       "    </tr>\n",
       "    <tr>\n",
       "      <th>7</th>\n",
       "      <td>n_600_c_1000000_g_10_f_0.3_eps_1e-05_s_300</td>\n",
       "      <td>1021901</td>\n",
       "      <td>1021826</td>\n",
       "      <td>7.339263e-05</td>\n",
       "      <td>45.036281</td>\n",
       "      <td>7.339263e-05</td>\n",
       "    </tr>\n",
       "    <tr>\n",
       "      <th>8</th>\n",
       "      <td>n_800_c_100000000_g_6_f_0.2_eps_0.001_s_200</td>\n",
       "      <td>99996356</td>\n",
       "      <td>99695333</td>\n",
       "      <td>3.010340e-03</td>\n",
       "      <td>52.357694</td>\n",
       "      <td>3.010340e-03</td>\n",
       "    </tr>\n",
       "    <tr>\n",
       "      <th>9</th>\n",
       "      <td>n_800_c_1000000_g_10_f_0.2_eps_0_s_100</td>\n",
       "      <td>1007744</td>\n",
       "      <td>1007533</td>\n",
       "      <td>2.093786e-04</td>\n",
       "      <td>45.722348</td>\n",
       "      <td>2.093786e-04</td>\n",
       "    </tr>\n",
       "  </tbody>\n",
       "</table>\n",
       "</div>"
      ],
      "text/plain": [
       "                                    instanceName   optimumFO          FO  \\\n",
       "0      n_1200_c_1000000_g_14_f_0.3_eps_0.1_s_100     1006688      968703   \n",
       "1  n_400_c_10000000000_g_2_f_0.1_eps_1e-05_s_100  5000101912  5000101912   \n",
       "2      n_600_c_1000000_g_14_f_0.2_eps_0.01_s_100     1005968     1004601   \n",
       "3  n_800_c_10000000000_g_14_f_0.1_eps_0.01_s_200          -1  9999863063   \n",
       "4   n_400_c_100000000_g_2_f_0.2_eps_0.0001_s_100    50014064    50014064   \n",
       "5  n_1200_c_100000000_g_2_f_0.2_eps_0.0001_s_300    50047874    50047874   \n",
       "6       n_600_c_100000000_g_10_f_0.1_eps_0_s_200    99832372    99827494   \n",
       "7     n_600_c_1000000_g_10_f_0.3_eps_1e-05_s_300     1021901     1021826   \n",
       "8    n_800_c_100000000_g_6_f_0.2_eps_0.001_s_200    99996356    99695333   \n",
       "9         n_800_c_1000000_g_10_f_0.2_eps_0_s_100     1007744     1007533   \n",
       "\n",
       "   relativeError_x    runtime  relativeError_y  \n",
       "0     3.773264e-02  58.923728     3.773264e-02  \n",
       "1     0.000000e+00  45.011591     0.000000e+00  \n",
       "2     1.358890e-03  45.767097     1.358890e-03  \n",
       "3     9.999863e+09  48.016668     9.994590e+09  \n",
       "4     0.000000e+00  45.581524     0.000000e+00  \n",
       "5     0.000000e+00  67.072951     1.998087e-08  \n",
       "6     4.886191e-05  46.525372     4.886191e-05  \n",
       "7     7.339263e-05  45.036281     7.339263e-05  \n",
       "8     3.010340e-03  52.357694     3.010340e-03  \n",
       "9     2.093786e-04  45.722348     2.093786e-04  "
      ]
     },
     "execution_count": 22,
     "metadata": {},
     "output_type": "execute_result"
    }
   ],
   "source": [
    "pd.merge(summary, pd.read_csv('summary2.csv')[['instanceName', 'relativeError']], on = 'instanceName', how = 'left')"
   ]
  },
  {
   "cell_type": "code",
   "execution_count": 19,
   "metadata": {},
   "outputs": [],
   "source": [
    "summary.to_csv('summary2.csv', index = True)"
   ]
  },
  {
   "cell_type": "code",
   "execution_count": null,
   "metadata": {},
   "outputs": [],
   "source": []
  }
 ],
 "metadata": {
  "kernelspec": {
   "display_name": "hyperheuristics-venv",
   "language": "python",
   "name": "hyperheuristics-venv"
  },
  "language_info": {
   "codemirror_mode": {
    "name": "ipython",
    "version": 3
   },
   "file_extension": ".py",
   "mimetype": "text/x-python",
   "name": "python",
   "nbconvert_exporter": "python",
   "pygments_lexer": "ipython3",
   "version": "3.8.10"
  },
  "orig_nbformat": 4,
  "vscode": {
   "interpreter": {
    "hash": "7ce6afdbdfadc31a5624df2c0601c464734632445bf6d123e406bff26ad0915a"
   }
  }
 },
 "nbformat": 4,
 "nbformat_minor": 2
}
