{
 "cells": [
  {
   "cell_type": "code",
   "execution_count": 1,
   "metadata": {},
   "outputs": [],
   "source": [
    "%load_ext autoreload\n",
    "%autoreload 2"
   ]
  },
  {
   "cell_type": "code",
   "execution_count": 1,
   "metadata": {},
   "outputs": [],
   "source": [
    "import sys\n",
    "sys.path.append('..')\n",
    "\n",
    "from hyperheuristics import HyperHeuristic\n",
    "from utils.pipelines import Stage, SequentialPipeline\n",
    "from lowLevelHeuristics.randomConstructive import randomConstructiveHeuristic\n",
    "from lowLevelHeuristics.greedyRandomizedConstruction import greedyRandConstructionHeuristic\n",
    "from lowLevelHeuristics.greedyConstruction import greedyConstructionHeuristic\n",
    "from lowLevelHeuristics.firstImprovement import firstImprovementHeuristic\n",
    "from lowLevelHeuristics.bestImprovement import bestImprovementHeuristic\n",
    "from lowLevelHeuristics.grasp import graspMetaHeuristic\n",
    "from lowLevelHeuristics.simulatedAnnealing import simulatedAnnealingMetaHeuristic\n",
    "from lowLevelHeuristics.tabuSearch import tabuSearchMetaHeuristic\n",
    "from lowLevelHeuristics.alns import ALNSMetaHeuristic\n",
    "from readData import readData\n",
    "from instance import Knapsack"
   ]
  },
  {
   "cell_type": "code",
   "execution_count": 5,
   "metadata": {},
   "outputs": [],
   "source": [
    "instance = readData(\"../knapsackExample.txt\", 100)\n",
    "numMochilas = instance['numberOfKnapsacks']\n",
    "numObjetos = instance[\"numberOfItems\"]"
   ]
  },
  {
   "cell_type": "code",
   "execution_count": 7,
   "metadata": {},
   "outputs": [],
   "source": [
    "hyperheuristic = HyperHeuristic()\n",
    "\n",
    "lowLevelCombination = [\n",
    "    {\n",
    "        \"name\": \"Random Constructive\",\n",
    "        \"callback\": randomConstructiveHeuristic,\n",
    "        \"inputSchema\": ['problemInstance'],\n",
    "        \"outputSchema\": ['problemInstance', 'solution'],\n",
    "        \"params\": {'randomState': 9}\n",
    "    },\n",
    "    # {\n",
    "    #     \"name\": \"Best Improvement\",\n",
    "    #     \"callback\": bestImprovementHeuristic,\n",
    "    #     \"inputSchema\": ['problemInstance','solution'],\n",
    "    #     \"outputSchema\": ['problemInstance', 'solution'],\n",
    "    #     \"params\": {}\n",
    "    # },\n",
    "    # {\n",
    "    #     \"name\": \"Greedy Randomized Construction\",\n",
    "    #     \"callback\": greedyRandConstructionHeuristic,\n",
    "    #     \"inputSchema\": ['problemInstance'],\n",
    "    #     \"outputSchema\": ['problemInstance', 'solution'],\n",
    "    #     \"params\": {'randomState': 10, 'lrc': 0.5}\n",
    "    # },\n",
    "    # {\n",
    "    #     \"name\": \"Greedy Construction\",\n",
    "    #     \"callback\": greedyConstructionHeuristic,\n",
    "    #     \"inputSchema\": ['problemInstance'],\n",
    "    #     \"outputSchema\": ['problemInstance', 'solution'],\n",
    "    #     \"params\": {}\n",
    "    # },\n",
    "    # {\n",
    "    #     \"name\": \"GRASP\",\n",
    "    #     \"callback\": graspMetaHeuristic,\n",
    "    #     \"inputSchema\": ['problemInstance'],\n",
    "    #     \"outputSchema\": ['problemInstance', 'solution', 'timeToFindSolution'],\n",
    "    #     \"params\": {'randomState': 9, 'lrc': 0.5, 'maxRunningTime': 10}\n",
    "    # },\n",
    "    {\n",
    "        \"name\": \"Simulated Annealing\",\n",
    "        \"callback\": simulatedAnnealingMetaHeuristic,\n",
    "        \"inputSchema\": ['problemInstance', 'solution'],\n",
    "        \"outputSchema\": ['problemInstance', 'solution'],\n",
    "        \"params\": {\n",
    "            'saMax': ((numMochilas + 1) * numObjetos) * 1 ,\n",
    "            'coolingRate': 0.99,\n",
    "            'startTemperature': 100,\n",
    "            'freezingTemperature': 0.01,\n",
    "            'randomState': 10,\n",
    "        }\n",
    "    },\n",
    "    # {\n",
    "    #     \"name\": \"Tabu Search\",\n",
    "    #     \"callback\": tabuSearchMetaHeuristic,\n",
    "    #     \"inputSchema\": ['problemInstance', 'solution'],\n",
    "    #     \"outputSchema\": ['problemInstance', 'solution'],\n",
    "    #     \"params\": {\n",
    "    #         'tabuListLen': 10,\n",
    "    #         'maxSearchTime': 60\n",
    "    #     }\n",
    "    # },\n",
    "    # {\n",
    "    #     \"name\": \"ALNS\",\n",
    "    #     \"callback\": ALNSMetaHeuristic,\n",
    "    #     \"inputSchema\": ['problemInstance', 'solution'],\n",
    "    #     \"outputSchema\": ['problemInstance', 'solution'],\n",
    "    #     \"params\": {\n",
    "    #         'destroyOperators': [],\n",
    "    #         'repairOperators': [],\n",
    "    #         'randomState': 10,\n",
    "    #         'startTemperature': 100,\n",
    "    #         'freezingTemperature': 0.01,\n",
    "    #         'coolingRate': 0.975,\n",
    "    #         'rewards': [5,2,1,0.5],\n",
    "    #         'segmentDecay': 0.8,\n",
    "    #         'segmentLength': 500,\n",
    "    #         'noImprovementMaxIterations': 100\n",
    "    #     }\n",
    "    # },\n",
    "]\n",
    "\n",
    "hyperheuristic.addHyperHeuristicComponentsFromDict(lowLevelCombination)"
   ]
  },
  {
   "cell_type": "code",
   "execution_count": 8,
   "metadata": {},
   "outputs": [
    {
     "name": "stdout",
     "output_type": "stream",
     "text": [
      "Running Random Constructive\n",
      "Running Simulated Annealing\n"
     ]
    }
   ],
   "source": [
    "output = hyperheuristic.getSolution(instance)"
   ]
  },
  {
   "cell_type": "code",
   "execution_count": 9,
   "metadata": {},
   "outputs": [
    {
     "name": "stdout",
     "output_type": "stream",
     "text": [
      "Total running time: 0.379644394s\n",
      "\n",
      "- Name: Random Constructive\n",
      "- Params: {'randomState': 9}\n",
      "- Input: {'problemInstance': {'numberOfItems': 20, 'numberOfKnapsacks': 3, 'itemsProfits': [644, 815, 723, 111, 991, 900, 492, 511, 291, 518, 243, 473, 144, 720, 432, 834, 749, 728, 318, 838], 'itemsWeights': [15, 4, 47, 49, 3, 48, 13, 80, 60, 63, 86, 80, 27, 18, 12, 34, 37, 23, 13, 16], 'knapsacksCapacities': [168, 304, 239], 'objectiveFunction': <function readData.<locals>.newObjectiveFunction at 0x7febdcdeff70>}}\n",
      "- Output: {'problemInstance': {'numberOfItems': 20, 'numberOfKnapsacks': 3, 'itemsProfits': [644, 815, 723, 111, 991, 900, 492, 511, 291, 518, 243, 473, 144, 720, 432, 834, 749, 728, 318, 838], 'itemsWeights': [15, 4, 47, 49, 3, 48, 13, 80, 60, 63, 86, 80, 27, 18, 12, 34, 37, 23, 13, 16], 'knapsacksCapacities': [168, 304, 239], 'objectiveFunction': <function readData.<locals>.newObjectiveFunction at 0x7febdcdeff70>}, 'solution': [3, 2, 2, 1, 1, 0, 2, 3, 0, 2, 0, 3, 1, 3, 3, 1, 1, 1, 0, 0], 'foValue': 8385}\n",
      "- Running time: 0.000114679s\n",
      "\n",
      "- Name: Simulated Annealing\n",
      "- Params: {'saMax': 80, 'coolingRate': 0.99, 'startTemperature': 100, 'freezingTemperature': 0.01, 'randomState': 10}\n",
      "- Input: {'problemInstance': {'numberOfItems': 20, 'numberOfKnapsacks': 3, 'itemsProfits': [644, 815, 723, 111, 991, 900, 492, 511, 291, 518, 243, 473, 144, 720, 432, 834, 749, 728, 318, 838], 'itemsWeights': [15, 4, 47, 49, 3, 48, 13, 80, 60, 63, 86, 80, 27, 18, 12, 34, 37, 23, 13, 16], 'knapsacksCapacities': [168, 304, 239], 'objectiveFunction': <function readData.<locals>.newObjectiveFunction at 0x7febdcdeff70>}, 'solution': [3, 2, 2, 1, 1, 0, 2, 3, 0, 2, 0, 3, 1, 3, 3, 1, 1, 1, 0, 0], 'foValue': 8385}\n",
      "- Output: {'problemInstance': {'numberOfItems': 20, 'numberOfKnapsacks': 3, 'itemsProfits': [644, 815, 723, 111, 991, 900, 492, 511, 291, 518, 243, 473, 144, 720, 432, 834, 749, 728, 318, 838], 'itemsWeights': [15, 4, 47, 49, 3, 48, 13, 80, 60, 63, 86, 80, 27, 18, 12, 34, 37, 23, 13, 16], 'knapsacksCapacities': [168, 304, 239], 'objectiveFunction': <function readData.<locals>.newObjectiveFunction at 0x7febdcdeff70>}, 'solution': [2, 2, 2, 0, 1, 2, 3, 2, 1, 3, 1, 3, 3, 3, 3, 2, 2, 3, 2, 1], 'foValue': 11364, 'timeToFindSolution': 0.1340045928955078}\n",
      "- Running time: 0.379529715s\n",
      "\n"
     ]
    }
   ],
   "source": [
    "print(hyperheuristic)"
   ]
  },
  {
   "cell_type": "code",
   "execution_count": null,
   "metadata": {},
   "outputs": [],
   "source": []
  }
 ],
 "metadata": {
  "kernelspec": {
   "display_name": "Python 3.8.10 64-bit ('3.8.10')",
   "language": "python",
   "name": "python3"
  },
  "language_info": {
   "codemirror_mode": {
    "name": "ipython",
    "version": 3
   },
   "file_extension": ".py",
   "mimetype": "text/x-python",
   "name": "python",
   "nbconvert_exporter": "python",
   "pygments_lexer": "ipython3",
   "version": "3.8.10"
  },
  "orig_nbformat": 4,
  "vscode": {
   "interpreter": {
    "hash": "3c63be5f36aa40bcd9b704cb5dad604342ae3fccae956dcf3177294eedf73856"
   }
  }
 },
 "nbformat": 4,
 "nbformat_minor": 2
}
