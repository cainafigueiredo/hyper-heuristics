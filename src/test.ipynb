{
 "cells": [
  {
   "cell_type": "code",
   "execution_count": null,
   "metadata": {},
   "outputs": [],
   "source": [
    "%load_ext autoreload\n",
    "%autoreload 2"
   ]
  },
  {
   "cell_type": "code",
   "execution_count": null,
   "metadata": {},
   "outputs": [],
   "source": [
    "import sys\n",
    "sys.path.append('..')\n",
    "from hyperheuristics import HyperHeuristic\n",
    "from utils.pipelines import Stage, SequentialPipeline\n",
    "from lowLevelHeuristics.randomConstructive import randomConstructiveHeuristic\n",
    "from lowLevelHeuristics.greedyRandomizedConstruction import greedyRandConstructionHeuristic\n",
    "from lowLevelHeuristics.greedyConstruction import greedyConstructionHeuristic\n",
    "from lowLevelHeuristics.firstImprovement import firstImprovementHeuristic\n",
    "from readData import readData"
   ]
  },
  {
   "cell_type": "code",
   "execution_count": null,
   "metadata": {},
   "outputs": [],
   "source": [
    "instance = readData(\"../knapsackExample.txt\", 100)"
   ]
  },
  {
   "cell_type": "code",
   "execution_count": null,
   "metadata": {},
   "outputs": [],
   "source": [
    "hyperheuristic = HyperHeuristic()\n",
    "\n",
    "lowLevelCombination = [\n",
    "    {\n",
    "        \"name\": \"Random Constructive\",\n",
    "        \"callback\": randomConstructiveHeuristic,\n",
    "        \"inputSchema\": ['problemInstance'],\n",
    "        \"outputSchema\": ['problemInstance', 'solution'],\n",
    "        \"params\": {'randomState': 9}\n",
    "    },\n",
    "    # {\n",
    "    #     \"name\": \"Greedy Randomized Construction\",\n",
    "    #     \"callback\": greedyRandConstructionHeuristic,\n",
    "    #     \"inputSchema\": ['problemInstance'],\n",
    "    #     \"outputSchema\": ['problemInstance', 'solution'],\n",
    "    #     \"params\": {'randomState': 10, 'lrc': 0.5}\n",
    "    # },\n",
    "    # {\n",
    "    #     \"name\": \"Greedy Construction\",\n",
    "    #     \"callback\": greedyConstructionHeuristic,\n",
    "    #     \"inputSchema\": ['problemInstance'],\n",
    "    #     \"outputSchema\": ['problemInstance', 'solution'],\n",
    "    #     \"params\": {}\n",
    "    # },\n",
    "    {\n",
    "        \"name\": \"First Improvement\",\n",
    "        \"callback\": firstImprovementHeuristic,\n",
    "        \"inputSchema\": ['problemInstance', 'solution'],\n",
    "        \"outputSchema\": ['problemInstance', 'solution'],\n",
    "        \"params\": {}\n",
    "    },\n",
    "]\n",
    "\n",
    "hyperheuristic.addHyperHeuristicComponentsFromDict(lowLevelCombination)"
   ]
  },
  {
   "cell_type": "code",
   "execution_count": null,
   "metadata": {},
   "outputs": [],
   "source": []
  },
  {
   "cell_type": "code",
   "execution_count": null,
   "metadata": {},
   "outputs": [],
   "source": [
    "output = hyperheuristic.getSolution(instance)\n",
    "print(hyperheuristic)"
   ]
  },
  {
   "cell_type": "code",
   "execution_count": null,
   "metadata": {},
   "outputs": [],
   "source": []
  }
 ],
 "metadata": {
  "kernelspec": {
   "display_name": "Python 3.8.10 64-bit ('3.8.10')",
   "language": "python",
   "name": "python3"
  },
  "language_info": {
   "codemirror_mode": {
    "name": "ipython",
    "version": 3
   },
   "file_extension": ".py",
   "mimetype": "text/x-python",
   "name": "python",
   "nbconvert_exporter": "python",
   "pygments_lexer": "ipython3",
   "version": "3.8.10"
  },
  "orig_nbformat": 4,
  "vscode": {
   "interpreter": {
    "hash": "3c63be5f36aa40bcd9b704cb5dad604342ae3fccae956dcf3177294eedf73856"
   }
  }
 },
 "nbformat": 4,
 "nbformat_minor": 2
}
